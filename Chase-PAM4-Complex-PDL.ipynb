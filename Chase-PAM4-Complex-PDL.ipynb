{
 "cells": [
  {
   "cell_type": "markdown",
   "id": "a86bcec5-c970-4a0d-9d5a-ff25101894f3",
   "metadata": {},
   "source": [
    "MIT License\n",
    "\n",
    "Copyright (c) 2025 Mohannad Shehadeh\n",
    "\n",
    "Permission is hereby granted, free of charge, to any person obtaining a copy\n",
    "of this software and associated documentation files (the \"Software\"), to deal\n",
    "in the Software without restriction, including without limitation the rights\n",
    "to use, copy, modify, merge, publish, distribute, sublicense, and/or sell\n",
    "copies of the Software, and to permit persons to whom the Software is\n",
    "furnished to do so, subject to the following conditions:\n",
    "\n",
    "The above copyright notice and this permission notice shall be included in all\n",
    "copies or substantial portions of the Software.\n",
    "\n",
    "THE SOFTWARE IS PROVIDED \"AS IS\", WITHOUT WARRANTY OF ANY KIND, EXPRESS OR\n",
    "IMPLIED, INCLUDING BUT NOT LIMITED TO THE WARRANTIES OF MERCHANTABILITY,\n",
    "FITNESS FOR A PARTICULAR PURPOSE AND NONINFRINGEMENT. IN NO EVENT SHALL THE\n",
    "AUTHORS OR COPYRIGHT HOLDERS BE LIABLE FOR ANY CLAIM, DAMAGES OR OTHER\n",
    "LIABILITY, WHETHER IN AN ACTION OF CONTRACT, TORT OR OTHERWISE, ARISING FROM,\n",
    "OUT OF OR IN CONNECTION WITH THE SOFTWARE OR THE USE OR OTHER DEALINGS IN THE\n",
    "SOFTWARE."
   ]
  },
  {
   "cell_type": "code",
   "execution_count": 1,
   "id": "cbcb3d35-29c4-4a81-b4fd-ce9c85d4dfda",
   "metadata": {
    "tags": []
   },
   "outputs": [],
   "source": [
    "using Dates\n",
    "using Plots\n",
    "using Combinatorics\n",
    "using LinearAlgebra\n",
    "using Statistics\n",
    "using DelimitedFiles"
   ]
  },
  {
   "cell_type": "markdown",
   "id": "2e370afd-1817-4e69-b9f4-7038bcb33a5e",
   "metadata": {},
   "source": [
    "NOTE THAT 4-PAM IN THIS CONTEXT IS REFERRING TO 4-PAM IN EACH REAL DEGREE OF FREEDOM WHICH IS EQUIVALENT TO 16-QAM OR **QAM** SPECTRAL EFFICIENCY SINCE WE ARE WORKING WITH REAL-VALUED **EQUIVALENT REPRESENTATIONS** OF A COMPLEX-VALUED MODEL."
   ]
  },
  {
   "cell_type": "code",
   "execution_count": 2,
   "id": "07c68447-5a64-402c-8208-9eb8583fb82c",
   "metadata": {
    "tags": []
   },
   "outputs": [],
   "source": [
    "include(\"GF2-LinAlg.jl\");"
   ]
  },
  {
   "cell_type": "markdown",
   "id": "0464816e-e4d9-47d3-ad6f-6451c50bc182",
   "metadata": {},
   "source": [
    "Codes are single-error-correcting, double-error-detecting extended Hamming codes shortened from a parent extended Hamming code of length $2^m$ with $m+1$ parity bits."
   ]
  },
  {
   "cell_type": "markdown",
   "id": "bb96f5dd-49a7-4417-a57a-248dba419471",
   "metadata": {},
   "source": [
    "An $[n,k]$ code is used for the single-code schemes with parameters as follows:"
   ]
  },
  {
   "cell_type": "code",
   "execution_count": 3,
   "id": "0ff68494-841d-4833-aac5-388d280978f5",
   "metadata": {},
   "outputs": [],
   "source": [
    "# some options yielding equal average rates:\n",
    "# (n,excess_m) = (192,4), (96,2), (384,2)\n",
    "# (n,excess_m) = (192,4), (144,4), (288,3) sg"
   ]
  },
  {
   "cell_type": "code",
   "execution_count": 4,
   "id": "3842db42-3504-472c-9fa0-52e7d116cb67",
   "metadata": {
    "tags": []
   },
   "outputs": [
    {
     "name": "stdout",
     "output_type": "stream",
     "text": [
      "m: 12\n",
      "2^m: 4096\n",
      "s: 3904\n",
      "n: 192\n",
      "k: 179\n",
      "k/n: 179//192 = 0.932\n"
     ]
    }
   ],
   "source": [
    "n = 192\n",
    "excess_m = 4\n",
    "m = ceil(Int64,log2(n)) + excess_m\n",
    "s = 2^m - n\n",
    "k = n-(m+1)\n",
    "println(\"m: $m\")\n",
    "println(\"2^m: $(2^m)\")\n",
    "println(\"s: $s\");\n",
    "println(\"n: $n\")\n",
    "println(\"k: $k\")\n",
    "println(\"k/n: $(k//n) = $(round(k/n,digits=3))\")"
   ]
  },
  {
   "cell_type": "markdown",
   "id": "05035ef6-f163-4a29-a939-767db339df58",
   "metadata": {},
   "source": [
    "Two codes, an $[n_1,k_1]$ code and an $[n_2,k_2]$ code, are used for the two-code scheme with the parameters chosen so that the average code rate is exactly the same as for the $[n,k]$ code so that we have a fair and easy comparison:"
   ]
  },
  {
   "cell_type": "code",
   "execution_count": 5,
   "id": "df8d0399-1666-4c30-a75d-f87e034dac4b",
   "metadata": {
    "tags": []
   },
   "outputs": [
    {
     "name": "stdout",
     "output_type": "stream",
     "text": [
      "m_1: 9\n",
      "2^m_1: 512\n",
      "s_1: 416\n",
      "n_1: 96\n",
      "k_1: 86\n",
      "k_1/n_1: 43//48 = 0.896\n"
     ]
    }
   ],
   "source": [
    "n_1 = 96\n",
    "excess_m = 2\n",
    "m_1 = ceil(Int64,log2(n_1)) + excess_m\n",
    "s_1 = 2^m_1 - n_1\n",
    "k_1 = n_1-(m_1+1)\n",
    "println(\"m_1: $m_1\")\n",
    "println(\"2^m_1: $(2^m_1)\")\n",
    "println(\"s_1: $s_1\");\n",
    "println(\"n_1: $n_1\")\n",
    "println(\"k_1: $k_1\")\n",
    "println(\"k_1/n_1: $(k_1//n_1) = $(round(k_1/n_1,digits=3))\")"
   ]
  },
  {
   "cell_type": "code",
   "execution_count": 6,
   "id": "3bffb55b-a0b2-45f9-9215-ca8d553e7b94",
   "metadata": {
    "tags": []
   },
   "outputs": [
    {
     "name": "stdout",
     "output_type": "stream",
     "text": [
      "m_2: 11\n",
      "2^m_2: 2048\n",
      "s_2: 1664\n",
      "n_2: 384\n",
      "k_2: 372\n",
      "k_2/n_2: 31//32 = 0.969\n"
     ]
    }
   ],
   "source": [
    "n_2 = 384\n",
    "excess_m = 2\n",
    "m_2 = ceil(Int64,log2(n_2)) + excess_m\n",
    "s_2 = 2^m_2 - n_2\n",
    "k_2 = n_2-(m_2+1)\n",
    "println(\"m_2: $m_2\")\n",
    "println(\"2^m_2: $(2^m_2)\")\n",
    "println(\"s_2: $s_2\");\n",
    "println(\"n_2: $n_2\")\n",
    "println(\"k_2: $k_2\")\n",
    "println(\"k_2/n_2: $(k_2//n_2) = $(round(k_2/n_2,digits=3))\")"
   ]
  },
  {
   "cell_type": "markdown",
   "id": "156cc4a4-57f5-4e84-9731-e086dc93d59e",
   "metadata": {},
   "source": [
    "The rate of the first code and the average rate of the two-code pair:"
   ]
  },
  {
   "cell_type": "code",
   "execution_count": 7,
   "id": "4ab9352f-c041-4c63-afb8-0235bf20ce86",
   "metadata": {
    "tags": []
   },
   "outputs": [
    {
     "data": {
      "text/plain": [
       "179//192"
      ]
     },
     "metadata": {},
     "output_type": "display_data"
    },
    {
     "data": {
      "text/plain": [
       "179//192"
      ]
     },
     "metadata": {},
     "output_type": "display_data"
    }
   ],
   "source": [
    "display(k//n)\n",
    "display((k_1//n_1 + k_2//n_2)//2)"
   ]
  },
  {
   "cell_type": "code",
   "execution_count": 8,
   "id": "56aa23be-bde3-4c6d-9c1a-0edb746631e5",
   "metadata": {},
   "outputs": [
    {
     "data": {
      "text/plain": [
       "0.9322916666666666"
      ]
     },
     "metadata": {},
     "output_type": "display_data"
    },
    {
     "data": {
      "text/plain": [
       "0.9322916666666667"
      ]
     },
     "metadata": {},
     "output_type": "display_data"
    }
   ],
   "source": [
    "display(k/n)\n",
    "display((k_1/n_1 + k_2/n_2)/2)"
   ]
  },
  {
   "cell_type": "markdown",
   "id": "4da5a88a-1883-455d-9f7b-393ee3c1c0ea",
   "metadata": {},
   "source": [
    "Various divisibility conditions are needed for the exact scheme variations considered in this notebook:"
   ]
  },
  {
   "cell_type": "code",
   "execution_count": 9,
   "id": "80479880-b9f0-4b16-b832-2a39baf31869",
   "metadata": {
    "tags": []
   },
   "outputs": [],
   "source": [
    "@assert mod(n,2) == 0\n",
    "@assert mod(n_1,2) == 0\n",
    "@assert mod(n_2,2) == 0\n",
    "half_n = Int64(n/2);\n",
    "half_n_1 = Int64(n_1/2);\n",
    "half_n_2 = Int64(n_2/2);"
   ]
  },
  {
   "cell_type": "code",
   "execution_count": 10,
   "id": "6b65353f-abe1-46a9-8ebc-4d843070168d",
   "metadata": {
    "tags": []
   },
   "outputs": [
    {
     "data": {
      "text/plain": [
       "4"
      ]
     },
     "execution_count": 10,
     "metadata": {},
     "output_type": "execute_result"
    }
   ],
   "source": [
    "@assert mod(n_2,n_1) == 0\n",
    "fits = div(n_2,n_1)"
   ]
  },
  {
   "cell_type": "code",
   "execution_count": 11,
   "id": "20fa6289-3203-41ad-8b60-15f4cf3c8f99",
   "metadata": {},
   "outputs": [
    {
     "data": {
      "text/plain": [
       "48"
      ]
     },
     "execution_count": 11,
     "metadata": {},
     "output_type": "execute_result"
    }
   ],
   "source": [
    "@assert k/n > 1/2\n",
    "@assert mod(n,4) == 0\n",
    "quarter_n = Int64(n/4)"
   ]
  },
  {
   "cell_type": "code",
   "execution_count": 12,
   "id": "e1c724e4-9655-4058-9fa7-6dbee3cd9d1b",
   "metadata": {},
   "outputs": [
    {
     "data": {
      "text/plain": [
       "24"
      ]
     },
     "execution_count": 12,
     "metadata": {},
     "output_type": "execute_result"
    }
   ],
   "source": [
    "@assert mod(n,8) == 0\n",
    "eighth_n = Int64(n/8)"
   ]
  },
  {
   "cell_type": "code",
   "execution_count": 13,
   "id": "f97d51ab-9122-4504-9af8-4feb2e4d8d27",
   "metadata": {},
   "outputs": [
    {
     "data": {
      "text/plain": [
       "12"
      ]
     },
     "execution_count": 13,
     "metadata": {},
     "output_type": "execute_result"
    }
   ],
   "source": [
    "@assert mod(n,16) == 0\n",
    "sixteenth_n = Int64(n/16)"
   ]
  },
  {
   "cell_type": "code",
   "execution_count": 14,
   "id": "ba431e6d-26b5-4aa1-9815-1f4e2dd2d2c5",
   "metadata": {},
   "outputs": [
    {
     "data": {
      "text/plain": [
       "96"
      ]
     },
     "execution_count": 14,
     "metadata": {},
     "output_type": "execute_result"
    }
   ],
   "source": [
    "@assert mod(n_2,4) == 0\n",
    "quarter_n_2 = Int64(n_2/4)"
   ]
  },
  {
   "cell_type": "code",
   "execution_count": 15,
   "id": "fa251dad-178b-4779-99a7-923a51552ca0",
   "metadata": {},
   "outputs": [
    {
     "data": {
      "text/plain": [
       "48"
      ]
     },
     "execution_count": 15,
     "metadata": {},
     "output_type": "execute_result"
    }
   ],
   "source": [
    "@assert mod(n_2,8) == 0\n",
    "eighth_n_2 = Int64(n_2/8)"
   ]
  },
  {
   "cell_type": "code",
   "execution_count": 16,
   "id": "1b9dd822-2521-4009-8518-30ddafb3d53e",
   "metadata": {},
   "outputs": [
    {
     "data": {
      "text/plain": [
       "8×8 Matrix{Float64}:\n",
       "  0.707107   0.0       0.0       …   0.0        0.0        0.0\n",
       "  0.0        0.0       0.707107      0.0        0.707107   0.0\n",
       "  0.0       -0.707107  0.0          -0.707107   0.0        0.0\n",
       "  0.0        0.0       0.0           0.0        0.0       -0.707107\n",
       "  0.0        0.0       0.707107      0.0       -0.707107   0.0\n",
       " -0.707107   0.0       0.0       …   0.0        0.0        0.0\n",
       "  0.0        0.0       0.0           0.0        0.0       -0.707107\n",
       "  0.0       -0.707107  0.0           0.707107   0.0        0.0"
      ]
     },
     "execution_count": 16,
     "metadata": {},
     "output_type": "execute_result"
    }
   ],
   "source": [
    "# an INCORRECT precoder to use\n",
    "# G_4x4 = 1.0/sqrt(2) * \n",
    "#         [\n",
    "#         1 0 1 0;\n",
    "#         0 1 0 1; \n",
    "#         0 1 0 -1; \n",
    "#         -1 0 1 0];\n",
    "# PREC_G = [\n",
    "#             G_4x4      zeros(4,4);\n",
    "#             zeros(4,4) G_4x4\n",
    "#         ];\n",
    "\n",
    "# a CORRECT precoder to use\n",
    "PREC_G = 1.0/sqrt(2) * \n",
    "    [\n",
    "         1  0  0  0  1  0  0  0;\n",
    "         0  0  1  0  0  0  1  0;\n",
    "         0 -1  0  0  0 -1  0  0;\n",
    "         0  0  0 -1  0  0  0 -1;\n",
    "         0  0  1  0  0  0 -1  0;\n",
    "        -1  0  0  0  1  0  0  0;\n",
    "         0  0  0  1  0  0  0 -1;\n",
    "         0 -1  0  0  0  1  0  0;\n",
    "    ]"
   ]
  },
  {
   "cell_type": "code",
   "execution_count": 17,
   "id": "204d2006-ddda-471c-b368-a57b35fa1d8d",
   "metadata": {},
   "outputs": [
    {
     "data": {
      "text/plain": [
       "-1.9553259847663095e-15"
      ]
     },
     "execution_count": 17,
     "metadata": {},
     "output_type": "execute_result"
    }
   ],
   "source": [
    "sum(PREC_G'PREC_G - ones(8,8)^0)"
   ]
  },
  {
   "cell_type": "markdown",
   "id": "4a2f33f8-9529-4fe0-91b6-22ca6fc971bd",
   "metadata": {},
   "source": [
    "The following creates a systematic extended Hamming code generator matrix $G$, parity-check matrix $H$, its transpose, and the parity/non-identity portion of the generator matrix $P$. This is a special choice of systematic extended Hamming code with a LUT-free decoding method described in [this work](https://arxiv.org/pdf/2312.13415). This is done for all three code parameters defined earlier."
   ]
  },
  {
   "cell_type": "code",
   "execution_count": 18,
   "id": "96803a49-7345-48d8-bb16-d8df1a26d56d",
   "metadata": {
    "tags": []
   },
   "outputs": [],
   "source": [
    "# m a b ainv\n",
    "special_eHamming = \n",
    "[\n",
    "3 1 1 1;  \n",
    "4 3 0  11;\n",
    "5 3 0  11;\n",
    "6 3 3  43;\n",
    "7 5 5  77;\n",
    "8 9 11  57;\n",
    "9 19 19  27;\n",
    "10 27 27  531;\n",
    "11 53 53  541;\n",
    "12 89 89  2025;\n",
    "13 163 170  4875;\n",
    "14 301 308  13989;\n",
    "15 553 553  14873;\n",
    "16 1065 1155 55321;\n",
    "]\n",
    "if (m < 3 || m > 16)\n",
    "    throw(\"Unsupported m!\")\n",
    "end\n",
    "a = special_eHamming[m-3+1,2]\n",
    "b = special_eHamming[m-3+1,3] + a*s\n",
    "ainv = special_eHamming[m-3+1,4]\n",
    "mask = (1<<m)-1\n",
    "minus_b = (1<<m)-b\n",
    "\n",
    "if (m_1 < 3 || m_1 > 16)\n",
    "    throw(\"Unsupported m_1!\")\n",
    "end\n",
    "a_1 = special_eHamming[m_1-3+1,2]\n",
    "b_1 = special_eHamming[m_1-3+1,3] + a_1*s_1\n",
    "ainv_1 = special_eHamming[m_1-3+1,4]\n",
    "mask_1 = (1<<m_1)-1\n",
    "minus_b_1 = (1<<m_1)-b_1\n",
    "\n",
    "if (m_2 < 3 || m_2 > 16)\n",
    "    throw(\"Unsupported m_2!\")\n",
    "end\n",
    "a_2 = special_eHamming[m_2-3+1,2]\n",
    "b_2 = special_eHamming[m_2-3+1,3] + a_2*s_2\n",
    "ainv_2 = special_eHamming[m_2-3+1,4]\n",
    "mask_2 = (1<<m_2)-1\n",
    "minus_b_2 = (1<<m_2)-b_2\n",
    "\n",
    "synFromErrorloc(x) = (((a*x+b)&mask)<<1)+1\n",
    "errorlocFromSyn(x) = (ainv*((x>>1)+minus_b))&mask\n",
    "\n",
    "synFromErrorloc_1(x) = (((a_1*x+b_1)&mask_1)<<1)+1\n",
    "errorlocFromSyn_1(x) = (ainv_1*((x>>1)+minus_b_1))&mask_1\n",
    "\n",
    "synFromErrorloc_2(x) = (((a_2*x+b_2)&mask_2)<<1)+1\n",
    "errorlocFromSyn_2(x) = (ainv_2*((x>>1)+minus_b_2))&mask_2\n",
    "\n",
    "H = zeros(Int64,m+1,0)\n",
    "for i in 0:n-1\n",
    "    H = hcat(H,reverse(digits(synFromErrorloc(i),base=2,pad=m+1))) \n",
    "end\n",
    "\n",
    "H_1 = zeros(Int64,m_1+1,0)\n",
    "for i in 0:n_1-1\n",
    "    H_1 = hcat(H_1,reverse(digits(synFromErrorloc_1(i),base=2,pad=m_1+1))) \n",
    "end\n",
    "\n",
    "H_2 = zeros(Int64,m_2+1,0)\n",
    "for i in 0:n_2-1\n",
    "    H_2 = hcat(H_2,reverse(digits(synFromErrorloc_2(i),base=2,pad=m_2+1))) \n",
    "end\n",
    "\n",
    "@assert [errorlocFromSyn(synFromErrorloc(x)) for x in 0:n-1] == 0:n-1\n",
    "@assert [synFromErrorloc(errorlocFromSyn(2*x+1)) for x in 0:n-1] == 2 .* (0:n-1) .+ 1\n",
    "\n",
    "@assert [errorlocFromSyn_1(synFromErrorloc_1(x)) for x in 0:n_1-1] == 0:n_1-1\n",
    "@assert [synFromErrorloc_1(errorlocFromSyn_1(2*x+1)) for x in 0:n_1-1] == 2 .* (0:n_1-1) .+ 1\n",
    "\n",
    "@assert [errorlocFromSyn_2(synFromErrorloc_2(x)) for x in 0:n_2-1] == 0:n_2-1\n",
    "@assert [synFromErrorloc_2(errorlocFromSyn_2(2*x+1)) for x in 0:n_2-1] == 2 .* (0:n_2-1) .+ 1\n",
    "\n",
    "G = RREF(dual(H));\n",
    "@assert G[1:k,1:k] == Int64.(ones(k,k)^0);\n",
    "@assert sum(mod.(G*transpose(H),2)) == 0;\n",
    "P = G[:,k+1:n];\n",
    "Pt = transpose(P);\n",
    "Ht = transpose(H);\n",
    "\n",
    "G_1 = RREF(dual(H_1));\n",
    "@assert G_1[1:k_1,1:k_1] == Int64.(ones(k_1,k_1)^0);\n",
    "@assert sum(mod.(G_1*transpose(H_1),2)) == 0;\n",
    "P_1 = G_1[:,k_1+1:n_1];\n",
    "P_1t = transpose(P_1);\n",
    "H_1t = transpose(H_1);\n",
    "\n",
    "G_2 = RREF(dual(H_2));\n",
    "@assert G_2[1:k_2,1:k_2] == Int64.(ones(k_2,k_2)^0);\n",
    "@assert sum(mod.(G_2*transpose(H_2),2)) == 0;\n",
    "P_2 = G_2[:,k_2+1:n_2];\n",
    "P_2t = transpose(P_2);\n",
    "H_2t = transpose(H_2);"
   ]
  },
  {
   "cell_type": "code",
   "execution_count": 19,
   "id": "91478e5a-8411-4fa2-8652-228f526004ff",
   "metadata": {
    "tags": []
   },
   "outputs": [],
   "source": [
    "encode(x) = [x; mod.(Pt*x,2)];\n",
    "encode_1(x) = [x; mod.(P_1t*x,2)];\n",
    "encode_2(x) = [x; mod.(P_2t*x,2)];"
   ]
  },
  {
   "cell_type": "code",
   "execution_count": 20,
   "id": "4ebef6a4-18bb-42f6-9a86-7b84b14db882",
   "metadata": {
    "tags": []
   },
   "outputs": [],
   "source": [
    "int_basis_syn = [2^i for i in m:-1:0]';\n",
    "int_basis_syn_1 = [2^i for i in m_1:-1:0]';\n",
    "int_basis_syn_2 = [2^i for i in m_2:-1:0]';"
   ]
  },
  {
   "cell_type": "code",
   "execution_count": 21,
   "id": "6112f39b-6d5b-40bb-a50d-deb9a1f46560",
   "metadata": {
    "tags": []
   },
   "outputs": [],
   "source": [
    "function Gray(n)\n",
    "    if n <= 0\n",
    "        throw(\"Invalid n!\")\n",
    "    elseif n == 1\n",
    "        return [[0],[1]]\n",
    "    else\n",
    "        previous = Gray(n-1)\n",
    "        reflected = reverse(previous)\n",
    "        pref_0 = [[0; previous[i]] for i in 1:2^(n-1)]\n",
    "        pref_1 = [[1; reflected[i]] for i in 1:2^(n-1)]\n",
    "        return [pref_0; pref_1]\n",
    "    end\n",
    "end;"
   ]
  },
  {
   "cell_type": "code",
   "execution_count": 22,
   "id": "e830bdfb-17ed-4fe8-9e3d-cb9f6d9645c6",
   "metadata": {
    "tags": []
   },
   "outputs": [],
   "source": [
    "nonGray(n) = [reverse(digits(i,base=2,pad=n)) for i = 0:2^n-1];"
   ]
  },
  {
   "cell_type": "markdown",
   "id": "dbac8afd-6ee6-44a0-a393-a10b0eb4b126",
   "metadata": {},
   "source": [
    "I will take the convention that we always equalize to energy-normalized input so that\n",
    "\n",
    "$$\n",
    "Y_i = X_i + \\sigma_iZ_i\n",
    "$$\n",
    "\n",
    "where $Z_i\\sim\\mathcal N(0,1)$ and $\\mathbb{E}[X_i^2] = 1$.\n",
    "\n",
    "I normalize the constellation $\\mathcal{S}$ so that\n",
    "$$\n",
    "1 = \\mathbb{E}[S^2] = \\frac{1}{|\\mathcal{S}|} \\sum_{s\\in \\mathcal{S}} |s|^2\\text{.}\n",
    "$$\n",
    "where $S$ is chosen uniformly at random from $\\mathcal{S}$."
   ]
  },
  {
   "cell_type": "code",
   "execution_count": 23,
   "id": "a643a895-74b4-43b2-9cfa-12369dee243e",
   "metadata": {
    "tags": []
   },
   "outputs": [],
   "source": [
    "# PAM2 = [i for i = -1:2:1];\n",
    "# PAM2 = PAM2 * 1.0 / sqrt(1/2*PAM2'PAM2);\n",
    "\n",
    "PAM4 = [i for i = -3:2:3];\n",
    "PAM4 = PAM4 * 1.0 / sqrt(1/4*PAM4'PAM4);"
   ]
  },
  {
   "cell_type": "markdown",
   "id": "550e2339-31fe-480a-9b09-83591404ee5d",
   "metadata": {},
   "source": [
    "We have a mapping from bits to constellations $b_1 b_2 \\dots b_n \\longmapsto s$ which we take to be [Gray](https://en.wikipedia.org/wiki/Gray_code)."
   ]
  },
  {
   "cell_type": "code",
   "execution_count": 24,
   "id": "51fa4be1-57ce-43dd-960f-d95755631661",
   "metadata": {
    "tags": []
   },
   "outputs": [],
   "source": [
    "# PAM2_labels = Gray(1);\n",
    "# PAM2_labels_int = [PAM2_labels[i] for i in 1:2];\n",
    "# PAM2_labels_int_inv = sortperm(PAM2_labels_int) .- 1;\n",
    "# PAM2_label_order = PAM2[PAM2_labels_int_inv .+ 1];\n",
    "\n",
    "PAM4_labels = Gray(2);\n",
    "PAM4_labels_int = [dot([2,1],PAM4_labels[i]) for i in 1:4];\n",
    "PAM4_labels_int_inv = sortperm(PAM4_labels_int) .- 1;\n",
    "PAM4_label_order = PAM4[PAM4_labels_int_inv .+ 1];"
   ]
  },
  {
   "cell_type": "code",
   "execution_count": 25,
   "id": "fa1c2e43-90ef-486d-854e-bd6b3ca064d5",
   "metadata": {
    "tags": []
   },
   "outputs": [],
   "source": [
    "# PAM2_map(b_1) = PAM2_label_order[b_1 + 1];\n",
    "# PAM2_map_seq(x) = [PAM2_map(x[i]) for i in 1:1:length(x)];\n",
    "\n",
    "PAM4_map(b_1,b_2) = PAM4_label_order[2*b_1 + b_2 + 1];\n",
    "PAM4_map_seq(x) = [PAM4_map(x[i],x[i+1]) for i in 1:2:length(x)];"
   ]
  },
  {
   "cell_type": "code",
   "execution_count": 26,
   "id": "e74d7d32-2235-4327-acce-d06586ff68f5",
   "metadata": {
    "tags": []
   },
   "outputs": [
    {
     "data": {
      "text/plain": [
       "0.9942400000000001"
      ]
     },
     "execution_count": 26,
     "metadata": {},
     "output_type": "execute_result"
    }
   ],
   "source": [
    "# SIG = PAM2_map_seq(rand(0:1,10000))\n",
    "# SIG'SIG * 1.0/length(SIG)\n",
    "\n",
    "SIG = PAM4_map_seq(rand(0:1,10000))\n",
    "SIG'SIG * 1.0/length(SIG)"
   ]
  },
  {
   "cell_type": "markdown",
   "id": "a45f6e89-9e10-4ad5-93e3-f86bd4757139",
   "metadata": {},
   "source": [
    "$$\n",
    "\\text{LLR of ith bit of received symbol y } =  \n",
    "\\log \\frac{p(y \\mid b_i = 0)}{p(y \\mid b_i = 1)} \n",
    "= \n",
    "\\log\\frac{\\sum_{\\text{$s$ in image of $b_1\\dots b_{i-1} 0 b_{i+1}\\dots b_n$}}\\exp\\left(-\\frac{1}{2\\sigma^2}(y-s)^2\\right)}{\\sum_{\\text{$s$ in image of $b_1\\dots b_{i-1} 1 b_{i+1}\\dots b_n$}}\\exp\\left(-\\frac{1}{2\\sigma^2}(y-s)^2\\right)}\n",
    "$$"
   ]
  },
  {
   "cell_type": "code",
   "execution_count": 27,
   "id": "484fb17d-4469-47d2-bd17-669aa6afa089",
   "metadata": {
    "tags": []
   },
   "outputs": [],
   "source": [
    "function getLLRs(ys,nvars)\n",
    "    local n = length(ys);\n",
    "    # LLRs = zeros(n); # PAM2\n",
    "    LLRs = zeros(2*n); # PAM4\n",
    "    for i in 1:n    \n",
    "        local y = ys[i]\n",
    "        ν = 1.0/nvars[i];\n",
    "        # PAM2\n",
    "        # LLRs[i] = \n",
    "        #         log( ( exp(-0.5*ν*(y-PAM2_map(0))^2)  ) /\n",
    "        #              ( exp(-0.5*ν*(y-PAM2_map(1))^2)  ) );\n",
    "\n",
    "        # PAM4\n",
    "        LLRs[2*(i-1)+1] = \n",
    "                log( ( exp(-0.5*ν*(y-PAM4_map(0,0))^2) + exp(-0.5*ν*(y-PAM4_map(0,1))^2) ) /\n",
    "                     ( exp(-0.5*ν*(y-PAM4_map(1,0))^2) + exp(-0.5*ν*(y-PAM4_map(1,1))^2) ) );\n",
    "        LLRs[2*(i-1)+2] = \n",
    "                log( ( exp(-0.5*ν*(y-PAM4_map(0,0))^2) + exp(-0.5*ν*(y-PAM4_map(1,0))^2) ) /\n",
    "                     ( exp(-0.5*ν*(y-PAM4_map(0,1))^2) + exp(-0.5*ν*(y-PAM4_map(1,1))^2) ) );        \n",
    "    end\n",
    "    return LLRs\n",
    "end;\n",
    "\n",
    "decider(x) = div(1-Int64(sign(x)), 2);"
   ]
  },
  {
   "cell_type": "markdown",
   "id": "8169f0b7-f71e-4e88-ad8e-00f0e2f3ad24",
   "metadata": {},
   "source": [
    "### Chase decoder\n",
    "Test all combinations of $0$ to $w$ bit flips in the $q$ least reliable positions for a total of \n",
    "$$\n",
    "\\binom{q}{0} + \\binom{q}{1} + \\binom{q}{2} + \\cdots + \\binom{q}{w}\n",
    "$$\n",
    "test patterns."
   ]
  },
  {
   "cell_type": "code",
   "execution_count": 28,
   "id": "a6ec6db6-1a78-472e-b7cc-ce18bd512c2a",
   "metadata": {
    "tags": []
   },
   "outputs": [],
   "source": [
    "function Chase_decode(c, q, w)\n",
    "    y = decider.(c);\n",
    "    if w == -1\n",
    "        return y\n",
    "    end\n",
    "    abs_c = abs.(c);\n",
    "    syn = int_basis_syn * mod.(H*y,2);\n",
    "    if syn == 0\n",
    "        return y\n",
    "    elseif syn & 0x01 == 1 # odd parity y\n",
    "        # only even-sized perturbations can make the decoder do anything\n",
    "        size_set = 0:2:w\n",
    "    else # even parity y\n",
    "        # only odd-sized perturbations can make the decoder do anything\n",
    "        size_set = 1:2:w\n",
    "    end\n",
    "    least_reliable_positions = sortperm(abs_c,rev=false)[1:q];\n",
    "    smallest_analog_weight = Inf;\n",
    "    correction = zeros(Int64,n);\n",
    "    test_pattern = zeros(Int64,n);\n",
    "    for size in size_set\n",
    "        for comb in combinations(least_reliable_positions, size)\n",
    "            new_syn = syn;\n",
    "            test_pattern *= 0;\n",
    "            analog_weight = 0;\n",
    "            for j in comb\n",
    "                new_syn ⊻= synFromErrorloc(j .- 1)\n",
    "                test_pattern[j] ⊻= 1;\n",
    "                analog_weight += abs_c[j];\n",
    "            end\n",
    "            errorloc = errorlocFromSyn(new_syn) + 1;\n",
    "            if errorloc <= n\n",
    "                if test_pattern[errorloc] == 1\n",
    "                    analog_weight -= abs_c[errorloc]\n",
    "                    test_pattern[errorloc] ⊻= 1\n",
    "                else\n",
    "                    analog_weight += abs_c[errorloc]\n",
    "                    test_pattern[errorloc] ⊻= 1\n",
    "                end\n",
    "                if analog_weight < smallest_analog_weight\n",
    "                    smallest_analog_weight = analog_weight;\n",
    "                    correction = test_pattern\n",
    "                end\n",
    "            end\n",
    "        end\n",
    "    end\n",
    "    return y .⊻ correction\n",
    "end;"
   ]
  },
  {
   "cell_type": "code",
   "execution_count": 29,
   "id": "9d1f1d77-9254-4f42-ae9a-e92e793c0489",
   "metadata": {
    "tags": []
   },
   "outputs": [],
   "source": [
    "function Chase_decode_1(c, q, w)\n",
    "    y = decider.(c);\n",
    "    if w == -1\n",
    "        return y\n",
    "    end\n",
    "    abs_c = abs.(c);\n",
    "    syn = int_basis_syn_1 * mod.(H_1*y,2);\n",
    "    if syn == 0\n",
    "        return y\n",
    "    elseif syn & 0x01 == 1 # odd parity y\n",
    "        # only even-sized perturbations can make the decoder do anything\n",
    "        size_set = 0:2:w\n",
    "    else # even parity y\n",
    "        # only odd-sized perturbations can make the decoder do anything\n",
    "        size_set = 1:2:w\n",
    "    end\n",
    "    least_reliable_positions = sortperm(abs_c,rev=false)[1:q];\n",
    "    smallest_analog_weight = Inf;\n",
    "    correction = zeros(Int64,n_1);\n",
    "    test_pattern = zeros(Int64,n_1);\n",
    "    for size in size_set\n",
    "        for comb in combinations(least_reliable_positions, size)\n",
    "            new_syn = syn;\n",
    "            test_pattern *= 0;\n",
    "            analog_weight = 0;\n",
    "            for j in comb\n",
    "                new_syn ⊻= synFromErrorloc_1(j .- 1)\n",
    "                test_pattern[j] ⊻= 1;\n",
    "                analog_weight += abs_c[j];\n",
    "            end\n",
    "            errorloc = errorlocFromSyn_1(new_syn) + 1;\n",
    "            if errorloc <= n_1\n",
    "                if test_pattern[errorloc] == 1\n",
    "                    analog_weight -= abs_c[errorloc]\n",
    "                    test_pattern[errorloc] ⊻= 1\n",
    "                else\n",
    "                    analog_weight += abs_c[errorloc]\n",
    "                    test_pattern[errorloc] ⊻= 1\n",
    "                end\n",
    "                if analog_weight < smallest_analog_weight\n",
    "                    smallest_analog_weight = analog_weight;\n",
    "                    correction = test_pattern\n",
    "                end\n",
    "            end\n",
    "        end\n",
    "    end\n",
    "    return y .⊻ correction\n",
    "end;"
   ]
  },
  {
   "cell_type": "code",
   "execution_count": 30,
   "id": "c517682f-5aab-4a20-8453-f663584ea694",
   "metadata": {
    "tags": []
   },
   "outputs": [],
   "source": [
    "function Chase_decode_2(c, q, w)\n",
    "    y = decider.(c);\n",
    "    if w == -1\n",
    "        return y\n",
    "    end\n",
    "    abs_c = abs.(c);\n",
    "    syn = int_basis_syn_2 * mod.(H_2*y,2);\n",
    "    if syn == 0\n",
    "        return y\n",
    "    elseif syn & 0x01 == 1 # odd parity y\n",
    "        # only even-sized perturbations can make the decoder do anything\n",
    "        size_set = 0:2:w\n",
    "    else # even parity y\n",
    "        # only odd-sized perturbations can make the decoder do anything\n",
    "        size_set = 1:2:w\n",
    "    end\n",
    "    least_reliable_positions = sortperm(abs_c,rev=false)[1:q];\n",
    "    smallest_analog_weight = Inf;\n",
    "    correction = zeros(Int64,n_2);\n",
    "    test_pattern = zeros(Int64,n_2);\n",
    "    for size in size_set\n",
    "        for comb in combinations(least_reliable_positions, size)\n",
    "            new_syn = syn;\n",
    "            test_pattern *= 0;\n",
    "            analog_weight = 0;\n",
    "            for j in comb\n",
    "                new_syn ⊻= synFromErrorloc_2(j .- 1)\n",
    "                test_pattern[j] ⊻= 1;\n",
    "                analog_weight += abs_c[j];\n",
    "            end\n",
    "            errorloc = errorlocFromSyn_2(new_syn) + 1;\n",
    "            if errorloc <= n_2\n",
    "                if test_pattern[errorloc] == 1\n",
    "                    analog_weight -= abs_c[errorloc]\n",
    "                    test_pattern[errorloc] ⊻= 1\n",
    "                else\n",
    "                    analog_weight += abs_c[errorloc]\n",
    "                    test_pattern[errorloc] ⊻= 1\n",
    "                end\n",
    "                if analog_weight < smallest_analog_weight\n",
    "                    smallest_analog_weight = analog_weight;\n",
    "                    correction = test_pattern\n",
    "                end\n",
    "            end\n",
    "        end\n",
    "    end\n",
    "    return y .⊻ correction\n",
    "end;"
   ]
  },
  {
   "cell_type": "code",
   "execution_count": 31,
   "id": "2089843d-0f9f-40e1-8bd2-f4456e7f20b4",
   "metadata": {
    "tags": []
   },
   "outputs": [],
   "source": [
    "function channel_matrix(γ,θ,ϕ)\n",
    "    local D = diagm([sqrt(1.0+γ),sqrt(1.0-γ)])\n",
    "    local R = [\n",
    "                cos(θ) -sin(θ);\n",
    "                sin(θ)  cos(θ)\n",
    "            ];\n",
    "    local Z = zeros(2,2);\n",
    "    local P = diagm([exp(1im*ϕ),exp(-1im*ϕ)]);\n",
    "    # return 4 x 4 real-equivalent representation of complex 2 x 2 matrix D*R*P\n",
    "    return [\n",
    "                D Z;\n",
    "                Z D;\n",
    "            ]*[\n",
    "                R Z;\n",
    "                Z R;\n",
    "            ]*\n",
    "            [\n",
    "                real.(P) -imag.(P);\n",
    "                imag.(P)  real.(P)\n",
    "            ]\n",
    "end;"
   ]
  },
  {
   "cell_type": "code",
   "execution_count": 32,
   "id": "eae11122-2ed7-43b9-bc2e-148f534bd01c",
   "metadata": {},
   "outputs": [],
   "source": [
    "function channel_matrix_2cu(γ,θ,ϕ)\n",
    "    return [channel_matrix(γ,θ,ϕ) zeros(4,4);\n",
    "            zeros(4,4)          channel_matrix(γ,θ,ϕ)];\n",
    "end;"
   ]
  },
  {
   "cell_type": "markdown",
   "id": "cbe90276-c4fe-404d-abaa-1e0bfc428e80",
   "metadata": {},
   "source": [
    "### Scenario 1: (baseline) one code, temporal-interleaving, zero-forcing: TI-ZF\n",
    "We interleave four codewords both in time and across polarizations so that we both decorrelate the noise and achieve some PDL averaging."
   ]
  },
  {
   "cell_type": "code",
   "execution_count": 33,
   "id": "61cac655-244d-4381-8df4-83e24a38f467",
   "metadata": {
    "tags": []
   },
   "outputs": [],
   "source": [
    "function Scenario_1_sim(SNR,γ,θ,ϕ,q,w)\n",
    "    mess_1 = rand(0:1,k)\n",
    "    mess_2 = rand(0:1,k)\n",
    "    mess_3 = rand(0:1,k)\n",
    "    mess_4 = rand(0:1,k)\n",
    "    tx_1 = PAM4_map_seq(encode(mess_1)) # length half_n\n",
    "    tx_2 = PAM4_map_seq(encode(mess_2)) # length half_n\n",
    "    tx_3 = PAM4_map_seq(encode(mess_3)) # length half_n\n",
    "    tx_4 = PAM4_map_seq(encode(mess_4)) # length half_n\n",
    "    X = zeros(4,half_n)\n",
    "    # interleaving pattern:\n",
    "    # 1 4 3 2\n",
    "    # 2 1 4 3\n",
    "    # 3 2 1 4\n",
    "    # 4 3 2 1\n",
    "    X[1,1:4:end] = tx_1[1:4:end]\n",
    "    X[1,2:4:end] = tx_4[2:4:end]\n",
    "    X[1,3:4:end] = tx_3[3:4:end]\n",
    "    X[1,4:4:end] = tx_2[4:4:end]\n",
    "    X[2,1:4:end] = tx_2[1:4:end]\n",
    "    X[2,2:4:end] = tx_1[2:4:end]\n",
    "    X[2,3:4:end] = tx_4[3:4:end]\n",
    "    X[2,4:4:end] = tx_3[4:4:end]\n",
    "    X[3,1:4:end] = tx_3[1:4:end]\n",
    "    X[3,2:4:end] = tx_2[2:4:end]\n",
    "    X[3,3:4:end] = tx_1[3:4:end]\n",
    "    X[3,4:4:end] = tx_4[4:4:end]\n",
    "    X[4,1:4:end] = tx_4[1:4:end]\n",
    "    X[4,2:4:end] = tx_3[2:4:end]\n",
    "    X[4,3:4:end] = tx_2[3:4:end]\n",
    "    X[4,4:4:end] = tx_1[4:4:end]\n",
    "    H = channel_matrix(γ,θ,ϕ);\n",
    "    H_inv = inv(H)\n",
    "    Y = H*X + 1.0/sqrt(SNR)*randn(4,half_n)\n",
    "    Y_EQ = H_inv*Y\n",
    "    noise_covariance = 1.0/SNR * (H_inv*H_inv')\n",
    "    noise_variances_1 = ones(half_n);\n",
    "    noise_variances_2 = ones(half_n);\n",
    "    noise_variances_3 = ones(half_n);\n",
    "    noise_variances_4 = ones(half_n);\n",
    "    rx_1 = zeros(half_n)\n",
    "    rx_2 = zeros(half_n)\n",
    "    rx_3 = zeros(half_n)\n",
    "    rx_4 = zeros(half_n)\n",
    "    rx_1[1:4:end] = Y_EQ[1,1:4:end]\n",
    "    rx_1[2:4:end] = Y_EQ[2,2:4:end]\n",
    "    rx_1[3:4:end] = Y_EQ[3,3:4:end]\n",
    "    rx_1[4:4:end] = Y_EQ[4,4:4:end]\n",
    "    noise_variances_1[1:4:end] .= noise_covariance[1,1]\n",
    "    noise_variances_1[2:4:end] .= noise_covariance[2,2]\n",
    "    noise_variances_1[3:4:end] .= noise_covariance[3,3]\n",
    "    noise_variances_1[4:4:end] .= noise_covariance[4,4]\n",
    "    rx_2[1:4:end] = Y_EQ[2,1:4:end]\n",
    "    rx_2[2:4:end] = Y_EQ[3,2:4:end]\n",
    "    rx_2[3:4:end] = Y_EQ[4,3:4:end]\n",
    "    rx_2[4:4:end] = Y_EQ[1,4:4:end]\n",
    "    noise_variances_2[1:4:end] .= noise_covariance[2,2]\n",
    "    noise_variances_2[2:4:end] .= noise_covariance[3,3]\n",
    "    noise_variances_2[3:4:end] .= noise_covariance[4,4]\n",
    "    noise_variances_2[4:4:end] .= noise_covariance[1,1]\n",
    "    rx_3[1:4:end] = Y_EQ[3,1:4:end]\n",
    "    rx_3[2:4:end] = Y_EQ[4,2:4:end]\n",
    "    rx_3[3:4:end] = Y_EQ[1,3:4:end]\n",
    "    rx_3[4:4:end] = Y_EQ[2,4:4:end]\n",
    "    noise_variances_3[1:4:end] .= noise_covariance[3,3]\n",
    "    noise_variances_3[2:4:end] .= noise_covariance[4,4]\n",
    "    noise_variances_3[3:4:end] .= noise_covariance[1,1]\n",
    "    noise_variances_3[4:4:end] .= noise_covariance[2,2]\n",
    "    rx_4[1:4:end] = Y_EQ[4,1:4:end]\n",
    "    rx_4[2:4:end] = Y_EQ[1,2:4:end]\n",
    "    rx_4[3:4:end] = Y_EQ[2,3:4:end]\n",
    "    rx_4[4:4:end] = Y_EQ[3,4:4:end]\n",
    "    noise_variances_4[1:4:end] .= noise_covariance[4,4]\n",
    "    noise_variances_4[2:4:end] .= noise_covariance[1,1]\n",
    "    noise_variances_4[3:4:end] .= noise_covariance[2,2]\n",
    "    noise_variances_4[4:4:end] .= noise_covariance[3,3]\n",
    "    \n",
    "    decoded_1 = Chase_decode(getLLRs(rx_1,noise_variances_1),q,w)\n",
    "    decoded_2 = Chase_decode(getLLRs(rx_2,noise_variances_2),q,w)\n",
    "    decoded_3 = Chase_decode(getLLRs(rx_3,noise_variances_3),q,w)\n",
    "    decoded_4 = Chase_decode(getLLRs(rx_4,noise_variances_4),q,w)\n",
    "    \n",
    "    return (sum(mess_1 .!= decoded_1[1:k])+\n",
    "            sum(mess_2 .!= decoded_2[1:k])+\n",
    "            sum(mess_3 .!= decoded_3[1:k])+\n",
    "            sum(mess_4 .!= decoded_4[1:k])), (k+k+k+k)\n",
    "end;"
   ]
  },
  {
   "cell_type": "markdown",
   "id": "900dd037-ffe9-4c61-8718-f545591412c6",
   "metadata": {},
   "source": [
    "### Scenario 2: single-code ZF with precoding\n",
    "* Consider two channel use extension\n",
    "* Use orthogonal precoder\n",
    "    $$\n",
    "      \\frac{1}{\\sqrt{2}}\n",
    "      \\begin{pmatrix}\n",
    "\t\t1 & 0 & 0 & 0 & 1 & 0 & 0 & 0\\\\ 0 & 0 & 1 & 0 & 0 & 0 & 1 & 0\\\\ 0 & -1 & 0 & 0 & 0 & -1 & 0 & 0\\\\ 0 & 0 & 0 & -1 & 0 & 0 & 0 & -1\\\\ 0 & 0 & 1 & 0 & 0 & 0 & -1 & 0\\\\ -1 & 0 & 0 & 0 & 1 & 0 & 0 & 0\\\\ 0 & 0 & 0 & 1 & 0 & 0 & 0 & -1\\\\ 0 & -1 & 0 & 0 & 0 & 1 & 0 & 0 \n",
    "      \\end{pmatrix}\n",
    "    $$"
   ]
  },
  {
   "cell_type": "code",
   "execution_count": 34,
   "id": "9da509e6-972f-4b7d-89d8-63db29ad432a",
   "metadata": {},
   "outputs": [],
   "source": [
    "function Scenario_2_sim(SNR,γ,θ,ϕ,q,w)\n",
    "    mess_1 = rand(0:1,k)\n",
    "    mess_2 = rand(0:1,k)\n",
    "    tx_1 = PAM4_map_seq(encode(mess_1)) # length half_n\n",
    "    tx_2 = PAM4_map_seq(encode(mess_2)) # length half_n\n",
    "    U = zeros(8,eighth_n)\n",
    "    U[1,:] = tx_1[1:eighth_n]\n",
    "    U[2,:] = tx_1[eighth_n+1:2*eighth_n]\n",
    "    U[3,:] = tx_1[2*eighth_n+1:3*eighth_n]\n",
    "    U[4,:] = tx_1[3*eighth_n+1:end]\n",
    "    U[5,:] = tx_2[1:eighth_n]\n",
    "    U[6,:] = tx_2[eighth_n+1:2*eighth_n]\n",
    "    U[7,:] = tx_2[2*eighth_n+1:3*eighth_n]\n",
    "    U[8,:] = tx_2[3*eighth_n+1:end]\n",
    "    X = PREC_G*U\n",
    "    H = sqrt(SNR)*channel_matrix_2cu(γ,θ,ϕ);\n",
    "    Y = H*X + randn(8,eighth_n)\n",
    "    H_inv = inv(H*PREC_G)\n",
    "    Y_EQ = H_inv*Y\n",
    "    noise_covariance = H_inv*H_inv'\n",
    "    noise_variances_1 = ones(half_n);\n",
    "    noise_variances_2 = ones(half_n);\n",
    "    rx_1 = zeros(half_n)\n",
    "    rx_2 = zeros(half_n)\n",
    "    \n",
    "    rx_1[1:eighth_n]              = Y_EQ[1,1:end]\n",
    "    rx_1[eighth_n+1:2*eighth_n]   = Y_EQ[2,1:end]\n",
    "    rx_1[2*eighth_n+1:3*eighth_n] = Y_EQ[3,1:end]\n",
    "    rx_1[3*eighth_n+1:end]        = Y_EQ[4,1:end]\n",
    "    noise_variances_1[1:eighth_n]              .= noise_covariance[1,1]\n",
    "    noise_variances_1[eighth_n+1:2*eighth_n]   .= noise_covariance[2,2]\n",
    "    noise_variances_1[2*eighth_n+1:3*eighth_n] .= noise_covariance[3,3]\n",
    "    noise_variances_1[3*eighth_n+1:end]        .= noise_covariance[4,4]\n",
    "\n",
    "    rx_2[1:eighth_n]              = Y_EQ[5,1:end]\n",
    "    rx_2[eighth_n+1:2*eighth_n]   = Y_EQ[6,1:end]\n",
    "    rx_2[2*eighth_n+1:3*eighth_n] = Y_EQ[7,1:end]\n",
    "    rx_2[3*eighth_n+1:end]        = Y_EQ[8,1:end]\n",
    "    noise_variances_2[1:eighth_n]              .= noise_covariance[1,1]\n",
    "    noise_variances_2[eighth_n+1:2*eighth_n]   .= noise_covariance[2,2]\n",
    "    noise_variances_2[2*eighth_n+1:3*eighth_n] .= noise_covariance[3,3]\n",
    "    noise_variances_2[3*eighth_n+1:end]        .= noise_covariance[4,4]\n",
    "    \n",
    "    decoded_1 = Chase_decode(getLLRs(rx_1,noise_variances_1),q,w)\n",
    "    decoded_2 = Chase_decode(getLLRs(rx_2,noise_variances_2),q,w)\n",
    "    return (sum(mess_1 .!= decoded_1[1:k])+sum(mess_2 .!= decoded_2[1:k])), (k+k)\n",
    "end;"
   ]
  },
  {
   "cell_type": "markdown",
   "id": "dde3f6de-9356-4d1b-b67e-d057f5e0e95b",
   "metadata": {},
   "source": [
    "### Scenario 3: single-code D-BLAST ZF-SIC without precoding\n",
    "\n",
    "Skipping this scenario since it is not a good scheme in this context and is just meant to illustrate some fine points which I already illustrate in the real-valued channel matrix case."
   ]
  },
  {
   "cell_type": "markdown",
   "id": "62f47b6b-2295-4bb3-adb2-bf4f6b520d26",
   "metadata": {},
   "source": [
    "### Scenario 4: single-code D-BLAST ZF-SIC with precoding\n",
    "* Consider two channel use extension\n",
    "* Use orthogonal precoder from Scenario 2\n",
    "* The input to the effective $8 \\times 8$ channel looks like this:\n",
    "$$\n",
    "  \\begin{pmatrix}\n",
    "      \\psi & \\mathbf u_1^s & \\mathbf u_2^s & \\cdots & \\mathbf u_{\\zeta-2}^s & \\mathbf u_{\\zeta-1}^s & \\mathbf u_\\zeta^s\\\\\n",
    "      \\mathbf u_1^f & \\mathbf u_2^f &  \\mathbf u_3^f & \\cdots & \\mathbf u_{\\zeta-1}^f & \\mathbf u_\\zeta^f & \\psi\n",
    "  \\end{pmatrix}\n",
    "$$\n",
    "*  Rate will be $$\n",
    "      \\frac{\\zeta}{\\zeta+1} \\cdot \\frac{k}{n}\n",
    "    $$\n",
    "* Equalization is generally a Moore–Penrose pseudoinverse\n",
    "* For each column:\n",
    "* Equalize. Extract second half of noisy codeword, append to noisy first-half from previous channel use, and decode to produce second-half estimate. Deliver this full codeword. If this is the first column, skip all of this and simply simply produce $\\psi$ which is fixed and known as the second-half estimate for the next step.\n",
    "* Cancel the interference corresponding to the second-half estimate and re-equalize. Overwrite the noisy first-half from the previous channel use with this result. If this is the last column, skip this step."
   ]
  },
  {
   "cell_type": "code",
   "execution_count": 35,
   "id": "84568ec9-bcf6-4d1f-93d8-5825222a1a3a",
   "metadata": {},
   "outputs": [],
   "source": [
    "function Scenario_4_sim(SNR,γ,θ,ϕ,q,w,ζ)\n",
    "    messes = rand(0:1,k,ζ) # ζ messages of length k\n",
    "    cws_hat = zeros(Int64,n,ζ);\n",
    "    # encode and map to ζ sequences of length half_n:\n",
    "    us = [PAM4_map_seq(encode(messes[:,j])) for j in 1:ζ] \n",
    "    # the following has dimensions 4 x sixteenth_n\n",
    "    ψ = [   PAM4_map_seq(zeros(Int64,eighth_n))'; \n",
    "            PAM4_map_seq(zeros(Int64,eighth_n))';\n",
    "            PAM4_map_seq(zeros(Int64,eighth_n))';\n",
    "            PAM4_map_seq(zeros(Int64,eighth_n))'\n",
    "        ]; \n",
    "    U = zeros(8,sixteenth_n*(ζ+1));\n",
    "    # ζ+1 \"columns\" of dimensions 8 x sixteenth_n\n",
    "    # column 1\n",
    "    U[1:4,1:sixteenth_n] = ψ\n",
    "    U[5:8,1:sixteenth_n] = [\n",
    "                            us[1][1:sixteenth_n]'; \n",
    "                            us[1][sixteenth_n+1:2*sixteenth_n]';\n",
    "                            us[1][2*sixteenth_n+1:3*sixteenth_n]';\n",
    "                            us[1][3*sixteenth_n+1:4*sixteenth_n]'\n",
    "                            ];\n",
    "    # columns 2 to ζ\n",
    "    for col in 2:ζ\n",
    "        U[1:4, 1 + (col-1)*sixteenth_n : sixteenth_n + (col-1)*sixteenth_n] = \n",
    "                    [\n",
    "                    us[col-1][quarter_n+1:quarter_n+sixteenth_n]'; \n",
    "                    us[col-1][quarter_n+sixteenth_n+1:quarter_n+2*sixteenth_n]';\n",
    "                    us[col-1][quarter_n+2*sixteenth_n+1:quarter_n+3*sixteenth_n]'; \n",
    "                    us[col-1][quarter_n+3*sixteenth_n+1:quarter_n+4*sixteenth_n]'\n",
    "                    ];\n",
    "        U[5:8, 1 + (col-1)*sixteenth_n : sixteenth_n + (col-1)*sixteenth_n] =\n",
    "                    [\n",
    "                    us[col][1:sixteenth_n]'; \n",
    "                    us[col][sixteenth_n+1:2*sixteenth_n]';\n",
    "                    us[col][2*sixteenth_n+1:3*sixteenth_n]'; \n",
    "                    us[col][3*sixteenth_n+1:4*sixteenth_n]'\n",
    "                    ];\n",
    "    end\n",
    "    # column ζ+1\n",
    "    U[1:4, 1 + (ζ+1-1)*sixteenth_n : sixteenth_n + (ζ+1-1)*sixteenth_n] = \n",
    "                [\n",
    "                us[ζ+1-1][quarter_n+1:quarter_n+sixteenth_n]'; \n",
    "                us[ζ+1-1][quarter_n+sixteenth_n+1:quarter_n+2*sixteenth_n]';\n",
    "                us[ζ+1-1][quarter_n+2*sixteenth_n+1:quarter_n+3*sixteenth_n]'; \n",
    "                us[ζ+1-1][quarter_n+3*sixteenth_n+1:quarter_n+4*sixteenth_n]'\n",
    "                ];\n",
    "    U[5:8, 1 + (ζ+1-1)*sixteenth_n : sixteenth_n + (ζ+1-1)*sixteenth_n] = ψ\n",
    "    X = PREC_G*U\n",
    "    # pre-compute equalizers and noise stats based on channel knowledge\n",
    "    H = sqrt(SNR)*channel_matrix_2cu(γ,θ,ϕ);\n",
    "    H_eff = H*PREC_G;\n",
    "    EQ_F = inv(H_eff)\n",
    "    EQ_H = pinv(H_eff[:,5:8])\n",
    "    noise_covars_F = EQ_F*EQ_F'\n",
    "    noise_covars_H = EQ_H*EQ_H'\n",
    "    noise_vars = ones(half_n);\n",
    "    # second half of codeword sees EQ_F in dimensions 1,2,3,4\n",
    "    noise_vars[quarter_n+1:quarter_n+sixteenth_n] .= noise_covars_F[1,1]\n",
    "    noise_vars[quarter_n+sixteenth_n+1:quarter_n+2*sixteenth_n] .= noise_covars_F[2,2]\n",
    "    noise_vars[quarter_n+2*sixteenth_n+1:quarter_n+3*sixteenth_n] .= noise_covars_F[3,3]\n",
    "    noise_vars[quarter_n+3*sixteenth_n+1:quarter_n+4*sixteenth_n] .= noise_covars_F[4,4]\n",
    "    # first half of codeword sees EQ_H in dimensions 1,2,3,4 (its only dimensions)\n",
    "    noise_vars[1:sixteenth_n] .= noise_covars_H[1,1]\n",
    "    noise_vars[sixteenth_n+1:2*sixteenth_n] .= noise_covars_H[2,2]\n",
    "    noise_vars[2*sixteenth_n+1:3*sixteenth_n] .= noise_covars_H[3,3]\n",
    "    noise_vars[3*sixteenth_n+1:4*sixteenth_n] .= noise_covars_H[4,4]\n",
    "    # transmit\n",
    "    Y = H*X + randn(8,sixteenth_n*(ζ+1))\n",
    "    # ZF-SIC\n",
    "    # first col step\n",
    "    Y_CUR = Y[:,1:sixteenth_n];\n",
    "    Y_CUR = Y_CUR - H_eff[:,1:4]*ψ;\n",
    "    noisy_first_half = EQ_H*Y_CUR\n",
    "    # col 2 to ζ steps delivering codewords 1 to ζ-1\n",
    "    for col in 2:ζ\n",
    "        Y_CUR = Y[:,1+(col-1)*sixteenth_n:sixteenth_n+(col-1)*sixteenth_n]\n",
    "        Y_EQ = EQ_F*Y_CUR\n",
    "        cws_hat[:,col-1] = Chase_decode(getLLRs([\n",
    "                                                    noisy_first_half[1,:]; \n",
    "                                                    noisy_first_half[2,:]; \n",
    "                                                    noisy_first_half[3,:]; \n",
    "                                                    noisy_first_half[4,:]; \n",
    "                                                    Y_EQ[1,:]; \n",
    "                                                    Y_EQ[2,:];\n",
    "                                                    Y_EQ[3,:]; \n",
    "                                                    Y_EQ[4,:];\n",
    "                                                ],noise_vars),q,w)\n",
    "        second_half_estimate = PAM4_map_seq(cws_hat[half_n+1:end,col-1]) \n",
    "        # second_half_estimate = PAM4_map_seq(encode(messes[:,col-1])[half_n+1:end]) # genie aided version of above line\n",
    "        Y_CUR = Y_CUR - H_eff[:,1:4]*[\n",
    "                                        second_half_estimate[1:sixteenth_n]'; \n",
    "                                        second_half_estimate[sixteenth_n+1:2*sixteenth_n]';\n",
    "                                        second_half_estimate[2*sixteenth_n+1:3*sixteenth_n]';\n",
    "                                        second_half_estimate[3*sixteenth_n+1:end]'\n",
    "                                    ] ;\n",
    "        noisy_first_half = EQ_H*Y_CUR\n",
    "    end\n",
    "    # col ζ+1 step delivering codeword ζ\n",
    "    Y_CUR = Y[:,1 + (ζ)*sixteenth_n : (ζ+1)*sixteenth_n]\n",
    "    Y_EQ = EQ_F*Y_CUR\n",
    "    cws_hat[:,ζ+1-1] = Chase_decode(getLLRs([\n",
    "                                                    noisy_first_half[1,:]; \n",
    "                                                    noisy_first_half[2,:]; \n",
    "                                                    noisy_first_half[3,:]; \n",
    "                                                    noisy_first_half[4,:]; \n",
    "                                                    Y_EQ[1,:]; \n",
    "                                                    Y_EQ[2,:];\n",
    "                                                    Y_EQ[3,:]; \n",
    "                                                    Y_EQ[4,:];\n",
    "                                                ],noise_vars),q,w)\n",
    "    bits_tx = 0\n",
    "    bit_errs = 0\n",
    "    for j in 1:ζ\n",
    "        bits_tx += k\n",
    "        bit_errs += sum(messes[:,j] .!= cws_hat[1:k,j])\n",
    "    end\n",
    "    return bit_errs, bits_tx\n",
    "end;"
   ]
  },
  {
   "cell_type": "markdown",
   "id": "3f0c9b68-07ad-4468-bd79-cf36662f8b7d",
   "metadata": {},
   "source": [
    "### Scenario 5: two-code ZF-SIC with precoding, as prescribed in [my work](https://doi.org/10.1109/JLT.2022.3230266)\n",
    "* Consider two channel use extension\n",
    "* Use orthogonal precoder\n",
    "    $$\n",
    "      \\frac{1}{\\sqrt{2}}\n",
    "      \\begin{pmatrix}\n",
    "\t\t1 & 0 & 0 & 0 & 1 & 0 & 0 & 0\\\\ 0 & 0 & 1 & 0 & 0 & 0 & 1 & 0\\\\ 0 & -1 & 0 & 0 & 0 & -1 & 0 & 0\\\\ 0 & 0 & 0 & -1 & 0 & 0 & 0 & -1\\\\ 0 & 0 & 1 & 0 & 0 & 0 & -1 & 0\\\\ -1 & 0 & 0 & 0 & 1 & 0 & 0 & 0\\\\ 0 & 0 & 0 & 1 & 0 & 0 & 0 & -1\\\\ 0 & -1 & 0 & 0 & 0 & 1 & 0 & 0 \n",
    "      \\end{pmatrix}\n",
    "    $$\n",
    "* Use **two codes** and decode the lower rate code first\n",
    "* Use that result of that decoding to perform interference cancellation before re-equalizing and decoding the higher rate code\n",
    "* We choose the codes so that\n",
    "      $$\n",
    "          \\frac{1}{2}\\left(\\frac{k_1}{n_1} + \\frac{k_2}{n_2}\\right) = \\frac{k}{n}\n",
    "      $$\n",
    "  which is our overall rate"
   ]
  },
  {
   "cell_type": "code",
   "execution_count": 36,
   "id": "de013dff-fa82-4a15-9768-70fa7705daa5",
   "metadata": {},
   "outputs": [
    {
     "data": {
      "text/plain": [
       "179//192"
      ]
     },
     "execution_count": 36,
     "metadata": {},
     "output_type": "execute_result"
    }
   ],
   "source": [
    "(k_1*fits + k_2)//(n_1*fits+n_2)"
   ]
  },
  {
   "cell_type": "code",
   "execution_count": 37,
   "id": "f65d76e1-3200-4f3f-82aa-90fdc051c2eb",
   "metadata": {},
   "outputs": [
    {
     "data": {
      "text/plain": [
       "716"
      ]
     },
     "execution_count": 37,
     "metadata": {},
     "output_type": "execute_result"
    }
   ],
   "source": [
    "(k_1*fits + k_2)"
   ]
  },
  {
   "cell_type": "code",
   "execution_count": 38,
   "id": "cabb1a81-ec57-49ed-b034-88e5d45b22e7",
   "metadata": {},
   "outputs": [
    {
     "data": {
      "text/plain": [
       "768"
      ]
     },
     "execution_count": 38,
     "metadata": {},
     "output_type": "execute_result"
    }
   ],
   "source": [
    "(n_1*fits+n_2)"
   ]
  },
  {
   "cell_type": "code",
   "execution_count": 39,
   "id": "f3ba0afa-f174-4fd1-9636-58ea32060484",
   "metadata": {},
   "outputs": [],
   "source": [
    "function Scenario_5_sim(SNR,γ,θ,ϕ,q,w)\n",
    "    mess_1 = [rand(0:1,k_1) for fit in 1:fits] # sending \"fits\" number of codewords from code 1\n",
    "    mess_2 = rand(0:1,k_2)\n",
    "    # fits = n_2/n_1\n",
    "    tx_1 = PAM4_map_seq(encode_1(mess_1[1])) \n",
    "    for fit in 2:fits\n",
    "        tx_1 = [tx_1; PAM4_map_seq(encode_1(mess_1[fit]))]\n",
    "    end\n",
    "    # tx_1 length is n_1*fits/2 = n_1*n_2/n_1/2 = n_2/2 = half_n_2\n",
    "    tx_2 = PAM4_map_seq(encode_2(mess_2)) # length half_n_2\n",
    "    U = zeros(8,eighth_n_2)\n",
    "    U[1,:] = tx_1[1:eighth_n_2]\n",
    "    U[2,:] = tx_1[eighth_n_2+1:2*eighth_n_2]\n",
    "    U[3,:] = tx_1[2*eighth_n_2+1:3*eighth_n_2]\n",
    "    U[4,:] = tx_1[3*eighth_n_2+1:4*eighth_n_2]\n",
    "    U[5,:] = tx_2[1:eighth_n_2]\n",
    "    U[6,:] = tx_2[eighth_n_2+1:2*eighth_n_2]\n",
    "    U[7,:] = tx_2[2*eighth_n_2+1:3*eighth_n_2]\n",
    "    U[8,:] = tx_2[3*eighth_n_2+1:4*eighth_n_2]\n",
    "    # precode and transmit\n",
    "    X = PREC_G*U\n",
    "    H = sqrt(SNR)*channel_matrix_2cu(γ,θ,ϕ);\n",
    "    Y = H*X + randn(8,eighth_n_2)\n",
    "\n",
    "    # pre-compute equalizers and noise stats based on channel knowledge\n",
    "    H_eff = H*PREC_G\n",
    "    EQ_1 = inv(H_eff)\n",
    "    EQ_2 = pinv(H_eff[:,5:8])\n",
    "    noise_covars_1 = EQ_1*EQ_1'\n",
    "    noise_covars_2 = EQ_2*EQ_2'\n",
    "    noise_vars_1 = ones(half_n_2);\n",
    "    noise_vars_2 = ones(half_n_2);\n",
    "    rx_1 = zeros(half_n_2)\n",
    "    rx_2 = zeros(half_n_2)\n",
    "\n",
    "    # decode first codewords (\"fits\" number of these)\n",
    "    Y_EQ_1 = EQ_1*Y\n",
    "    rx_1[1:eighth_n_2]                = Y_EQ_1[1,1:eighth_n_2]\n",
    "    rx_1[eighth_n_2+1:2*eighth_n_2]   = Y_EQ_1[2,1:eighth_n_2]\n",
    "    rx_1[2*eighth_n_2+1:3*eighth_n_2] = Y_EQ_1[3,1:eighth_n_2]\n",
    "    rx_1[3*eighth_n_2+1:4*eighth_n_2] = Y_EQ_1[4,1:eighth_n_2]\n",
    "    noise_vars_1[1:eighth_n_2]                .= noise_covars_1[1,1]\n",
    "    noise_vars_1[eighth_n_2+1:2*eighth_n_2]   .= noise_covars_1[2,2]\n",
    "    noise_vars_1[2*eighth_n_2+1:3*eighth_n_2] .= noise_covars_1[3,3]\n",
    "    noise_vars_1[3*eighth_n_2+1:4*eighth_n_2] .= noise_covars_1[4,4]\n",
    "    decoded_1 = \n",
    "        [Chase_decode_1(getLLRs(rx_1[1+(fit-1)*half_n_1:half_n_1+(fit-1)*half_n_1],\n",
    "                noise_vars_1[1+(fit-1)*half_n_1:half_n_1+(fit-1)*half_n_1]),q,w) for fit in 1:fits];\n",
    "    \n",
    "    # cancel interference and re-equalize\n",
    "    tx_1_estimate = PAM4_map_seq(decoded_1[1]) \n",
    "    for fit in 2:fits\n",
    "        tx_1_estimate = [tx_1_estimate; PAM4_map_seq(decoded_1[fit])]\n",
    "    end\n",
    "    U_first_half_estimate = zeros(4,eighth_n_2)\n",
    "    U_first_half_estimate[1,:] = tx_1_estimate[1:eighth_n_2] \n",
    "    U_first_half_estimate[2,:] = tx_1_estimate[eighth_n_2+1:2*eighth_n_2] \n",
    "    U_first_half_estimate[3,:] = tx_1_estimate[2*eighth_n_2+1:3*eighth_n_2]\n",
    "    U_first_half_estimate[4,:] = tx_1_estimate[3*eighth_n_2+1:4*eighth_n_2]\n",
    "    \n",
    "    # U_first_half_estimate = U[1:4,:] # genie-aided version of above\n",
    "    Y_EQ_2 = EQ_2*(Y - H_eff[:,1:4]*U_first_half_estimate);\n",
    "\n",
    "    # decode second codeword\n",
    "    rx_2[1:eighth_n_2]                = Y_EQ_2[1,1:eighth_n_2]\n",
    "    rx_2[eighth_n_2+1:2*eighth_n_2]   = Y_EQ_2[2,1:eighth_n_2]\n",
    "    rx_2[2*eighth_n_2+1:3*eighth_n_2] = Y_EQ_2[3,1:eighth_n_2]\n",
    "    rx_2[3*eighth_n_2+1:4*eighth_n_2] = Y_EQ_2[4,1:eighth_n_2]\n",
    "    noise_vars_2[1:eighth_n_2]                .= noise_covars_2[1,1]\n",
    "    noise_vars_2[eighth_n_2+1:2*eighth_n_2]   .= noise_covars_2[2,2]\n",
    "    noise_vars_2[2*eighth_n_2+1:3*eighth_n_2] .= noise_covars_2[3,3]\n",
    "    noise_vars_2[3*eighth_n_2+1:4*eighth_n_2] .= noise_covars_2[4,4]\n",
    "    \n",
    "    decoded_2 = Chase_decode_2(getLLRs(rx_2,noise_vars_2),q,w)\n",
    "    \n",
    "    return ((sum([sum(mess_1[fit] .!= decoded_1[fit][1:k_1]) for fit in 1:fits]) + sum(mess_2 .!= decoded_2[1:k_2])), (fits*k_1+k_2))\n",
    "end;"
   ]
  },
  {
   "cell_type": "code",
   "execution_count": 40,
   "id": "c1d1a374-aed8-4672-b706-64fd78800924",
   "metadata": {
    "tags": []
   },
   "outputs": [
    {
     "data": {
      "text/plain": [
       "1×29 adjoint(::StepRangeLen{Float64, Base.TwicePrecision{Float64}, Base.TwicePrecision{Float64}, Int64}) with eltype Float64:\n",
       " 11.0  11.25  11.5  11.75  12.0  12.25  …  17.0  17.25  17.5  17.75  18.0"
      ]
     },
     "metadata": {},
     "output_type": "display_data"
    }
   ],
   "source": [
    "SNR_dBs = 11:0.25:18\n",
    "SNRs = 10 .^ (SNR_dBs ./ 10)\n",
    "display(SNR_dBs')"
   ]
  },
  {
   "cell_type": "code",
   "execution_count": 41,
   "id": "4515b470-b1fd-4c6b-b9aa-9a6e9946129b",
   "metadata": {},
   "outputs": [],
   "source": [
    "Scen3_D_BLAST_PARAM = 100;\n",
    "Scen4_D_BLAST_PARAM = Scen3_D_BLAST_PARAM;"
   ]
  },
  {
   "cell_type": "code",
   "execution_count": 42,
   "id": "9df41aaa-3fbe-4638-b4bb-5d0b5aa84b26",
   "metadata": {
    "tags": []
   },
   "outputs": [
    {
     "data": {
      "text/plain": [
       "4"
      ]
     },
     "execution_count": 42,
     "metadata": {},
     "output_type": "execute_result"
    }
   ],
   "source": [
    "Chase_q = 6\n",
    "Chase_w = 4"
   ]
  },
  {
   "cell_type": "code",
   "execution_count": 43,
   "id": "7bdb7af5-f8a4-4052-aad3-71c53ff966cb",
   "metadata": {
    "tags": []
   },
   "outputs": [
    {
     "data": {
      "text/plain": [
       "0.599"
      ]
     },
     "execution_count": 43,
     "metadata": {},
     "output_type": "execute_result"
    }
   ],
   "source": [
    "fileNamePrefix = \"Complex_6dB_\"\n",
    "α = 0.599"
   ]
  },
  {
   "cell_type": "code",
   "execution_count": 44,
   "id": "c657a474-78dc-4aac-8392-532ca8ec96c7",
   "metadata": {},
   "outputs": [
    {
     "data": {
      "text/plain": [
       "6.007040911260524"
      ]
     },
     "execution_count": 44,
     "metadata": {},
     "output_type": "execute_result"
    }
   ],
   "source": [
    "10*log10((1+α)/(1-α))"
   ]
  },
  {
   "cell_type": "code",
   "execution_count": 45,
   "id": "d870fb95-3b64-42cf-a683-995ad984047d",
   "metadata": {
    "scrolled": true,
    "tags": []
   },
   "outputs": [
    {
     "data": {
      "text/plain": [
       "1×5 adjoint(::Vector{Float64}) with eltype Float64:\n",
       " -0.599  -0.2995  0.0  0.2995  0.599"
      ]
     },
     "metadata": {},
     "output_type": "display_data"
    },
    {
     "data": {
      "text/plain": [
       "1×17 adjoint(::Vector{Float64}) with eltype Float64:\n",
       " 0.0  0.392699  0.785398  1.1781  …  5.10509  5.49779  5.89049  6.28319"
      ]
     },
     "metadata": {},
     "output_type": "display_data"
    },
    {
     "data": {
      "text/plain": [
       "1×17 adjoint(::Vector{Float64}) with eltype Float64:\n",
       " 0.0  0.392699  0.785398  1.1781  …  5.10509  5.49779  5.89049  6.28319"
      ]
     },
     "metadata": {},
     "output_type": "display_data"
    }
   ],
   "source": [
    "γs = collect(-1:1/2:1)'*α\n",
    "θs = collect(0:1/16:1)'*2*π\n",
    "ϕs = collect(0:1/16:1)'*2*π\n",
    "display(γs)\n",
    "display(θs)\n",
    "display(ϕs)"
   ]
  },
  {
   "cell_type": "code",
   "execution_count": 46,
   "id": "63ed1ac1-13a4-4bf0-bc2e-9d03de545ce8",
   "metadata": {
    "tags": []
   },
   "outputs": [
    {
     "name": "stdout",
     "output_type": "stream",
     "text": [
      "Scenario 1: SNR 1/29\n",
      "Scenario 1: SNR 2/29\n",
      "Scenario 1: SNR 3/29\n",
      "Scenario 1: SNR 4/29\n",
      "Scenario 1: SNR 5/29\n",
      "Scenario 1: SNR 6/29\n",
      "Scenario 1: SNR 7/29\n",
      "Scenario 1: SNR 8/29\n",
      "Scenario 1: SNR 9/29\n",
      "Scenario 1: SNR 10/29\n",
      "Scenario 1: SNR 11/29\n",
      "Scenario 1: SNR 12/29\n",
      "Scenario 1: SNR 13/29\n",
      "Scenario 1: SNR 14/29\n",
      "Scenario 1: SNR 15/29\n",
      "Scenario 1: SNR 16/29\n",
      "Scenario 1: SNR 17/29\n",
      "Scenario 1: SNR 18/29\n",
      "Scenario 1: SNR 19/29\n",
      "Scenario 1: SNR 20/29\n",
      "Scenario 1: SNR 21/29\n",
      "Scenario 1: SNR 22/29\n",
      "Scenario 1: SNR 23/29\n",
      "Scenario 1: SNR 24/29\n",
      "Scenario 1: SNR 25/29\n",
      "Scenario 1: SNR 26/29\n",
      "Scenario 1: SNR 27/29\n",
      "Scenario 2: SNR 1/29\n",
      "Scenario 2: SNR 2/29\n",
      "Scenario 2: SNR 3/29\n",
      "Scenario 2: SNR 4/29\n",
      "Scenario 2: SNR 5/29\n",
      "Scenario 2: SNR 6/29\n",
      "Scenario 2: SNR 7/29\n",
      "Scenario 2: SNR 8/29\n",
      "Scenario 2: SNR 9/29\n",
      "Scenario 2: SNR 10/29\n",
      "Scenario 2: SNR 11/29\n",
      "Scenario 2: SNR 12/29\n",
      "Scenario 2: SNR 13/29\n",
      "Scenario 2: SNR 14/29\n",
      "Scenario 2: SNR 15/29\n",
      "Scenario 2: SNR 16/29\n",
      "Scenario 2: SNR 17/29\n",
      "Scenario 2: SNR 18/29\n",
      "Scenario 2: SNR 19/29\n",
      "Scenario 2: SNR 20/29\n",
      "Scenario 2: SNR 21/29\n",
      "Scenario 2: SNR 22/29\n",
      "Scenario 2: SNR 23/29\n",
      "Scenario 4: SNR 1/29\n",
      "Scenario 4: SNR 2/29\n",
      "Scenario 4: SNR 3/29\n",
      "Scenario 4: SNR 4/29\n",
      "Scenario 4: SNR 5/29\n",
      "Scenario 4: SNR 6/29\n",
      "Scenario 4: SNR 7/29\n",
      "Scenario 4: SNR 8/29\n",
      "Scenario 4: SNR 9/29\n",
      "Scenario 4: SNR 10/29\n",
      "Scenario 4: SNR 11/29\n",
      "Scenario 4: SNR 12/29\n",
      "Scenario 4: SNR 13/29\n",
      "Scenario 4: SNR 14/29\n",
      "Scenario 4: SNR 15/29\n",
      "Scenario 4: SNR 16/29\n",
      "Scenario 4: SNR 17/29\n",
      "Scenario 4: SNR 18/29\n",
      "Scenario 4: SNR 19/29\n",
      "Scenario 4: SNR 20/29\n",
      "Scenario 4: SNR 21/29\n",
      "Scenario 5: SNR 1/29\n",
      "Scenario 5: SNR 2/29\n",
      "Scenario 5: SNR 3/29\n",
      "Scenario 5: SNR 4/29\n",
      "Scenario 5: SNR 5/29\n",
      "Scenario 5: SNR 6/29\n",
      "Scenario 5: SNR 7/29\n",
      "Scenario 5: SNR 8/29\n",
      "Scenario 5: SNR 9/29\n",
      "Scenario 5: SNR 10/29\n",
      "Scenario 5: SNR 11/29\n",
      "Scenario 5: SNR 12/29\n",
      "Scenario 5: SNR 13/29\n",
      "Scenario 5: SNR 14/29\n",
      "Scenario 5: SNR 15/29\n",
      "Scenario 5: SNR 16/29\n",
      "Scenario 5: SNR 17/29\n",
      "Scenario 5: SNR 18/29\n",
      "Scenario 5: SNR 19/29\n",
      "Scenario 5: SNR 20/29\n"
     ]
    },
    {
     "data": {
      "text/plain": [
       "2025-03-13T07:53:49.579"
      ]
     },
     "execution_count": 46,
     "metadata": {},
     "output_type": "execute_result"
    }
   ],
   "source": [
    "bit_errs_to_find = 10000\n",
    "target_BER = 1e-3\n",
    "# bit_errs_to_find = 1000\n",
    "# target_BER = 1e-2\n",
    "\n",
    "bit_err_cts_Scen1 = zeros(Int64,length(γs),length(θs),length(ϕs),length(SNRs));\n",
    "bit_tx_cts_Scen1 = zeros(Int64,length(γs),length(θs),length(ϕs),length(SNRs));\n",
    "BERs_Scen1 = zeros(length(γs),length(θs),length(ϕs),length(SNRs));\n",
    "\n",
    "bit_err_cts_Scen2 = zeros(Int64,length(γs),length(θs),length(ϕs),length(SNRs));\n",
    "bit_tx_cts_Scen2 = zeros(Int64,length(γs),length(θs),length(ϕs),length(SNRs));\n",
    "BERs_Scen2 = zeros(length(γs),length(θs),length(ϕs),length(SNRs));\n",
    "\n",
    "bit_err_cts_Scen4 = zeros(Int64,length(γs),length(θs),length(ϕs),length(SNRs));\n",
    "bit_tx_cts_Scen4 = zeros(Int64,length(γs),length(θs),length(ϕs),length(SNRs));\n",
    "BERs_Scen4 = zeros(length(γs),length(θs),length(ϕs),length(SNRs));\n",
    "\n",
    "bit_err_cts_Scen5 = zeros(Int64,length(γs),length(θs),length(ϕs),length(SNRs));\n",
    "bit_tx_cts_Scen5 = zeros(Int64,length(γs),length(θs),length(ϕs),length(SNRs));\n",
    "BERs_Scen5 = zeros(length(γs),length(θs),length(ϕs),length(SNRs));\n",
    "\n",
    "t_0 = now()\n",
    "# Scenario 1\n",
    "for i in 1:length(γs)\n",
    "    for j in 1:length(θs)\n",
    "        for t in 1:length(ϕs)\n",
    "            for point in 1:length(SNRs)\n",
    "                if i == 1 && j == 1 && t == 1\n",
    "                    println(\"Scenario 1: SNR $point/$(length(SNRs))\")\n",
    "                end\n",
    "                while bit_err_cts_Scen1[i,j,t,point] < bit_errs_to_find\n",
    "                    num_bit_errors, num_bits_trans = Scenario_1_sim(SNRs[point],γs[i],θs[j],ϕs[t],Chase_q,Chase_w)\n",
    "                    bit_err_cts_Scen1[i,j,t,point] += num_bit_errors\n",
    "                    bit_tx_cts_Scen1[i,j,t,point] += num_bits_trans\n",
    "                end\n",
    "                BERs_Scen1[i,j,t,point] = bit_err_cts_Scen1[i,j,t,point] / bit_tx_cts_Scen1[i,j,t,point]\n",
    "                if BERs_Scen1[i,j,t,point] < target_BER\n",
    "                    break\n",
    "                end\n",
    "            end\n",
    "        end\n",
    "    end\n",
    "end\n",
    "# End of scenario 1\n",
    "# Scenario 2\n",
    "for i in 1:length(γs)\n",
    "    for j in 1:length(θs)\n",
    "        for t in 1:length(ϕs)\n",
    "            for point in 1:length(SNRs)\n",
    "                if i == 1 && j == 1 && t == 1\n",
    "                    println(\"Scenario 2: SNR $point/$(length(SNRs))\")\n",
    "                end\n",
    "                while bit_err_cts_Scen2[i,j,t,point] < bit_errs_to_find\n",
    "                    num_bit_errors, num_bits_trans = Scenario_2_sim(SNRs[point],γs[i],θs[j],ϕs[t],Chase_q,Chase_w)\n",
    "                    bit_err_cts_Scen2[i,j,t,point] += num_bit_errors\n",
    "                    bit_tx_cts_Scen2[i,j,t,point] += num_bits_trans\n",
    "                end\n",
    "                BERs_Scen2[i,j,t,point] = bit_err_cts_Scen2[i,j,t,point] / bit_tx_cts_Scen2[i,j,t,point]\n",
    "                if BERs_Scen2[i,j,t,point] < target_BER\n",
    "                    break\n",
    "                end\n",
    "            end\n",
    "        end\n",
    "    end\n",
    "end\n",
    "# End of scenario 2\n",
    "# Scenario 4\n",
    "for i in 1:length(γs)\n",
    "    for j in 1:length(θs)\n",
    "        for t in 1:length(ϕs)\n",
    "            for point in 1:length(SNRs)\n",
    "                if i == 1 && j == 1 && t == 1\n",
    "                    println(\"Scenario 4: SNR $point/$(length(SNRs))\")\n",
    "                end\n",
    "                while bit_err_cts_Scen4[i,j,t,point] < bit_errs_to_find\n",
    "                    num_bit_errors, num_bits_trans = Scenario_4_sim(SNRs[point],γs[i],θs[j],ϕs[t],Chase_q,Chase_w,Scen4_D_BLAST_PARAM)\n",
    "                    bit_err_cts_Scen4[i,j,t,point] += num_bit_errors\n",
    "                    bit_tx_cts_Scen4[i,j,t,point] += num_bits_trans\n",
    "                end\n",
    "                BERs_Scen4[i,j,t,point] = bit_err_cts_Scen4[i,j,t,point] / bit_tx_cts_Scen4[i,j,t,point]\n",
    "                if BERs_Scen4[i,j,t,point] < target_BER\n",
    "                    break\n",
    "                end\n",
    "            end\n",
    "        end\n",
    "    end\n",
    "end\n",
    "# End of scenario 4\n",
    "# Scenario 5\n",
    "for i in 1:length(γs)\n",
    "    for j in 1:length(θs)\n",
    "        for t in 1:length(ϕs)\n",
    "            for point in 1:length(SNRs)\n",
    "                if i == 1 && j == 1 && t == 1\n",
    "                    println(\"Scenario 5: SNR $point/$(length(SNRs))\")\n",
    "                end\n",
    "                while bit_err_cts_Scen5[i,j,t,point] < bit_errs_to_find\n",
    "                    num_bit_errors, num_bits_trans = Scenario_5_sim(SNRs[point],γs[i],θs[j],ϕs[t],Chase_q,Chase_w)\n",
    "                    bit_err_cts_Scen5[i,j,t,point] += num_bit_errors\n",
    "                    bit_tx_cts_Scen5[i,j,t,point] += num_bits_trans\n",
    "                end\n",
    "                BERs_Scen5[i,j,t,point] = bit_err_cts_Scen5[i,j,t,point] / bit_tx_cts_Scen5[i,j,t,point]\n",
    "                if BERs_Scen5[i,j,t,point] < target_BER\n",
    "                    break\n",
    "                end\n",
    "            end\n",
    "        end\n",
    "    end\n",
    "end\n",
    "# End of scenario 5\n",
    "t_1 = now()"
   ]
  },
  {
   "cell_type": "code",
   "execution_count": 47,
   "id": "320880cb-c7f9-4a1f-8d68-57eee0ef0cba",
   "metadata": {
    "tags": []
   },
   "outputs": [
    {
     "name": "stdout",
     "output_type": "stream",
     "text": [
      "Simulation duration in different units:\n",
      "129304 seconds\n",
      "2155 minutes\n",
      "36 hours\n"
     ]
    }
   ],
   "source": [
    "println(\"Simulation duration in different units:\")\n",
    "println(round((t_1 - t_0), Dates.Second(1)))\n",
    "println(round((t_1 - t_0), Dates.Minute(1)))\n",
    "println(round((t_1 - t_0), Dates.Hour(1)))"
   ]
  },
  {
   "cell_type": "code",
   "execution_count": 48,
   "id": "d5b3d643-0751-45d1-b64d-0d0856381af3",
   "metadata": {
    "tags": []
   },
   "outputs": [],
   "source": [
    "BERs_Scen1_worst = maximum(maximum(maximum(BERs_Scen1,dims=1),dims=2),dims=3)[:];\n",
    "BERs_Scen2_worst = maximum(maximum(maximum(BERs_Scen2,dims=1),dims=2),dims=3)[:];\n",
    "BERs_Scen4_worst = maximum(maximum(maximum(BERs_Scen4,dims=1),dims=2),dims=3)[:];\n",
    "BERs_Scen5_worst = maximum(maximum(maximum(BERs_Scen5,dims=1),dims=2),dims=3)[:];\n",
    "\n",
    "Scen1_data = [SNR_dBs[findall(BERs_Scen1_worst .!= 0)] BERs_Scen1_worst[findall(BERs_Scen1_worst .!= 0)]];\n",
    "Scen2_data = [SNR_dBs[findall(BERs_Scen2_worst .!= 0)] BERs_Scen2_worst[findall(BERs_Scen2_worst .!= 0)]];\n",
    "Scen4_data = [SNR_dBs[findall(BERs_Scen4_worst .!= 0)] BERs_Scen4_worst[findall(BERs_Scen4_worst .!= 0)]]\n",
    "Scen5_data = [SNR_dBs[findall(BERs_Scen5_worst .!= 0)] BERs_Scen5_worst[findall(BERs_Scen5_worst .!= 0)]]\n",
    "\n",
    "writedlm(fileNamePrefix*\"Scen1_data.txt\", Scen1_data)\n",
    "writedlm(fileNamePrefix*\"Scen2_data.txt\", Scen2_data)\n",
    "writedlm(fileNamePrefix*\"Scen4_data.txt\", Scen4_data)\n",
    "writedlm(fileNamePrefix*\"Scen5_data.txt\", Scen5_data)"
   ]
  },
  {
   "cell_type": "code",
   "execution_count": 49,
   "id": "48fab9c6-f2a6-41f1-96af-5826c613ca0e",
   "metadata": {},
   "outputs": [],
   "source": [
    "# Scen1_data = readdlm(\"Scen1_data.txt\")\n",
    "# Scen2_data = readdlm(\"Scen2_data.txt\")\n",
    "# Scen4_data = readdlm(\"Scen4_data.txt\")\n",
    "# Scen5_data = readdlm(\"Scen5_data.txt\");"
   ]
  },
  {
   "cell_type": "code",
   "execution_count": 50,
   "id": "792fda8c-9784-4617-a5d3-ca33e059cb81",
   "metadata": {
    "tags": []
   },
   "outputs": [
    {
     "data": {
      "image/png": "[encoded data removed]",
      "image/svg+xml": [
       "<?xml version=\"1.0\" encoding=\"utf-8\"?>\n",
       "<svg xmlns=\"http://www.w3.org/2000/svg\" xmlns:xlink=\"http://www.w3.org/1999/xlink\" width=\"600\" height=\"400\" viewBox=\"0 0 2400 1600\">\n",
       "<defs>\n",
       "  <clipPath id=\"clip280\">\n",
       "    <rect x=\"0\" y=\"0\" width=\"2400\" height=\"1600\"/>\n",
       "  </clipPath>\n",
       "</defs>\n",
       "<path clip-path=\"url(#clip280)\" d=\"M0 1600 L2400 1600 L2400 0 L0 0  Z\" fill=\"#ffffff\" fill-rule=\"evenodd\" fill-opacity=\"1\"/>\n",
       "<defs>\n",
       "  <clipPath id=\"clip281\">\n",
       "    <rect x=\"480\" y=\"0\" width=\"1681\" height=\"1600\"/>\n",
       "  </clipPath>\n",
       "</defs>\n",
       "<path clip-path=\"url(#clip280)\" d=\"M251.842 1423.18 L2352.76 1423.18 L2352.76 47.2441 L251.842 47.2441  Z\" fill=\"#ffffff\" fill-rule=\"evenodd\" fill-opacity=\"1\"/>\n",
       "<defs>\n",
       "  <clipPath id=\"clip282\">\n",
       "    <rect x=\"251\" y=\"47\" width=\"2102\" height=\"1377\"/>\n",
       "  </clipPath>\n",
       "</defs>\n",
       "<polyline clip-path=\"url(#clip282)\" style=\"stroke:#000000; stroke-linecap:round; stroke-linejoin:round; stroke-width:2; stroke-opacity:0.1; fill:none\" points=\"311.302,1423.18 311.302,47.2441 \"/>\n",
       "<polyline clip-path=\"url(#clip282)\" style=\"stroke:#000000; stroke-linecap:round; stroke-linejoin:round; stroke-width:2; stroke-opacity:0.1; fill:none\" points=\"463.763,1423.18 463.763,47.2441 \"/>\n",
       "<polyline clip-path=\"url(#clip282)\" style=\"stroke:#000000; stroke-linecap:round; stroke-linejoin:round; stroke-width:2; stroke-opacity:0.1; fill:none\" points=\"616.224,1423.18 616.224,47.2441 \"/>\n",
       "<polyline clip-path=\"url(#clip282)\" style=\"stroke:#000000; stroke-linecap:round; stroke-linejoin:round; stroke-width:2; stroke-opacity:0.1; fill:none\" points=\"768.685,1423.18 768.685,47.2441 \"/>\n",
       "<polyline clip-path=\"url(#clip282)\" style=\"stroke:#000000; stroke-linecap:round; stroke-linejoin:round; stroke-width:2; stroke-opacity:0.1; fill:none\" points=\"921.146,1423.18 921.146,47.2441 \"/>\n",
       "<polyline clip-path=\"url(#clip282)\" style=\"stroke:#000000; stroke-linecap:round; stroke-linejoin:round; stroke-width:2; stroke-opacity:0.1; fill:none\" points=\"1073.61,1423.18 1073.61,47.2441 \"/>\n",
       "<polyline clip-path=\"url(#clip282)\" style=\"stroke:#000000; stroke-linecap:round; stroke-linejoin:round; stroke-width:2; stroke-opacity:0.1; fill:none\" points=\"1226.07,1423.18 1226.07,47.2441 \"/>\n",
       "<polyline clip-path=\"url(#clip282)\" style=\"stroke:#000000; stroke-linecap:round; stroke-linejoin:round; stroke-width:2; stroke-opacity:0.1; fill:none\" points=\"1378.53,1423.18 1378.53,47.2441 \"/>\n",
       "<polyline clip-path=\"url(#clip282)\" style=\"stroke:#000000; stroke-linecap:round; stroke-linejoin:round; stroke-width:2; stroke-opacity:0.1; fill:none\" points=\"1530.99,1423.18 1530.99,47.2441 \"/>\n",
       "<polyline clip-path=\"url(#clip282)\" style=\"stroke:#000000; stroke-linecap:round; stroke-linejoin:round; stroke-width:2; stroke-opacity:0.1; fill:none\" points=\"1683.45,1423.18 1683.45,47.2441 \"/>\n",
       "<polyline clip-path=\"url(#clip282)\" style=\"stroke:#000000; stroke-linecap:round; stroke-linejoin:round; stroke-width:2; stroke-opacity:0.1; fill:none\" points=\"1835.91,1423.18 1835.91,47.2441 \"/>\n",
       "<polyline clip-path=\"url(#clip282)\" style=\"stroke:#000000; stroke-linecap:round; stroke-linejoin:round; stroke-width:2; stroke-opacity:0.1; fill:none\" points=\"1988.37,1423.18 1988.37,47.2441 \"/>\n",
       "<polyline clip-path=\"url(#clip282)\" style=\"stroke:#000000; stroke-linecap:round; stroke-linejoin:round; stroke-width:2; stroke-opacity:0.1; fill:none\" points=\"2140.84,1423.18 2140.84,47.2441 \"/>\n",
       "<polyline clip-path=\"url(#clip282)\" style=\"stroke:#000000; stroke-linecap:round; stroke-linejoin:round; stroke-width:2; stroke-opacity:0.1; fill:none\" points=\"2293.3,1423.18 2293.3,47.2441 \"/>\n",
       "<polyline clip-path=\"url(#clip282)\" style=\"stroke:#000000; stroke-linecap:round; stroke-linejoin:round; stroke-width:2; stroke-opacity:0.1; fill:none\" points=\"251.842,47.2441 2352.76,47.2441 \"/>\n",
       "<polyline clip-path=\"url(#clip282)\" style=\"stroke:#000000; stroke-linecap:round; stroke-linejoin:round; stroke-width:2; stroke-opacity:0.1; fill:none\" points=\"251.842,645.209 2352.76,645.209 \"/>\n",
       "<polyline clip-path=\"url(#clip282)\" style=\"stroke:#000000; stroke-linecap:round; stroke-linejoin:round; stroke-width:2; stroke-opacity:0.1; fill:none\" points=\"251.842,1243.17 2352.76,1243.17 \"/>\n",
       "<polyline clip-path=\"url(#clip280)\" style=\"stroke:#000000; stroke-linecap:round; stroke-linejoin:round; stroke-width:4; stroke-opacity:1; fill:none\" points=\"251.842,1423.18 2352.76,1423.18 \"/>\n",
       "<polyline clip-path=\"url(#clip280)\" style=\"stroke:#000000; stroke-linecap:round; stroke-linejoin:round; stroke-width:4; stroke-opacity:1; fill:none\" points=\"311.302,1423.18 311.302,1404.28 \"/>\n",
       "<polyline clip-path=\"url(#clip280)\" style=\"stroke:#000000; stroke-linecap:round; stroke-linejoin:round; stroke-width:4; stroke-opacity:1; fill:none\" points=\"463.763,1423.18 463.763,1404.28 \"/>\n",
       "<polyline clip-path=\"url(#clip280)\" style=\"stroke:#000000; stroke-linecap:round; stroke-linejoin:round; stroke-width:4; stroke-opacity:1; fill:none\" points=\"616.224,1423.18 616.224,1404.28 \"/>\n",
       "<polyline clip-path=\"url(#clip280)\" style=\"stroke:#000000; stroke-linecap:round; stroke-linejoin:round; stroke-width:4; stroke-opacity:1; fill:none\" points=\"768.685,1423.18 768.685,1404.28 \"/>\n",
       "<polyline clip-path=\"url(#clip280)\" style=\"stroke:#000000; stroke-linecap:round; stroke-linejoin:round; stroke-width:4; stroke-opacity:1; fill:none\" points=\"921.146,1423.18 921.146,1404.28 \"/>\n",
       "<polyline clip-path=\"url(#clip280)\" style=\"stroke:#000000; stroke-linecap:round; stroke-linejoin:round; stroke-width:4; stroke-opacity:1; fill:none\" points=\"1073.61,1423.18 1073.61,1404.28 \"/>\n",
       "<polyline clip-path=\"url(#clip280)\" style=\"stroke:#000000; stroke-linecap:round; stroke-linejoin:round; stroke-width:4; stroke-opacity:1; fill:none\" points=\"1226.07,1423.18 1226.07,1404.28 \"/>\n",
       "<polyline clip-path=\"url(#clip280)\" style=\"stroke:#000000; stroke-linecap:round; stroke-linejoin:round; stroke-width:4; stroke-opacity:1; fill:none\" points=\"1378.53,1423.18 1378.53,1404.28 \"/>\n",
       "<polyline clip-path=\"url(#clip280)\" style=\"stroke:#000000; stroke-linecap:round; stroke-linejoin:round; stroke-width:4; stroke-opacity:1; fill:none\" points=\"1530.99,1423.18 1530.99,1404.28 \"/>\n",
       "<polyline clip-path=\"url(#clip280)\" style=\"stroke:#000000; stroke-linecap:round; stroke-linejoin:round; stroke-width:4; stroke-opacity:1; fill:none\" points=\"1683.45,1423.18 1683.45,1404.28 \"/>\n",
       "<polyline clip-path=\"url(#clip280)\" style=\"stroke:#000000; stroke-linecap:round; stroke-linejoin:round; stroke-width:4; stroke-opacity:1; fill:none\" points=\"1835.91,1423.18 1835.91,1404.28 \"/>\n",
       "<polyline clip-path=\"url(#clip280)\" style=\"stroke:#000000; stroke-linecap:round; stroke-linejoin:round; stroke-width:4; stroke-opacity:1; fill:none\" points=\"1988.37,1423.18 1988.37,1404.28 \"/>\n",
       "<polyline clip-path=\"url(#clip280)\" style=\"stroke:#000000; stroke-linecap:round; stroke-linejoin:round; stroke-width:4; stroke-opacity:1; fill:none\" points=\"2140.84,1423.18 2140.84,1404.28 \"/>\n",
       "<polyline clip-path=\"url(#clip280)\" style=\"stroke:#000000; stroke-linecap:round; stroke-linejoin:round; stroke-width:4; stroke-opacity:1; fill:none\" points=\"2293.3,1423.18 2293.3,1404.28 \"/>\n",
       "<path clip-path=\"url(#clip280)\" d=\"M263.374 1481.64 L271.013 1481.64 L271.013 1455.28 L262.703 1456.95 L262.703 1452.69 L270.967 1451.02 L275.643 1451.02 L275.643 1481.64 L283.282 1481.64 L283.282 1485.58 L263.374 1485.58 L263.374 1481.64 Z\" fill=\"#000000\" fill-rule=\"nonzero\" fill-opacity=\"1\" /><path clip-path=\"url(#clip280)\" d=\"M293.536 1481.64 L301.175 1481.64 L301.175 1455.28 L292.865 1456.95 L292.865 1452.69 L301.129 1451.02 L305.805 1451.02 L305.805 1481.64 L313.443 1481.64 L313.443 1485.58 L293.536 1485.58 L293.536 1481.64 Z\" fill=\"#000000\" fill-rule=\"nonzero\" fill-opacity=\"1\" /><path clip-path=\"url(#clip280)\" d=\"M322.888 1479.7 L327.772 1479.7 L327.772 1485.58 L322.888 1485.58 L322.888 1479.7 Z\" fill=\"#000000\" fill-rule=\"nonzero\" fill-opacity=\"1\" /><path clip-path=\"url(#clip280)\" d=\"M347.957 1454.1 Q344.346 1454.1 342.517 1457.66 Q340.712 1461.2 340.712 1468.33 Q340.712 1475.44 342.517 1479.01 Q344.346 1482.55 347.957 1482.55 Q351.591 1482.55 353.397 1479.01 Q355.226 1475.44 355.226 1468.33 Q355.226 1461.2 353.397 1457.66 Q351.591 1454.1 347.957 1454.1 M347.957 1450.39 Q353.767 1450.39 356.823 1455 Q359.901 1459.58 359.901 1468.33 Q359.901 1477.06 356.823 1481.67 Q353.767 1486.25 347.957 1486.25 Q342.147 1486.25 339.068 1481.67 Q336.013 1477.06 336.013 1468.33 Q336.013 1459.58 339.068 1455 Q342.147 1450.39 347.957 1450.39 Z\" fill=\"#000000\" fill-rule=\"nonzero\" fill-opacity=\"1\" /><path clip-path=\"url(#clip280)\" d=\"M416.333 1481.64 L423.972 1481.64 L423.972 1455.28 L415.662 1456.95 L415.662 1452.69 L423.926 1451.02 L428.601 1451.02 L428.601 1481.64 L436.24 1481.64 L436.24 1485.58 L416.333 1485.58 L416.333 1481.64 Z\" fill=\"#000000\" fill-rule=\"nonzero\" fill-opacity=\"1\" /><path clip-path=\"url(#clip280)\" d=\"M446.495 1481.64 L454.134 1481.64 L454.134 1455.28 L445.824 1456.95 L445.824 1452.69 L454.087 1451.02 L458.763 1451.02 L458.763 1481.64 L466.402 1481.64 L466.402 1485.58 L446.495 1485.58 L446.495 1481.64 Z\" fill=\"#000000\" fill-rule=\"nonzero\" fill-opacity=\"1\" /><path clip-path=\"url(#clip280)\" d=\"M475.847 1479.7 L480.731 1479.7 L480.731 1485.58 L475.847 1485.58 L475.847 1479.7 Z\" fill=\"#000000\" fill-rule=\"nonzero\" fill-opacity=\"1\" /><path clip-path=\"url(#clip280)\" d=\"M490.962 1451.02 L509.319 1451.02 L509.319 1454.96 L495.245 1454.96 L495.245 1463.43 Q496.263 1463.08 497.282 1462.92 Q498.3 1462.73 499.319 1462.73 Q505.106 1462.73 508.485 1465.9 Q511.865 1469.08 511.865 1474.49 Q511.865 1480.07 508.393 1483.17 Q504.92 1486.25 498.601 1486.25 Q496.425 1486.25 494.157 1485.88 Q491.911 1485.51 489.504 1484.77 L489.504 1480.07 Q491.587 1481.2 493.809 1481.76 Q496.032 1482.32 498.508 1482.32 Q502.513 1482.32 504.851 1480.21 Q507.189 1478.1 507.189 1474.49 Q507.189 1470.88 504.851 1468.77 Q502.513 1466.67 498.508 1466.67 Q496.633 1466.67 494.758 1467.08 Q492.907 1467.5 490.962 1468.38 L490.962 1451.02 Z\" fill=\"#000000\" fill-rule=\"nonzero\" fill-opacity=\"1\" /><path clip-path=\"url(#clip280)\" d=\"M568.296 1481.64 L575.935 1481.64 L575.935 1455.28 L567.625 1456.95 L567.625 1452.69 L575.889 1451.02 L580.565 1451.02 L580.565 1481.64 L588.204 1481.64 L588.204 1485.58 L568.296 1485.58 L568.296 1481.64 Z\" fill=\"#000000\" fill-rule=\"nonzero\" fill-opacity=\"1\" /><path clip-path=\"url(#clip280)\" d=\"M601.676 1481.64 L617.995 1481.64 L617.995 1485.58 L596.051 1485.58 L596.051 1481.64 Q598.713 1478.89 603.296 1474.26 Q607.903 1469.61 609.083 1468.27 Q611.329 1465.74 612.208 1464.01 Q613.111 1462.25 613.111 1460.56 Q613.111 1457.8 611.166 1456.07 Q609.245 1454.33 606.143 1454.33 Q603.944 1454.33 601.491 1455.09 Q599.06 1455.86 596.282 1457.41 L596.282 1452.69 Q599.106 1451.55 601.56 1450.97 Q604.014 1450.39 606.051 1450.39 Q611.421 1450.39 614.616 1453.08 Q617.81 1455.77 617.81 1460.26 Q617.81 1462.39 617 1464.31 Q616.213 1466.2 614.106 1468.8 Q613.528 1469.47 610.426 1472.69 Q607.324 1475.88 601.676 1481.64 Z\" fill=\"#000000\" fill-rule=\"nonzero\" fill-opacity=\"1\" /><path clip-path=\"url(#clip280)\" d=\"M627.81 1479.7 L632.694 1479.7 L632.694 1485.58 L627.81 1485.58 L627.81 1479.7 Z\" fill=\"#000000\" fill-rule=\"nonzero\" fill-opacity=\"1\" /><path clip-path=\"url(#clip280)\" d=\"M652.879 1454.1 Q649.268 1454.1 647.439 1457.66 Q645.634 1461.2 645.634 1468.33 Q645.634 1475.44 647.439 1479.01 Q649.268 1482.55 652.879 1482.55 Q656.513 1482.55 658.319 1479.01 Q660.148 1475.44 660.148 1468.33 Q660.148 1461.2 658.319 1457.66 Q656.513 1454.1 652.879 1454.1 M652.879 1450.39 Q658.689 1450.39 661.745 1455 Q664.824 1459.58 664.824 1468.33 Q664.824 1477.06 661.745 1481.67 Q658.689 1486.25 652.879 1486.25 Q647.069 1486.25 643.99 1481.67 Q640.935 1477.06 640.935 1468.33 Q640.935 1459.58 643.99 1455 Q647.069 1450.39 652.879 1450.39 Z\" fill=\"#000000\" fill-rule=\"nonzero\" fill-opacity=\"1\" /><path clip-path=\"url(#clip280)\" d=\"M721.255 1481.64 L728.894 1481.64 L728.894 1455.28 L720.584 1456.95 L720.584 1452.69 L728.848 1451.02 L733.524 1451.02 L733.524 1481.64 L741.162 1481.64 L741.162 1485.58 L721.255 1485.58 L721.255 1481.64 Z\" fill=\"#000000\" fill-rule=\"nonzero\" fill-opacity=\"1\" /><path clip-path=\"url(#clip280)\" d=\"M754.635 1481.64 L770.954 1481.64 L770.954 1485.58 L749.01 1485.58 L749.01 1481.64 Q751.672 1478.89 756.255 1474.26 Q760.861 1469.61 762.042 1468.27 Q764.287 1465.74 765.167 1464.01 Q766.07 1462.25 766.07 1460.56 Q766.07 1457.8 764.125 1456.07 Q762.204 1454.33 759.102 1454.33 Q756.903 1454.33 754.449 1455.09 Q752.019 1455.86 749.241 1457.41 L749.241 1452.69 Q752.065 1451.55 754.519 1450.97 Q756.972 1450.39 759.01 1450.39 Q764.38 1450.39 767.574 1453.08 Q770.769 1455.77 770.769 1460.26 Q770.769 1462.39 769.959 1464.31 Q769.172 1466.2 767.065 1468.8 Q766.486 1469.47 763.384 1472.69 Q760.283 1475.88 754.635 1481.64 Z\" fill=\"#000000\" fill-rule=\"nonzero\" fill-opacity=\"1\" /><path clip-path=\"url(#clip280)\" d=\"M780.769 1479.7 L785.653 1479.7 L785.653 1485.58 L780.769 1485.58 L780.769 1479.7 Z\" fill=\"#000000\" fill-rule=\"nonzero\" fill-opacity=\"1\" /><path clip-path=\"url(#clip280)\" d=\"M795.884 1451.02 L814.241 1451.02 L814.241 1454.96 L800.167 1454.96 L800.167 1463.43 Q801.185 1463.08 802.204 1462.92 Q803.222 1462.73 804.241 1462.73 Q810.028 1462.73 813.407 1465.9 Q816.787 1469.08 816.787 1474.49 Q816.787 1480.07 813.315 1483.17 Q809.843 1486.25 803.523 1486.25 Q801.347 1486.25 799.079 1485.88 Q796.833 1485.51 794.426 1484.77 L794.426 1480.07 Q796.509 1481.2 798.732 1481.76 Q800.954 1482.32 803.431 1482.32 Q807.435 1482.32 809.773 1480.21 Q812.111 1478.1 812.111 1474.49 Q812.111 1470.88 809.773 1468.77 Q807.435 1466.67 803.431 1466.67 Q801.556 1466.67 799.681 1467.08 Q797.829 1467.5 795.884 1468.38 L795.884 1451.02 Z\" fill=\"#000000\" fill-rule=\"nonzero\" fill-opacity=\"1\" /><path clip-path=\"url(#clip280)\" d=\"M873.218 1481.64 L880.857 1481.64 L880.857 1455.28 L872.547 1456.95 L872.547 1452.69 L880.811 1451.02 L885.487 1451.02 L885.487 1481.64 L893.126 1481.64 L893.126 1485.58 L873.218 1485.58 L873.218 1481.64 Z\" fill=\"#000000\" fill-rule=\"nonzero\" fill-opacity=\"1\" /><path clip-path=\"url(#clip280)\" d=\"M916.737 1466.95 Q920.093 1467.66 921.968 1469.93 Q923.866 1472.2 923.866 1475.53 Q923.866 1480.65 920.348 1483.45 Q916.829 1486.25 910.348 1486.25 Q908.172 1486.25 905.857 1485.81 Q903.566 1485.39 901.112 1484.54 L901.112 1480.02 Q903.056 1481.16 905.371 1481.74 Q907.686 1482.32 910.209 1482.32 Q914.607 1482.32 916.899 1480.58 Q919.214 1478.84 919.214 1475.53 Q919.214 1472.48 917.061 1470.77 Q914.931 1469.03 911.112 1469.03 L907.084 1469.03 L907.084 1465.19 L911.297 1465.19 Q914.746 1465.19 916.575 1463.82 Q918.403 1462.43 918.403 1459.84 Q918.403 1457.18 916.505 1455.77 Q914.63 1454.33 911.112 1454.33 Q909.191 1454.33 906.991 1454.75 Q904.792 1455.16 902.154 1456.04 L902.154 1451.88 Q904.816 1451.14 907.13 1450.77 Q909.468 1450.39 911.528 1450.39 Q916.853 1450.39 919.954 1452.83 Q923.056 1455.23 923.056 1459.35 Q923.056 1462.22 921.413 1464.21 Q919.769 1466.18 916.737 1466.95 Z\" fill=\"#000000\" fill-rule=\"nonzero\" fill-opacity=\"1\" /><path clip-path=\"url(#clip280)\" d=\"M932.732 1479.7 L937.616 1479.7 L937.616 1485.58 L932.732 1485.58 L932.732 1479.7 Z\" fill=\"#000000\" fill-rule=\"nonzero\" fill-opacity=\"1\" /><path clip-path=\"url(#clip280)\" d=\"M957.801 1454.1 Q954.19 1454.1 952.362 1457.66 Q950.556 1461.2 950.556 1468.33 Q950.556 1475.44 952.362 1479.01 Q954.19 1482.55 957.801 1482.55 Q961.436 1482.55 963.241 1479.01 Q965.07 1475.44 965.07 1468.33 Q965.07 1461.2 963.241 1457.66 Q961.436 1454.1 957.801 1454.1 M957.801 1450.39 Q963.612 1450.39 966.667 1455 Q969.746 1459.58 969.746 1468.33 Q969.746 1477.06 966.667 1481.67 Q963.612 1486.25 957.801 1486.25 Q951.991 1486.25 948.913 1481.67 Q945.857 1477.06 945.857 1468.33 Q945.857 1459.58 948.913 1455 Q951.991 1450.39 957.801 1450.39 Z\" fill=\"#000000\" fill-rule=\"nonzero\" fill-opacity=\"1\" /><path clip-path=\"url(#clip280)\" d=\"M1026.18 1481.64 L1033.82 1481.64 L1033.82 1455.28 L1025.51 1456.95 L1025.51 1452.69 L1033.77 1451.02 L1038.45 1451.02 L1038.45 1481.64 L1046.08 1481.64 L1046.08 1485.58 L1026.18 1485.58 L1026.18 1481.64 Z\" fill=\"#000000\" fill-rule=\"nonzero\" fill-opacity=\"1\" /><path clip-path=\"url(#clip280)\" d=\"M1069.7 1466.95 Q1073.05 1467.66 1074.93 1469.93 Q1076.83 1472.2 1076.83 1475.53 Q1076.83 1480.65 1073.31 1483.45 Q1069.79 1486.25 1063.31 1486.25 Q1061.13 1486.25 1058.82 1485.81 Q1056.52 1485.39 1054.07 1484.54 L1054.07 1480.02 Q1056.02 1481.16 1058.33 1481.74 Q1060.64 1482.32 1063.17 1482.32 Q1067.57 1482.32 1069.86 1480.58 Q1072.17 1478.84 1072.17 1475.53 Q1072.17 1472.48 1070.02 1470.77 Q1067.89 1469.03 1064.07 1469.03 L1060.04 1469.03 L1060.04 1465.19 L1064.26 1465.19 Q1067.7 1465.19 1069.53 1463.82 Q1071.36 1462.43 1071.36 1459.84 Q1071.36 1457.18 1069.46 1455.77 Q1067.59 1454.33 1064.07 1454.33 Q1062.15 1454.33 1059.95 1454.75 Q1057.75 1455.16 1055.11 1456.04 L1055.11 1451.88 Q1057.77 1451.14 1060.09 1450.77 Q1062.43 1450.39 1064.49 1450.39 Q1069.81 1450.39 1072.91 1452.83 Q1076.01 1455.23 1076.01 1459.35 Q1076.01 1462.22 1074.37 1464.21 Q1072.73 1466.18 1069.7 1466.95 Z\" fill=\"#000000\" fill-rule=\"nonzero\" fill-opacity=\"1\" /><path clip-path=\"url(#clip280)\" d=\"M1085.69 1479.7 L1090.58 1479.7 L1090.58 1485.58 L1085.69 1485.58 L1085.69 1479.7 Z\" fill=\"#000000\" fill-rule=\"nonzero\" fill-opacity=\"1\" /><path clip-path=\"url(#clip280)\" d=\"M1100.81 1451.02 L1119.16 1451.02 L1119.16 1454.96 L1105.09 1454.96 L1105.09 1463.43 Q1106.11 1463.08 1107.13 1462.92 Q1108.14 1462.73 1109.16 1462.73 Q1114.95 1462.73 1118.33 1465.9 Q1121.71 1469.08 1121.71 1474.49 Q1121.71 1480.07 1118.24 1483.17 Q1114.76 1486.25 1108.45 1486.25 Q1106.27 1486.25 1104 1485.88 Q1101.76 1485.51 1099.35 1484.77 L1099.35 1480.07 Q1101.43 1481.2 1103.65 1481.76 Q1105.88 1482.32 1108.35 1482.32 Q1112.36 1482.32 1114.7 1480.21 Q1117.03 1478.1 1117.03 1474.49 Q1117.03 1470.88 1114.7 1468.77 Q1112.36 1466.67 1108.35 1466.67 Q1106.48 1466.67 1104.6 1467.08 Q1102.75 1467.5 1100.81 1468.38 L1100.81 1451.02 Z\" fill=\"#000000\" fill-rule=\"nonzero\" fill-opacity=\"1\" /><path clip-path=\"url(#clip280)\" d=\"M1178.14 1481.64 L1185.78 1481.64 L1185.78 1455.28 L1177.47 1456.95 L1177.47 1452.69 L1185.73 1451.02 L1190.41 1451.02 L1190.41 1481.64 L1198.05 1481.64 L1198.05 1485.58 L1178.14 1485.58 L1178.14 1481.64 Z\" fill=\"#000000\" fill-rule=\"nonzero\" fill-opacity=\"1\" /><path clip-path=\"url(#clip280)\" d=\"M1220.34 1455.09 L1208.53 1473.54 L1220.34 1473.54 L1220.34 1455.09 M1219.11 1451.02 L1224.99 1451.02 L1224.99 1473.54 L1229.92 1473.54 L1229.92 1477.43 L1224.99 1477.43 L1224.99 1485.58 L1220.34 1485.58 L1220.34 1477.43 L1204.74 1477.43 L1204.74 1472.92 L1219.11 1451.02 Z\" fill=\"#000000\" fill-rule=\"nonzero\" fill-opacity=\"1\" /><path clip-path=\"url(#clip280)\" d=\"M1237.65 1479.7 L1242.54 1479.7 L1242.54 1485.58 L1237.65 1485.58 L1237.65 1479.7 Z\" fill=\"#000000\" fill-rule=\"nonzero\" fill-opacity=\"1\" /><path clip-path=\"url(#clip280)\" d=\"M1262.72 1454.1 Q1259.11 1454.1 1257.28 1457.66 Q1255.48 1461.2 1255.48 1468.33 Q1255.48 1475.44 1257.28 1479.01 Q1259.11 1482.55 1262.72 1482.55 Q1266.36 1482.55 1268.16 1479.01 Q1269.99 1475.44 1269.99 1468.33 Q1269.99 1461.2 1268.16 1457.66 Q1266.36 1454.1 1262.72 1454.1 M1262.72 1450.39 Q1268.53 1450.39 1271.59 1455 Q1274.67 1459.58 1274.67 1468.33 Q1274.67 1477.06 1271.59 1481.67 Q1268.53 1486.25 1262.72 1486.25 Q1256.91 1486.25 1253.83 1481.67 Q1250.78 1477.06 1250.78 1468.33 Q1250.78 1459.58 1253.83 1455 Q1256.91 1450.39 1262.72 1450.39 Z\" fill=\"#000000\" fill-rule=\"nonzero\" fill-opacity=\"1\" /><path clip-path=\"url(#clip280)\" d=\"M1331.1 1481.64 L1338.74 1481.64 L1338.74 1455.28 L1330.43 1456.95 L1330.43 1452.69 L1338.69 1451.02 L1343.37 1451.02 L1343.37 1481.64 L1351.01 1481.64 L1351.01 1485.58 L1331.1 1485.58 L1331.1 1481.64 Z\" fill=\"#000000\" fill-rule=\"nonzero\" fill-opacity=\"1\" /><path clip-path=\"url(#clip280)\" d=\"M1373.3 1455.09 L1361.49 1473.54 L1373.3 1473.54 L1373.3 1455.09 M1372.07 1451.02 L1377.95 1451.02 L1377.95 1473.54 L1382.88 1473.54 L1382.88 1477.43 L1377.95 1477.43 L1377.95 1485.58 L1373.3 1485.58 L1373.3 1477.43 L1357.7 1477.43 L1357.7 1472.92 L1372.07 1451.02 Z\" fill=\"#000000\" fill-rule=\"nonzero\" fill-opacity=\"1\" /><path clip-path=\"url(#clip280)\" d=\"M1390.61 1479.7 L1395.5 1479.7 L1395.5 1485.58 L1390.61 1485.58 L1390.61 1479.7 Z\" fill=\"#000000\" fill-rule=\"nonzero\" fill-opacity=\"1\" /><path clip-path=\"url(#clip280)\" d=\"M1405.73 1451.02 L1424.08 1451.02 L1424.08 1454.96 L1410.01 1454.96 L1410.01 1463.43 Q1411.03 1463.08 1412.05 1462.92 Q1413.07 1462.73 1414.09 1462.73 Q1419.87 1462.73 1423.25 1465.9 Q1426.63 1469.08 1426.63 1474.49 Q1426.63 1480.07 1423.16 1483.17 Q1419.69 1486.25 1413.37 1486.25 Q1411.19 1486.25 1408.92 1485.88 Q1406.68 1485.51 1404.27 1484.77 L1404.27 1480.07 Q1406.35 1481.2 1408.58 1481.76 Q1410.8 1482.32 1413.27 1482.32 Q1417.28 1482.32 1419.62 1480.21 Q1421.96 1478.1 1421.96 1474.49 Q1421.96 1470.88 1419.62 1468.77 Q1417.28 1466.67 1413.27 1466.67 Q1411.4 1466.67 1409.52 1467.08 Q1407.67 1467.5 1405.73 1468.38 L1405.73 1451.02 Z\" fill=\"#000000\" fill-rule=\"nonzero\" fill-opacity=\"1\" /><path clip-path=\"url(#clip280)\" d=\"M1483.06 1481.64 L1490.7 1481.64 L1490.7 1455.28 L1482.39 1456.95 L1482.39 1452.69 L1490.66 1451.02 L1495.33 1451.02 L1495.33 1481.64 L1502.97 1481.64 L1502.97 1485.58 L1483.06 1485.58 L1483.06 1481.64 Z\" fill=\"#000000\" fill-rule=\"nonzero\" fill-opacity=\"1\" /><path clip-path=\"url(#clip280)\" d=\"M1512.46 1451.02 L1530.82 1451.02 L1530.82 1454.96 L1516.74 1454.96 L1516.74 1463.43 Q1517.76 1463.08 1518.78 1462.92 Q1519.8 1462.73 1520.82 1462.73 Q1526.6 1462.73 1529.98 1465.9 Q1533.36 1469.08 1533.36 1474.49 Q1533.36 1480.07 1529.89 1483.17 Q1526.42 1486.25 1520.1 1486.25 Q1517.92 1486.25 1515.66 1485.88 Q1513.41 1485.51 1511 1484.77 L1511 1480.07 Q1513.09 1481.2 1515.31 1481.76 Q1517.53 1482.32 1520.01 1482.32 Q1524.01 1482.32 1526.35 1480.21 Q1528.69 1478.1 1528.69 1474.49 Q1528.69 1470.88 1526.35 1468.77 Q1524.01 1466.67 1520.01 1466.67 Q1518.13 1466.67 1516.26 1467.08 Q1514.41 1467.5 1512.46 1468.38 L1512.46 1451.02 Z\" fill=\"#000000\" fill-rule=\"nonzero\" fill-opacity=\"1\" /><path clip-path=\"url(#clip280)\" d=\"M1542.58 1479.7 L1547.46 1479.7 L1547.46 1485.58 L1542.58 1485.58 L1542.58 1479.7 Z\" fill=\"#000000\" fill-rule=\"nonzero\" fill-opacity=\"1\" /><path clip-path=\"url(#clip280)\" d=\"M1567.65 1454.1 Q1564.03 1454.1 1562.21 1457.66 Q1560.4 1461.2 1560.4 1468.33 Q1560.4 1475.44 1562.21 1479.01 Q1564.03 1482.55 1567.65 1482.55 Q1571.28 1482.55 1573.09 1479.01 Q1574.91 1475.44 1574.91 1468.33 Q1574.91 1461.2 1573.09 1457.66 Q1571.28 1454.1 1567.65 1454.1 M1567.65 1450.39 Q1573.46 1450.39 1576.51 1455 Q1579.59 1459.58 1579.59 1468.33 Q1579.59 1477.06 1576.51 1481.67 Q1573.46 1486.25 1567.65 1486.25 Q1561.84 1486.25 1558.76 1481.67 Q1555.7 1477.06 1555.7 1468.33 Q1555.7 1459.58 1558.76 1455 Q1561.84 1450.39 1567.65 1450.39 Z\" fill=\"#000000\" fill-rule=\"nonzero\" fill-opacity=\"1\" /><path clip-path=\"url(#clip280)\" d=\"M1636.02 1481.64 L1643.66 1481.64 L1643.66 1455.28 L1635.35 1456.95 L1635.35 1452.69 L1643.61 1451.02 L1648.29 1451.02 L1648.29 1481.64 L1655.93 1481.64 L1655.93 1485.58 L1636.02 1485.58 L1636.02 1481.64 Z\" fill=\"#000000\" fill-rule=\"nonzero\" fill-opacity=\"1\" /><path clip-path=\"url(#clip280)\" d=\"M1665.42 1451.02 L1683.78 1451.02 L1683.78 1454.96 L1669.7 1454.96 L1669.7 1463.43 Q1670.72 1463.08 1671.74 1462.92 Q1672.76 1462.73 1673.78 1462.73 Q1679.56 1462.73 1682.94 1465.9 Q1686.32 1469.08 1686.32 1474.49 Q1686.32 1480.07 1682.85 1483.17 Q1679.38 1486.25 1673.06 1486.25 Q1670.88 1486.25 1668.61 1485.88 Q1666.37 1485.51 1663.96 1484.77 L1663.96 1480.07 Q1666.04 1481.2 1668.27 1481.76 Q1670.49 1482.32 1672.97 1482.32 Q1676.97 1482.32 1679.31 1480.21 Q1681.65 1478.1 1681.65 1474.49 Q1681.65 1470.88 1679.31 1468.77 Q1676.97 1466.67 1672.97 1466.67 Q1671.09 1466.67 1669.22 1467.08 Q1667.36 1467.5 1665.42 1468.38 L1665.42 1451.02 Z\" fill=\"#000000\" fill-rule=\"nonzero\" fill-opacity=\"1\" /><path clip-path=\"url(#clip280)\" d=\"M1695.54 1479.7 L1700.42 1479.7 L1700.42 1485.58 L1695.54 1485.58 L1695.54 1479.7 Z\" fill=\"#000000\" fill-rule=\"nonzero\" fill-opacity=\"1\" /><path clip-path=\"url(#clip280)\" d=\"M1710.65 1451.02 L1729.01 1451.02 L1729.01 1454.96 L1714.93 1454.96 L1714.93 1463.43 Q1715.95 1463.08 1716.97 1462.92 Q1717.99 1462.73 1719.01 1462.73 Q1724.79 1462.73 1728.17 1465.9 Q1731.55 1469.08 1731.55 1474.49 Q1731.55 1480.07 1728.08 1483.17 Q1724.61 1486.25 1718.29 1486.25 Q1716.11 1486.25 1713.85 1485.88 Q1711.6 1485.51 1709.19 1484.77 L1709.19 1480.07 Q1711.28 1481.2 1713.5 1481.76 Q1715.72 1482.32 1718.2 1482.32 Q1722.2 1482.32 1724.54 1480.21 Q1726.88 1478.1 1726.88 1474.49 Q1726.88 1470.88 1724.54 1468.77 Q1722.2 1466.67 1718.2 1466.67 Q1716.32 1466.67 1714.45 1467.08 Q1712.6 1467.5 1710.65 1468.38 L1710.65 1451.02 Z\" fill=\"#000000\" fill-rule=\"nonzero\" fill-opacity=\"1\" /><path clip-path=\"url(#clip280)\" d=\"M1787.98 1481.64 L1795.62 1481.64 L1795.62 1455.28 L1787.31 1456.95 L1787.31 1452.69 L1795.58 1451.02 L1800.25 1451.02 L1800.25 1481.64 L1807.89 1481.64 L1807.89 1485.58 L1787.98 1485.58 L1787.98 1481.64 Z\" fill=\"#000000\" fill-rule=\"nonzero\" fill-opacity=\"1\" /><path clip-path=\"url(#clip280)\" d=\"M1827.92 1466.44 Q1824.77 1466.44 1822.92 1468.59 Q1821.09 1470.74 1821.09 1474.49 Q1821.09 1478.22 1822.92 1480.39 Q1824.77 1482.55 1827.92 1482.55 Q1831.06 1482.55 1832.89 1480.39 Q1834.74 1478.22 1834.74 1474.49 Q1834.74 1470.74 1832.89 1468.59 Q1831.06 1466.44 1827.92 1466.44 M1837.2 1451.78 L1837.2 1456.04 Q1835.44 1455.21 1833.63 1454.77 Q1831.85 1454.33 1830.09 1454.33 Q1825.46 1454.33 1823.01 1457.45 Q1820.58 1460.58 1820.23 1466.9 Q1821.6 1464.89 1823.66 1463.82 Q1825.72 1462.73 1828.19 1462.73 Q1833.4 1462.73 1836.41 1465.9 Q1839.44 1469.05 1839.44 1474.49 Q1839.44 1479.82 1836.29 1483.03 Q1833.15 1486.25 1827.92 1486.25 Q1821.92 1486.25 1818.75 1481.67 Q1815.58 1477.06 1815.58 1468.33 Q1815.58 1460.14 1819.47 1455.28 Q1823.36 1450.39 1829.91 1450.39 Q1831.67 1450.39 1833.45 1450.74 Q1835.25 1451.09 1837.2 1451.78 Z\" fill=\"#000000\" fill-rule=\"nonzero\" fill-opacity=\"1\" /><path clip-path=\"url(#clip280)\" d=\"M1847.5 1479.7 L1852.38 1479.7 L1852.38 1485.58 L1847.5 1485.58 L1847.5 1479.7 Z\" fill=\"#000000\" fill-rule=\"nonzero\" fill-opacity=\"1\" /><path clip-path=\"url(#clip280)\" d=\"M1872.57 1454.1 Q1868.96 1454.1 1867.13 1457.66 Q1865.32 1461.2 1865.32 1468.33 Q1865.32 1475.44 1867.13 1479.01 Q1868.96 1482.55 1872.57 1482.55 Q1876.2 1482.55 1878.01 1479.01 Q1879.84 1475.44 1879.84 1468.33 Q1879.84 1461.2 1878.01 1457.66 Q1876.2 1454.1 1872.57 1454.1 M1872.57 1450.39 Q1878.38 1450.39 1881.43 1455 Q1884.51 1459.58 1884.51 1468.33 Q1884.51 1477.06 1881.43 1481.67 Q1878.38 1486.25 1872.57 1486.25 Q1866.76 1486.25 1863.68 1481.67 Q1860.62 1477.06 1860.62 1468.33 Q1860.62 1459.58 1863.68 1455 Q1866.76 1450.39 1872.57 1450.39 Z\" fill=\"#000000\" fill-rule=\"nonzero\" fill-opacity=\"1\" /><path clip-path=\"url(#clip280)\" d=\"M1940.94 1481.64 L1948.58 1481.64 L1948.58 1455.28 L1940.27 1456.95 L1940.27 1452.69 L1948.54 1451.02 L1953.21 1451.02 L1953.21 1481.64 L1960.85 1481.64 L1960.85 1485.58 L1940.94 1485.58 L1940.94 1481.64 Z\" fill=\"#000000\" fill-rule=\"nonzero\" fill-opacity=\"1\" /><path clip-path=\"url(#clip280)\" d=\"M1980.87 1466.44 Q1977.73 1466.44 1975.87 1468.59 Q1974.05 1470.74 1974.05 1474.49 Q1974.05 1478.22 1975.87 1480.39 Q1977.73 1482.55 1980.87 1482.55 Q1984.02 1482.55 1985.85 1480.39 Q1987.7 1478.22 1987.7 1474.49 Q1987.7 1470.74 1985.85 1468.59 Q1984.02 1466.44 1980.87 1466.44 M1990.16 1451.78 L1990.16 1456.04 Q1988.4 1455.21 1986.59 1454.77 Q1984.81 1454.33 1983.05 1454.33 Q1978.42 1454.33 1975.97 1457.45 Q1973.54 1460.58 1973.19 1466.9 Q1974.55 1464.89 1976.61 1463.82 Q1978.67 1462.73 1981.15 1462.73 Q1986.36 1462.73 1989.37 1465.9 Q1992.4 1469.05 1992.4 1474.49 Q1992.4 1479.82 1989.25 1483.03 Q1986.11 1486.25 1980.87 1486.25 Q1974.88 1486.25 1971.71 1481.67 Q1968.54 1477.06 1968.54 1468.33 Q1968.54 1460.14 1972.42 1455.28 Q1976.31 1450.39 1982.86 1450.39 Q1984.62 1450.39 1986.41 1450.74 Q1988.21 1451.09 1990.16 1451.78 Z\" fill=\"#000000\" fill-rule=\"nonzero\" fill-opacity=\"1\" /><path clip-path=\"url(#clip280)\" d=\"M2000.46 1479.7 L2005.34 1479.7 L2005.34 1485.58 L2000.46 1485.58 L2000.46 1479.7 Z\" fill=\"#000000\" fill-rule=\"nonzero\" fill-opacity=\"1\" /><path clip-path=\"url(#clip280)\" d=\"M2015.57 1451.02 L2033.93 1451.02 L2033.93 1454.96 L2019.86 1454.96 L2019.86 1463.43 Q2020.87 1463.08 2021.89 1462.92 Q2022.91 1462.73 2023.93 1462.73 Q2029.72 1462.73 2033.1 1465.9 Q2036.48 1469.08 2036.48 1474.49 Q2036.48 1480.07 2033 1483.17 Q2029.53 1486.25 2023.21 1486.25 Q2021.04 1486.25 2018.77 1485.88 Q2016.52 1485.51 2014.11 1484.77 L2014.11 1480.07 Q2016.2 1481.2 2018.42 1481.76 Q2020.64 1482.32 2023.12 1482.32 Q2027.12 1482.32 2029.46 1480.21 Q2031.8 1478.1 2031.8 1474.49 Q2031.8 1470.88 2029.46 1468.77 Q2027.12 1466.67 2023.12 1466.67 Q2021.24 1466.67 2019.37 1467.08 Q2017.52 1467.5 2015.57 1468.38 L2015.57 1451.02 Z\" fill=\"#000000\" fill-rule=\"nonzero\" fill-opacity=\"1\" /><path clip-path=\"url(#clip280)\" d=\"M2092.91 1481.64 L2100.55 1481.64 L2100.55 1455.28 L2092.24 1456.95 L2092.24 1452.69 L2100.5 1451.02 L2105.18 1451.02 L2105.18 1481.64 L2112.81 1481.64 L2112.81 1485.58 L2092.91 1485.58 L2092.91 1481.64 Z\" fill=\"#000000\" fill-rule=\"nonzero\" fill-opacity=\"1\" /><path clip-path=\"url(#clip280)\" d=\"M2121.08 1451.02 L2143.3 1451.02 L2143.3 1453.01 L2130.75 1485.58 L2125.87 1485.58 L2137.68 1454.96 L2121.08 1454.96 L2121.08 1451.02 Z\" fill=\"#000000\" fill-rule=\"nonzero\" fill-opacity=\"1\" /><path clip-path=\"url(#clip280)\" d=\"M2152.42 1479.7 L2157.3 1479.7 L2157.3 1485.58 L2152.42 1485.58 L2152.42 1479.7 Z\" fill=\"#000000\" fill-rule=\"nonzero\" fill-opacity=\"1\" /><path clip-path=\"url(#clip280)\" d=\"M2177.49 1454.1 Q2173.88 1454.1 2172.05 1457.66 Q2170.24 1461.2 2170.24 1468.33 Q2170.24 1475.44 2172.05 1479.01 Q2173.88 1482.55 2177.49 1482.55 Q2181.12 1482.55 2182.93 1479.01 Q2184.76 1475.44 2184.76 1468.33 Q2184.76 1461.2 2182.93 1457.66 Q2181.12 1454.1 2177.49 1454.1 M2177.49 1450.39 Q2183.3 1450.39 2186.36 1455 Q2189.43 1459.58 2189.43 1468.33 Q2189.43 1477.06 2186.36 1481.67 Q2183.3 1486.25 2177.49 1486.25 Q2171.68 1486.25 2168.6 1481.67 Q2165.55 1477.06 2165.55 1468.33 Q2165.55 1459.58 2168.6 1455 Q2171.68 1450.39 2177.49 1450.39 Z\" fill=\"#000000\" fill-rule=\"nonzero\" fill-opacity=\"1\" /><path clip-path=\"url(#clip280)\" d=\"M2245.87 1481.64 L2253.5 1481.64 L2253.5 1455.28 L2245.19 1456.95 L2245.19 1452.69 L2253.46 1451.02 L2258.13 1451.02 L2258.13 1481.64 L2265.77 1481.64 L2265.77 1485.58 L2245.87 1485.58 L2245.87 1481.64 Z\" fill=\"#000000\" fill-rule=\"nonzero\" fill-opacity=\"1\" /><path clip-path=\"url(#clip280)\" d=\"M2274.04 1451.02 L2296.26 1451.02 L2296.26 1453.01 L2283.71 1485.58 L2278.83 1485.58 L2290.63 1454.96 L2274.04 1454.96 L2274.04 1451.02 Z\" fill=\"#000000\" fill-rule=\"nonzero\" fill-opacity=\"1\" /><path clip-path=\"url(#clip280)\" d=\"M2305.38 1479.7 L2310.26 1479.7 L2310.26 1485.58 L2305.38 1485.58 L2305.38 1479.7 Z\" fill=\"#000000\" fill-rule=\"nonzero\" fill-opacity=\"1\" /><path clip-path=\"url(#clip280)\" d=\"M2320.5 1451.02 L2338.85 1451.02 L2338.85 1454.96 L2324.78 1454.96 L2324.78 1463.43 Q2325.8 1463.08 2326.81 1462.92 Q2327.83 1462.73 2328.85 1462.73 Q2334.64 1462.73 2338.02 1465.9 Q2341.4 1469.08 2341.4 1474.49 Q2341.4 1480.07 2337.93 1483.17 Q2334.45 1486.25 2328.13 1486.25 Q2325.96 1486.25 2323.69 1485.88 Q2321.44 1485.51 2319.04 1484.77 L2319.04 1480.07 Q2321.12 1481.2 2323.34 1481.76 Q2325.56 1482.32 2328.04 1482.32 Q2332.05 1482.32 2334.38 1480.21 Q2336.72 1478.1 2336.72 1474.49 Q2336.72 1470.88 2334.38 1468.77 Q2332.05 1466.67 2328.04 1466.67 Q2326.17 1466.67 2324.29 1467.08 Q2322.44 1467.5 2320.5 1468.38 L2320.5 1451.02 Z\" fill=\"#000000\" fill-rule=\"nonzero\" fill-opacity=\"1\" /><path clip-path=\"url(#clip280)\" d=\"M1268.26 1522.08 L1268.26 1528.35 Q1264.6 1526.6 1261.35 1525.74 Q1258.11 1524.88 1255.08 1524.88 Q1249.83 1524.88 1246.97 1526.92 Q1244.13 1528.96 1244.13 1532.71 Q1244.13 1535.87 1246.01 1537.49 Q1247.92 1539.08 1253.2 1540.07 L1257.09 1540.86 Q1264.28 1542.23 1267.69 1545.7 Q1271.12 1549.14 1271.12 1554.93 Q1271.12 1561.84 1266.48 1565.4 Q1261.86 1568.97 1252.92 1568.97 Q1249.54 1568.97 1245.72 1568.2 Q1241.94 1567.44 1237.86 1565.94 L1237.86 1559.32 Q1241.78 1561.52 1245.53 1562.63 Q1249.29 1563.75 1252.92 1563.75 Q1258.42 1563.75 1261.42 1561.58 Q1264.41 1559.42 1264.41 1555.41 Q1264.41 1551.91 1262.24 1549.93 Q1260.11 1547.96 1255.21 1546.97 L1251.29 1546.21 Q1244.1 1544.78 1240.89 1541.72 Q1237.67 1538.67 1237.67 1533.22 Q1237.67 1526.92 1242.1 1523.29 Q1246.55 1519.66 1254.35 1519.66 Q1257.69 1519.66 1261.16 1520.27 Q1264.63 1520.87 1268.26 1522.08 Z\" fill=\"#000000\" fill-rule=\"nonzero\" fill-opacity=\"1\" /><path clip-path=\"url(#clip280)\" d=\"M1281.15 1520.52 L1289.81 1520.52 L1310.88 1560.28 L1310.88 1520.52 L1317.12 1520.52 L1317.12 1568.04 L1308.46 1568.04 L1287.39 1528.29 L1287.39 1568.04 L1281.15 1568.04 L1281.15 1520.52 Z\" fill=\"#000000\" fill-rule=\"nonzero\" fill-opacity=\"1\" /><path clip-path=\"url(#clip280)\" d=\"M1352.44 1545.76 Q1354.51 1546.46 1356.46 1548.76 Q1358.43 1551.05 1360.4 1555.06 L1366.93 1568.04 L1360.02 1568.04 L1353.94 1555.85 Q1351.59 1551.08 1349.36 1549.52 Q1347.16 1547.96 1343.34 1547.96 L1336.34 1547.96 L1336.34 1568.04 L1329.91 1568.04 L1329.91 1520.52 L1344.42 1520.52 Q1352.57 1520.52 1356.58 1523.93 Q1360.59 1527.34 1360.59 1534.21 Q1360.59 1538.7 1358.49 1541.66 Q1356.42 1544.62 1352.44 1545.76 M1336.34 1525.81 L1336.34 1542.68 L1344.42 1542.68 Q1349.07 1542.68 1351.43 1540.54 Q1353.81 1538.38 1353.81 1534.21 Q1353.81 1530.04 1351.43 1527.94 Q1349.07 1525.81 1344.42 1525.81 L1336.34 1525.81 Z\" fill=\"#000000\" fill-rule=\"nonzero\" fill-opacity=\"1\" /><polyline clip-path=\"url(#clip280)\" style=\"stroke:#000000; stroke-linecap:round; stroke-linejoin:round; stroke-width:4; stroke-opacity:1; fill:none\" points=\"251.842,1423.18 251.842,47.2441 \"/>\n",
       "<polyline clip-path=\"url(#clip280)\" style=\"stroke:#000000; stroke-linecap:round; stroke-linejoin:round; stroke-width:4; stroke-opacity:1; fill:none\" points=\"251.842,47.2441 270.74,47.2441 \"/>\n",
       "<polyline clip-path=\"url(#clip280)\" style=\"stroke:#000000; stroke-linecap:round; stroke-linejoin:round; stroke-width:4; stroke-opacity:1; fill:none\" points=\"251.842,645.209 270.74,645.209 \"/>\n",
       "<polyline clip-path=\"url(#clip280)\" style=\"stroke:#000000; stroke-linecap:round; stroke-linejoin:round; stroke-width:4; stroke-opacity:1; fill:none\" points=\"251.842,1243.17 270.74,1243.17 \"/>\n",
       "<path clip-path=\"url(#clip280)\" d=\"M115.402 67.0365 L123.04 67.0365 L123.04 40.6709 L114.73 42.3376 L114.73 38.0784 L122.994 36.4117 L127.67 36.4117 L127.67 67.0365 L135.309 67.0365 L135.309 70.9717 L115.402 70.9717 L115.402 67.0365 Z\" fill=\"#000000\" fill-rule=\"nonzero\" fill-opacity=\"1\" /><path clip-path=\"url(#clip280)\" d=\"M154.753 39.4904 Q151.142 39.4904 149.313 43.0552 Q147.508 46.5968 147.508 53.7264 Q147.508 60.8329 149.313 64.3977 Q151.142 67.9393 154.753 67.9393 Q158.388 67.9393 160.193 64.3977 Q162.022 60.8329 162.022 53.7264 Q162.022 46.5968 160.193 43.0552 Q158.388 39.4904 154.753 39.4904 M154.753 35.7867 Q160.563 35.7867 163.619 40.3932 Q166.698 44.9765 166.698 53.7264 Q166.698 62.4532 163.619 67.0597 Q160.563 71.643 154.753 71.643 Q148.943 71.643 145.864 67.0597 Q142.809 62.4532 142.809 53.7264 Q142.809 44.9765 145.864 40.3932 Q148.943 35.7867 154.753 35.7867 Z\" fill=\"#000000\" fill-rule=\"nonzero\" fill-opacity=\"1\" /><path clip-path=\"url(#clip280)\" d=\"M166.698 29.888 L190.809 29.888 L190.809 33.0854 L166.698 33.0854 L166.698 29.888 Z\" fill=\"#000000\" fill-rule=\"nonzero\" fill-opacity=\"1\" /><path clip-path=\"url(#clip280)\" d=\"M199.668 40.364 L205.874 40.364 L205.874 18.9419 L199.122 20.2961 L199.122 16.8355 L205.837 15.4813 L209.636 15.4813 L209.636 40.364 L215.842 40.364 L215.842 43.5613 L199.668 43.5613 L199.668 40.364 Z\" fill=\"#000000\" fill-rule=\"nonzero\" fill-opacity=\"1\" /><path clip-path=\"url(#clip280)\" d=\"M115.703 665.002 L123.341 665.002 L123.341 638.636 L115.031 640.303 L115.031 636.044 L123.295 634.377 L127.971 634.377 L127.971 665.002 L135.61 665.002 L135.61 668.937 L115.703 668.937 L115.703 665.002 Z\" fill=\"#000000\" fill-rule=\"nonzero\" fill-opacity=\"1\" /><path clip-path=\"url(#clip280)\" d=\"M155.054 637.456 Q151.443 637.456 149.614 641.02 Q147.809 644.562 147.809 651.692 Q147.809 658.798 149.614 662.363 Q151.443 665.904 155.054 665.904 Q158.688 665.904 160.494 662.363 Q162.323 658.798 162.323 651.692 Q162.323 644.562 160.494 641.02 Q158.688 637.456 155.054 637.456 M155.054 633.752 Q160.864 633.752 163.92 638.358 Q166.999 642.942 166.999 651.692 Q166.999 660.418 163.92 665.025 Q160.864 669.608 155.054 669.608 Q149.244 669.608 146.165 665.025 Q143.11 660.418 143.11 651.692 Q143.11 642.942 146.165 638.358 Q149.244 633.752 155.054 633.752 Z\" fill=\"#000000\" fill-rule=\"nonzero\" fill-opacity=\"1\" /><path clip-path=\"url(#clip280)\" d=\"M166.999 627.853 L191.11 627.853 L191.11 631.051 L166.999 631.051 L166.999 627.853 Z\" fill=\"#000000\" fill-rule=\"nonzero\" fill-opacity=\"1\" /><path clip-path=\"url(#clip280)\" d=\"M202.583 638.329 L215.842 638.329 L215.842 641.526 L198.013 641.526 L198.013 638.329 Q200.175 636.091 203.899 632.329 Q207.642 628.549 208.601 627.458 Q210.426 625.408 211.14 623.998 Q211.874 622.568 211.874 621.195 Q211.874 618.957 210.294 617.547 Q208.733 616.136 206.213 616.136 Q204.426 616.136 202.432 616.757 Q200.458 617.377 198.201 618.637 L198.201 614.801 Q200.495 613.879 202.489 613.409 Q204.482 612.939 206.138 612.939 Q210.501 612.939 213.096 615.12 Q215.692 617.302 215.692 620.951 Q215.692 622.681 215.034 624.242 Q214.394 625.784 212.683 627.891 Q212.212 628.436 209.692 631.051 Q207.172 633.646 202.583 638.329 Z\" fill=\"#000000\" fill-rule=\"nonzero\" fill-opacity=\"1\" /><path clip-path=\"url(#clip280)\" d=\"M114.931 1262.97 L122.57 1262.97 L122.57 1236.6 L114.26 1238.27 L114.26 1234.01 L122.524 1232.34 L127.2 1232.34 L127.2 1262.97 L134.839 1262.97 L134.839 1266.9 L114.931 1266.9 L114.931 1262.97 Z\" fill=\"#000000\" fill-rule=\"nonzero\" fill-opacity=\"1\" /><path clip-path=\"url(#clip280)\" d=\"M154.283 1235.42 Q150.672 1235.42 148.843 1238.99 Q147.038 1242.53 147.038 1249.66 Q147.038 1256.76 148.843 1260.33 Q150.672 1263.87 154.283 1263.87 Q157.917 1263.87 159.723 1260.33 Q161.552 1256.76 161.552 1249.66 Q161.552 1242.53 159.723 1238.99 Q157.917 1235.42 154.283 1235.42 M154.283 1231.72 Q160.093 1231.72 163.149 1236.32 Q166.227 1240.91 166.227 1249.66 Q166.227 1258.38 163.149 1262.99 Q160.093 1267.57 154.283 1267.57 Q148.473 1267.57 145.394 1262.99 Q142.339 1258.38 142.339 1249.66 Q142.339 1240.91 145.394 1236.32 Q148.473 1231.72 154.283 1231.72 Z\" fill=\"#000000\" fill-rule=\"nonzero\" fill-opacity=\"1\" /><path clip-path=\"url(#clip280)\" d=\"M166.227 1225.82 L190.339 1225.82 L190.339 1229.02 L166.227 1229.02 L166.227 1225.82 Z\" fill=\"#000000\" fill-rule=\"nonzero\" fill-opacity=\"1\" /><path clip-path=\"url(#clip280)\" d=\"M210.05 1224.35 Q212.777 1224.93 214.3 1226.78 Q215.842 1228.62 215.842 1231.33 Q215.842 1235.49 212.984 1237.76 Q210.125 1240.04 204.859 1240.04 Q203.091 1240.04 201.21 1239.68 Q199.348 1239.34 197.354 1238.65 L197.354 1234.98 Q198.934 1235.9 200.815 1236.37 Q202.696 1236.84 204.746 1236.84 Q208.319 1236.84 210.181 1235.43 Q212.062 1234.02 212.062 1231.33 Q212.062 1228.85 210.313 1227.45 Q208.583 1226.04 205.479 1226.04 L202.207 1226.04 L202.207 1222.92 L205.63 1222.92 Q208.432 1222.92 209.918 1221.81 Q211.404 1220.68 211.404 1218.58 Q211.404 1216.41 209.861 1215.27 Q208.338 1214.1 205.479 1214.1 Q203.918 1214.1 202.132 1214.44 Q200.345 1214.78 198.201 1215.49 L198.201 1212.11 Q200.364 1211.51 202.244 1211.2 Q204.144 1210.9 205.818 1210.9 Q210.144 1210.9 212.664 1212.88 Q215.184 1214.83 215.184 1218.18 Q215.184 1220.51 213.849 1222.13 Q212.513 1223.73 210.05 1224.35 Z\" fill=\"#000000\" fill-rule=\"nonzero\" fill-opacity=\"1\" /><path clip-path=\"url(#clip280)\" d=\"M28.3562 985.305 L28.3562 979.448 L56.1743 972.128 L28.3562 964.839 L28.3562 957.932 L56.1743 950.612 L28.3562 943.323 L28.3562 937.466 L64.0042 946.792 L64.0042 953.699 L34.7856 961.37 L64.0042 969.072 L64.0042 975.979 L28.3562 985.305 Z\" fill=\"#000000\" fill-rule=\"nonzero\" fill-opacity=\"1\" /><path clip-path=\"url(#clip280)\" d=\"M32.4621 914.773 Q32.4621 919.483 36.1542 922.221 Q39.8145 924.958 46.212 924.958 Q52.6095 924.958 56.3017 922.252 Q59.9619 919.515 59.9619 914.773 Q59.9619 910.094 56.2698 907.357 Q52.5777 904.619 46.212 904.619 Q39.8781 904.619 36.186 907.357 Q32.4621 910.094 32.4621 914.773 M27.4968 914.773 Q27.4968 907.134 32.4621 902.773 Q37.4273 898.413 46.212 898.413 Q54.9649 898.413 59.9619 902.773 Q64.9272 907.134 64.9272 914.773 Q64.9272 922.443 59.9619 926.804 Q54.9649 931.133 46.212 931.133 Q37.4273 931.133 32.4621 926.804 Q27.4968 922.443 27.4968 914.773 Z\" fill=\"#000000\" fill-rule=\"nonzero\" fill-opacity=\"1\" /><path clip-path=\"url(#clip280)\" d=\"M33.8307 868.048 Q33.2578 869.035 33.0032 870.213 Q32.7167 871.359 32.7167 872.759 Q32.7167 877.724 35.9632 880.398 Q39.1779 883.04 45.2253 883.04 L64.0042 883.04 L64.0042 888.928 L28.3562 888.928 L28.3562 883.04 L33.8944 883.04 Q30.6479 881.194 29.0883 878.233 Q27.4968 875.273 27.4968 871.04 Q27.4968 870.435 27.5923 869.703 Q27.656 868.971 27.8151 868.08 L33.8307 868.048 Z\" fill=\"#000000\" fill-rule=\"nonzero\" fill-opacity=\"1\" /><path clip-path=\"url(#clip280)\" d=\"M29.4065 839.18 L34.9447 839.18 Q33.6716 841.662 33.035 844.336 Q32.3984 847.01 32.3984 849.874 Q32.3984 854.235 33.7352 856.431 Q35.072 858.595 37.7456 858.595 Q39.7826 858.595 40.9603 857.036 Q42.1061 855.476 43.1565 850.765 L43.6021 848.76 Q44.9389 842.522 47.3897 839.912 Q49.8086 837.27 54.1691 837.27 Q59.1344 837.27 62.0308 841.217 Q64.9272 845.132 64.9272 852.007 Q64.9272 854.871 64.3543 857.991 Q63.8132 861.078 62.6992 864.515 L56.6518 864.515 Q58.3387 861.269 59.198 858.118 Q60.0256 854.967 60.0256 851.879 Q60.0256 847.742 58.6251 845.514 Q57.1929 843.286 54.6147 843.286 Q52.2276 843.286 50.9545 844.909 Q49.6813 846.5 48.5037 851.943 L48.0262 853.98 Q46.8804 859.423 44.5251 861.842 Q42.138 864.261 38.0002 864.261 Q32.9713 864.261 30.2341 860.696 Q27.4968 857.131 27.4968 850.574 Q27.4968 847.328 27.9743 844.463 Q28.4517 841.599 29.4065 839.18 Z\" fill=\"#000000\" fill-rule=\"nonzero\" fill-opacity=\"1\" /><path clip-path=\"url(#clip280)\" d=\"M18.2347 822.152 L28.3562 822.152 L28.3562 810.089 L32.9077 810.089 L32.9077 822.152 L52.2594 822.152 Q56.6199 822.152 57.8613 820.974 Q59.1026 819.764 59.1026 816.104 L59.1026 810.089 L64.0042 810.089 L64.0042 816.104 Q64.0042 822.884 61.4897 825.462 Q58.9434 828.04 52.2594 828.04 L32.9077 828.04 L32.9077 832.337 L28.3562 832.337 L28.3562 828.04 L18.2347 828.04 L18.2347 822.152 Z\" fill=\"#000000\" fill-rule=\"nonzero\" fill-opacity=\"1\" /><path clip-path=\"url(#clip280)\" d=\"M43.5384 805.346 L43.5384 788.191 L48.7583 788.191 L48.7583 805.346 L43.5384 805.346 Z\" fill=\"#000000\" fill-rule=\"nonzero\" fill-opacity=\"1\" /><path clip-path=\"url(#clip280)\" d=\"M29.7248 753.211 L35.1993 753.211 Q33.8307 755.694 33.1623 758.208 Q32.4621 760.691 32.4621 763.237 Q32.4621 768.934 36.0905 772.085 Q39.6872 775.236 46.212 775.236 Q52.7369 775.236 56.3653 772.085 Q59.9619 768.934 59.9619 763.237 Q59.9619 760.691 59.2935 758.208 Q58.5933 755.694 57.2247 753.211 L62.6355 753.211 Q63.7814 755.662 64.3543 758.304 Q64.9272 760.914 64.9272 763.874 Q64.9272 771.926 59.8664 776.669 Q54.8057 781.411 46.212 781.411 Q37.491 781.411 32.4939 776.637 Q27.4968 771.831 27.4968 763.492 Q27.4968 760.786 28.0697 758.208 Q28.6108 755.63 29.7248 753.211 Z\" fill=\"#000000\" fill-rule=\"nonzero\" fill-opacity=\"1\" /><path clip-path=\"url(#clip280)\" d=\"M46.0847 726.825 Q46.0847 733.923 47.7079 736.66 Q49.3312 739.397 53.2461 739.397 Q56.3653 739.397 58.2114 737.36 Q60.0256 735.292 60.0256 731.759 Q60.0256 726.889 56.5881 723.961 Q53.1188 721.001 47.3897 721.001 L46.0847 721.001 L46.0847 726.825 M43.6657 715.144 L64.0042 715.144 L64.0042 721.001 L58.5933 721.001 Q61.8398 723.006 63.3994 725.998 Q64.9272 728.989 64.9272 733.318 Q64.9272 738.793 61.8716 742.039 Q58.7843 745.254 53.6281 745.254 Q47.6125 745.254 44.5569 741.243 Q41.5014 737.201 41.5014 729.212 L41.5014 721.001 L40.9285 721.001 Q36.8862 721.001 34.6901 723.674 Q32.4621 726.316 32.4621 731.122 Q32.4621 734.178 33.1941 737.074 Q33.9262 739.97 35.3903 742.644 L29.9795 742.644 Q28.7381 739.429 28.1334 736.406 Q27.4968 733.382 27.4968 730.517 Q27.4968 722.783 31.5072 718.964 Q35.5176 715.144 43.6657 715.144 Z\" fill=\"#000000\" fill-rule=\"nonzero\" fill-opacity=\"1\" /><path clip-path=\"url(#clip280)\" d=\"M29.4065 680.355 L34.9447 680.355 Q33.6716 682.838 33.035 685.512 Q32.3984 688.185 32.3984 691.05 Q32.3984 695.41 33.7352 697.607 Q35.072 699.771 37.7456 699.771 Q39.7826 699.771 40.9603 698.211 Q42.1061 696.652 43.1565 691.941 L43.6021 689.936 Q44.9389 683.697 47.3897 681.088 Q49.8086 678.446 54.1691 678.446 Q59.1344 678.446 62.0308 682.393 Q64.9272 686.307 64.9272 693.182 Q64.9272 696.047 64.3543 699.166 Q63.8132 702.254 62.6992 705.691 L56.6518 705.691 Q58.3387 702.444 59.198 699.293 Q60.0256 696.142 60.0256 693.055 Q60.0256 688.917 58.6251 686.689 Q57.1929 684.461 54.6147 684.461 Q52.2276 684.461 50.9545 686.085 Q49.6813 687.676 48.5037 693.119 L48.0262 695.156 Q46.8804 700.598 44.5251 703.017 Q42.138 705.436 38.0002 705.436 Q32.9713 705.436 30.2341 701.872 Q27.4968 698.307 27.4968 691.75 Q27.4968 688.504 27.9743 685.639 Q28.4517 682.774 29.4065 680.355 Z\" fill=\"#000000\" fill-rule=\"nonzero\" fill-opacity=\"1\" /><path clip-path=\"url(#clip280)\" d=\"M44.7161 638.628 L47.5806 638.628 L47.5806 665.555 Q53.6281 665.173 56.8109 661.927 Q59.9619 658.648 59.9619 652.824 Q59.9619 649.45 59.1344 646.299 Q58.3069 643.116 56.6518 639.997 L62.1899 639.997 Q63.5267 643.148 64.227 646.458 Q64.9272 649.768 64.9272 653.174 Q64.9272 661.704 59.9619 666.701 Q54.9967 671.666 46.5303 671.666 Q37.7774 671.666 32.6531 666.956 Q27.4968 662.213 27.4968 654.192 Q27.4968 646.999 32.1438 642.83 Q36.7589 638.628 44.7161 638.628 M42.9973 644.485 Q38.1912 644.548 35.3266 647.19 Q32.4621 649.8 32.4621 654.129 Q32.4621 659.03 35.2312 661.99 Q38.0002 664.919 43.0292 665.364 L42.9973 644.485 Z\" fill=\"#000000\" fill-rule=\"nonzero\" fill-opacity=\"1\" /><path clip-path=\"url(#clip280)\" d=\"M41.3104 601.612 L58.7206 601.612 L58.7206 591.299 Q58.7206 586.111 56.5881 583.629 Q54.4238 581.114 49.9996 581.114 Q45.5436 581.114 43.4429 583.629 Q41.3104 586.111 41.3104 591.299 L41.3104 601.612 M21.7677 601.612 L36.0905 601.612 L36.0905 592.095 Q36.0905 587.384 34.34 585.093 Q32.5576 582.769 28.9291 582.769 Q25.3325 582.769 23.5501 585.093 Q21.7677 587.384 21.7677 592.095 L21.7677 601.612 M16.4842 608.041 L16.4842 591.618 Q16.4842 584.265 19.5397 580.287 Q22.5952 576.308 28.2289 576.308 Q32.5894 576.308 35.1675 578.345 Q37.7456 580.382 38.3822 584.329 Q39.4007 579.586 42.6472 576.976 Q45.8619 574.335 50.6998 574.335 Q57.0655 574.335 60.5348 578.663 Q64.0042 582.992 64.0042 590.981 L64.0042 608.041 L16.4842 608.041 Z\" fill=\"#000000\" fill-rule=\"nonzero\" fill-opacity=\"1\" /><path clip-path=\"url(#clip280)\" d=\"M16.4842 563.322 L16.4842 533.276 L21.895 533.276 L21.895 556.893 L35.9632 556.893 L35.9632 534.263 L41.3741 534.263 L41.3741 556.893 L58.5933 556.893 L58.5933 532.703 L64.0042 532.703 L64.0042 563.322 L16.4842 563.322 Z\" fill=\"#000000\" fill-rule=\"nonzero\" fill-opacity=\"1\" /><path clip-path=\"url(#clip280)\" d=\"M41.7242 499.601 Q42.4244 497.532 44.7161 495.591 Q47.0077 493.617 51.0181 491.644 L64.0042 485.119 L64.0042 492.026 L51.8138 498.105 Q47.0395 500.461 45.48 502.689 Q43.9204 504.885 43.9204 508.704 L43.9204 515.706 L64.0042 515.706 L64.0042 522.136 L16.4842 522.136 L16.4842 507.622 Q16.4842 499.474 19.8898 495.464 Q23.2955 491.453 30.1704 491.453 Q34.6582 491.453 37.6183 493.554 Q40.5784 495.623 41.7242 499.601 M21.7677 515.706 L38.6368 515.706 L38.6368 507.622 Q38.6368 502.975 36.5043 500.62 Q34.34 498.233 30.1704 498.233 Q26.0009 498.233 23.9002 500.62 Q21.7677 502.975 21.7677 507.622 L21.7677 515.706 Z\" fill=\"#000000\" fill-rule=\"nonzero\" fill-opacity=\"1\" /><polyline clip-path=\"url(#clip282)\" style=\"stroke:#009af9; stroke-linecap:round; stroke-linejoin:round; stroke-width:4; stroke-opacity:1; fill:none\" points=\"311.302,102.26 387.533,118.925 463.763,135.064 539.994,152.282 616.224,169.966 692.455,186.678 768.685,208.16 844.916,230.199 921.146,252.13 997.377,274.727 1073.61,292.955 1149.84,314.888 1226.07,340.199 1302.3,365.413 1378.53,394.785 1454.76,431.844 1530.99,470.033 1607.22,513.223 1683.45,569.898 1759.68,627.185 1835.91,696.989 1912.14,784.974 1988.37,870.908 2064.6,975.554 2140.84,1087.04 2217.07,1212.96 2293.3,1343.76 \"/>\n",
       "<line clip-path=\"url(#clip282)\" x1=\"311.302\" y1=\"102.26\" x2=\"311.302\" y2=\"86.2597\" style=\"stroke:#009af9; stroke-width:4; stroke-opacity:1\"/>\n",
       "<line clip-path=\"url(#clip282)\" x1=\"311.302\" y1=\"102.26\" x2=\"295.302\" y2=\"102.26\" style=\"stroke:#009af9; stroke-width:4; stroke-opacity:1\"/>\n",
       "<line clip-path=\"url(#clip282)\" x1=\"311.302\" y1=\"102.26\" x2=\"311.302\" y2=\"118.26\" style=\"stroke:#009af9; stroke-width:4; stroke-opacity:1\"/>\n",
       "<line clip-path=\"url(#clip282)\" x1=\"311.302\" y1=\"102.26\" x2=\"327.302\" y2=\"102.26\" style=\"stroke:#009af9; stroke-width:4; stroke-opacity:1\"/>\n",
       "<line clip-path=\"url(#clip282)\" x1=\"387.533\" y1=\"118.925\" x2=\"387.533\" y2=\"102.925\" style=\"stroke:#009af9; stroke-width:4; stroke-opacity:1\"/>\n",
       "<line clip-path=\"url(#clip282)\" x1=\"387.533\" y1=\"118.925\" x2=\"371.533\" y2=\"118.925\" style=\"stroke:#009af9; stroke-width:4; stroke-opacity:1\"/>\n",
       "<line clip-path=\"url(#clip282)\" x1=\"387.533\" y1=\"118.925\" x2=\"387.533\" y2=\"134.925\" style=\"stroke:#009af9; stroke-width:4; stroke-opacity:1\"/>\n",
       "<line clip-path=\"url(#clip282)\" x1=\"387.533\" y1=\"118.925\" x2=\"403.533\" y2=\"118.925\" style=\"stroke:#009af9; stroke-width:4; stroke-opacity:1\"/>\n",
       "<line clip-path=\"url(#clip282)\" x1=\"463.763\" y1=\"135.064\" x2=\"463.763\" y2=\"119.064\" style=\"stroke:#009af9; stroke-width:4; stroke-opacity:1\"/>\n",
       "<line clip-path=\"url(#clip282)\" x1=\"463.763\" y1=\"135.064\" x2=\"447.763\" y2=\"135.064\" style=\"stroke:#009af9; stroke-width:4; stroke-opacity:1\"/>\n",
       "<line clip-path=\"url(#clip282)\" x1=\"463.763\" y1=\"135.064\" x2=\"463.763\" y2=\"151.064\" style=\"stroke:#009af9; stroke-width:4; stroke-opacity:1\"/>\n",
       "<line clip-path=\"url(#clip282)\" x1=\"463.763\" y1=\"135.064\" x2=\"479.763\" y2=\"135.064\" style=\"stroke:#009af9; stroke-width:4; stroke-opacity:1\"/>\n",
       "<line clip-path=\"url(#clip282)\" x1=\"539.994\" y1=\"152.282\" x2=\"539.994\" y2=\"136.282\" style=\"stroke:#009af9; stroke-width:4; stroke-opacity:1\"/>\n",
       "<line clip-path=\"url(#clip282)\" x1=\"539.994\" y1=\"152.282\" x2=\"523.994\" y2=\"152.282\" style=\"stroke:#009af9; stroke-width:4; stroke-opacity:1\"/>\n",
       "<line clip-path=\"url(#clip282)\" x1=\"539.994\" y1=\"152.282\" x2=\"539.994\" y2=\"168.282\" style=\"stroke:#009af9; stroke-width:4; stroke-opacity:1\"/>\n",
       "<line clip-path=\"url(#clip282)\" x1=\"539.994\" y1=\"152.282\" x2=\"555.994\" y2=\"152.282\" style=\"stroke:#009af9; stroke-width:4; stroke-opacity:1\"/>\n",
       "<line clip-path=\"url(#clip282)\" x1=\"616.224\" y1=\"169.966\" x2=\"616.224\" y2=\"153.966\" style=\"stroke:#009af9; stroke-width:4; stroke-opacity:1\"/>\n",
       "<line clip-path=\"url(#clip282)\" x1=\"616.224\" y1=\"169.966\" x2=\"600.224\" y2=\"169.966\" style=\"stroke:#009af9; stroke-width:4; stroke-opacity:1\"/>\n",
       "<line clip-path=\"url(#clip282)\" x1=\"616.224\" y1=\"169.966\" x2=\"616.224\" y2=\"185.966\" style=\"stroke:#009af9; stroke-width:4; stroke-opacity:1\"/>\n",
       "<line clip-path=\"url(#clip282)\" x1=\"616.224\" y1=\"169.966\" x2=\"632.224\" y2=\"169.966\" style=\"stroke:#009af9; stroke-width:4; stroke-opacity:1\"/>\n",
       "<line clip-path=\"url(#clip282)\" x1=\"692.455\" y1=\"186.678\" x2=\"692.455\" y2=\"170.678\" style=\"stroke:#009af9; stroke-width:4; stroke-opacity:1\"/>\n",
       "<line clip-path=\"url(#clip282)\" x1=\"692.455\" y1=\"186.678\" x2=\"676.455\" y2=\"186.678\" style=\"stroke:#009af9; stroke-width:4; stroke-opacity:1\"/>\n",
       "<line clip-path=\"url(#clip282)\" x1=\"692.455\" y1=\"186.678\" x2=\"692.455\" y2=\"202.678\" style=\"stroke:#009af9; stroke-width:4; stroke-opacity:1\"/>\n",
       "<line clip-path=\"url(#clip282)\" x1=\"692.455\" y1=\"186.678\" x2=\"708.455\" y2=\"186.678\" style=\"stroke:#009af9; stroke-width:4; stroke-opacity:1\"/>\n",
       "<line clip-path=\"url(#clip282)\" x1=\"768.685\" y1=\"208.16\" x2=\"768.685\" y2=\"192.16\" style=\"stroke:#009af9; stroke-width:4; stroke-opacity:1\"/>\n",
       "<line clip-path=\"url(#clip282)\" x1=\"768.685\" y1=\"208.16\" x2=\"752.685\" y2=\"208.16\" style=\"stroke:#009af9; stroke-width:4; stroke-opacity:1\"/>\n",
       "<line clip-path=\"url(#clip282)\" x1=\"768.685\" y1=\"208.16\" x2=\"768.685\" y2=\"224.16\" style=\"stroke:#009af9; stroke-width:4; stroke-opacity:1\"/>\n",
       "<line clip-path=\"url(#clip282)\" x1=\"768.685\" y1=\"208.16\" x2=\"784.685\" y2=\"208.16\" style=\"stroke:#009af9; stroke-width:4; stroke-opacity:1\"/>\n",
       "<line clip-path=\"url(#clip282)\" x1=\"844.916\" y1=\"230.199\" x2=\"844.916\" y2=\"214.199\" style=\"stroke:#009af9; stroke-width:4; stroke-opacity:1\"/>\n",
       "<line clip-path=\"url(#clip282)\" x1=\"844.916\" y1=\"230.199\" x2=\"828.916\" y2=\"230.199\" style=\"stroke:#009af9; stroke-width:4; stroke-opacity:1\"/>\n",
       "<line clip-path=\"url(#clip282)\" x1=\"844.916\" y1=\"230.199\" x2=\"844.916\" y2=\"246.199\" style=\"stroke:#009af9; stroke-width:4; stroke-opacity:1\"/>\n",
       "<line clip-path=\"url(#clip282)\" x1=\"844.916\" y1=\"230.199\" x2=\"860.916\" y2=\"230.199\" style=\"stroke:#009af9; stroke-width:4; stroke-opacity:1\"/>\n",
       "<line clip-path=\"url(#clip282)\" x1=\"921.146\" y1=\"252.13\" x2=\"921.146\" y2=\"236.13\" style=\"stroke:#009af9; stroke-width:4; stroke-opacity:1\"/>\n",
       "<line clip-path=\"url(#clip282)\" x1=\"921.146\" y1=\"252.13\" x2=\"905.146\" y2=\"252.13\" style=\"stroke:#009af9; stroke-width:4; stroke-opacity:1\"/>\n",
       "<line clip-path=\"url(#clip282)\" x1=\"921.146\" y1=\"252.13\" x2=\"921.146\" y2=\"268.13\" style=\"stroke:#009af9; stroke-width:4; stroke-opacity:1\"/>\n",
       "<line clip-path=\"url(#clip282)\" x1=\"921.146\" y1=\"252.13\" x2=\"937.146\" y2=\"252.13\" style=\"stroke:#009af9; stroke-width:4; stroke-opacity:1\"/>\n",
       "<line clip-path=\"url(#clip282)\" x1=\"997.377\" y1=\"274.727\" x2=\"997.377\" y2=\"258.727\" style=\"stroke:#009af9; stroke-width:4; stroke-opacity:1\"/>\n",
       "<line clip-path=\"url(#clip282)\" x1=\"997.377\" y1=\"274.727\" x2=\"981.377\" y2=\"274.727\" style=\"stroke:#009af9; stroke-width:4; stroke-opacity:1\"/>\n",
       "<line clip-path=\"url(#clip282)\" x1=\"997.377\" y1=\"274.727\" x2=\"997.377\" y2=\"290.727\" style=\"stroke:#009af9; stroke-width:4; stroke-opacity:1\"/>\n",
       "<line clip-path=\"url(#clip282)\" x1=\"997.377\" y1=\"274.727\" x2=\"1013.38\" y2=\"274.727\" style=\"stroke:#009af9; stroke-width:4; stroke-opacity:1\"/>\n",
       "<line clip-path=\"url(#clip282)\" x1=\"1073.61\" y1=\"292.955\" x2=\"1073.61\" y2=\"276.955\" style=\"stroke:#009af9; stroke-width:4; stroke-opacity:1\"/>\n",
       "<line clip-path=\"url(#clip282)\" x1=\"1073.61\" y1=\"292.955\" x2=\"1057.61\" y2=\"292.955\" style=\"stroke:#009af9; stroke-width:4; stroke-opacity:1\"/>\n",
       "<line clip-path=\"url(#clip282)\" x1=\"1073.61\" y1=\"292.955\" x2=\"1073.61\" y2=\"308.955\" style=\"stroke:#009af9; stroke-width:4; stroke-opacity:1\"/>\n",
       "<line clip-path=\"url(#clip282)\" x1=\"1073.61\" y1=\"292.955\" x2=\"1089.61\" y2=\"292.955\" style=\"stroke:#009af9; stroke-width:4; stroke-opacity:1\"/>\n",
       "<line clip-path=\"url(#clip282)\" x1=\"1149.84\" y1=\"314.888\" x2=\"1149.84\" y2=\"298.888\" style=\"stroke:#009af9; stroke-width:4; stroke-opacity:1\"/>\n",
       "<line clip-path=\"url(#clip282)\" x1=\"1149.84\" y1=\"314.888\" x2=\"1133.84\" y2=\"314.888\" style=\"stroke:#009af9; stroke-width:4; stroke-opacity:1\"/>\n",
       "<line clip-path=\"url(#clip282)\" x1=\"1149.84\" y1=\"314.888\" x2=\"1149.84\" y2=\"330.888\" style=\"stroke:#009af9; stroke-width:4; stroke-opacity:1\"/>\n",
       "<line clip-path=\"url(#clip282)\" x1=\"1149.84\" y1=\"314.888\" x2=\"1165.84\" y2=\"314.888\" style=\"stroke:#009af9; stroke-width:4; stroke-opacity:1\"/>\n",
       "<line clip-path=\"url(#clip282)\" x1=\"1226.07\" y1=\"340.199\" x2=\"1226.07\" y2=\"324.199\" style=\"stroke:#009af9; stroke-width:4; stroke-opacity:1\"/>\n",
       "<line clip-path=\"url(#clip282)\" x1=\"1226.07\" y1=\"340.199\" x2=\"1210.07\" y2=\"340.199\" style=\"stroke:#009af9; stroke-width:4; stroke-opacity:1\"/>\n",
       "<line clip-path=\"url(#clip282)\" x1=\"1226.07\" y1=\"340.199\" x2=\"1226.07\" y2=\"356.199\" style=\"stroke:#009af9; stroke-width:4; stroke-opacity:1\"/>\n",
       "<line clip-path=\"url(#clip282)\" x1=\"1226.07\" y1=\"340.199\" x2=\"1242.07\" y2=\"340.199\" style=\"stroke:#009af9; stroke-width:4; stroke-opacity:1\"/>\n",
       "<line clip-path=\"url(#clip282)\" x1=\"1302.3\" y1=\"365.413\" x2=\"1302.3\" y2=\"349.413\" style=\"stroke:#009af9; stroke-width:4; stroke-opacity:1\"/>\n",
       "<line clip-path=\"url(#clip282)\" x1=\"1302.3\" y1=\"365.413\" x2=\"1286.3\" y2=\"365.413\" style=\"stroke:#009af9; stroke-width:4; stroke-opacity:1\"/>\n",
       "<line clip-path=\"url(#clip282)\" x1=\"1302.3\" y1=\"365.413\" x2=\"1302.3\" y2=\"381.413\" style=\"stroke:#009af9; stroke-width:4; stroke-opacity:1\"/>\n",
       "<line clip-path=\"url(#clip282)\" x1=\"1302.3\" y1=\"365.413\" x2=\"1318.3\" y2=\"365.413\" style=\"stroke:#009af9; stroke-width:4; stroke-opacity:1\"/>\n",
       "<line clip-path=\"url(#clip282)\" x1=\"1378.53\" y1=\"394.785\" x2=\"1378.53\" y2=\"378.785\" style=\"stroke:#009af9; stroke-width:4; stroke-opacity:1\"/>\n",
       "<line clip-path=\"url(#clip282)\" x1=\"1378.53\" y1=\"394.785\" x2=\"1362.53\" y2=\"394.785\" style=\"stroke:#009af9; stroke-width:4; stroke-opacity:1\"/>\n",
       "<line clip-path=\"url(#clip282)\" x1=\"1378.53\" y1=\"394.785\" x2=\"1378.53\" y2=\"410.785\" style=\"stroke:#009af9; stroke-width:4; stroke-opacity:1\"/>\n",
       "<line clip-path=\"url(#clip282)\" x1=\"1378.53\" y1=\"394.785\" x2=\"1394.53\" y2=\"394.785\" style=\"stroke:#009af9; stroke-width:4; stroke-opacity:1\"/>\n",
       "<line clip-path=\"url(#clip282)\" x1=\"1454.76\" y1=\"431.844\" x2=\"1454.76\" y2=\"415.844\" style=\"stroke:#009af9; stroke-width:4; stroke-opacity:1\"/>\n",
       "<line clip-path=\"url(#clip282)\" x1=\"1454.76\" y1=\"431.844\" x2=\"1438.76\" y2=\"431.844\" style=\"stroke:#009af9; stroke-width:4; stroke-opacity:1\"/>\n",
       "<line clip-path=\"url(#clip282)\" x1=\"1454.76\" y1=\"431.844\" x2=\"1454.76\" y2=\"447.844\" style=\"stroke:#009af9; stroke-width:4; stroke-opacity:1\"/>\n",
       "<line clip-path=\"url(#clip282)\" x1=\"1454.76\" y1=\"431.844\" x2=\"1470.76\" y2=\"431.844\" style=\"stroke:#009af9; stroke-width:4; stroke-opacity:1\"/>\n",
       "<line clip-path=\"url(#clip282)\" x1=\"1530.99\" y1=\"470.033\" x2=\"1530.99\" y2=\"454.033\" style=\"stroke:#009af9; stroke-width:4; stroke-opacity:1\"/>\n",
       "<line clip-path=\"url(#clip282)\" x1=\"1530.99\" y1=\"470.033\" x2=\"1514.99\" y2=\"470.033\" style=\"stroke:#009af9; stroke-width:4; stroke-opacity:1\"/>\n",
       "<line clip-path=\"url(#clip282)\" x1=\"1530.99\" y1=\"470.033\" x2=\"1530.99\" y2=\"486.033\" style=\"stroke:#009af9; stroke-width:4; stroke-opacity:1\"/>\n",
       "<line clip-path=\"url(#clip282)\" x1=\"1530.99\" y1=\"470.033\" x2=\"1546.99\" y2=\"470.033\" style=\"stroke:#009af9; stroke-width:4; stroke-opacity:1\"/>\n",
       "<line clip-path=\"url(#clip282)\" x1=\"1607.22\" y1=\"513.223\" x2=\"1607.22\" y2=\"497.223\" style=\"stroke:#009af9; stroke-width:4; stroke-opacity:1\"/>\n",
       "<line clip-path=\"url(#clip282)\" x1=\"1607.22\" y1=\"513.223\" x2=\"1591.22\" y2=\"513.223\" style=\"stroke:#009af9; stroke-width:4; stroke-opacity:1\"/>\n",
       "<line clip-path=\"url(#clip282)\" x1=\"1607.22\" y1=\"513.223\" x2=\"1607.22\" y2=\"529.223\" style=\"stroke:#009af9; stroke-width:4; stroke-opacity:1\"/>\n",
       "<line clip-path=\"url(#clip282)\" x1=\"1607.22\" y1=\"513.223\" x2=\"1623.22\" y2=\"513.223\" style=\"stroke:#009af9; stroke-width:4; stroke-opacity:1\"/>\n",
       "<line clip-path=\"url(#clip282)\" x1=\"1683.45\" y1=\"569.898\" x2=\"1683.45\" y2=\"553.898\" style=\"stroke:#009af9; stroke-width:4; stroke-opacity:1\"/>\n",
       "<line clip-path=\"url(#clip282)\" x1=\"1683.45\" y1=\"569.898\" x2=\"1667.45\" y2=\"569.898\" style=\"stroke:#009af9; stroke-width:4; stroke-opacity:1\"/>\n",
       "<line clip-path=\"url(#clip282)\" x1=\"1683.45\" y1=\"569.898\" x2=\"1683.45\" y2=\"585.898\" style=\"stroke:#009af9; stroke-width:4; stroke-opacity:1\"/>\n",
       "<line clip-path=\"url(#clip282)\" x1=\"1683.45\" y1=\"569.898\" x2=\"1699.45\" y2=\"569.898\" style=\"stroke:#009af9; stroke-width:4; stroke-opacity:1\"/>\n",
       "<line clip-path=\"url(#clip282)\" x1=\"1759.68\" y1=\"627.185\" x2=\"1759.68\" y2=\"611.185\" style=\"stroke:#009af9; stroke-width:4; stroke-opacity:1\"/>\n",
       "<line clip-path=\"url(#clip282)\" x1=\"1759.68\" y1=\"627.185\" x2=\"1743.68\" y2=\"627.185\" style=\"stroke:#009af9; stroke-width:4; stroke-opacity:1\"/>\n",
       "<line clip-path=\"url(#clip282)\" x1=\"1759.68\" y1=\"627.185\" x2=\"1759.68\" y2=\"643.185\" style=\"stroke:#009af9; stroke-width:4; stroke-opacity:1\"/>\n",
       "<line clip-path=\"url(#clip282)\" x1=\"1759.68\" y1=\"627.185\" x2=\"1775.68\" y2=\"627.185\" style=\"stroke:#009af9; stroke-width:4; stroke-opacity:1\"/>\n",
       "<line clip-path=\"url(#clip282)\" x1=\"1835.91\" y1=\"696.989\" x2=\"1835.91\" y2=\"680.989\" style=\"stroke:#009af9; stroke-width:4; stroke-opacity:1\"/>\n",
       "<line clip-path=\"url(#clip282)\" x1=\"1835.91\" y1=\"696.989\" x2=\"1819.91\" y2=\"696.989\" style=\"stroke:#009af9; stroke-width:4; stroke-opacity:1\"/>\n",
       "<line clip-path=\"url(#clip282)\" x1=\"1835.91\" y1=\"696.989\" x2=\"1835.91\" y2=\"712.989\" style=\"stroke:#009af9; stroke-width:4; stroke-opacity:1\"/>\n",
       "<line clip-path=\"url(#clip282)\" x1=\"1835.91\" y1=\"696.989\" x2=\"1851.91\" y2=\"696.989\" style=\"stroke:#009af9; stroke-width:4; stroke-opacity:1\"/>\n",
       "<line clip-path=\"url(#clip282)\" x1=\"1912.14\" y1=\"784.974\" x2=\"1912.14\" y2=\"768.974\" style=\"stroke:#009af9; stroke-width:4; stroke-opacity:1\"/>\n",
       "<line clip-path=\"url(#clip282)\" x1=\"1912.14\" y1=\"784.974\" x2=\"1896.14\" y2=\"784.974\" style=\"stroke:#009af9; stroke-width:4; stroke-opacity:1\"/>\n",
       "<line clip-path=\"url(#clip282)\" x1=\"1912.14\" y1=\"784.974\" x2=\"1912.14\" y2=\"800.974\" style=\"stroke:#009af9; stroke-width:4; stroke-opacity:1\"/>\n",
       "<line clip-path=\"url(#clip282)\" x1=\"1912.14\" y1=\"784.974\" x2=\"1928.14\" y2=\"784.974\" style=\"stroke:#009af9; stroke-width:4; stroke-opacity:1\"/>\n",
       "<line clip-path=\"url(#clip282)\" x1=\"1988.37\" y1=\"870.908\" x2=\"1988.37\" y2=\"854.908\" style=\"stroke:#009af9; stroke-width:4; stroke-opacity:1\"/>\n",
       "<line clip-path=\"url(#clip282)\" x1=\"1988.37\" y1=\"870.908\" x2=\"1972.37\" y2=\"870.908\" style=\"stroke:#009af9; stroke-width:4; stroke-opacity:1\"/>\n",
       "<line clip-path=\"url(#clip282)\" x1=\"1988.37\" y1=\"870.908\" x2=\"1988.37\" y2=\"886.908\" style=\"stroke:#009af9; stroke-width:4; stroke-opacity:1\"/>\n",
       "<line clip-path=\"url(#clip282)\" x1=\"1988.37\" y1=\"870.908\" x2=\"2004.37\" y2=\"870.908\" style=\"stroke:#009af9; stroke-width:4; stroke-opacity:1\"/>\n",
       "<line clip-path=\"url(#clip282)\" x1=\"2064.6\" y1=\"975.554\" x2=\"2064.6\" y2=\"959.554\" style=\"stroke:#009af9; stroke-width:4; stroke-opacity:1\"/>\n",
       "<line clip-path=\"url(#clip282)\" x1=\"2064.6\" y1=\"975.554\" x2=\"2048.6\" y2=\"975.554\" style=\"stroke:#009af9; stroke-width:4; stroke-opacity:1\"/>\n",
       "<line clip-path=\"url(#clip282)\" x1=\"2064.6\" y1=\"975.554\" x2=\"2064.6\" y2=\"991.554\" style=\"stroke:#009af9; stroke-width:4; stroke-opacity:1\"/>\n",
       "<line clip-path=\"url(#clip282)\" x1=\"2064.6\" y1=\"975.554\" x2=\"2080.6\" y2=\"975.554\" style=\"stroke:#009af9; stroke-width:4; stroke-opacity:1\"/>\n",
       "<line clip-path=\"url(#clip282)\" x1=\"2140.84\" y1=\"1087.04\" x2=\"2140.84\" y2=\"1071.04\" style=\"stroke:#009af9; stroke-width:4; stroke-opacity:1\"/>\n",
       "<line clip-path=\"url(#clip282)\" x1=\"2140.84\" y1=\"1087.04\" x2=\"2124.84\" y2=\"1087.04\" style=\"stroke:#009af9; stroke-width:4; stroke-opacity:1\"/>\n",
       "<line clip-path=\"url(#clip282)\" x1=\"2140.84\" y1=\"1087.04\" x2=\"2140.84\" y2=\"1103.04\" style=\"stroke:#009af9; stroke-width:4; stroke-opacity:1\"/>\n",
       "<line clip-path=\"url(#clip282)\" x1=\"2140.84\" y1=\"1087.04\" x2=\"2156.84\" y2=\"1087.04\" style=\"stroke:#009af9; stroke-width:4; stroke-opacity:1\"/>\n",
       "<line clip-path=\"url(#clip282)\" x1=\"2217.07\" y1=\"1212.96\" x2=\"2217.07\" y2=\"1196.96\" style=\"stroke:#009af9; stroke-width:4; stroke-opacity:1\"/>\n",
       "<line clip-path=\"url(#clip282)\" x1=\"2217.07\" y1=\"1212.96\" x2=\"2201.07\" y2=\"1212.96\" style=\"stroke:#009af9; stroke-width:4; stroke-opacity:1\"/>\n",
       "<line clip-path=\"url(#clip282)\" x1=\"2217.07\" y1=\"1212.96\" x2=\"2217.07\" y2=\"1228.96\" style=\"stroke:#009af9; stroke-width:4; stroke-opacity:1\"/>\n",
       "<line clip-path=\"url(#clip282)\" x1=\"2217.07\" y1=\"1212.96\" x2=\"2233.07\" y2=\"1212.96\" style=\"stroke:#009af9; stroke-width:4; stroke-opacity:1\"/>\n",
       "<line clip-path=\"url(#clip282)\" x1=\"2293.3\" y1=\"1343.76\" x2=\"2293.3\" y2=\"1327.76\" style=\"stroke:#009af9; stroke-width:4; stroke-opacity:1\"/>\n",
       "<line clip-path=\"url(#clip282)\" x1=\"2293.3\" y1=\"1343.76\" x2=\"2277.3\" y2=\"1343.76\" style=\"stroke:#009af9; stroke-width:4; stroke-opacity:1\"/>\n",
       "<line clip-path=\"url(#clip282)\" x1=\"2293.3\" y1=\"1343.76\" x2=\"2293.3\" y2=\"1359.76\" style=\"stroke:#009af9; stroke-width:4; stroke-opacity:1\"/>\n",
       "<line clip-path=\"url(#clip282)\" x1=\"2293.3\" y1=\"1343.76\" x2=\"2309.3\" y2=\"1343.76\" style=\"stroke:#009af9; stroke-width:4; stroke-opacity:1\"/>\n",
       "<polyline clip-path=\"url(#clip282)\" style=\"stroke:#e26f46; stroke-linecap:round; stroke-linejoin:round; stroke-width:4; stroke-opacity:1; fill:none\" points=\"311.302,100.677 387.533,115.767 463.763,131.471 539.994,148.746 616.224,168.32 692.455,188.069 768.685,207.315 844.916,228.024 921.146,250.992 997.377,275.476 1073.61,300.317 1149.84,329.328 1226.07,367.471 1302.3,408.699 1378.53,460.149 1454.76,518.477 1530.99,590.254 1607.22,678.227 1683.45,776.367 1759.68,891.796 1835.91,1026.96 1912.14,1180.02 1988.37,1349.39 \"/>\n",
       "<circle clip-path=\"url(#clip282)\" cx=\"311.302\" cy=\"100.677\" r=\"14.4\" fill=\"#e26f46\" fill-rule=\"evenodd\" fill-opacity=\"1\" stroke=\"#000000\" stroke-opacity=\"1\" stroke-width=\"3.2\"/>\n",
       "<circle clip-path=\"url(#clip282)\" cx=\"387.533\" cy=\"115.767\" r=\"14.4\" fill=\"#e26f46\" fill-rule=\"evenodd\" fill-opacity=\"1\" stroke=\"#000000\" stroke-opacity=\"1\" stroke-width=\"3.2\"/>\n",
       "<circle clip-path=\"url(#clip282)\" cx=\"463.763\" cy=\"131.471\" r=\"14.4\" fill=\"#e26f46\" fill-rule=\"evenodd\" fill-opacity=\"1\" stroke=\"#000000\" stroke-opacity=\"1\" stroke-width=\"3.2\"/>\n",
       "<circle clip-path=\"url(#clip282)\" cx=\"539.994\" cy=\"148.746\" r=\"14.4\" fill=\"#e26f46\" fill-rule=\"evenodd\" fill-opacity=\"1\" stroke=\"#000000\" stroke-opacity=\"1\" stroke-width=\"3.2\"/>\n",
       "<circle clip-path=\"url(#clip282)\" cx=\"616.224\" cy=\"168.32\" r=\"14.4\" fill=\"#e26f46\" fill-rule=\"evenodd\" fill-opacity=\"1\" stroke=\"#000000\" stroke-opacity=\"1\" stroke-width=\"3.2\"/>\n",
       "<circle clip-path=\"url(#clip282)\" cx=\"692.455\" cy=\"188.069\" r=\"14.4\" fill=\"#e26f46\" fill-rule=\"evenodd\" fill-opacity=\"1\" stroke=\"#000000\" stroke-opacity=\"1\" stroke-width=\"3.2\"/>\n",
       "<circle clip-path=\"url(#clip282)\" cx=\"768.685\" cy=\"207.315\" r=\"14.4\" fill=\"#e26f46\" fill-rule=\"evenodd\" fill-opacity=\"1\" stroke=\"#000000\" stroke-opacity=\"1\" stroke-width=\"3.2\"/>\n",
       "<circle clip-path=\"url(#clip282)\" cx=\"844.916\" cy=\"228.024\" r=\"14.4\" fill=\"#e26f46\" fill-rule=\"evenodd\" fill-opacity=\"1\" stroke=\"#000000\" stroke-opacity=\"1\" stroke-width=\"3.2\"/>\n",
       "<circle clip-path=\"url(#clip282)\" cx=\"921.146\" cy=\"250.992\" r=\"14.4\" fill=\"#e26f46\" fill-rule=\"evenodd\" fill-opacity=\"1\" stroke=\"#000000\" stroke-opacity=\"1\" stroke-width=\"3.2\"/>\n",
       "<circle clip-path=\"url(#clip282)\" cx=\"997.377\" cy=\"275.476\" r=\"14.4\" fill=\"#e26f46\" fill-rule=\"evenodd\" fill-opacity=\"1\" stroke=\"#000000\" stroke-opacity=\"1\" stroke-width=\"3.2\"/>\n",
       "<circle clip-path=\"url(#clip282)\" cx=\"1073.61\" cy=\"300.317\" r=\"14.4\" fill=\"#e26f46\" fill-rule=\"evenodd\" fill-opacity=\"1\" stroke=\"#000000\" stroke-opacity=\"1\" stroke-width=\"3.2\"/>\n",
       "<circle clip-path=\"url(#clip282)\" cx=\"1149.84\" cy=\"329.328\" r=\"14.4\" fill=\"#e26f46\" fill-rule=\"evenodd\" fill-opacity=\"1\" stroke=\"#000000\" stroke-opacity=\"1\" stroke-width=\"3.2\"/>\n",
       "<circle clip-path=\"url(#clip282)\" cx=\"1226.07\" cy=\"367.471\" r=\"14.4\" fill=\"#e26f46\" fill-rule=\"evenodd\" fill-opacity=\"1\" stroke=\"#000000\" stroke-opacity=\"1\" stroke-width=\"3.2\"/>\n",
       "<circle clip-path=\"url(#clip282)\" cx=\"1302.3\" cy=\"408.699\" r=\"14.4\" fill=\"#e26f46\" fill-rule=\"evenodd\" fill-opacity=\"1\" stroke=\"#000000\" stroke-opacity=\"1\" stroke-width=\"3.2\"/>\n",
       "<circle clip-path=\"url(#clip282)\" cx=\"1378.53\" cy=\"460.149\" r=\"14.4\" fill=\"#e26f46\" fill-rule=\"evenodd\" fill-opacity=\"1\" stroke=\"#000000\" stroke-opacity=\"1\" stroke-width=\"3.2\"/>\n",
       "<circle clip-path=\"url(#clip282)\" cx=\"1454.76\" cy=\"518.477\" r=\"14.4\" fill=\"#e26f46\" fill-rule=\"evenodd\" fill-opacity=\"1\" stroke=\"#000000\" stroke-opacity=\"1\" stroke-width=\"3.2\"/>\n",
       "<circle clip-path=\"url(#clip282)\" cx=\"1530.99\" cy=\"590.254\" r=\"14.4\" fill=\"#e26f46\" fill-rule=\"evenodd\" fill-opacity=\"1\" stroke=\"#000000\" stroke-opacity=\"1\" stroke-width=\"3.2\"/>\n",
       "<circle clip-path=\"url(#clip282)\" cx=\"1607.22\" cy=\"678.227\" r=\"14.4\" fill=\"#e26f46\" fill-rule=\"evenodd\" fill-opacity=\"1\" stroke=\"#000000\" stroke-opacity=\"1\" stroke-width=\"3.2\"/>\n",
       "<circle clip-path=\"url(#clip282)\" cx=\"1683.45\" cy=\"776.367\" r=\"14.4\" fill=\"#e26f46\" fill-rule=\"evenodd\" fill-opacity=\"1\" stroke=\"#000000\" stroke-opacity=\"1\" stroke-width=\"3.2\"/>\n",
       "<circle clip-path=\"url(#clip282)\" cx=\"1759.68\" cy=\"891.796\" r=\"14.4\" fill=\"#e26f46\" fill-rule=\"evenodd\" fill-opacity=\"1\" stroke=\"#000000\" stroke-opacity=\"1\" stroke-width=\"3.2\"/>\n",
       "<circle clip-path=\"url(#clip282)\" cx=\"1835.91\" cy=\"1026.96\" r=\"14.4\" fill=\"#e26f46\" fill-rule=\"evenodd\" fill-opacity=\"1\" stroke=\"#000000\" stroke-opacity=\"1\" stroke-width=\"3.2\"/>\n",
       "<circle clip-path=\"url(#clip282)\" cx=\"1912.14\" cy=\"1180.02\" r=\"14.4\" fill=\"#e26f46\" fill-rule=\"evenodd\" fill-opacity=\"1\" stroke=\"#000000\" stroke-opacity=\"1\" stroke-width=\"3.2\"/>\n",
       "<circle clip-path=\"url(#clip282)\" cx=\"1988.37\" cy=\"1349.39\" r=\"14.4\" fill=\"#e26f46\" fill-rule=\"evenodd\" fill-opacity=\"1\" stroke=\"#000000\" stroke-opacity=\"1\" stroke-width=\"3.2\"/>\n",
       "<polyline clip-path=\"url(#clip282)\" style=\"stroke:#3da44d; stroke-linecap:round; stroke-linejoin:round; stroke-width:4; stroke-opacity:1; fill:none\" points=\"311.302,100.469 387.533,116.853 463.763,130.907 539.994,152.686 616.224,169.475 692.455,188.706 768.685,210.968 844.916,233.044 921.146,254.301 997.377,283.597 1073.61,310.713 1149.84,344.926 1226.07,390.874 1302.3,442.842 1378.53,510.038 1454.76,602.651 1530.99,712.815 1607.22,847.528 1683.45,1001.59 1759.68,1171.37 1835.91,1360.19 \"/>\n",
       "<line clip-path=\"url(#clip282)\" x1=\"311.302\" y1=\"100.469\" x2=\"311.302\" y2=\"84.4692\" style=\"stroke:#3da44d; stroke-width:4; stroke-opacity:1\"/>\n",
       "<line clip-path=\"url(#clip282)\" x1=\"311.302\" y1=\"100.469\" x2=\"295.302\" y2=\"100.469\" style=\"stroke:#3da44d; stroke-width:4; stroke-opacity:1\"/>\n",
       "<line clip-path=\"url(#clip282)\" x1=\"311.302\" y1=\"100.469\" x2=\"311.302\" y2=\"116.469\" style=\"stroke:#3da44d; stroke-width:4; stroke-opacity:1\"/>\n",
       "<line clip-path=\"url(#clip282)\" x1=\"311.302\" y1=\"100.469\" x2=\"327.302\" y2=\"100.469\" style=\"stroke:#3da44d; stroke-width:4; stroke-opacity:1\"/>\n",
       "<line clip-path=\"url(#clip282)\" x1=\"387.533\" y1=\"116.853\" x2=\"387.533\" y2=\"100.853\" style=\"stroke:#3da44d; stroke-width:4; stroke-opacity:1\"/>\n",
       "<line clip-path=\"url(#clip282)\" x1=\"387.533\" y1=\"116.853\" x2=\"371.533\" y2=\"116.853\" style=\"stroke:#3da44d; stroke-width:4; stroke-opacity:1\"/>\n",
       "<line clip-path=\"url(#clip282)\" x1=\"387.533\" y1=\"116.853\" x2=\"387.533\" y2=\"132.853\" style=\"stroke:#3da44d; stroke-width:4; stroke-opacity:1\"/>\n",
       "<line clip-path=\"url(#clip282)\" x1=\"387.533\" y1=\"116.853\" x2=\"403.533\" y2=\"116.853\" style=\"stroke:#3da44d; stroke-width:4; stroke-opacity:1\"/>\n",
       "<line clip-path=\"url(#clip282)\" x1=\"463.763\" y1=\"130.907\" x2=\"463.763\" y2=\"114.907\" style=\"stroke:#3da44d; stroke-width:4; stroke-opacity:1\"/>\n",
       "<line clip-path=\"url(#clip282)\" x1=\"463.763\" y1=\"130.907\" x2=\"447.763\" y2=\"130.907\" style=\"stroke:#3da44d; stroke-width:4; stroke-opacity:1\"/>\n",
       "<line clip-path=\"url(#clip282)\" x1=\"463.763\" y1=\"130.907\" x2=\"463.763\" y2=\"146.907\" style=\"stroke:#3da44d; stroke-width:4; stroke-opacity:1\"/>\n",
       "<line clip-path=\"url(#clip282)\" x1=\"463.763\" y1=\"130.907\" x2=\"479.763\" y2=\"130.907\" style=\"stroke:#3da44d; stroke-width:4; stroke-opacity:1\"/>\n",
       "<line clip-path=\"url(#clip282)\" x1=\"539.994\" y1=\"152.686\" x2=\"539.994\" y2=\"136.686\" style=\"stroke:#3da44d; stroke-width:4; stroke-opacity:1\"/>\n",
       "<line clip-path=\"url(#clip282)\" x1=\"539.994\" y1=\"152.686\" x2=\"523.994\" y2=\"152.686\" style=\"stroke:#3da44d; stroke-width:4; stroke-opacity:1\"/>\n",
       "<line clip-path=\"url(#clip282)\" x1=\"539.994\" y1=\"152.686\" x2=\"539.994\" y2=\"168.686\" style=\"stroke:#3da44d; stroke-width:4; stroke-opacity:1\"/>\n",
       "<line clip-path=\"url(#clip282)\" x1=\"539.994\" y1=\"152.686\" x2=\"555.994\" y2=\"152.686\" style=\"stroke:#3da44d; stroke-width:4; stroke-opacity:1\"/>\n",
       "<line clip-path=\"url(#clip282)\" x1=\"616.224\" y1=\"169.475\" x2=\"616.224\" y2=\"153.475\" style=\"stroke:#3da44d; stroke-width:4; stroke-opacity:1\"/>\n",
       "<line clip-path=\"url(#clip282)\" x1=\"616.224\" y1=\"169.475\" x2=\"600.224\" y2=\"169.475\" style=\"stroke:#3da44d; stroke-width:4; stroke-opacity:1\"/>\n",
       "<line clip-path=\"url(#clip282)\" x1=\"616.224\" y1=\"169.475\" x2=\"616.224\" y2=\"185.475\" style=\"stroke:#3da44d; stroke-width:4; stroke-opacity:1\"/>\n",
       "<line clip-path=\"url(#clip282)\" x1=\"616.224\" y1=\"169.475\" x2=\"632.224\" y2=\"169.475\" style=\"stroke:#3da44d; stroke-width:4; stroke-opacity:1\"/>\n",
       "<line clip-path=\"url(#clip282)\" x1=\"692.455\" y1=\"188.706\" x2=\"692.455\" y2=\"172.706\" style=\"stroke:#3da44d; stroke-width:4; stroke-opacity:1\"/>\n",
       "<line clip-path=\"url(#clip282)\" x1=\"692.455\" y1=\"188.706\" x2=\"676.455\" y2=\"188.706\" style=\"stroke:#3da44d; stroke-width:4; stroke-opacity:1\"/>\n",
       "<line clip-path=\"url(#clip282)\" x1=\"692.455\" y1=\"188.706\" x2=\"692.455\" y2=\"204.706\" style=\"stroke:#3da44d; stroke-width:4; stroke-opacity:1\"/>\n",
       "<line clip-path=\"url(#clip282)\" x1=\"692.455\" y1=\"188.706\" x2=\"708.455\" y2=\"188.706\" style=\"stroke:#3da44d; stroke-width:4; stroke-opacity:1\"/>\n",
       "<line clip-path=\"url(#clip282)\" x1=\"768.685\" y1=\"210.968\" x2=\"768.685\" y2=\"194.968\" style=\"stroke:#3da44d; stroke-width:4; stroke-opacity:1\"/>\n",
       "<line clip-path=\"url(#clip282)\" x1=\"768.685\" y1=\"210.968\" x2=\"752.685\" y2=\"210.968\" style=\"stroke:#3da44d; stroke-width:4; stroke-opacity:1\"/>\n",
       "<line clip-path=\"url(#clip282)\" x1=\"768.685\" y1=\"210.968\" x2=\"768.685\" y2=\"226.968\" style=\"stroke:#3da44d; stroke-width:4; stroke-opacity:1\"/>\n",
       "<line clip-path=\"url(#clip282)\" x1=\"768.685\" y1=\"210.968\" x2=\"784.685\" y2=\"210.968\" style=\"stroke:#3da44d; stroke-width:4; stroke-opacity:1\"/>\n",
       "<line clip-path=\"url(#clip282)\" x1=\"844.916\" y1=\"233.044\" x2=\"844.916\" y2=\"217.044\" style=\"stroke:#3da44d; stroke-width:4; stroke-opacity:1\"/>\n",
       "<line clip-path=\"url(#clip282)\" x1=\"844.916\" y1=\"233.044\" x2=\"828.916\" y2=\"233.044\" style=\"stroke:#3da44d; stroke-width:4; stroke-opacity:1\"/>\n",
       "<line clip-path=\"url(#clip282)\" x1=\"844.916\" y1=\"233.044\" x2=\"844.916\" y2=\"249.044\" style=\"stroke:#3da44d; stroke-width:4; stroke-opacity:1\"/>\n",
       "<line clip-path=\"url(#clip282)\" x1=\"844.916\" y1=\"233.044\" x2=\"860.916\" y2=\"233.044\" style=\"stroke:#3da44d; stroke-width:4; stroke-opacity:1\"/>\n",
       "<line clip-path=\"url(#clip282)\" x1=\"921.146\" y1=\"254.301\" x2=\"921.146\" y2=\"238.301\" style=\"stroke:#3da44d; stroke-width:4; stroke-opacity:1\"/>\n",
       "<line clip-path=\"url(#clip282)\" x1=\"921.146\" y1=\"254.301\" x2=\"905.146\" y2=\"254.301\" style=\"stroke:#3da44d; stroke-width:4; stroke-opacity:1\"/>\n",
       "<line clip-path=\"url(#clip282)\" x1=\"921.146\" y1=\"254.301\" x2=\"921.146\" y2=\"270.301\" style=\"stroke:#3da44d; stroke-width:4; stroke-opacity:1\"/>\n",
       "<line clip-path=\"url(#clip282)\" x1=\"921.146\" y1=\"254.301\" x2=\"937.146\" y2=\"254.301\" style=\"stroke:#3da44d; stroke-width:4; stroke-opacity:1\"/>\n",
       "<line clip-path=\"url(#clip282)\" x1=\"997.377\" y1=\"283.597\" x2=\"997.377\" y2=\"267.597\" style=\"stroke:#3da44d; stroke-width:4; stroke-opacity:1\"/>\n",
       "<line clip-path=\"url(#clip282)\" x1=\"997.377\" y1=\"283.597\" x2=\"981.377\" y2=\"283.597\" style=\"stroke:#3da44d; stroke-width:4; stroke-opacity:1\"/>\n",
       "<line clip-path=\"url(#clip282)\" x1=\"997.377\" y1=\"283.597\" x2=\"997.377\" y2=\"299.597\" style=\"stroke:#3da44d; stroke-width:4; stroke-opacity:1\"/>\n",
       "<line clip-path=\"url(#clip282)\" x1=\"997.377\" y1=\"283.597\" x2=\"1013.38\" y2=\"283.597\" style=\"stroke:#3da44d; stroke-width:4; stroke-opacity:1\"/>\n",
       "<line clip-path=\"url(#clip282)\" x1=\"1073.61\" y1=\"310.713\" x2=\"1073.61\" y2=\"294.713\" style=\"stroke:#3da44d; stroke-width:4; stroke-opacity:1\"/>\n",
       "<line clip-path=\"url(#clip282)\" x1=\"1073.61\" y1=\"310.713\" x2=\"1057.61\" y2=\"310.713\" style=\"stroke:#3da44d; stroke-width:4; stroke-opacity:1\"/>\n",
       "<line clip-path=\"url(#clip282)\" x1=\"1073.61\" y1=\"310.713\" x2=\"1073.61\" y2=\"326.713\" style=\"stroke:#3da44d; stroke-width:4; stroke-opacity:1\"/>\n",
       "<line clip-path=\"url(#clip282)\" x1=\"1073.61\" y1=\"310.713\" x2=\"1089.61\" y2=\"310.713\" style=\"stroke:#3da44d; stroke-width:4; stroke-opacity:1\"/>\n",
       "<line clip-path=\"url(#clip282)\" x1=\"1149.84\" y1=\"344.926\" x2=\"1149.84\" y2=\"328.926\" style=\"stroke:#3da44d; stroke-width:4; stroke-opacity:1\"/>\n",
       "<line clip-path=\"url(#clip282)\" x1=\"1149.84\" y1=\"344.926\" x2=\"1133.84\" y2=\"344.926\" style=\"stroke:#3da44d; stroke-width:4; stroke-opacity:1\"/>\n",
       "<line clip-path=\"url(#clip282)\" x1=\"1149.84\" y1=\"344.926\" x2=\"1149.84\" y2=\"360.926\" style=\"stroke:#3da44d; stroke-width:4; stroke-opacity:1\"/>\n",
       "<line clip-path=\"url(#clip282)\" x1=\"1149.84\" y1=\"344.926\" x2=\"1165.84\" y2=\"344.926\" style=\"stroke:#3da44d; stroke-width:4; stroke-opacity:1\"/>\n",
       "<line clip-path=\"url(#clip282)\" x1=\"1226.07\" y1=\"390.874\" x2=\"1226.07\" y2=\"374.874\" style=\"stroke:#3da44d; stroke-width:4; stroke-opacity:1\"/>\n",
       "<line clip-path=\"url(#clip282)\" x1=\"1226.07\" y1=\"390.874\" x2=\"1210.07\" y2=\"390.874\" style=\"stroke:#3da44d; stroke-width:4; stroke-opacity:1\"/>\n",
       "<line clip-path=\"url(#clip282)\" x1=\"1226.07\" y1=\"390.874\" x2=\"1226.07\" y2=\"406.874\" style=\"stroke:#3da44d; stroke-width:4; stroke-opacity:1\"/>\n",
       "<line clip-path=\"url(#clip282)\" x1=\"1226.07\" y1=\"390.874\" x2=\"1242.07\" y2=\"390.874\" style=\"stroke:#3da44d; stroke-width:4; stroke-opacity:1\"/>\n",
       "<line clip-path=\"url(#clip282)\" x1=\"1302.3\" y1=\"442.842\" x2=\"1302.3\" y2=\"426.842\" style=\"stroke:#3da44d; stroke-width:4; stroke-opacity:1\"/>\n",
       "<line clip-path=\"url(#clip282)\" x1=\"1302.3\" y1=\"442.842\" x2=\"1286.3\" y2=\"442.842\" style=\"stroke:#3da44d; stroke-width:4; stroke-opacity:1\"/>\n",
       "<line clip-path=\"url(#clip282)\" x1=\"1302.3\" y1=\"442.842\" x2=\"1302.3\" y2=\"458.842\" style=\"stroke:#3da44d; stroke-width:4; stroke-opacity:1\"/>\n",
       "<line clip-path=\"url(#clip282)\" x1=\"1302.3\" y1=\"442.842\" x2=\"1318.3\" y2=\"442.842\" style=\"stroke:#3da44d; stroke-width:4; stroke-opacity:1\"/>\n",
       "<line clip-path=\"url(#clip282)\" x1=\"1378.53\" y1=\"510.038\" x2=\"1378.53\" y2=\"494.038\" style=\"stroke:#3da44d; stroke-width:4; stroke-opacity:1\"/>\n",
       "<line clip-path=\"url(#clip282)\" x1=\"1378.53\" y1=\"510.038\" x2=\"1362.53\" y2=\"510.038\" style=\"stroke:#3da44d; stroke-width:4; stroke-opacity:1\"/>\n",
       "<line clip-path=\"url(#clip282)\" x1=\"1378.53\" y1=\"510.038\" x2=\"1378.53\" y2=\"526.038\" style=\"stroke:#3da44d; stroke-width:4; stroke-opacity:1\"/>\n",
       "<line clip-path=\"url(#clip282)\" x1=\"1378.53\" y1=\"510.038\" x2=\"1394.53\" y2=\"510.038\" style=\"stroke:#3da44d; stroke-width:4; stroke-opacity:1\"/>\n",
       "<line clip-path=\"url(#clip282)\" x1=\"1454.76\" y1=\"602.651\" x2=\"1454.76\" y2=\"586.651\" style=\"stroke:#3da44d; stroke-width:4; stroke-opacity:1\"/>\n",
       "<line clip-path=\"url(#clip282)\" x1=\"1454.76\" y1=\"602.651\" x2=\"1438.76\" y2=\"602.651\" style=\"stroke:#3da44d; stroke-width:4; stroke-opacity:1\"/>\n",
       "<line clip-path=\"url(#clip282)\" x1=\"1454.76\" y1=\"602.651\" x2=\"1454.76\" y2=\"618.651\" style=\"stroke:#3da44d; stroke-width:4; stroke-opacity:1\"/>\n",
       "<line clip-path=\"url(#clip282)\" x1=\"1454.76\" y1=\"602.651\" x2=\"1470.76\" y2=\"602.651\" style=\"stroke:#3da44d; stroke-width:4; stroke-opacity:1\"/>\n",
       "<line clip-path=\"url(#clip282)\" x1=\"1530.99\" y1=\"712.815\" x2=\"1530.99\" y2=\"696.815\" style=\"stroke:#3da44d; stroke-width:4; stroke-opacity:1\"/>\n",
       "<line clip-path=\"url(#clip282)\" x1=\"1530.99\" y1=\"712.815\" x2=\"1514.99\" y2=\"712.815\" style=\"stroke:#3da44d; stroke-width:4; stroke-opacity:1\"/>\n",
       "<line clip-path=\"url(#clip282)\" x1=\"1530.99\" y1=\"712.815\" x2=\"1530.99\" y2=\"728.815\" style=\"stroke:#3da44d; stroke-width:4; stroke-opacity:1\"/>\n",
       "<line clip-path=\"url(#clip282)\" x1=\"1530.99\" y1=\"712.815\" x2=\"1546.99\" y2=\"712.815\" style=\"stroke:#3da44d; stroke-width:4; stroke-opacity:1\"/>\n",
       "<line clip-path=\"url(#clip282)\" x1=\"1607.22\" y1=\"847.528\" x2=\"1607.22\" y2=\"831.528\" style=\"stroke:#3da44d; stroke-width:4; stroke-opacity:1\"/>\n",
       "<line clip-path=\"url(#clip282)\" x1=\"1607.22\" y1=\"847.528\" x2=\"1591.22\" y2=\"847.528\" style=\"stroke:#3da44d; stroke-width:4; stroke-opacity:1\"/>\n",
       "<line clip-path=\"url(#clip282)\" x1=\"1607.22\" y1=\"847.528\" x2=\"1607.22\" y2=\"863.528\" style=\"stroke:#3da44d; stroke-width:4; stroke-opacity:1\"/>\n",
       "<line clip-path=\"url(#clip282)\" x1=\"1607.22\" y1=\"847.528\" x2=\"1623.22\" y2=\"847.528\" style=\"stroke:#3da44d; stroke-width:4; stroke-opacity:1\"/>\n",
       "<line clip-path=\"url(#clip282)\" x1=\"1683.45\" y1=\"1001.59\" x2=\"1683.45\" y2=\"985.589\" style=\"stroke:#3da44d; stroke-width:4; stroke-opacity:1\"/>\n",
       "<line clip-path=\"url(#clip282)\" x1=\"1683.45\" y1=\"1001.59\" x2=\"1667.45\" y2=\"1001.59\" style=\"stroke:#3da44d; stroke-width:4; stroke-opacity:1\"/>\n",
       "<line clip-path=\"url(#clip282)\" x1=\"1683.45\" y1=\"1001.59\" x2=\"1683.45\" y2=\"1017.59\" style=\"stroke:#3da44d; stroke-width:4; stroke-opacity:1\"/>\n",
       "<line clip-path=\"url(#clip282)\" x1=\"1683.45\" y1=\"1001.59\" x2=\"1699.45\" y2=\"1001.59\" style=\"stroke:#3da44d; stroke-width:4; stroke-opacity:1\"/>\n",
       "<line clip-path=\"url(#clip282)\" x1=\"1759.68\" y1=\"1171.37\" x2=\"1759.68\" y2=\"1155.37\" style=\"stroke:#3da44d; stroke-width:4; stroke-opacity:1\"/>\n",
       "<line clip-path=\"url(#clip282)\" x1=\"1759.68\" y1=\"1171.37\" x2=\"1743.68\" y2=\"1171.37\" style=\"stroke:#3da44d; stroke-width:4; stroke-opacity:1\"/>\n",
       "<line clip-path=\"url(#clip282)\" x1=\"1759.68\" y1=\"1171.37\" x2=\"1759.68\" y2=\"1187.37\" style=\"stroke:#3da44d; stroke-width:4; stroke-opacity:1\"/>\n",
       "<line clip-path=\"url(#clip282)\" x1=\"1759.68\" y1=\"1171.37\" x2=\"1775.68\" y2=\"1171.37\" style=\"stroke:#3da44d; stroke-width:4; stroke-opacity:1\"/>\n",
       "<line clip-path=\"url(#clip282)\" x1=\"1835.91\" y1=\"1360.19\" x2=\"1835.91\" y2=\"1344.19\" style=\"stroke:#3da44d; stroke-width:4; stroke-opacity:1\"/>\n",
       "<line clip-path=\"url(#clip282)\" x1=\"1835.91\" y1=\"1360.19\" x2=\"1819.91\" y2=\"1360.19\" style=\"stroke:#3da44d; stroke-width:4; stroke-opacity:1\"/>\n",
       "<line clip-path=\"url(#clip282)\" x1=\"1835.91\" y1=\"1360.19\" x2=\"1835.91\" y2=\"1376.19\" style=\"stroke:#3da44d; stroke-width:4; stroke-opacity:1\"/>\n",
       "<line clip-path=\"url(#clip282)\" x1=\"1835.91\" y1=\"1360.19\" x2=\"1851.91\" y2=\"1360.19\" style=\"stroke:#3da44d; stroke-width:4; stroke-opacity:1\"/>\n",
       "<polyline clip-path=\"url(#clip282)\" style=\"stroke:#c271d2; stroke-linecap:round; stroke-linejoin:round; stroke-width:4; stroke-opacity:1; fill:none\" points=\"311.302,88.1266 387.533,103.653 463.763,120.222 539.994,140.984 616.224,159.416 692.455,182.439 768.685,211.061 844.916,236.725 921.146,274.701 997.377,312.66 1073.61,352.5 1149.84,403.566 1226.07,461.453 1302.3,531.301 1378.53,615.699 1454.76,708.861 1530.99,819.262 1607.22,944.745 1683.45,1096.23 1759.68,1256.53 \"/>\n",
       "<path clip-path=\"url(#clip282)\" d=\"M311.302 72.1266 L295.302 88.1266 L311.302 104.127 L327.302 88.1266 L311.302 72.1266 Z\" fill=\"#c271d2\" fill-rule=\"evenodd\" fill-opacity=\"1\" stroke=\"#000000\" stroke-opacity=\"1\" stroke-width=\"3.2\"/>\n",
       "<path clip-path=\"url(#clip282)\" d=\"M387.533 87.6529 L371.533 103.653 L387.533 119.653 L403.533 103.653 L387.533 87.6529 Z\" fill=\"#c271d2\" fill-rule=\"evenodd\" fill-opacity=\"1\" stroke=\"#000000\" stroke-opacity=\"1\" stroke-width=\"3.2\"/>\n",
       "<path clip-path=\"url(#clip282)\" d=\"M463.763 104.222 L447.763 120.222 L463.763 136.222 L479.763 120.222 L463.763 104.222 Z\" fill=\"#c271d2\" fill-rule=\"evenodd\" fill-opacity=\"1\" stroke=\"#000000\" stroke-opacity=\"1\" stroke-width=\"3.2\"/>\n",
       "<path clip-path=\"url(#clip282)\" d=\"M539.994 124.984 L523.994 140.984 L539.994 156.984 L555.994 140.984 L539.994 124.984 Z\" fill=\"#c271d2\" fill-rule=\"evenodd\" fill-opacity=\"1\" stroke=\"#000000\" stroke-opacity=\"1\" stroke-width=\"3.2\"/>\n",
       "<path clip-path=\"url(#clip282)\" d=\"M616.224 143.416 L600.224 159.416 L616.224 175.416 L632.224 159.416 L616.224 143.416 Z\" fill=\"#c271d2\" fill-rule=\"evenodd\" fill-opacity=\"1\" stroke=\"#000000\" stroke-opacity=\"1\" stroke-width=\"3.2\"/>\n",
       "<path clip-path=\"url(#clip282)\" d=\"M692.455 166.439 L676.455 182.439 L692.455 198.439 L708.455 182.439 L692.455 166.439 Z\" fill=\"#c271d2\" fill-rule=\"evenodd\" fill-opacity=\"1\" stroke=\"#000000\" stroke-opacity=\"1\" stroke-width=\"3.2\"/>\n",
       "<path clip-path=\"url(#clip282)\" d=\"M768.685 195.061 L752.685 211.061 L768.685 227.061 L784.685 211.061 L768.685 195.061 Z\" fill=\"#c271d2\" fill-rule=\"evenodd\" fill-opacity=\"1\" stroke=\"#000000\" stroke-opacity=\"1\" stroke-width=\"3.2\"/>\n",
       "<path clip-path=\"url(#clip282)\" d=\"M844.916 220.725 L828.916 236.725 L844.916 252.725 L860.916 236.725 L844.916 220.725 Z\" fill=\"#c271d2\" fill-rule=\"evenodd\" fill-opacity=\"1\" stroke=\"#000000\" stroke-opacity=\"1\" stroke-width=\"3.2\"/>\n",
       "<path clip-path=\"url(#clip282)\" d=\"M921.146 258.701 L905.146 274.701 L921.146 290.701 L937.146 274.701 L921.146 258.701 Z\" fill=\"#c271d2\" fill-rule=\"evenodd\" fill-opacity=\"1\" stroke=\"#000000\" stroke-opacity=\"1\" stroke-width=\"3.2\"/>\n",
       "<path clip-path=\"url(#clip282)\" d=\"M997.377 296.66 L981.377 312.66 L997.377 328.66 L1013.38 312.66 L997.377 296.66 Z\" fill=\"#c271d2\" fill-rule=\"evenodd\" fill-opacity=\"1\" stroke=\"#000000\" stroke-opacity=\"1\" stroke-width=\"3.2\"/>\n",
       "<path clip-path=\"url(#clip282)\" d=\"M1073.61 336.5 L1057.61 352.5 L1073.61 368.5 L1089.61 352.5 L1073.61 336.5 Z\" fill=\"#c271d2\" fill-rule=\"evenodd\" fill-opacity=\"1\" stroke=\"#000000\" stroke-opacity=\"1\" stroke-width=\"3.2\"/>\n",
       "<path clip-path=\"url(#clip282)\" d=\"M1149.84 387.566 L1133.84 403.566 L1149.84 419.566 L1165.84 403.566 L1149.84 387.566 Z\" fill=\"#c271d2\" fill-rule=\"evenodd\" fill-opacity=\"1\" stroke=\"#000000\" stroke-opacity=\"1\" stroke-width=\"3.2\"/>\n",
       "<path clip-path=\"url(#clip282)\" d=\"M1226.07 445.453 L1210.07 461.453 L1226.07 477.453 L1242.07 461.453 L1226.07 445.453 Z\" fill=\"#c271d2\" fill-rule=\"evenodd\" fill-opacity=\"1\" stroke=\"#000000\" stroke-opacity=\"1\" stroke-width=\"3.2\"/>\n",
       "<path clip-path=\"url(#clip282)\" d=\"M1302.3 515.301 L1286.3 531.301 L1302.3 547.301 L1318.3 531.301 L1302.3 515.301 Z\" fill=\"#c271d2\" fill-rule=\"evenodd\" fill-opacity=\"1\" stroke=\"#000000\" stroke-opacity=\"1\" stroke-width=\"3.2\"/>\n",
       "<path clip-path=\"url(#clip282)\" d=\"M1378.53 599.699 L1362.53 615.699 L1378.53 631.699 L1394.53 615.699 L1378.53 599.699 Z\" fill=\"#c271d2\" fill-rule=\"evenodd\" fill-opacity=\"1\" stroke=\"#000000\" stroke-opacity=\"1\" stroke-width=\"3.2\"/>\n",
       "<path clip-path=\"url(#clip282)\" d=\"M1454.76 692.861 L1438.76 708.861 L1454.76 724.861 L1470.76 708.861 L1454.76 692.861 Z\" fill=\"#c271d2\" fill-rule=\"evenodd\" fill-opacity=\"1\" stroke=\"#000000\" stroke-opacity=\"1\" stroke-width=\"3.2\"/>\n",
       "<path clip-path=\"url(#clip282)\" d=\"M1530.99 803.262 L1514.99 819.262 L1530.99 835.262 L1546.99 819.262 L1530.99 803.262 Z\" fill=\"#c271d2\" fill-rule=\"evenodd\" fill-opacity=\"1\" stroke=\"#000000\" stroke-opacity=\"1\" stroke-width=\"3.2\"/>\n",
       "<path clip-path=\"url(#clip282)\" d=\"M1607.22 928.745 L1591.22 944.745 L1607.22 960.745 L1623.22 944.745 L1607.22 928.745 Z\" fill=\"#c271d2\" fill-rule=\"evenodd\" fill-opacity=\"1\" stroke=\"#000000\" stroke-opacity=\"1\" stroke-width=\"3.2\"/>\n",
       "<path clip-path=\"url(#clip282)\" d=\"M1683.45 1080.23 L1667.45 1096.23 L1683.45 1112.23 L1699.45 1096.23 L1683.45 1080.23 Z\" fill=\"#c271d2\" fill-rule=\"evenodd\" fill-opacity=\"1\" stroke=\"#000000\" stroke-opacity=\"1\" stroke-width=\"3.2\"/>\n",
       "<path clip-path=\"url(#clip282)\" d=\"M1759.68 1240.53 L1743.68 1256.53 L1759.68 1272.53 L1775.68 1256.53 L1759.68 1240.53 Z\" fill=\"#c271d2\" fill-rule=\"evenodd\" fill-opacity=\"1\" stroke=\"#000000\" stroke-opacity=\"1\" stroke-width=\"3.2\"/>\n",
       "<path clip-path=\"url(#clip280)\" d=\"M321.873 1377.32 L1324.44 1377.32 L1324.44 1118.12 L321.873 1118.12  Z\" fill=\"#ffffff\" fill-rule=\"evenodd\" fill-opacity=\"1\"/>\n",
       "<polyline clip-path=\"url(#clip280)\" style=\"stroke:#000000; stroke-linecap:round; stroke-linejoin:round; stroke-width:4; stroke-opacity:1; fill:none\" points=\"321.873,1377.32 1324.44,1377.32 1324.44,1118.12 321.873,1118.12 321.873,1377.32 \"/>\n",
       "<polyline clip-path=\"url(#clip280)\" style=\"stroke:#009af9; stroke-linecap:round; stroke-linejoin:round; stroke-width:4; stroke-opacity:1; fill:none\" points=\"345.216,1169.96 485.277,1169.96 \"/>\n",
       "<line clip-path=\"url(#clip280)\" x1=\"415.247\" y1=\"1169.96\" x2=\"415.247\" y2=\"1148.34\" style=\"stroke:#009af9; stroke-width:4.55111; stroke-opacity:1\"/>\n",
       "<line clip-path=\"url(#clip280)\" x1=\"415.247\" y1=\"1169.96\" x2=\"393.632\" y2=\"1169.96\" style=\"stroke:#009af9; stroke-width:4.55111; stroke-opacity:1\"/>\n",
       "<line clip-path=\"url(#clip280)\" x1=\"415.247\" y1=\"1169.96\" x2=\"415.247\" y2=\"1191.57\" style=\"stroke:#009af9; stroke-width:4.55111; stroke-opacity:1\"/>\n",
       "<line clip-path=\"url(#clip280)\" x1=\"415.247\" y1=\"1169.96\" x2=\"436.861\" y2=\"1169.96\" style=\"stroke:#009af9; stroke-width:4.55111; stroke-opacity:1\"/>\n",
       "<path clip-path=\"url(#clip280)\" d=\"M509.292 1183.3 L516.931 1183.3 L516.931 1156.93 L508.621 1158.6 L508.621 1154.34 L516.885 1152.68 L521.56 1152.68 L521.56 1183.3 L529.199 1183.3 L529.199 1187.24 L509.292 1187.24 L509.292 1183.3 Z\" fill=\"#000000\" fill-rule=\"nonzero\" fill-opacity=\"1\" /><path clip-path=\"url(#clip280)\" d=\"M539.13 1181.36 L544.014 1181.36 L544.014 1187.24 L539.13 1187.24 L539.13 1181.36 M539.13 1162.72 L544.014 1162.72 L544.014 1168.6 L539.13 1168.6 L539.13 1162.72 Z\" fill=\"#000000\" fill-rule=\"nonzero\" fill-opacity=\"1\" /><path clip-path=\"url(#clip280)\" d=\"M567.278 1152.68 L594.43 1152.68 L594.43 1156.24 L572.579 1183.3 L594.963 1183.3 L594.963 1187.24 L566.745 1187.24 L566.745 1183.67 L588.597 1156.61 L567.278 1156.61 L567.278 1152.68 Z\" fill=\"#000000\" fill-rule=\"nonzero\" fill-opacity=\"1\" /><path clip-path=\"url(#clip280)\" d=\"M601.745 1152.68 L621.606 1152.68 L621.606 1156.61 L606.421 1156.61 L606.421 1166.8 L620.125 1166.8 L620.125 1170.73 L606.421 1170.73 L606.421 1187.24 L601.745 1187.24 L601.745 1152.68 Z\" fill=\"#000000\" fill-rule=\"nonzero\" fill-opacity=\"1\" /><polyline clip-path=\"url(#clip280)\" style=\"stroke:#e26f46; stroke-linecap:round; stroke-linejoin:round; stroke-width:4; stroke-opacity:1; fill:none\" points=\"345.216,1221.8 485.277,1221.8 \"/>\n",
       "<circle clip-path=\"url(#clip280)\" cx=\"415.247\" cy=\"1221.8\" r=\"19.4529\" fill=\"#e26f46\" fill-rule=\"evenodd\" fill-opacity=\"1\" stroke=\"#000000\" stroke-opacity=\"1\" stroke-width=\"4.55111\"/>\n",
       "<path clip-path=\"url(#clip280)\" d=\"M514.246 1235.14 L530.565 1235.14 L530.565 1239.08 L508.621 1239.08 L508.621 1235.14 Q511.283 1232.39 515.866 1227.76 Q520.472 1223.1 521.653 1221.76 Q523.898 1219.24 524.778 1217.5 Q525.681 1215.74 525.681 1214.05 Q525.681 1211.3 523.736 1209.56 Q521.815 1207.83 518.713 1207.83 Q516.514 1207.83 514.06 1208.59 Q511.63 1209.35 508.852 1210.9 L508.852 1206.18 Q511.676 1205.05 514.13 1204.47 Q516.584 1203.89 518.621 1203.89 Q523.991 1203.89 527.185 1206.58 Q530.38 1209.26 530.38 1213.75 Q530.38 1215.88 529.57 1217.8 Q528.783 1219.7 526.676 1222.29 Q526.097 1222.96 522.996 1226.18 Q519.894 1229.38 514.246 1235.14 Z\" fill=\"#000000\" fill-rule=\"nonzero\" fill-opacity=\"1\" /><path clip-path=\"url(#clip280)\" d=\"M540.866 1233.2 L545.75 1233.2 L545.75 1239.08 L540.866 1239.08 L540.866 1233.2 M540.866 1214.56 L545.75 1214.56 L545.75 1220.44 L540.866 1220.44 L540.866 1214.56 Z\" fill=\"#000000\" fill-rule=\"nonzero\" fill-opacity=\"1\" /><path clip-path=\"url(#clip280)\" d=\"M574.94 1235.19 L574.94 1248.94 L570.657 1248.94 L570.657 1213.15 L574.94 1213.15 L574.94 1217.08 Q576.282 1214.77 578.319 1213.66 Q580.38 1212.52 583.227 1212.52 Q587.949 1212.52 590.889 1216.27 Q593.852 1220.02 593.852 1226.14 Q593.852 1232.25 590.889 1236 Q587.949 1239.75 583.227 1239.75 Q580.38 1239.75 578.319 1238.64 Q576.282 1237.5 574.94 1235.19 M589.43 1226.14 Q589.43 1221.44 587.486 1218.77 Q585.565 1216.09 582.185 1216.09 Q578.805 1216.09 576.861 1218.77 Q574.94 1221.44 574.94 1226.14 Q574.94 1230.83 576.861 1233.52 Q578.805 1236.18 582.185 1236.18 Q585.565 1236.18 587.486 1233.52 Q589.43 1230.83 589.43 1226.14 Z\" fill=\"#000000\" fill-rule=\"nonzero\" fill-opacity=\"1\" /><path clip-path=\"url(#clip280)\" d=\"M615.935 1217.13 Q615.217 1216.71 614.361 1216.53 Q613.528 1216.32 612.509 1216.32 Q608.898 1216.32 606.953 1218.68 Q605.032 1221.02 605.032 1225.42 L605.032 1239.08 L600.75 1239.08 L600.75 1213.15 L605.032 1213.15 L605.032 1217.18 Q606.375 1214.82 608.528 1213.68 Q610.68 1212.52 613.759 1212.52 Q614.199 1212.52 614.731 1212.59 Q615.264 1212.64 615.912 1212.76 L615.935 1217.13 Z\" fill=\"#000000\" fill-rule=\"nonzero\" fill-opacity=\"1\" /><path clip-path=\"url(#clip280)\" d=\"M641.537 1225.05 L641.537 1227.13 L621.953 1227.13 Q622.231 1231.53 624.592 1233.84 Q626.977 1236.14 631.213 1236.14 Q633.666 1236.14 635.958 1235.53 Q638.273 1234.93 640.541 1233.73 L640.541 1237.76 Q638.25 1238.73 635.842 1239.24 Q633.435 1239.75 630.958 1239.75 Q624.754 1239.75 621.12 1236.14 Q617.509 1232.52 617.509 1226.37 Q617.509 1220 620.935 1216.27 Q624.384 1212.52 630.217 1212.52 Q635.449 1212.52 638.481 1215.9 Q641.537 1219.26 641.537 1225.05 M637.277 1223.8 Q637.231 1220.3 635.31 1218.22 Q633.412 1216.14 630.264 1216.14 Q626.699 1216.14 624.546 1218.15 Q622.416 1220.16 622.092 1223.82 L637.277 1223.8 Z\" fill=\"#000000\" fill-rule=\"nonzero\" fill-opacity=\"1\" /><path clip-path=\"url(#clip280)\" d=\"M667.185 1214.14 L667.185 1218.13 Q665.379 1217.13 663.55 1216.64 Q661.745 1216.14 659.893 1216.14 Q655.75 1216.14 653.458 1218.77 Q651.166 1221.39 651.166 1226.14 Q651.166 1230.88 653.458 1233.52 Q655.75 1236.14 659.893 1236.14 Q661.745 1236.14 663.55 1235.65 Q665.379 1235.14 667.185 1234.14 L667.185 1238.08 Q665.402 1238.91 663.481 1239.33 Q661.583 1239.75 659.43 1239.75 Q653.574 1239.75 650.125 1236.07 Q646.676 1232.39 646.676 1226.14 Q646.676 1219.79 650.148 1216.16 Q653.643 1212.52 659.708 1212.52 Q661.675 1212.52 663.55 1212.94 Q665.425 1213.33 667.185 1214.14 Z\" fill=\"#000000\" fill-rule=\"nonzero\" fill-opacity=\"1\" /><path clip-path=\"url(#clip280)\" d=\"M684.638 1216.14 Q681.212 1216.14 679.222 1218.82 Q677.231 1221.48 677.231 1226.14 Q677.231 1230.79 679.198 1233.47 Q681.189 1236.14 684.638 1236.14 Q688.041 1236.14 690.032 1233.45 Q692.022 1230.77 692.022 1226.14 Q692.022 1221.53 690.032 1218.84 Q688.041 1216.14 684.638 1216.14 M684.638 1212.52 Q690.194 1212.52 693.365 1216.14 Q696.536 1219.75 696.536 1226.14 Q696.536 1232.5 693.365 1236.14 Q690.194 1239.75 684.638 1239.75 Q679.06 1239.75 675.888 1236.14 Q672.74 1232.5 672.74 1226.14 Q672.74 1219.75 675.888 1216.14 Q679.06 1212.52 684.638 1212.52 Z\" fill=\"#000000\" fill-rule=\"nonzero\" fill-opacity=\"1\" /><path clip-path=\"url(#clip280)\" d=\"M720.657 1217.08 L720.657 1203.06 L724.916 1203.06 L724.916 1239.08 L720.657 1239.08 L720.657 1235.19 Q719.314 1237.5 717.254 1238.64 Q715.217 1239.75 712.346 1239.75 Q707.647 1239.75 704.684 1236 Q701.745 1232.25 701.745 1226.14 Q701.745 1220.02 704.684 1216.27 Q707.647 1212.52 712.346 1212.52 Q715.217 1212.52 717.254 1213.66 Q719.314 1214.77 720.657 1217.08 M706.143 1226.14 Q706.143 1230.83 708.064 1233.52 Q710.008 1236.18 713.388 1236.18 Q716.768 1236.18 718.712 1233.52 Q720.657 1230.83 720.657 1226.14 Q720.657 1221.44 718.712 1218.77 Q716.768 1216.09 713.388 1216.09 Q710.008 1216.09 708.064 1218.77 Q706.143 1221.44 706.143 1226.14 Z\" fill=\"#000000\" fill-rule=\"nonzero\" fill-opacity=\"1\" /><path clip-path=\"url(#clip280)\" d=\"M755.865 1225.05 L755.865 1227.13 L736.282 1227.13 Q736.559 1231.53 738.92 1233.84 Q741.305 1236.14 745.541 1236.14 Q747.994 1236.14 750.286 1235.53 Q752.601 1234.93 754.869 1233.73 L754.869 1237.76 Q752.578 1238.73 750.17 1239.24 Q747.763 1239.75 745.286 1239.75 Q739.082 1239.75 735.448 1236.14 Q731.837 1232.52 731.837 1226.37 Q731.837 1220 735.263 1216.27 Q738.712 1212.52 744.545 1212.52 Q749.777 1212.52 752.809 1215.9 Q755.865 1219.26 755.865 1225.05 M751.605 1223.8 Q751.559 1220.3 749.638 1218.22 Q747.74 1216.14 744.592 1216.14 Q741.027 1216.14 738.874 1218.15 Q736.744 1220.16 736.42 1223.82 L751.605 1223.8 Z\" fill=\"#000000\" fill-rule=\"nonzero\" fill-opacity=\"1\" /><path clip-path=\"url(#clip280)\" d=\"M779.916 1217.08 L779.916 1203.06 L784.175 1203.06 L784.175 1239.08 L779.916 1239.08 L779.916 1235.19 Q778.573 1237.5 776.513 1238.64 Q774.476 1239.75 771.605 1239.75 Q766.906 1239.75 763.943 1236 Q761.004 1232.25 761.004 1226.14 Q761.004 1220.02 763.943 1216.27 Q766.906 1212.52 771.605 1212.52 Q774.476 1212.52 776.513 1213.66 Q778.573 1214.77 779.916 1217.08 M765.402 1226.14 Q765.402 1230.83 767.323 1233.52 Q769.267 1236.18 772.647 1236.18 Q776.027 1236.18 777.971 1233.52 Q779.916 1230.83 779.916 1226.14 Q779.916 1221.44 777.971 1218.77 Q776.027 1216.09 772.647 1216.09 Q769.267 1216.09 767.323 1218.77 Q765.402 1221.44 765.402 1226.14 Z\" fill=\"#000000\" fill-rule=\"nonzero\" fill-opacity=\"1\" /><path clip-path=\"url(#clip280)\" d=\"M806.212 1204.52 L833.364 1204.52 L833.364 1208.08 L811.513 1235.14 L833.897 1235.14 L833.897 1239.08 L805.679 1239.08 L805.679 1235.51 L827.531 1208.45 L806.212 1208.45 L806.212 1204.52 Z\" fill=\"#000000\" fill-rule=\"nonzero\" fill-opacity=\"1\" /><path clip-path=\"url(#clip280)\" d=\"M840.679 1204.52 L860.54 1204.52 L860.54 1208.45 L845.355 1208.45 L845.355 1218.64 L859.059 1218.64 L859.059 1222.57 L845.355 1222.57 L845.355 1239.08 L840.679 1239.08 L840.679 1204.52 Z\" fill=\"#000000\" fill-rule=\"nonzero\" fill-opacity=\"1\" /><polyline clip-path=\"url(#clip280)\" style=\"stroke:#3da44d; stroke-linecap:round; stroke-linejoin:round; stroke-width:4; stroke-opacity:1; fill:none\" points=\"345.216,1273.64 485.277,1273.64 \"/>\n",
       "<line clip-path=\"url(#clip280)\" x1=\"415.247\" y1=\"1273.64\" x2=\"415.247\" y2=\"1252.02\" style=\"stroke:#3da44d; stroke-width:4.55111; stroke-opacity:1\"/>\n",
       "<line clip-path=\"url(#clip280)\" x1=\"415.247\" y1=\"1273.64\" x2=\"393.632\" y2=\"1273.64\" style=\"stroke:#3da44d; stroke-width:4.55111; stroke-opacity:1\"/>\n",
       "<line clip-path=\"url(#clip280)\" x1=\"415.247\" y1=\"1273.64\" x2=\"415.247\" y2=\"1295.25\" style=\"stroke:#3da44d; stroke-width:4.55111; stroke-opacity:1\"/>\n",
       "<line clip-path=\"url(#clip280)\" x1=\"415.247\" y1=\"1273.64\" x2=\"436.861\" y2=\"1273.64\" style=\"stroke:#3da44d; stroke-width:4.55111; stroke-opacity:1\"/>\n",
       "<path clip-path=\"url(#clip280)\" d=\"M524.222 1260.43 L512.417 1278.88 L524.222 1278.88 L524.222 1260.43 M522.996 1256.36 L528.875 1256.36 L528.875 1278.88 L533.806 1278.88 L533.806 1282.77 L528.875 1282.77 L528.875 1290.92 L524.222 1290.92 L524.222 1282.77 L508.621 1282.77 L508.621 1278.25 L522.996 1256.36 Z\" fill=\"#000000\" fill-rule=\"nonzero\" fill-opacity=\"1\" /><path clip-path=\"url(#clip280)\" d=\"M542.023 1285.04 L546.908 1285.04 L546.908 1290.92 L542.023 1290.92 L542.023 1285.04 M542.023 1266.4 L546.908 1266.4 L546.908 1272.28 L542.023 1272.28 L542.023 1266.4 Z\" fill=\"#000000\" fill-rule=\"nonzero\" fill-opacity=\"1\" /><path clip-path=\"url(#clip280)\" d=\"M576.097 1287.03 L576.097 1300.78 L571.815 1300.78 L571.815 1264.99 L576.097 1264.99 L576.097 1268.92 Q577.44 1266.61 579.477 1265.5 Q581.537 1264.36 584.384 1264.36 Q589.106 1264.36 592.046 1268.11 Q595.009 1271.86 595.009 1277.98 Q595.009 1284.09 592.046 1287.84 Q589.106 1291.59 584.384 1291.59 Q581.537 1291.59 579.477 1290.48 Q577.44 1289.34 576.097 1287.03 M590.588 1277.98 Q590.588 1273.28 588.643 1270.61 Q586.722 1267.93 583.343 1267.93 Q579.963 1267.93 578.018 1270.61 Q576.097 1273.28 576.097 1277.98 Q576.097 1282.67 578.018 1285.36 Q579.963 1288.02 583.343 1288.02 Q586.722 1288.02 588.643 1285.36 Q590.588 1282.67 590.588 1277.98 Z\" fill=\"#000000\" fill-rule=\"nonzero\" fill-opacity=\"1\" /><path clip-path=\"url(#clip280)\" d=\"M617.092 1268.97 Q616.375 1268.55 615.518 1268.37 Q614.685 1268.16 613.666 1268.16 Q610.055 1268.16 608.111 1270.52 Q606.19 1272.86 606.19 1277.26 L606.19 1290.92 L601.907 1290.92 L601.907 1264.99 L606.19 1264.99 L606.19 1269.02 Q607.532 1266.66 609.685 1265.52 Q611.838 1264.36 614.916 1264.36 Q615.356 1264.36 615.889 1264.43 Q616.421 1264.48 617.069 1264.6 L617.092 1268.97 Z\" fill=\"#000000\" fill-rule=\"nonzero\" fill-opacity=\"1\" /><path clip-path=\"url(#clip280)\" d=\"M642.694 1276.89 L642.694 1278.97 L623.111 1278.97 Q623.389 1283.37 625.75 1285.68 Q628.134 1287.98 632.37 1287.98 Q634.824 1287.98 637.115 1287.37 Q639.43 1286.77 641.699 1285.57 L641.699 1289.6 Q639.407 1290.57 637 1291.08 Q634.592 1291.59 632.115 1291.59 Q625.912 1291.59 622.277 1287.98 Q618.666 1284.36 618.666 1278.21 Q618.666 1271.84 622.092 1268.11 Q625.541 1264.36 631.375 1264.36 Q636.606 1264.36 639.639 1267.74 Q642.694 1271.1 642.694 1276.89 M638.435 1275.64 Q638.389 1272.14 636.467 1270.06 Q634.569 1267.98 631.421 1267.98 Q627.856 1267.98 625.703 1269.99 Q623.574 1272 623.25 1275.66 L638.435 1275.64 Z\" fill=\"#000000\" fill-rule=\"nonzero\" fill-opacity=\"1\" /><path clip-path=\"url(#clip280)\" d=\"M668.342 1265.98 L668.342 1269.97 Q666.537 1268.97 664.708 1268.48 Q662.902 1267.98 661.05 1267.98 Q656.907 1267.98 654.615 1270.61 Q652.324 1273.23 652.324 1277.98 Q652.324 1282.72 654.615 1285.36 Q656.907 1287.98 661.05 1287.98 Q662.902 1287.98 664.708 1287.49 Q666.537 1286.98 668.342 1285.98 L668.342 1289.92 Q666.56 1290.75 664.638 1291.17 Q662.74 1291.59 660.587 1291.59 Q654.731 1291.59 651.282 1287.91 Q647.833 1284.23 647.833 1277.98 Q647.833 1271.63 651.305 1268 Q654.8 1264.36 660.865 1264.36 Q662.833 1264.36 664.708 1264.78 Q666.583 1265.17 668.342 1265.98 Z\" fill=\"#000000\" fill-rule=\"nonzero\" fill-opacity=\"1\" /><path clip-path=\"url(#clip280)\" d=\"M685.796 1267.98 Q682.37 1267.98 680.379 1270.66 Q678.388 1273.32 678.388 1277.98 Q678.388 1282.63 680.356 1285.31 Q682.347 1287.98 685.796 1287.98 Q689.198 1287.98 691.189 1285.29 Q693.18 1282.61 693.18 1277.98 Q693.18 1273.37 691.189 1270.68 Q689.198 1267.98 685.796 1267.98 M685.796 1264.36 Q691.351 1264.36 694.522 1267.98 Q697.694 1271.59 697.694 1277.98 Q697.694 1284.34 694.522 1287.98 Q691.351 1291.59 685.796 1291.59 Q680.217 1291.59 677.046 1287.98 Q673.898 1284.34 673.898 1277.98 Q673.898 1271.59 677.046 1267.98 Q680.217 1264.36 685.796 1264.36 Z\" fill=\"#000000\" fill-rule=\"nonzero\" fill-opacity=\"1\" /><path clip-path=\"url(#clip280)\" d=\"M721.814 1268.92 L721.814 1254.9 L726.073 1254.9 L726.073 1290.92 L721.814 1290.92 L721.814 1287.03 Q720.471 1289.34 718.411 1290.48 Q716.374 1291.59 713.504 1291.59 Q708.805 1291.59 705.842 1287.84 Q702.902 1284.09 702.902 1277.98 Q702.902 1271.86 705.842 1268.11 Q708.805 1264.36 713.504 1264.36 Q716.374 1264.36 718.411 1265.5 Q720.471 1266.61 721.814 1268.92 M707.3 1277.98 Q707.3 1282.67 709.221 1285.36 Q711.166 1288.02 714.546 1288.02 Q717.925 1288.02 719.87 1285.36 Q721.814 1282.67 721.814 1277.98 Q721.814 1273.28 719.87 1270.61 Q717.925 1267.93 714.546 1267.93 Q711.166 1267.93 709.221 1270.61 Q707.3 1273.28 707.3 1277.98 Z\" fill=\"#000000\" fill-rule=\"nonzero\" fill-opacity=\"1\" /><path clip-path=\"url(#clip280)\" d=\"M757.022 1276.89 L757.022 1278.97 L737.439 1278.97 Q737.717 1283.37 740.078 1285.68 Q742.462 1287.98 746.698 1287.98 Q749.152 1287.98 751.443 1287.37 Q753.758 1286.77 756.027 1285.57 L756.027 1289.6 Q753.735 1290.57 751.328 1291.08 Q748.92 1291.59 746.443 1291.59 Q740.24 1291.59 736.606 1287.98 Q732.994 1284.36 732.994 1278.21 Q732.994 1271.84 736.42 1268.11 Q739.869 1264.36 745.703 1264.36 Q750.934 1264.36 753.967 1267.74 Q757.022 1271.1 757.022 1276.89 M752.763 1275.64 Q752.717 1272.14 750.795 1270.06 Q748.897 1267.98 745.749 1267.98 Q742.184 1267.98 740.031 1269.99 Q737.902 1272 737.578 1275.66 L752.763 1275.64 Z\" fill=\"#000000\" fill-rule=\"nonzero\" fill-opacity=\"1\" /><path clip-path=\"url(#clip280)\" d=\"M781.073 1268.92 L781.073 1254.9 L785.332 1254.9 L785.332 1290.92 L781.073 1290.92 L781.073 1287.03 Q779.73 1289.34 777.67 1290.48 Q775.633 1291.59 772.763 1291.59 Q768.064 1291.59 765.101 1287.84 Q762.161 1284.09 762.161 1277.98 Q762.161 1271.86 765.101 1268.11 Q768.064 1264.36 772.763 1264.36 Q775.633 1264.36 777.67 1265.5 Q779.73 1266.61 781.073 1268.92 M766.559 1277.98 Q766.559 1282.67 768.48 1285.36 Q770.425 1288.02 773.804 1288.02 Q777.184 1288.02 779.128 1285.36 Q781.073 1282.67 781.073 1277.98 Q781.073 1273.28 779.128 1270.61 Q777.184 1267.93 773.804 1267.93 Q770.425 1267.93 768.48 1270.61 Q766.559 1273.28 766.559 1277.98 Z\" fill=\"#000000\" fill-rule=\"nonzero\" fill-opacity=\"1\" /><path clip-path=\"url(#clip280)\" d=\"M814.036 1260.2 L814.036 1287.07 L819.684 1287.07 Q826.837 1287.07 830.147 1283.83 Q833.48 1280.59 833.48 1273.6 Q833.48 1266.66 830.147 1263.44 Q826.837 1260.2 819.684 1260.2 L814.036 1260.2 M809.36 1256.36 L818.966 1256.36 Q829.012 1256.36 833.712 1260.55 Q838.411 1264.71 838.411 1273.6 Q838.411 1282.54 833.688 1286.73 Q828.966 1290.92 818.966 1290.92 L809.36 1290.92 L809.36 1256.36 Z\" fill=\"#000000\" fill-rule=\"nonzero\" fill-opacity=\"1\" /><path clip-path=\"url(#clip280)\" d=\"M843.526 1276.03 L856.003 1276.03 L856.003 1279.83 L843.526 1279.83 L843.526 1276.03 Z\" fill=\"#000000\" fill-rule=\"nonzero\" fill-opacity=\"1\" /><path clip-path=\"url(#clip280)\" d=\"M865.957 1274.41 L865.957 1287.07 L873.457 1287.07 Q877.23 1287.07 879.035 1285.52 Q880.864 1283.95 880.864 1280.73 Q880.864 1277.49 879.035 1275.96 Q877.23 1274.41 873.457 1274.41 L865.957 1274.41 M865.957 1260.2 L865.957 1270.61 L872.878 1270.61 Q876.304 1270.61 877.971 1269.34 Q879.66 1268.05 879.66 1265.41 Q879.66 1262.79 877.971 1261.49 Q876.304 1260.2 872.878 1260.2 L865.957 1260.2 M861.281 1256.36 L873.225 1256.36 Q878.572 1256.36 881.466 1258.58 Q884.359 1260.8 884.359 1264.9 Q884.359 1268.07 882.878 1269.94 Q881.396 1271.82 878.526 1272.28 Q881.975 1273.02 883.873 1275.38 Q885.795 1277.72 885.795 1281.24 Q885.795 1285.87 882.646 1288.39 Q879.498 1290.92 873.688 1290.92 L861.281 1290.92 L861.281 1256.36 Z\" fill=\"#000000\" fill-rule=\"nonzero\" fill-opacity=\"1\" /><path clip-path=\"url(#clip280)\" d=\"M893.804 1256.36 L898.48 1256.36 L898.48 1286.98 L915.308 1286.98 L915.308 1290.92 L893.804 1290.92 L893.804 1256.36 Z\" fill=\"#000000\" fill-rule=\"nonzero\" fill-opacity=\"1\" /><path clip-path=\"url(#clip280)\" d=\"M932.855 1260.96 L926.512 1278.16 L939.22 1278.16 L932.855 1260.96 M930.216 1256.36 L935.517 1256.36 L948.688 1290.92 L943.827 1290.92 L940.679 1282.05 L925.1 1282.05 L921.952 1290.92 L917.021 1290.92 L930.216 1256.36 Z\" fill=\"#000000\" fill-rule=\"nonzero\" fill-opacity=\"1\" /><path clip-path=\"url(#clip280)\" d=\"M974.452 1257.49 L974.452 1262.05 Q971.79 1260.78 969.428 1260.15 Q967.067 1259.53 964.868 1259.53 Q961.049 1259.53 958.965 1261.01 Q956.905 1262.49 956.905 1265.22 Q956.905 1267.51 958.271 1268.69 Q959.66 1269.85 963.503 1270.57 L966.327 1271.15 Q971.558 1272.14 974.035 1274.67 Q976.535 1277.17 976.535 1281.38 Q976.535 1286.4 973.155 1288.99 Q969.799 1291.59 963.294 1291.59 Q960.84 1291.59 958.063 1291.03 Q955.308 1290.48 952.345 1289.39 L952.345 1284.57 Q955.192 1286.17 957.924 1286.98 Q960.655 1287.79 963.294 1287.79 Q967.299 1287.79 969.475 1286.22 Q971.651 1284.64 971.651 1281.73 Q971.651 1279.18 970.077 1277.74 Q968.526 1276.31 964.961 1275.59 L962.114 1275.04 Q956.882 1273.99 954.544 1271.77 Q952.206 1269.55 952.206 1265.59 Q952.206 1261.01 955.424 1258.37 Q958.665 1255.73 964.336 1255.73 Q966.766 1255.73 969.29 1256.17 Q971.813 1256.61 974.452 1257.49 Z\" fill=\"#000000\" fill-rule=\"nonzero\" fill-opacity=\"1\" /><path clip-path=\"url(#clip280)\" d=\"M979.035 1256.36 L1008.27 1256.36 L1008.27 1260.29 L996.002 1260.29 L996.002 1290.92 L991.303 1290.92 L991.303 1260.29 L979.035 1260.29 L979.035 1256.36 Z\" fill=\"#000000\" fill-rule=\"nonzero\" fill-opacity=\"1\" /><path clip-path=\"url(#clip280)\" d=\"M1006.09 1276.03 L1018.57 1276.03 L1018.57 1279.83 L1006.09 1279.83 L1006.09 1276.03 Z\" fill=\"#000000\" fill-rule=\"nonzero\" fill-opacity=\"1\" /><path clip-path=\"url(#clip280)\" d=\"M1041.88 1265.75 L1041.88 1269.78 Q1040.08 1268.86 1038.13 1268.39 Q1036.19 1267.93 1034.1 1267.93 Q1030.93 1267.93 1029.34 1268.9 Q1027.76 1269.87 1027.76 1271.82 Q1027.76 1273.3 1028.9 1274.16 Q1030.03 1274.99 1033.46 1275.75 L1034.91 1276.08 Q1039.45 1277.05 1041.35 1278.83 Q1043.27 1280.59 1043.27 1283.76 Q1043.27 1287.37 1040.4 1289.48 Q1037.55 1291.59 1032.55 1291.59 Q1030.47 1291.59 1028.2 1291.17 Q1025.96 1290.78 1023.46 1289.97 L1023.46 1285.57 Q1025.82 1286.79 1028.11 1287.42 Q1030.4 1288.02 1032.65 1288.02 Q1035.65 1288.02 1037.28 1287 Q1038.9 1285.96 1038.9 1284.09 Q1038.9 1282.35 1037.72 1281.42 Q1036.56 1280.5 1032.6 1279.64 L1031.12 1279.3 Q1027.16 1278.46 1025.4 1276.75 Q1023.64 1275.01 1023.64 1272 Q1023.64 1268.35 1026.23 1266.36 Q1028.83 1264.36 1033.59 1264.36 Q1035.96 1264.36 1038.04 1264.71 Q1040.12 1265.06 1041.88 1265.75 Z\" fill=\"#000000\" fill-rule=\"nonzero\" fill-opacity=\"1\" /><path clip-path=\"url(#clip280)\" d=\"M1054.27 1257.63 L1054.27 1264.99 L1063.04 1264.99 L1063.04 1268.3 L1054.27 1268.3 L1054.27 1282.37 Q1054.27 1285.54 1055.12 1286.45 Q1056 1287.35 1058.66 1287.35 L1063.04 1287.35 L1063.04 1290.92 L1058.66 1290.92 Q1053.73 1290.92 1051.86 1289.09 Q1049.98 1287.23 1049.98 1282.37 L1049.98 1268.3 L1046.86 1268.3 L1046.86 1264.99 L1049.98 1264.99 L1049.98 1257.63 L1054.27 1257.63 Z\" fill=\"#000000\" fill-rule=\"nonzero\" fill-opacity=\"1\" /><path clip-path=\"url(#clip280)\" d=\"M1079.43 1293.32 Q1077.62 1297.95 1075.91 1299.36 Q1074.2 1300.78 1071.33 1300.78 L1067.92 1300.78 L1067.92 1297.21 L1070.42 1297.21 Q1072.18 1297.21 1073.15 1296.38 Q1074.13 1295.54 1075.31 1292.44 L1076.07 1290.5 L1065.59 1264.99 L1070.1 1264.99 L1078.2 1285.27 L1086.3 1264.99 L1090.82 1264.99 L1079.43 1293.32 Z\" fill=\"#000000\" fill-rule=\"nonzero\" fill-opacity=\"1\" /><path clip-path=\"url(#clip280)\" d=\"M1096.7 1254.9 L1100.96 1254.9 L1100.96 1290.92 L1096.7 1290.92 L1096.7 1254.9 Z\" fill=\"#000000\" fill-rule=\"nonzero\" fill-opacity=\"1\" /><path clip-path=\"url(#clip280)\" d=\"M1132.04 1276.89 L1132.04 1278.97 L1112.46 1278.97 Q1112.74 1283.37 1115.1 1285.68 Q1117.48 1287.98 1121.72 1287.98 Q1124.17 1287.98 1126.46 1287.37 Q1128.78 1286.77 1131.05 1285.57 L1131.05 1289.6 Q1128.76 1290.57 1126.35 1291.08 Q1123.94 1291.59 1121.46 1291.59 Q1115.26 1291.59 1111.63 1287.98 Q1108.02 1284.36 1108.02 1278.21 Q1108.02 1271.84 1111.44 1268.11 Q1114.89 1264.36 1120.72 1264.36 Q1125.96 1264.36 1128.99 1267.74 Q1132.04 1271.1 1132.04 1276.89 M1127.78 1275.64 Q1127.74 1272.14 1125.82 1270.06 Q1123.92 1267.98 1120.77 1267.98 Q1117.21 1267.98 1115.05 1269.99 Q1112.92 1272 1112.6 1275.66 L1127.78 1275.64 Z\" fill=\"#000000\" fill-rule=\"nonzero\" fill-opacity=\"1\" /><path clip-path=\"url(#clip280)\" d=\"M1152.3 1256.36 L1179.45 1256.36 L1179.45 1259.92 L1157.6 1286.98 L1179.98 1286.98 L1179.98 1290.92 L1151.77 1290.92 L1151.77 1287.35 L1173.62 1260.29 L1152.3 1260.29 L1152.3 1256.36 Z\" fill=\"#000000\" fill-rule=\"nonzero\" fill-opacity=\"1\" /><path clip-path=\"url(#clip280)\" d=\"M1186.77 1256.36 L1206.63 1256.36 L1206.63 1260.29 L1191.44 1260.29 L1191.44 1270.48 L1205.14 1270.48 L1205.14 1274.41 L1191.44 1274.41 L1191.44 1290.92 L1186.77 1290.92 L1186.77 1256.36 Z\" fill=\"#000000\" fill-rule=\"nonzero\" fill-opacity=\"1\" /><path clip-path=\"url(#clip280)\" d=\"M1211.7 1276.03 L1224.17 1276.03 L1224.17 1279.83 L1211.7 1279.83 L1211.7 1276.03 Z\" fill=\"#000000\" fill-rule=\"nonzero\" fill-opacity=\"1\" /><path clip-path=\"url(#clip280)\" d=\"M1251.86 1257.49 L1251.86 1262.05 Q1249.2 1260.78 1246.83 1260.15 Q1244.47 1259.53 1242.27 1259.53 Q1238.45 1259.53 1236.37 1261.01 Q1234.31 1262.49 1234.31 1265.22 Q1234.31 1267.51 1235.68 1268.69 Q1237.07 1269.85 1240.91 1270.57 L1243.73 1271.15 Q1248.96 1272.14 1251.44 1274.67 Q1253.94 1277.17 1253.94 1281.38 Q1253.94 1286.4 1250.56 1288.99 Q1247.2 1291.59 1240.7 1291.59 Q1238.25 1291.59 1235.47 1291.03 Q1232.71 1290.48 1229.75 1289.39 L1229.75 1284.57 Q1232.6 1286.17 1235.33 1286.98 Q1238.06 1287.79 1240.7 1287.79 Q1244.7 1287.79 1246.88 1286.22 Q1249.06 1284.64 1249.06 1281.73 Q1249.06 1279.18 1247.48 1277.74 Q1245.93 1276.31 1242.37 1275.59 L1239.52 1275.04 Q1234.29 1273.99 1231.95 1271.77 Q1229.61 1269.55 1229.61 1265.59 Q1229.61 1261.01 1232.83 1258.37 Q1236.07 1255.73 1241.74 1255.73 Q1244.17 1255.73 1246.7 1256.17 Q1249.22 1256.61 1251.86 1257.49 Z\" fill=\"#000000\" fill-rule=\"nonzero\" fill-opacity=\"1\" /><path clip-path=\"url(#clip280)\" d=\"M1261.23 1256.36 L1265.91 1256.36 L1265.91 1290.92 L1261.23 1290.92 L1261.23 1256.36 Z\" fill=\"#000000\" fill-rule=\"nonzero\" fill-opacity=\"1\" /><path clip-path=\"url(#clip280)\" d=\"M1301.09 1259.02 L1301.09 1263.95 Q1298.73 1261.75 1296.05 1260.66 Q1293.39 1259.57 1290.38 1259.57 Q1284.45 1259.57 1281.3 1263.21 Q1278.15 1266.82 1278.15 1273.67 Q1278.15 1280.5 1281.3 1284.13 Q1284.45 1287.74 1290.38 1287.74 Q1293.39 1287.74 1296.05 1286.66 Q1298.73 1285.57 1301.09 1283.37 L1301.09 1288.25 Q1298.64 1289.92 1295.88 1290.75 Q1293.15 1291.59 1290.1 1291.59 Q1282.25 1291.59 1277.74 1286.79 Q1273.22 1281.98 1273.22 1273.67 Q1273.22 1265.34 1277.74 1260.55 Q1282.25 1255.73 1290.1 1255.73 Q1293.2 1255.73 1295.93 1256.56 Q1298.69 1257.37 1301.09 1259.02 Z\" fill=\"#000000\" fill-rule=\"nonzero\" fill-opacity=\"1\" /><polyline clip-path=\"url(#clip280)\" style=\"stroke:#c271d2; stroke-linecap:round; stroke-linejoin:round; stroke-width:4; stroke-opacity:1; fill:none\" points=\"345.216,1325.48 485.277,1325.48 \"/>\n",
       "<path clip-path=\"url(#clip280)\" d=\"M415.247 1303.86 L393.632 1325.48 L415.247 1347.09 L436.861 1325.48 L415.247 1303.86 Z\" fill=\"#c271d2\" fill-rule=\"evenodd\" fill-opacity=\"1\" stroke=\"#000000\" stroke-opacity=\"1\" stroke-width=\"4.55111\"/>\n",
       "<path clip-path=\"url(#clip280)\" d=\"M510.079 1308.2 L528.435 1308.2 L528.435 1312.13 L514.361 1312.13 L514.361 1320.6 Q515.38 1320.26 516.398 1320.09 Q517.417 1319.91 518.435 1319.91 Q524.222 1319.91 527.602 1323.08 Q530.982 1326.25 530.982 1331.67 Q530.982 1337.25 527.509 1340.35 Q524.037 1343.43 517.718 1343.43 Q515.542 1343.43 513.273 1343.06 Q511.028 1342.69 508.621 1341.95 L508.621 1337.25 Q510.704 1338.38 512.926 1338.94 Q515.148 1339.49 517.625 1339.49 Q521.63 1339.49 523.968 1337.38 Q526.306 1335.28 526.306 1331.67 Q526.306 1328.06 523.968 1325.95 Q521.63 1323.84 517.625 1323.84 Q515.75 1323.84 513.875 1324.26 Q512.023 1324.68 510.079 1325.56 L510.079 1308.2 Z\" fill=\"#000000\" fill-rule=\"nonzero\" fill-opacity=\"1\" /><path clip-path=\"url(#clip280)\" d=\"M540.681 1336.88 L545.565 1336.88 L545.565 1342.76 L540.681 1342.76 L540.681 1336.88 M540.681 1318.24 L545.565 1318.24 L545.565 1324.12 L540.681 1324.12 L540.681 1318.24 Z\" fill=\"#000000\" fill-rule=\"nonzero\" fill-opacity=\"1\" /><path clip-path=\"url(#clip280)\" d=\"M574.755 1338.87 L574.755 1352.62 L570.472 1352.62 L570.472 1316.83 L574.755 1316.83 L574.755 1320.76 Q576.097 1318.45 578.134 1317.34 Q580.194 1316.2 583.042 1316.2 Q587.764 1316.2 590.704 1319.95 Q593.667 1323.7 593.667 1329.82 Q593.667 1335.93 590.704 1339.68 Q587.764 1343.43 583.042 1343.43 Q580.194 1343.43 578.134 1342.32 Q576.097 1341.18 574.755 1338.87 M589.245 1329.82 Q589.245 1325.12 587.301 1322.45 Q585.38 1319.77 582 1319.77 Q578.62 1319.77 576.676 1322.45 Q574.755 1325.12 574.755 1329.82 Q574.755 1334.51 576.676 1337.2 Q578.62 1339.86 582 1339.86 Q585.38 1339.86 587.301 1337.2 Q589.245 1334.51 589.245 1329.82 Z\" fill=\"#000000\" fill-rule=\"nonzero\" fill-opacity=\"1\" /><path clip-path=\"url(#clip280)\" d=\"M615.75 1320.81 Q615.032 1320.39 614.176 1320.21 Q613.342 1320 612.324 1320 Q608.713 1320 606.768 1322.36 Q604.847 1324.7 604.847 1329.1 L604.847 1342.76 L600.565 1342.76 L600.565 1316.83 L604.847 1316.83 L604.847 1320.86 Q606.19 1318.5 608.342 1317.36 Q610.495 1316.2 613.574 1316.2 Q614.014 1316.2 614.546 1316.27 Q615.078 1316.32 615.727 1316.44 L615.75 1320.81 Z\" fill=\"#000000\" fill-rule=\"nonzero\" fill-opacity=\"1\" /><path clip-path=\"url(#clip280)\" d=\"M641.351 1328.73 L641.351 1330.81 L621.768 1330.81 Q622.046 1335.21 624.407 1337.52 Q626.791 1339.82 631.027 1339.82 Q633.481 1339.82 635.773 1339.21 Q638.088 1338.61 640.356 1337.41 L640.356 1341.44 Q638.064 1342.41 635.657 1342.92 Q633.25 1343.43 630.773 1343.43 Q624.569 1343.43 620.935 1339.82 Q617.324 1336.2 617.324 1330.05 Q617.324 1323.68 620.75 1319.95 Q624.199 1316.2 630.032 1316.2 Q635.264 1316.2 638.296 1319.58 Q641.351 1322.94 641.351 1328.73 M637.092 1327.48 Q637.046 1323.98 635.125 1321.9 Q633.227 1319.82 630.078 1319.82 Q626.514 1319.82 624.361 1321.83 Q622.231 1323.84 621.907 1327.5 L637.092 1327.48 Z\" fill=\"#000000\" fill-rule=\"nonzero\" fill-opacity=\"1\" /><path clip-path=\"url(#clip280)\" d=\"M666.999 1317.82 L666.999 1321.81 Q665.194 1320.81 663.365 1320.32 Q661.56 1319.82 659.708 1319.82 Q655.564 1319.82 653.273 1322.45 Q650.981 1325.07 650.981 1329.82 Q650.981 1334.56 653.273 1337.2 Q655.564 1339.82 659.708 1339.82 Q661.56 1339.82 663.365 1339.33 Q665.194 1338.82 666.999 1337.82 L666.999 1341.76 Q665.217 1342.59 663.296 1343.01 Q661.398 1343.43 659.245 1343.43 Q653.388 1343.43 649.939 1339.75 Q646.49 1336.07 646.49 1329.82 Q646.49 1323.47 649.963 1319.84 Q653.458 1316.2 659.523 1316.2 Q661.49 1316.2 663.365 1316.62 Q665.24 1317.01 666.999 1317.82 Z\" fill=\"#000000\" fill-rule=\"nonzero\" fill-opacity=\"1\" /><path clip-path=\"url(#clip280)\" d=\"M684.453 1319.82 Q681.027 1319.82 679.036 1322.5 Q677.046 1325.16 677.046 1329.82 Q677.046 1334.47 679.013 1337.15 Q681.004 1339.82 684.453 1339.82 Q687.856 1339.82 689.847 1337.13 Q691.837 1334.45 691.837 1329.82 Q691.837 1325.21 689.847 1322.52 Q687.856 1319.82 684.453 1319.82 M684.453 1316.2 Q690.009 1316.2 693.18 1319.82 Q696.351 1323.43 696.351 1329.82 Q696.351 1336.18 693.18 1339.82 Q690.009 1343.43 684.453 1343.43 Q678.874 1343.43 675.703 1339.82 Q672.555 1336.18 672.555 1329.82 Q672.555 1323.43 675.703 1319.82 Q678.874 1316.2 684.453 1316.2 Z\" fill=\"#000000\" fill-rule=\"nonzero\" fill-opacity=\"1\" /><path clip-path=\"url(#clip280)\" d=\"M720.471 1320.76 L720.471 1306.74 L724.731 1306.74 L724.731 1342.76 L720.471 1342.76 L720.471 1338.87 Q719.129 1341.18 717.069 1342.32 Q715.032 1343.43 712.161 1343.43 Q707.462 1343.43 704.499 1339.68 Q701.559 1335.93 701.559 1329.82 Q701.559 1323.7 704.499 1319.95 Q707.462 1316.2 712.161 1316.2 Q715.032 1316.2 717.069 1317.34 Q719.129 1318.45 720.471 1320.76 M705.958 1329.82 Q705.958 1334.51 707.879 1337.2 Q709.823 1339.86 713.203 1339.86 Q716.583 1339.86 718.527 1337.2 Q720.471 1334.51 720.471 1329.82 Q720.471 1325.12 718.527 1322.45 Q716.583 1319.77 713.203 1319.77 Q709.823 1319.77 707.879 1322.45 Q705.958 1325.12 705.958 1329.82 Z\" fill=\"#000000\" fill-rule=\"nonzero\" fill-opacity=\"1\" /><path clip-path=\"url(#clip280)\" d=\"M755.68 1328.73 L755.68 1330.81 L736.096 1330.81 Q736.374 1335.21 738.735 1337.52 Q741.119 1339.82 745.356 1339.82 Q747.809 1339.82 750.101 1339.21 Q752.416 1338.61 754.684 1337.41 L754.684 1341.44 Q752.393 1342.41 749.985 1342.92 Q747.578 1343.43 745.101 1343.43 Q738.897 1343.43 735.263 1339.82 Q731.652 1336.2 731.652 1330.05 Q731.652 1323.68 735.078 1319.95 Q738.527 1316.2 744.36 1316.2 Q749.592 1316.2 752.624 1319.58 Q755.68 1322.94 755.68 1328.73 M751.42 1327.48 Q751.374 1323.98 749.453 1321.9 Q747.555 1319.82 744.406 1319.82 Q740.842 1319.82 738.689 1321.83 Q736.559 1323.84 736.235 1327.5 L751.42 1327.48 Z\" fill=\"#000000\" fill-rule=\"nonzero\" fill-opacity=\"1\" /><path clip-path=\"url(#clip280)\" d=\"M779.73 1320.76 L779.73 1306.74 L783.99 1306.74 L783.99 1342.76 L779.73 1342.76 L779.73 1338.87 Q778.388 1341.18 776.328 1342.32 Q774.291 1343.43 771.42 1343.43 Q766.721 1343.43 763.758 1339.68 Q760.818 1335.93 760.818 1329.82 Q760.818 1323.7 763.758 1319.95 Q766.721 1316.2 771.42 1316.2 Q774.291 1316.2 776.328 1317.34 Q778.388 1318.45 779.73 1320.76 M765.217 1329.82 Q765.217 1334.51 767.138 1337.2 Q769.082 1339.86 772.462 1339.86 Q775.841 1339.86 777.786 1337.2 Q779.73 1334.51 779.73 1329.82 Q779.73 1325.12 777.786 1322.45 Q775.841 1319.77 772.462 1319.77 Q769.082 1319.77 767.138 1322.45 Q765.217 1325.12 765.217 1329.82 Z\" fill=\"#000000\" fill-rule=\"nonzero\" fill-opacity=\"1\" /><path clip-path=\"url(#clip280)\" d=\"M812.045 1309.47 L812.045 1316.83 L820.818 1316.83 L820.818 1320.14 L812.045 1320.14 L812.045 1334.21 Q812.045 1337.38 812.901 1338.29 Q813.781 1339.19 816.443 1339.19 L820.818 1339.19 L820.818 1342.76 L816.443 1342.76 Q811.513 1342.76 809.638 1340.93 Q807.763 1339.07 807.763 1334.21 L807.763 1320.14 L804.638 1320.14 L804.638 1316.83 L807.763 1316.83 L807.763 1309.47 L812.045 1309.47 Z\" fill=\"#000000\" fill-rule=\"nonzero\" fill-opacity=\"1\" /><path clip-path=\"url(#clip280)\" d=\"M823.943 1316.83 L828.202 1316.83 L833.526 1337.06 L838.827 1316.83 L843.85 1316.83 L849.174 1337.06 L854.475 1316.83 L858.735 1316.83 L851.952 1342.76 L846.929 1342.76 L841.35 1321.51 L835.749 1342.76 L830.725 1342.76 L823.943 1316.83 Z\" fill=\"#000000\" fill-rule=\"nonzero\" fill-opacity=\"1\" /><path clip-path=\"url(#clip280)\" d=\"M875.239 1319.82 Q871.813 1319.82 869.822 1322.5 Q867.832 1325.16 867.832 1329.82 Q867.832 1334.47 869.799 1337.15 Q871.79 1339.82 875.239 1339.82 Q878.642 1339.82 880.633 1337.13 Q882.623 1334.45 882.623 1329.82 Q882.623 1325.21 880.633 1322.52 Q878.642 1319.82 875.239 1319.82 M875.239 1316.2 Q880.795 1316.2 883.966 1319.82 Q887.137 1323.43 887.137 1329.82 Q887.137 1336.18 883.966 1339.82 Q880.795 1343.43 875.239 1343.43 Q869.66 1343.43 866.489 1339.82 Q863.341 1336.18 863.341 1329.82 Q863.341 1323.43 866.489 1319.82 Q869.66 1316.2 875.239 1316.2 Z\" fill=\"#000000\" fill-rule=\"nonzero\" fill-opacity=\"1\" /><path clip-path=\"url(#clip280)\" d=\"M892.924 1327.87 L905.401 1327.87 L905.401 1331.67 L892.924 1331.67 L892.924 1327.87 Z\" fill=\"#000000\" fill-rule=\"nonzero\" fill-opacity=\"1\" /><path clip-path=\"url(#clip280)\" d=\"M930.841 1317.82 L930.841 1321.81 Q929.035 1320.81 927.206 1320.32 Q925.401 1319.82 923.549 1319.82 Q919.406 1319.82 917.114 1322.45 Q914.822 1325.07 914.822 1329.82 Q914.822 1334.56 917.114 1337.2 Q919.406 1339.82 923.549 1339.82 Q925.401 1339.82 927.206 1339.33 Q929.035 1338.82 930.841 1337.82 L930.841 1341.76 Q929.058 1342.59 927.137 1343.01 Q925.239 1343.43 923.086 1343.43 Q917.23 1343.43 913.781 1339.75 Q910.331 1336.07 910.331 1329.82 Q910.331 1323.47 913.804 1319.84 Q917.299 1316.2 923.364 1316.2 Q925.331 1316.2 927.206 1316.62 Q929.081 1317.01 930.841 1317.82 Z\" fill=\"#000000\" fill-rule=\"nonzero\" fill-opacity=\"1\" /><path clip-path=\"url(#clip280)\" d=\"M948.294 1319.82 Q944.868 1319.82 942.878 1322.5 Q940.887 1325.16 940.887 1329.82 Q940.887 1334.47 942.854 1337.15 Q944.845 1339.82 948.294 1339.82 Q951.697 1339.82 953.688 1337.13 Q955.678 1334.45 955.678 1329.82 Q955.678 1325.21 953.688 1322.52 Q951.697 1319.82 948.294 1319.82 M948.294 1316.2 Q953.85 1316.2 957.021 1319.82 Q960.192 1323.43 960.192 1329.82 Q960.192 1336.18 957.021 1339.82 Q953.85 1343.43 948.294 1343.43 Q942.716 1343.43 939.544 1339.82 Q936.396 1336.18 936.396 1329.82 Q936.396 1323.43 939.544 1319.82 Q942.716 1316.2 948.294 1316.2 Z\" fill=\"#000000\" fill-rule=\"nonzero\" fill-opacity=\"1\" /><path clip-path=\"url(#clip280)\" d=\"M984.313 1320.76 L984.313 1306.74 L988.572 1306.74 L988.572 1342.76 L984.313 1342.76 L984.313 1338.87 Q982.97 1341.18 980.91 1342.32 Q978.873 1343.43 976.002 1343.43 Q971.303 1343.43 968.34 1339.68 Q965.401 1335.93 965.401 1329.82 Q965.401 1323.7 968.34 1319.95 Q971.303 1316.2 976.002 1316.2 Q978.873 1316.2 980.91 1317.34 Q982.97 1318.45 984.313 1320.76 M969.799 1329.82 Q969.799 1334.51 971.72 1337.2 Q973.664 1339.86 977.044 1339.86 Q980.424 1339.86 982.368 1337.2 Q984.313 1334.51 984.313 1329.82 Q984.313 1325.12 982.368 1322.45 Q980.424 1319.77 977.044 1319.77 Q973.664 1319.77 971.72 1322.45 Q969.799 1325.12 969.799 1329.82 Z\" fill=\"#000000\" fill-rule=\"nonzero\" fill-opacity=\"1\" /><path clip-path=\"url(#clip280)\" d=\"M1019.52 1328.73 L1019.52 1330.81 L999.938 1330.81 Q1000.22 1335.21 1002.58 1337.52 Q1004.96 1339.82 1009.2 1339.82 Q1011.65 1339.82 1013.94 1339.21 Q1016.26 1338.61 1018.53 1337.41 L1018.53 1341.44 Q1016.23 1342.41 1013.83 1342.92 Q1011.42 1343.43 1008.94 1343.43 Q1002.74 1343.43 999.104 1339.82 Q995.493 1336.2 995.493 1330.05 Q995.493 1323.68 998.919 1319.95 Q1002.37 1316.2 1008.2 1316.2 Q1013.43 1316.2 1016.47 1319.58 Q1019.52 1322.94 1019.52 1328.73 M1015.26 1327.48 Q1015.22 1323.98 1013.29 1321.9 Q1011.4 1319.82 1008.25 1319.82 Q1004.68 1319.82 1002.53 1321.83 Q1000.4 1323.84 1000.08 1327.5 L1015.26 1327.48 Z\" fill=\"#000000\" fill-rule=\"nonzero\" fill-opacity=\"1\" /><path clip-path=\"url(#clip280)\" d=\"M1039.78 1308.2 L1066.93 1308.2 L1066.93 1311.76 L1045.08 1338.82 L1067.46 1338.82 L1067.46 1342.76 L1039.24 1342.76 L1039.24 1339.19 L1061.09 1312.13 L1039.78 1312.13 L1039.78 1308.2 Z\" fill=\"#000000\" fill-rule=\"nonzero\" fill-opacity=\"1\" /><path clip-path=\"url(#clip280)\" d=\"M1074.24 1308.2 L1094.1 1308.2 L1094.1 1312.13 L1078.92 1312.13 L1078.92 1322.32 L1092.62 1322.32 L1092.62 1326.25 L1078.92 1326.25 L1078.92 1342.76 L1074.24 1342.76 L1074.24 1308.2 Z\" fill=\"#000000\" fill-rule=\"nonzero\" fill-opacity=\"1\" /><path clip-path=\"url(#clip280)\" d=\"M1099.17 1327.87 L1111.65 1327.87 L1111.65 1331.67 L1099.17 1331.67 L1099.17 1327.87 Z\" fill=\"#000000\" fill-rule=\"nonzero\" fill-opacity=\"1\" /><path clip-path=\"url(#clip280)\" d=\"M1139.33 1309.33 L1139.33 1313.89 Q1136.67 1312.62 1134.31 1311.99 Q1131.95 1311.37 1129.75 1311.37 Q1125.93 1311.37 1123.85 1312.85 Q1121.79 1314.33 1121.79 1317.06 Q1121.79 1319.35 1123.15 1320.53 Q1124.54 1321.69 1128.39 1322.41 L1131.21 1322.99 Q1136.44 1323.98 1138.92 1326.51 Q1141.42 1329.01 1141.42 1333.22 Q1141.42 1338.24 1138.04 1340.83 Q1134.68 1343.43 1128.18 1343.43 Q1125.72 1343.43 1122.95 1342.87 Q1120.19 1342.32 1117.23 1341.23 L1117.23 1336.41 Q1120.08 1338.01 1122.81 1338.82 Q1125.54 1339.63 1128.18 1339.63 Q1132.18 1339.63 1134.36 1338.06 Q1136.53 1336.48 1136.53 1333.57 Q1136.53 1331.02 1134.96 1329.58 Q1133.41 1328.15 1129.84 1327.43 L1127 1326.88 Q1121.77 1325.83 1119.43 1323.61 Q1117.09 1321.39 1117.09 1317.43 Q1117.09 1312.85 1120.31 1310.21 Q1123.55 1307.57 1129.22 1307.57 Q1131.65 1307.57 1134.17 1308.01 Q1136.7 1308.45 1139.33 1309.33 Z\" fill=\"#000000\" fill-rule=\"nonzero\" fill-opacity=\"1\" /><path clip-path=\"url(#clip280)\" d=\"M1148.71 1308.2 L1153.39 1308.2 L1153.39 1342.76 L1148.71 1342.76 L1148.71 1308.2 Z\" fill=\"#000000\" fill-rule=\"nonzero\" fill-opacity=\"1\" /><path clip-path=\"url(#clip280)\" d=\"M1188.57 1310.86 L1188.57 1315.79 Q1186.21 1313.59 1183.52 1312.5 Q1180.86 1311.41 1177.85 1311.41 Q1171.93 1311.41 1168.78 1315.05 Q1165.63 1318.66 1165.63 1325.51 Q1165.63 1332.34 1168.78 1335.97 Q1171.93 1339.58 1177.85 1339.58 Q1180.86 1339.58 1183.52 1338.5 Q1186.21 1337.41 1188.57 1335.21 L1188.57 1340.09 Q1186.12 1341.76 1183.36 1342.59 Q1180.63 1343.43 1177.58 1343.43 Q1169.73 1343.43 1165.21 1338.63 Q1160.7 1333.82 1160.7 1325.51 Q1160.7 1317.18 1165.21 1312.39 Q1169.73 1307.57 1177.58 1307.57 Q1180.68 1307.57 1183.41 1308.4 Q1186.16 1309.21 1188.57 1310.86 Z\" fill=\"#000000\" fill-rule=\"nonzero\" fill-opacity=\"1\" /></svg>\n"
      ],
      "text/html": [
       "<?xml version=\"1.0\" encoding=\"utf-8\"?>\n",
       "<svg xmlns=\"http://www.w3.org/2000/svg\" xmlns:xlink=\"http://www.w3.org/1999/xlink\" width=\"600\" height=\"400\" viewBox=\"0 0 2400 1600\">\n",
       "<defs>\n",
       "  <clipPath id=\"clip330\">\n",
       "    <rect x=\"0\" y=\"0\" width=\"2400\" height=\"1600\"/>\n",
       "  </clipPath>\n",
       "</defs>\n",
       "<path clip-path=\"url(#clip330)\" d=\"M0 1600 L2400 1600 L2400 0 L0 0  Z\" fill=\"#ffffff\" fill-rule=\"evenodd\" fill-opacity=\"1\"/>\n",
       "<defs>\n",
       "  <clipPath id=\"clip331\">\n",
       "    <rect x=\"480\" y=\"0\" width=\"1681\" height=\"1600\"/>\n",
       "  </clipPath>\n",
       "</defs>\n",
       "<path clip-path=\"url(#clip330)\" d=\"M251.842 1423.18 L2352.76 1423.18 L2352.76 47.2441 L251.842 47.2441  Z\" fill=\"#ffffff\" fill-rule=\"evenodd\" fill-opacity=\"1\"/>\n",
       "<defs>\n",
       "  <clipPath id=\"clip332\">\n",
       "    <rect x=\"251\" y=\"47\" width=\"2102\" height=\"1377\"/>\n",
       "  </clipPath>\n",
       "</defs>\n",
       "<polyline clip-path=\"url(#clip332)\" style=\"stroke:#000000; stroke-linecap:round; stroke-linejoin:round; stroke-width:2; stroke-opacity:0.1; fill:none\" points=\"311.302,1423.18 311.302,47.2441 \"/>\n",
       "<polyline clip-path=\"url(#clip332)\" style=\"stroke:#000000; stroke-linecap:round; stroke-linejoin:round; stroke-width:2; stroke-opacity:0.1; fill:none\" points=\"463.763,1423.18 463.763,47.2441 \"/>\n",
       "<polyline clip-path=\"url(#clip332)\" style=\"stroke:#000000; stroke-linecap:round; stroke-linejoin:round; stroke-width:2; stroke-opacity:0.1; fill:none\" points=\"616.224,1423.18 616.224,47.2441 \"/>\n",
       "<polyline clip-path=\"url(#clip332)\" style=\"stroke:#000000; stroke-linecap:round; stroke-linejoin:round; stroke-width:2; stroke-opacity:0.1; fill:none\" points=\"768.685,1423.18 768.685,47.2441 \"/>\n",
       "<polyline clip-path=\"url(#clip332)\" style=\"stroke:#000000; stroke-linecap:round; stroke-linejoin:round; stroke-width:2; stroke-opacity:0.1; fill:none\" points=\"921.146,1423.18 921.146,47.2441 \"/>\n",
       "<polyline clip-path=\"url(#clip332)\" style=\"stroke:#000000; stroke-linecap:round; stroke-linejoin:round; stroke-width:2; stroke-opacity:0.1; fill:none\" points=\"1073.61,1423.18 1073.61,47.2441 \"/>\n",
       "<polyline clip-path=\"url(#clip332)\" style=\"stroke:#000000; stroke-linecap:round; stroke-linejoin:round; stroke-width:2; stroke-opacity:0.1; fill:none\" points=\"1226.07,1423.18 1226.07,47.2441 \"/>\n",
       "<polyline clip-path=\"url(#clip332)\" style=\"stroke:#000000; stroke-linecap:round; stroke-linejoin:round; stroke-width:2; stroke-opacity:0.1; fill:none\" points=\"1378.53,1423.18 1378.53,47.2441 \"/>\n",
       "<polyline clip-path=\"url(#clip332)\" style=\"stroke:#000000; stroke-linecap:round; stroke-linejoin:round; stroke-width:2; stroke-opacity:0.1; fill:none\" points=\"1530.99,1423.18 1530.99,47.2441 \"/>\n",
       "<polyline clip-path=\"url(#clip332)\" style=\"stroke:#000000; stroke-linecap:round; stroke-linejoin:round; stroke-width:2; stroke-opacity:0.1; fill:none\" points=\"1683.45,1423.18 1683.45,47.2441 \"/>\n",
       "<polyline clip-path=\"url(#clip332)\" style=\"stroke:#000000; stroke-linecap:round; stroke-linejoin:round; stroke-width:2; stroke-opacity:0.1; fill:none\" points=\"1835.91,1423.18 1835.91,47.2441 \"/>\n",
       "<polyline clip-path=\"url(#clip332)\" style=\"stroke:#000000; stroke-linecap:round; stroke-linejoin:round; stroke-width:2; stroke-opacity:0.1; fill:none\" points=\"1988.37,1423.18 1988.37,47.2441 \"/>\n",
       "<polyline clip-path=\"url(#clip332)\" style=\"stroke:#000000; stroke-linecap:round; stroke-linejoin:round; stroke-width:2; stroke-opacity:0.1; fill:none\" points=\"2140.84,1423.18 2140.84,47.2441 \"/>\n",
       "<polyline clip-path=\"url(#clip332)\" style=\"stroke:#000000; stroke-linecap:round; stroke-linejoin:round; stroke-width:2; stroke-opacity:0.1; fill:none\" points=\"2293.3,1423.18 2293.3,47.2441 \"/>\n",
       "<polyline clip-path=\"url(#clip332)\" style=\"stroke:#000000; stroke-linecap:round; stroke-linejoin:round; stroke-width:2; stroke-opacity:0.1; fill:none\" points=\"251.842,47.2441 2352.76,47.2441 \"/>\n",
       "<polyline clip-path=\"url(#clip332)\" style=\"stroke:#000000; stroke-linecap:round; stroke-linejoin:round; stroke-width:2; stroke-opacity:0.1; fill:none\" points=\"251.842,645.209 2352.76,645.209 \"/>\n",
       "<polyline clip-path=\"url(#clip332)\" style=\"stroke:#000000; stroke-linecap:round; stroke-linejoin:round; stroke-width:2; stroke-opacity:0.1; fill:none\" points=\"251.842,1243.17 2352.76,1243.17 \"/>\n",
       "<polyline clip-path=\"url(#clip330)\" style=\"stroke:#000000; stroke-linecap:round; stroke-linejoin:round; stroke-width:4; stroke-opacity:1; fill:none\" points=\"251.842,1423.18 2352.76,1423.18 \"/>\n",
       "<polyline clip-path=\"url(#clip330)\" style=\"stroke:#000000; stroke-linecap:round; stroke-linejoin:round; stroke-width:4; stroke-opacity:1; fill:none\" points=\"311.302,1423.18 311.302,1404.28 \"/>\n",
       "<polyline clip-path=\"url(#clip330)\" style=\"stroke:#000000; stroke-linecap:round; stroke-linejoin:round; stroke-width:4; stroke-opacity:1; fill:none\" points=\"463.763,1423.18 463.763,1404.28 \"/>\n",
       "<polyline clip-path=\"url(#clip330)\" style=\"stroke:#000000; stroke-linecap:round; stroke-linejoin:round; stroke-width:4; stroke-opacity:1; fill:none\" points=\"616.224,1423.18 616.224,1404.28 \"/>\n",
       "<polyline clip-path=\"url(#clip330)\" style=\"stroke:#000000; stroke-linecap:round; stroke-linejoin:round; stroke-width:4; stroke-opacity:1; fill:none\" points=\"768.685,1423.18 768.685,1404.28 \"/>\n",
       "<polyline clip-path=\"url(#clip330)\" style=\"stroke:#000000; stroke-linecap:round; stroke-linejoin:round; stroke-width:4; stroke-opacity:1; fill:none\" points=\"921.146,1423.18 921.146,1404.28 \"/>\n",
       "<polyline clip-path=\"url(#clip330)\" style=\"stroke:#000000; stroke-linecap:round; stroke-linejoin:round; stroke-width:4; stroke-opacity:1; fill:none\" points=\"1073.61,1423.18 1073.61,1404.28 \"/>\n",
       "<polyline clip-path=\"url(#clip330)\" style=\"stroke:#000000; stroke-linecap:round; stroke-linejoin:round; stroke-width:4; stroke-opacity:1; fill:none\" points=\"1226.07,1423.18 1226.07,1404.28 \"/>\n",
       "<polyline clip-path=\"url(#clip330)\" style=\"stroke:#000000; stroke-linecap:round; stroke-linejoin:round; stroke-width:4; stroke-opacity:1; fill:none\" points=\"1378.53,1423.18 1378.53,1404.28 \"/>\n",
       "<polyline clip-path=\"url(#clip330)\" style=\"stroke:#000000; stroke-linecap:round; stroke-linejoin:round; stroke-width:4; stroke-opacity:1; fill:none\" points=\"1530.99,1423.18 1530.99,1404.28 \"/>\n",
       "<polyline clip-path=\"url(#clip330)\" style=\"stroke:#000000; stroke-linecap:round; stroke-linejoin:round; stroke-width:4; stroke-opacity:1; fill:none\" points=\"1683.45,1423.18 1683.45,1404.28 \"/>\n",
       "<polyline clip-path=\"url(#clip330)\" style=\"stroke:#000000; stroke-linecap:round; stroke-linejoin:round; stroke-width:4; stroke-opacity:1; fill:none\" points=\"1835.91,1423.18 1835.91,1404.28 \"/>\n",
       "<polyline clip-path=\"url(#clip330)\" style=\"stroke:#000000; stroke-linecap:round; stroke-linejoin:round; stroke-width:4; stroke-opacity:1; fill:none\" points=\"1988.37,1423.18 1988.37,1404.28 \"/>\n",
       "<polyline clip-path=\"url(#clip330)\" style=\"stroke:#000000; stroke-linecap:round; stroke-linejoin:round; stroke-width:4; stroke-opacity:1; fill:none\" points=\"2140.84,1423.18 2140.84,1404.28 \"/>\n",
       "<polyline clip-path=\"url(#clip330)\" style=\"stroke:#000000; stroke-linecap:round; stroke-linejoin:round; stroke-width:4; stroke-opacity:1; fill:none\" points=\"2293.3,1423.18 2293.3,1404.28 \"/>\n",
       "<path clip-path=\"url(#clip330)\" d=\"M263.374 1481.64 L271.013 1481.64 L271.013 1455.28 L262.703 1456.95 L262.703 1452.69 L270.967 1451.02 L275.643 1451.02 L275.643 1481.64 L283.282 1481.64 L283.282 1485.58 L263.374 1485.58 L263.374 1481.64 Z\" fill=\"#000000\" fill-rule=\"nonzero\" fill-opacity=\"1\" /><path clip-path=\"url(#clip330)\" d=\"M293.536 1481.64 L301.175 1481.64 L301.175 1455.28 L292.865 1456.95 L292.865 1452.69 L301.129 1451.02 L305.805 1451.02 L305.805 1481.64 L313.443 1481.64 L313.443 1485.58 L293.536 1485.58 L293.536 1481.64 Z\" fill=\"#000000\" fill-rule=\"nonzero\" fill-opacity=\"1\" /><path clip-path=\"url(#clip330)\" d=\"M322.888 1479.7 L327.772 1479.7 L327.772 1485.58 L322.888 1485.58 L322.888 1479.7 Z\" fill=\"#000000\" fill-rule=\"nonzero\" fill-opacity=\"1\" /><path clip-path=\"url(#clip330)\" d=\"M347.957 1454.1 Q344.346 1454.1 342.517 1457.66 Q340.712 1461.2 340.712 1468.33 Q340.712 1475.44 342.517 1479.01 Q344.346 1482.55 347.957 1482.55 Q351.591 1482.55 353.397 1479.01 Q355.226 1475.44 355.226 1468.33 Q355.226 1461.2 353.397 1457.66 Q351.591 1454.1 347.957 1454.1 M347.957 1450.39 Q353.767 1450.39 356.823 1455 Q359.901 1459.58 359.901 1468.33 Q359.901 1477.06 356.823 1481.67 Q353.767 1486.25 347.957 1486.25 Q342.147 1486.25 339.068 1481.67 Q336.013 1477.06 336.013 1468.33 Q336.013 1459.58 339.068 1455 Q342.147 1450.39 347.957 1450.39 Z\" fill=\"#000000\" fill-rule=\"nonzero\" fill-opacity=\"1\" /><path clip-path=\"url(#clip330)\" d=\"M416.333 1481.64 L423.972 1481.64 L423.972 1455.28 L415.662 1456.95 L415.662 1452.69 L423.926 1451.02 L428.601 1451.02 L428.601 1481.64 L436.24 1481.64 L436.24 1485.58 L416.333 1485.58 L416.333 1481.64 Z\" fill=\"#000000\" fill-rule=\"nonzero\" fill-opacity=\"1\" /><path clip-path=\"url(#clip330)\" d=\"M446.495 1481.64 L454.134 1481.64 L454.134 1455.28 L445.824 1456.95 L445.824 1452.69 L454.087 1451.02 L458.763 1451.02 L458.763 1481.64 L466.402 1481.64 L466.402 1485.58 L446.495 1485.58 L446.495 1481.64 Z\" fill=\"#000000\" fill-rule=\"nonzero\" fill-opacity=\"1\" /><path clip-path=\"url(#clip330)\" d=\"M475.847 1479.7 L480.731 1479.7 L480.731 1485.58 L475.847 1485.58 L475.847 1479.7 Z\" fill=\"#000000\" fill-rule=\"nonzero\" fill-opacity=\"1\" /><path clip-path=\"url(#clip330)\" d=\"M490.962 1451.02 L509.319 1451.02 L509.319 1454.96 L495.245 1454.96 L495.245 1463.43 Q496.263 1463.08 497.282 1462.92 Q498.3 1462.73 499.319 1462.73 Q505.106 1462.73 508.485 1465.9 Q511.865 1469.08 511.865 1474.49 Q511.865 1480.07 508.393 1483.17 Q504.92 1486.25 498.601 1486.25 Q496.425 1486.25 494.157 1485.88 Q491.911 1485.51 489.504 1484.77 L489.504 1480.07 Q491.587 1481.2 493.809 1481.76 Q496.032 1482.32 498.508 1482.32 Q502.513 1482.32 504.851 1480.21 Q507.189 1478.1 507.189 1474.49 Q507.189 1470.88 504.851 1468.77 Q502.513 1466.67 498.508 1466.67 Q496.633 1466.67 494.758 1467.08 Q492.907 1467.5 490.962 1468.38 L490.962 1451.02 Z\" fill=\"#000000\" fill-rule=\"nonzero\" fill-opacity=\"1\" /><path clip-path=\"url(#clip330)\" d=\"M568.296 1481.64 L575.935 1481.64 L575.935 1455.28 L567.625 1456.95 L567.625 1452.69 L575.889 1451.02 L580.565 1451.02 L580.565 1481.64 L588.204 1481.64 L588.204 1485.58 L568.296 1485.58 L568.296 1481.64 Z\" fill=\"#000000\" fill-rule=\"nonzero\" fill-opacity=\"1\" /><path clip-path=\"url(#clip330)\" d=\"M601.676 1481.64 L617.995 1481.64 L617.995 1485.58 L596.051 1485.58 L596.051 1481.64 Q598.713 1478.89 603.296 1474.26 Q607.903 1469.61 609.083 1468.27 Q611.329 1465.74 612.208 1464.01 Q613.111 1462.25 613.111 1460.56 Q613.111 1457.8 611.166 1456.07 Q609.245 1454.33 606.143 1454.33 Q603.944 1454.33 601.491 1455.09 Q599.06 1455.86 596.282 1457.41 L596.282 1452.69 Q599.106 1451.55 601.56 1450.97 Q604.014 1450.39 606.051 1450.39 Q611.421 1450.39 614.616 1453.08 Q617.81 1455.77 617.81 1460.26 Q617.81 1462.39 617 1464.31 Q616.213 1466.2 614.106 1468.8 Q613.528 1469.47 610.426 1472.69 Q607.324 1475.88 601.676 1481.64 Z\" fill=\"#000000\" fill-rule=\"nonzero\" fill-opacity=\"1\" /><path clip-path=\"url(#clip330)\" d=\"M627.81 1479.7 L632.694 1479.7 L632.694 1485.58 L627.81 1485.58 L627.81 1479.7 Z\" fill=\"#000000\" fill-rule=\"nonzero\" fill-opacity=\"1\" /><path clip-path=\"url(#clip330)\" d=\"M652.879 1454.1 Q649.268 1454.1 647.439 1457.66 Q645.634 1461.2 645.634 1468.33 Q645.634 1475.44 647.439 1479.01 Q649.268 1482.55 652.879 1482.55 Q656.513 1482.55 658.319 1479.01 Q660.148 1475.44 660.148 1468.33 Q660.148 1461.2 658.319 1457.66 Q656.513 1454.1 652.879 1454.1 M652.879 1450.39 Q658.689 1450.39 661.745 1455 Q664.824 1459.58 664.824 1468.33 Q664.824 1477.06 661.745 1481.67 Q658.689 1486.25 652.879 1486.25 Q647.069 1486.25 643.99 1481.67 Q640.935 1477.06 640.935 1468.33 Q640.935 1459.58 643.99 1455 Q647.069 1450.39 652.879 1450.39 Z\" fill=\"#000000\" fill-rule=\"nonzero\" fill-opacity=\"1\" /><path clip-path=\"url(#clip330)\" d=\"M721.255 1481.64 L728.894 1481.64 L728.894 1455.28 L720.584 1456.95 L720.584 1452.69 L728.848 1451.02 L733.524 1451.02 L733.524 1481.64 L741.162 1481.64 L741.162 1485.58 L721.255 1485.58 L721.255 1481.64 Z\" fill=\"#000000\" fill-rule=\"nonzero\" fill-opacity=\"1\" /><path clip-path=\"url(#clip330)\" d=\"M754.635 1481.64 L770.954 1481.64 L770.954 1485.58 L749.01 1485.58 L749.01 1481.64 Q751.672 1478.89 756.255 1474.26 Q760.861 1469.61 762.042 1468.27 Q764.287 1465.74 765.167 1464.01 Q766.07 1462.25 766.07 1460.56 Q766.07 1457.8 764.125 1456.07 Q762.204 1454.33 759.102 1454.33 Q756.903 1454.33 754.449 1455.09 Q752.019 1455.86 749.241 1457.41 L749.241 1452.69 Q752.065 1451.55 754.519 1450.97 Q756.972 1450.39 759.01 1450.39 Q764.38 1450.39 767.574 1453.08 Q770.769 1455.77 770.769 1460.26 Q770.769 1462.39 769.959 1464.31 Q769.172 1466.2 767.065 1468.8 Q766.486 1469.47 763.384 1472.69 Q760.283 1475.88 754.635 1481.64 Z\" fill=\"#000000\" fill-rule=\"nonzero\" fill-opacity=\"1\" /><path clip-path=\"url(#clip330)\" d=\"M780.769 1479.7 L785.653 1479.7 L785.653 1485.58 L780.769 1485.58 L780.769 1479.7 Z\" fill=\"#000000\" fill-rule=\"nonzero\" fill-opacity=\"1\" /><path clip-path=\"url(#clip330)\" d=\"M795.884 1451.02 L814.241 1451.02 L814.241 1454.96 L800.167 1454.96 L800.167 1463.43 Q801.185 1463.08 802.204 1462.92 Q803.222 1462.73 804.241 1462.73 Q810.028 1462.73 813.407 1465.9 Q816.787 1469.08 816.787 1474.49 Q816.787 1480.07 813.315 1483.17 Q809.843 1486.25 803.523 1486.25 Q801.347 1486.25 799.079 1485.88 Q796.833 1485.51 794.426 1484.77 L794.426 1480.07 Q796.509 1481.2 798.732 1481.76 Q800.954 1482.32 803.431 1482.32 Q807.435 1482.32 809.773 1480.21 Q812.111 1478.1 812.111 1474.49 Q812.111 1470.88 809.773 1468.77 Q807.435 1466.67 803.431 1466.67 Q801.556 1466.67 799.681 1467.08 Q797.829 1467.5 795.884 1468.38 L795.884 1451.02 Z\" fill=\"#000000\" fill-rule=\"nonzero\" fill-opacity=\"1\" /><path clip-path=\"url(#clip330)\" d=\"M873.218 1481.64 L880.857 1481.64 L880.857 1455.28 L872.547 1456.95 L872.547 1452.69 L880.811 1451.02 L885.487 1451.02 L885.487 1481.64 L893.126 1481.64 L893.126 1485.58 L873.218 1485.58 L873.218 1481.64 Z\" fill=\"#000000\" fill-rule=\"nonzero\" fill-opacity=\"1\" /><path clip-path=\"url(#clip330)\" d=\"M916.737 1466.95 Q920.093 1467.66 921.968 1469.93 Q923.866 1472.2 923.866 1475.53 Q923.866 1480.65 920.348 1483.45 Q916.829 1486.25 910.348 1486.25 Q908.172 1486.25 905.857 1485.81 Q903.566 1485.39 901.112 1484.54 L901.112 1480.02 Q903.056 1481.16 905.371 1481.74 Q907.686 1482.32 910.209 1482.32 Q914.607 1482.32 916.899 1480.58 Q919.214 1478.84 919.214 1475.53 Q919.214 1472.48 917.061 1470.77 Q914.931 1469.03 911.112 1469.03 L907.084 1469.03 L907.084 1465.19 L911.297 1465.19 Q914.746 1465.19 916.575 1463.82 Q918.403 1462.43 918.403 1459.84 Q918.403 1457.18 916.505 1455.77 Q914.63 1454.33 911.112 1454.33 Q909.191 1454.33 906.991 1454.75 Q904.792 1455.16 902.154 1456.04 L902.154 1451.88 Q904.816 1451.14 907.13 1450.77 Q909.468 1450.39 911.528 1450.39 Q916.853 1450.39 919.954 1452.83 Q923.056 1455.23 923.056 1459.35 Q923.056 1462.22 921.413 1464.21 Q919.769 1466.18 916.737 1466.95 Z\" fill=\"#000000\" fill-rule=\"nonzero\" fill-opacity=\"1\" /><path clip-path=\"url(#clip330)\" d=\"M932.732 1479.7 L937.616 1479.7 L937.616 1485.58 L932.732 1485.58 L932.732 1479.7 Z\" fill=\"#000000\" fill-rule=\"nonzero\" fill-opacity=\"1\" /><path clip-path=\"url(#clip330)\" d=\"M957.801 1454.1 Q954.19 1454.1 952.362 1457.66 Q950.556 1461.2 950.556 1468.33 Q950.556 1475.44 952.362 1479.01 Q954.19 1482.55 957.801 1482.55 Q961.436 1482.55 963.241 1479.01 Q965.07 1475.44 965.07 1468.33 Q965.07 1461.2 963.241 1457.66 Q961.436 1454.1 957.801 1454.1 M957.801 1450.39 Q963.612 1450.39 966.667 1455 Q969.746 1459.58 969.746 1468.33 Q969.746 1477.06 966.667 1481.67 Q963.612 1486.25 957.801 1486.25 Q951.991 1486.25 948.913 1481.67 Q945.857 1477.06 945.857 1468.33 Q945.857 1459.58 948.913 1455 Q951.991 1450.39 957.801 1450.39 Z\" fill=\"#000000\" fill-rule=\"nonzero\" fill-opacity=\"1\" /><path clip-path=\"url(#clip330)\" d=\"M1026.18 1481.64 L1033.82 1481.64 L1033.82 1455.28 L1025.51 1456.95 L1025.51 1452.69 L1033.77 1451.02 L1038.45 1451.02 L1038.45 1481.64 L1046.08 1481.64 L1046.08 1485.58 L1026.18 1485.58 L1026.18 1481.64 Z\" fill=\"#000000\" fill-rule=\"nonzero\" fill-opacity=\"1\" /><path clip-path=\"url(#clip330)\" d=\"M1069.7 1466.95 Q1073.05 1467.66 1074.93 1469.93 Q1076.83 1472.2 1076.83 1475.53 Q1076.83 1480.65 1073.31 1483.45 Q1069.79 1486.25 1063.31 1486.25 Q1061.13 1486.25 1058.82 1485.81 Q1056.52 1485.39 1054.07 1484.54 L1054.07 1480.02 Q1056.02 1481.16 1058.33 1481.74 Q1060.64 1482.32 1063.17 1482.32 Q1067.57 1482.32 1069.86 1480.58 Q1072.17 1478.84 1072.17 1475.53 Q1072.17 1472.48 1070.02 1470.77 Q1067.89 1469.03 1064.07 1469.03 L1060.04 1469.03 L1060.04 1465.19 L1064.26 1465.19 Q1067.7 1465.19 1069.53 1463.82 Q1071.36 1462.43 1071.36 1459.84 Q1071.36 1457.18 1069.46 1455.77 Q1067.59 1454.33 1064.07 1454.33 Q1062.15 1454.33 1059.95 1454.75 Q1057.75 1455.16 1055.11 1456.04 L1055.11 1451.88 Q1057.77 1451.14 1060.09 1450.77 Q1062.43 1450.39 1064.49 1450.39 Q1069.81 1450.39 1072.91 1452.83 Q1076.01 1455.23 1076.01 1459.35 Q1076.01 1462.22 1074.37 1464.21 Q1072.73 1466.18 1069.7 1466.95 Z\" fill=\"#000000\" fill-rule=\"nonzero\" fill-opacity=\"1\" /><path clip-path=\"url(#clip330)\" d=\"M1085.69 1479.7 L1090.58 1479.7 L1090.58 1485.58 L1085.69 1485.58 L1085.69 1479.7 Z\" fill=\"#000000\" fill-rule=\"nonzero\" fill-opacity=\"1\" /><path clip-path=\"url(#clip330)\" d=\"M1100.81 1451.02 L1119.16 1451.02 L1119.16 1454.96 L1105.09 1454.96 L1105.09 1463.43 Q1106.11 1463.08 1107.13 1462.92 Q1108.14 1462.73 1109.16 1462.73 Q1114.95 1462.73 1118.33 1465.9 Q1121.71 1469.08 1121.71 1474.49 Q1121.71 1480.07 1118.24 1483.17 Q1114.76 1486.25 1108.45 1486.25 Q1106.27 1486.25 1104 1485.88 Q1101.76 1485.51 1099.35 1484.77 L1099.35 1480.07 Q1101.43 1481.2 1103.65 1481.76 Q1105.88 1482.32 1108.35 1482.32 Q1112.36 1482.32 1114.7 1480.21 Q1117.03 1478.1 1117.03 1474.49 Q1117.03 1470.88 1114.7 1468.77 Q1112.36 1466.67 1108.35 1466.67 Q1106.48 1466.67 1104.6 1467.08 Q1102.75 1467.5 1100.81 1468.38 L1100.81 1451.02 Z\" fill=\"#000000\" fill-rule=\"nonzero\" fill-opacity=\"1\" /><path clip-path=\"url(#clip330)\" d=\"M1178.14 1481.64 L1185.78 1481.64 L1185.78 1455.28 L1177.47 1456.95 L1177.47 1452.69 L1185.73 1451.02 L1190.41 1451.02 L1190.41 1481.64 L1198.05 1481.64 L1198.05 1485.58 L1178.14 1485.58 L1178.14 1481.64 Z\" fill=\"#000000\" fill-rule=\"nonzero\" fill-opacity=\"1\" /><path clip-path=\"url(#clip330)\" d=\"M1220.34 1455.09 L1208.53 1473.54 L1220.34 1473.54 L1220.34 1455.09 M1219.11 1451.02 L1224.99 1451.02 L1224.99 1473.54 L1229.92 1473.54 L1229.92 1477.43 L1224.99 1477.43 L1224.99 1485.58 L1220.34 1485.58 L1220.34 1477.43 L1204.74 1477.43 L1204.74 1472.92 L1219.11 1451.02 Z\" fill=\"#000000\" fill-rule=\"nonzero\" fill-opacity=\"1\" /><path clip-path=\"url(#clip330)\" d=\"M1237.65 1479.7 L1242.54 1479.7 L1242.54 1485.58 L1237.65 1485.58 L1237.65 1479.7 Z\" fill=\"#000000\" fill-rule=\"nonzero\" fill-opacity=\"1\" /><path clip-path=\"url(#clip330)\" d=\"M1262.72 1454.1 Q1259.11 1454.1 1257.28 1457.66 Q1255.48 1461.2 1255.48 1468.33 Q1255.48 1475.44 1257.28 1479.01 Q1259.11 1482.55 1262.72 1482.55 Q1266.36 1482.55 1268.16 1479.01 Q1269.99 1475.44 1269.99 1468.33 Q1269.99 1461.2 1268.16 1457.66 Q1266.36 1454.1 1262.72 1454.1 M1262.72 1450.39 Q1268.53 1450.39 1271.59 1455 Q1274.67 1459.58 1274.67 1468.33 Q1274.67 1477.06 1271.59 1481.67 Q1268.53 1486.25 1262.72 1486.25 Q1256.91 1486.25 1253.83 1481.67 Q1250.78 1477.06 1250.78 1468.33 Q1250.78 1459.58 1253.83 1455 Q1256.91 1450.39 1262.72 1450.39 Z\" fill=\"#000000\" fill-rule=\"nonzero\" fill-opacity=\"1\" /><path clip-path=\"url(#clip330)\" d=\"M1331.1 1481.64 L1338.74 1481.64 L1338.74 1455.28 L1330.43 1456.95 L1330.43 1452.69 L1338.69 1451.02 L1343.37 1451.02 L1343.37 1481.64 L1351.01 1481.64 L1351.01 1485.58 L1331.1 1485.58 L1331.1 1481.64 Z\" fill=\"#000000\" fill-rule=\"nonzero\" fill-opacity=\"1\" /><path clip-path=\"url(#clip330)\" d=\"M1373.3 1455.09 L1361.49 1473.54 L1373.3 1473.54 L1373.3 1455.09 M1372.07 1451.02 L1377.95 1451.02 L1377.95 1473.54 L1382.88 1473.54 L1382.88 1477.43 L1377.95 1477.43 L1377.95 1485.58 L1373.3 1485.58 L1373.3 1477.43 L1357.7 1477.43 L1357.7 1472.92 L1372.07 1451.02 Z\" fill=\"#000000\" fill-rule=\"nonzero\" fill-opacity=\"1\" /><path clip-path=\"url(#clip330)\" d=\"M1390.61 1479.7 L1395.5 1479.7 L1395.5 1485.58 L1390.61 1485.58 L1390.61 1479.7 Z\" fill=\"#000000\" fill-rule=\"nonzero\" fill-opacity=\"1\" /><path clip-path=\"url(#clip330)\" d=\"M1405.73 1451.02 L1424.08 1451.02 L1424.08 1454.96 L1410.01 1454.96 L1410.01 1463.43 Q1411.03 1463.08 1412.05 1462.92 Q1413.07 1462.73 1414.09 1462.73 Q1419.87 1462.73 1423.25 1465.9 Q1426.63 1469.08 1426.63 1474.49 Q1426.63 1480.07 1423.16 1483.17 Q1419.69 1486.25 1413.37 1486.25 Q1411.19 1486.25 1408.92 1485.88 Q1406.68 1485.51 1404.27 1484.77 L1404.27 1480.07 Q1406.35 1481.2 1408.58 1481.76 Q1410.8 1482.32 1413.27 1482.32 Q1417.28 1482.32 1419.62 1480.21 Q1421.96 1478.1 1421.96 1474.49 Q1421.96 1470.88 1419.62 1468.77 Q1417.28 1466.67 1413.27 1466.67 Q1411.4 1466.67 1409.52 1467.08 Q1407.67 1467.5 1405.73 1468.38 L1405.73 1451.02 Z\" fill=\"#000000\" fill-rule=\"nonzero\" fill-opacity=\"1\" /><path clip-path=\"url(#clip330)\" d=\"M1483.06 1481.64 L1490.7 1481.64 L1490.7 1455.28 L1482.39 1456.95 L1482.39 1452.69 L1490.66 1451.02 L1495.33 1451.02 L1495.33 1481.64 L1502.97 1481.64 L1502.97 1485.58 L1483.06 1485.58 L1483.06 1481.64 Z\" fill=\"#000000\" fill-rule=\"nonzero\" fill-opacity=\"1\" /><path clip-path=\"url(#clip330)\" d=\"M1512.46 1451.02 L1530.82 1451.02 L1530.82 1454.96 L1516.74 1454.96 L1516.74 1463.43 Q1517.76 1463.08 1518.78 1462.92 Q1519.8 1462.73 1520.82 1462.73 Q1526.6 1462.73 1529.98 1465.9 Q1533.36 1469.08 1533.36 1474.49 Q1533.36 1480.07 1529.89 1483.17 Q1526.42 1486.25 1520.1 1486.25 Q1517.92 1486.25 1515.66 1485.88 Q1513.41 1485.51 1511 1484.77 L1511 1480.07 Q1513.09 1481.2 1515.31 1481.76 Q1517.53 1482.32 1520.01 1482.32 Q1524.01 1482.32 1526.35 1480.21 Q1528.69 1478.1 1528.69 1474.49 Q1528.69 1470.88 1526.35 1468.77 Q1524.01 1466.67 1520.01 1466.67 Q1518.13 1466.67 1516.26 1467.08 Q1514.41 1467.5 1512.46 1468.38 L1512.46 1451.02 Z\" fill=\"#000000\" fill-rule=\"nonzero\" fill-opacity=\"1\" /><path clip-path=\"url(#clip330)\" d=\"M1542.58 1479.7 L1547.46 1479.7 L1547.46 1485.58 L1542.58 1485.58 L1542.58 1479.7 Z\" fill=\"#000000\" fill-rule=\"nonzero\" fill-opacity=\"1\" /><path clip-path=\"url(#clip330)\" d=\"M1567.65 1454.1 Q1564.03 1454.1 1562.21 1457.66 Q1560.4 1461.2 1560.4 1468.33 Q1560.4 1475.44 1562.21 1479.01 Q1564.03 1482.55 1567.65 1482.55 Q1571.28 1482.55 1573.09 1479.01 Q1574.91 1475.44 1574.91 1468.33 Q1574.91 1461.2 1573.09 1457.66 Q1571.28 1454.1 1567.65 1454.1 M1567.65 1450.39 Q1573.46 1450.39 1576.51 1455 Q1579.59 1459.58 1579.59 1468.33 Q1579.59 1477.06 1576.51 1481.67 Q1573.46 1486.25 1567.65 1486.25 Q1561.84 1486.25 1558.76 1481.67 Q1555.7 1477.06 1555.7 1468.33 Q1555.7 1459.58 1558.76 1455 Q1561.84 1450.39 1567.65 1450.39 Z\" fill=\"#000000\" fill-rule=\"nonzero\" fill-opacity=\"1\" /><path clip-path=\"url(#clip330)\" d=\"M1636.02 1481.64 L1643.66 1481.64 L1643.66 1455.28 L1635.35 1456.95 L1635.35 1452.69 L1643.61 1451.02 L1648.29 1451.02 L1648.29 1481.64 L1655.93 1481.64 L1655.93 1485.58 L1636.02 1485.58 L1636.02 1481.64 Z\" fill=\"#000000\" fill-rule=\"nonzero\" fill-opacity=\"1\" /><path clip-path=\"url(#clip330)\" d=\"M1665.42 1451.02 L1683.78 1451.02 L1683.78 1454.96 L1669.7 1454.96 L1669.7 1463.43 Q1670.72 1463.08 1671.74 1462.92 Q1672.76 1462.73 1673.78 1462.73 Q1679.56 1462.73 1682.94 1465.9 Q1686.32 1469.08 1686.32 1474.49 Q1686.32 1480.07 1682.85 1483.17 Q1679.38 1486.25 1673.06 1486.25 Q1670.88 1486.25 1668.61 1485.88 Q1666.37 1485.51 1663.96 1484.77 L1663.96 1480.07 Q1666.04 1481.2 1668.27 1481.76 Q1670.49 1482.32 1672.97 1482.32 Q1676.97 1482.32 1679.31 1480.21 Q1681.65 1478.1 1681.65 1474.49 Q1681.65 1470.88 1679.31 1468.77 Q1676.97 1466.67 1672.97 1466.67 Q1671.09 1466.67 1669.22 1467.08 Q1667.36 1467.5 1665.42 1468.38 L1665.42 1451.02 Z\" fill=\"#000000\" fill-rule=\"nonzero\" fill-opacity=\"1\" /><path clip-path=\"url(#clip330)\" d=\"M1695.54 1479.7 L1700.42 1479.7 L1700.42 1485.58 L1695.54 1485.58 L1695.54 1479.7 Z\" fill=\"#000000\" fill-rule=\"nonzero\" fill-opacity=\"1\" /><path clip-path=\"url(#clip330)\" d=\"M1710.65 1451.02 L1729.01 1451.02 L1729.01 1454.96 L1714.93 1454.96 L1714.93 1463.43 Q1715.95 1463.08 1716.97 1462.92 Q1717.99 1462.73 1719.01 1462.73 Q1724.79 1462.73 1728.17 1465.9 Q1731.55 1469.08 1731.55 1474.49 Q1731.55 1480.07 1728.08 1483.17 Q1724.61 1486.25 1718.29 1486.25 Q1716.11 1486.25 1713.85 1485.88 Q1711.6 1485.51 1709.19 1484.77 L1709.19 1480.07 Q1711.28 1481.2 1713.5 1481.76 Q1715.72 1482.32 1718.2 1482.32 Q1722.2 1482.32 1724.54 1480.21 Q1726.88 1478.1 1726.88 1474.49 Q1726.88 1470.88 1724.54 1468.77 Q1722.2 1466.67 1718.2 1466.67 Q1716.32 1466.67 1714.45 1467.08 Q1712.6 1467.5 1710.65 1468.38 L1710.65 1451.02 Z\" fill=\"#000000\" fill-rule=\"nonzero\" fill-opacity=\"1\" /><path clip-path=\"url(#clip330)\" d=\"M1787.98 1481.64 L1795.62 1481.64 L1795.62 1455.28 L1787.31 1456.95 L1787.31 1452.69 L1795.58 1451.02 L1800.25 1451.02 L1800.25 1481.64 L1807.89 1481.64 L1807.89 1485.58 L1787.98 1485.58 L1787.98 1481.64 Z\" fill=\"#000000\" fill-rule=\"nonzero\" fill-opacity=\"1\" /><path clip-path=\"url(#clip330)\" d=\"M1827.92 1466.44 Q1824.77 1466.44 1822.92 1468.59 Q1821.09 1470.74 1821.09 1474.49 Q1821.09 1478.22 1822.92 1480.39 Q1824.77 1482.55 1827.92 1482.55 Q1831.06 1482.55 1832.89 1480.39 Q1834.74 1478.22 1834.74 1474.49 Q1834.74 1470.74 1832.89 1468.59 Q1831.06 1466.44 1827.92 1466.44 M1837.2 1451.78 L1837.2 1456.04 Q1835.44 1455.21 1833.63 1454.77 Q1831.85 1454.33 1830.09 1454.33 Q1825.46 1454.33 1823.01 1457.45 Q1820.58 1460.58 1820.23 1466.9 Q1821.6 1464.89 1823.66 1463.82 Q1825.72 1462.73 1828.19 1462.73 Q1833.4 1462.73 1836.41 1465.9 Q1839.44 1469.05 1839.44 1474.49 Q1839.44 1479.82 1836.29 1483.03 Q1833.15 1486.25 1827.92 1486.25 Q1821.92 1486.25 1818.75 1481.67 Q1815.58 1477.06 1815.58 1468.33 Q1815.58 1460.14 1819.47 1455.28 Q1823.36 1450.39 1829.91 1450.39 Q1831.67 1450.39 1833.45 1450.74 Q1835.25 1451.09 1837.2 1451.78 Z\" fill=\"#000000\" fill-rule=\"nonzero\" fill-opacity=\"1\" /><path clip-path=\"url(#clip330)\" d=\"M1847.5 1479.7 L1852.38 1479.7 L1852.38 1485.58 L1847.5 1485.58 L1847.5 1479.7 Z\" fill=\"#000000\" fill-rule=\"nonzero\" fill-opacity=\"1\" /><path clip-path=\"url(#clip330)\" d=\"M1872.57 1454.1 Q1868.96 1454.1 1867.13 1457.66 Q1865.32 1461.2 1865.32 1468.33 Q1865.32 1475.44 1867.13 1479.01 Q1868.96 1482.55 1872.57 1482.55 Q1876.2 1482.55 1878.01 1479.01 Q1879.84 1475.44 1879.84 1468.33 Q1879.84 1461.2 1878.01 1457.66 Q1876.2 1454.1 1872.57 1454.1 M1872.57 1450.39 Q1878.38 1450.39 1881.43 1455 Q1884.51 1459.58 1884.51 1468.33 Q1884.51 1477.06 1881.43 1481.67 Q1878.38 1486.25 1872.57 1486.25 Q1866.76 1486.25 1863.68 1481.67 Q1860.62 1477.06 1860.62 1468.33 Q1860.62 1459.58 1863.68 1455 Q1866.76 1450.39 1872.57 1450.39 Z\" fill=\"#000000\" fill-rule=\"nonzero\" fill-opacity=\"1\" /><path clip-path=\"url(#clip330)\" d=\"M1940.94 1481.64 L1948.58 1481.64 L1948.58 1455.28 L1940.27 1456.95 L1940.27 1452.69 L1948.54 1451.02 L1953.21 1451.02 L1953.21 1481.64 L1960.85 1481.64 L1960.85 1485.58 L1940.94 1485.58 L1940.94 1481.64 Z\" fill=\"#000000\" fill-rule=\"nonzero\" fill-opacity=\"1\" /><path clip-path=\"url(#clip330)\" d=\"M1980.87 1466.44 Q1977.73 1466.44 1975.87 1468.59 Q1974.05 1470.74 1974.05 1474.49 Q1974.05 1478.22 1975.87 1480.39 Q1977.73 1482.55 1980.87 1482.55 Q1984.02 1482.55 1985.85 1480.39 Q1987.7 1478.22 1987.7 1474.49 Q1987.7 1470.74 1985.85 1468.59 Q1984.02 1466.44 1980.87 1466.44 M1990.16 1451.78 L1990.16 1456.04 Q1988.4 1455.21 1986.59 1454.77 Q1984.81 1454.33 1983.05 1454.33 Q1978.42 1454.33 1975.97 1457.45 Q1973.54 1460.58 1973.19 1466.9 Q1974.55 1464.89 1976.61 1463.82 Q1978.67 1462.73 1981.15 1462.73 Q1986.36 1462.73 1989.37 1465.9 Q1992.4 1469.05 1992.4 1474.49 Q1992.4 1479.82 1989.25 1483.03 Q1986.11 1486.25 1980.87 1486.25 Q1974.88 1486.25 1971.71 1481.67 Q1968.54 1477.06 1968.54 1468.33 Q1968.54 1460.14 1972.42 1455.28 Q1976.31 1450.39 1982.86 1450.39 Q1984.62 1450.39 1986.41 1450.74 Q1988.21 1451.09 1990.16 1451.78 Z\" fill=\"#000000\" fill-rule=\"nonzero\" fill-opacity=\"1\" /><path clip-path=\"url(#clip330)\" d=\"M2000.46 1479.7 L2005.34 1479.7 L2005.34 1485.58 L2000.46 1485.58 L2000.46 1479.7 Z\" fill=\"#000000\" fill-rule=\"nonzero\" fill-opacity=\"1\" /><path clip-path=\"url(#clip330)\" d=\"M2015.57 1451.02 L2033.93 1451.02 L2033.93 1454.96 L2019.86 1454.96 L2019.86 1463.43 Q2020.87 1463.08 2021.89 1462.92 Q2022.91 1462.73 2023.93 1462.73 Q2029.72 1462.73 2033.1 1465.9 Q2036.48 1469.08 2036.48 1474.49 Q2036.48 1480.07 2033 1483.17 Q2029.53 1486.25 2023.21 1486.25 Q2021.04 1486.25 2018.77 1485.88 Q2016.52 1485.51 2014.11 1484.77 L2014.11 1480.07 Q2016.2 1481.2 2018.42 1481.76 Q2020.64 1482.32 2023.12 1482.32 Q2027.12 1482.32 2029.46 1480.21 Q2031.8 1478.1 2031.8 1474.49 Q2031.8 1470.88 2029.46 1468.77 Q2027.12 1466.67 2023.12 1466.67 Q2021.24 1466.67 2019.37 1467.08 Q2017.52 1467.5 2015.57 1468.38 L2015.57 1451.02 Z\" fill=\"#000000\" fill-rule=\"nonzero\" fill-opacity=\"1\" /><path clip-path=\"url(#clip330)\" d=\"M2092.91 1481.64 L2100.55 1481.64 L2100.55 1455.28 L2092.24 1456.95 L2092.24 1452.69 L2100.5 1451.02 L2105.18 1451.02 L2105.18 1481.64 L2112.81 1481.64 L2112.81 1485.58 L2092.91 1485.58 L2092.91 1481.64 Z\" fill=\"#000000\" fill-rule=\"nonzero\" fill-opacity=\"1\" /><path clip-path=\"url(#clip330)\" d=\"M2121.08 1451.02 L2143.3 1451.02 L2143.3 1453.01 L2130.75 1485.58 L2125.87 1485.58 L2137.68 1454.96 L2121.08 1454.96 L2121.08 1451.02 Z\" fill=\"#000000\" fill-rule=\"nonzero\" fill-opacity=\"1\" /><path clip-path=\"url(#clip330)\" d=\"M2152.42 1479.7 L2157.3 1479.7 L2157.3 1485.58 L2152.42 1485.58 L2152.42 1479.7 Z\" fill=\"#000000\" fill-rule=\"nonzero\" fill-opacity=\"1\" /><path clip-path=\"url(#clip330)\" d=\"M2177.49 1454.1 Q2173.88 1454.1 2172.05 1457.66 Q2170.24 1461.2 2170.24 1468.33 Q2170.24 1475.44 2172.05 1479.01 Q2173.88 1482.55 2177.49 1482.55 Q2181.12 1482.55 2182.93 1479.01 Q2184.76 1475.44 2184.76 1468.33 Q2184.76 1461.2 2182.93 1457.66 Q2181.12 1454.1 2177.49 1454.1 M2177.49 1450.39 Q2183.3 1450.39 2186.36 1455 Q2189.43 1459.58 2189.43 1468.33 Q2189.43 1477.06 2186.36 1481.67 Q2183.3 1486.25 2177.49 1486.25 Q2171.68 1486.25 2168.6 1481.67 Q2165.55 1477.06 2165.55 1468.33 Q2165.55 1459.58 2168.6 1455 Q2171.68 1450.39 2177.49 1450.39 Z\" fill=\"#000000\" fill-rule=\"nonzero\" fill-opacity=\"1\" /><path clip-path=\"url(#clip330)\" d=\"M2245.87 1481.64 L2253.5 1481.64 L2253.5 1455.28 L2245.19 1456.95 L2245.19 1452.69 L2253.46 1451.02 L2258.13 1451.02 L2258.13 1481.64 L2265.77 1481.64 L2265.77 1485.58 L2245.87 1485.58 L2245.87 1481.64 Z\" fill=\"#000000\" fill-rule=\"nonzero\" fill-opacity=\"1\" /><path clip-path=\"url(#clip330)\" d=\"M2274.04 1451.02 L2296.26 1451.02 L2296.26 1453.01 L2283.71 1485.58 L2278.83 1485.58 L2290.63 1454.96 L2274.04 1454.96 L2274.04 1451.02 Z\" fill=\"#000000\" fill-rule=\"nonzero\" fill-opacity=\"1\" /><path clip-path=\"url(#clip330)\" d=\"M2305.38 1479.7 L2310.26 1479.7 L2310.26 1485.58 L2305.38 1485.58 L2305.38 1479.7 Z\" fill=\"#000000\" fill-rule=\"nonzero\" fill-opacity=\"1\" /><path clip-path=\"url(#clip330)\" d=\"M2320.5 1451.02 L2338.85 1451.02 L2338.85 1454.96 L2324.78 1454.96 L2324.78 1463.43 Q2325.8 1463.08 2326.81 1462.92 Q2327.83 1462.73 2328.85 1462.73 Q2334.64 1462.73 2338.02 1465.9 Q2341.4 1469.08 2341.4 1474.49 Q2341.4 1480.07 2337.93 1483.17 Q2334.45 1486.25 2328.13 1486.25 Q2325.96 1486.25 2323.69 1485.88 Q2321.44 1485.51 2319.04 1484.77 L2319.04 1480.07 Q2321.12 1481.2 2323.34 1481.76 Q2325.56 1482.32 2328.04 1482.32 Q2332.05 1482.32 2334.38 1480.21 Q2336.72 1478.1 2336.72 1474.49 Q2336.72 1470.88 2334.38 1468.77 Q2332.05 1466.67 2328.04 1466.67 Q2326.17 1466.67 2324.29 1467.08 Q2322.44 1467.5 2320.5 1468.38 L2320.5 1451.02 Z\" fill=\"#000000\" fill-rule=\"nonzero\" fill-opacity=\"1\" /><path clip-path=\"url(#clip330)\" d=\"M1268.26 1522.08 L1268.26 1528.35 Q1264.6 1526.6 1261.35 1525.74 Q1258.11 1524.88 1255.08 1524.88 Q1249.83 1524.88 1246.97 1526.92 Q1244.13 1528.96 1244.13 1532.71 Q1244.13 1535.87 1246.01 1537.49 Q1247.92 1539.08 1253.2 1540.07 L1257.09 1540.86 Q1264.28 1542.23 1267.69 1545.7 Q1271.12 1549.14 1271.12 1554.93 Q1271.12 1561.84 1266.48 1565.4 Q1261.86 1568.97 1252.92 1568.97 Q1249.54 1568.97 1245.72 1568.2 Q1241.94 1567.44 1237.86 1565.94 L1237.86 1559.32 Q1241.78 1561.52 1245.53 1562.63 Q1249.29 1563.75 1252.92 1563.75 Q1258.42 1563.75 1261.42 1561.58 Q1264.41 1559.42 1264.41 1555.41 Q1264.41 1551.91 1262.24 1549.93 Q1260.11 1547.96 1255.21 1546.97 L1251.29 1546.21 Q1244.1 1544.78 1240.89 1541.72 Q1237.67 1538.67 1237.67 1533.22 Q1237.67 1526.92 1242.1 1523.29 Q1246.55 1519.66 1254.35 1519.66 Q1257.69 1519.66 1261.16 1520.27 Q1264.63 1520.87 1268.26 1522.08 Z\" fill=\"#000000\" fill-rule=\"nonzero\" fill-opacity=\"1\" /><path clip-path=\"url(#clip330)\" d=\"M1281.15 1520.52 L1289.81 1520.52 L1310.88 1560.28 L1310.88 1520.52 L1317.12 1520.52 L1317.12 1568.04 L1308.46 1568.04 L1287.39 1528.29 L1287.39 1568.04 L1281.15 1568.04 L1281.15 1520.52 Z\" fill=\"#000000\" fill-rule=\"nonzero\" fill-opacity=\"1\" /><path clip-path=\"url(#clip330)\" d=\"M1352.44 1545.76 Q1354.51 1546.46 1356.46 1548.76 Q1358.43 1551.05 1360.4 1555.06 L1366.93 1568.04 L1360.02 1568.04 L1353.94 1555.85 Q1351.59 1551.08 1349.36 1549.52 Q1347.16 1547.96 1343.34 1547.96 L1336.34 1547.96 L1336.34 1568.04 L1329.91 1568.04 L1329.91 1520.52 L1344.42 1520.52 Q1352.57 1520.52 1356.58 1523.93 Q1360.59 1527.34 1360.59 1534.21 Q1360.59 1538.7 1358.49 1541.66 Q1356.42 1544.62 1352.44 1545.76 M1336.34 1525.81 L1336.34 1542.68 L1344.42 1542.68 Q1349.07 1542.68 1351.43 1540.54 Q1353.81 1538.38 1353.81 1534.21 Q1353.81 1530.04 1351.43 1527.94 Q1349.07 1525.81 1344.42 1525.81 L1336.34 1525.81 Z\" fill=\"#000000\" fill-rule=\"nonzero\" fill-opacity=\"1\" /><polyline clip-path=\"url(#clip330)\" style=\"stroke:#000000; stroke-linecap:round; stroke-linejoin:round; stroke-width:4; stroke-opacity:1; fill:none\" points=\"251.842,1423.18 251.842,47.2441 \"/>\n",
       "<polyline clip-path=\"url(#clip330)\" style=\"stroke:#000000; stroke-linecap:round; stroke-linejoin:round; stroke-width:4; stroke-opacity:1; fill:none\" points=\"251.842,47.2441 270.74,47.2441 \"/>\n",
       "<polyline clip-path=\"url(#clip330)\" style=\"stroke:#000000; stroke-linecap:round; stroke-linejoin:round; stroke-width:4; stroke-opacity:1; fill:none\" points=\"251.842,645.209 270.74,645.209 \"/>\n",
       "<polyline clip-path=\"url(#clip330)\" style=\"stroke:#000000; stroke-linecap:round; stroke-linejoin:round; stroke-width:4; stroke-opacity:1; fill:none\" points=\"251.842,1243.17 270.74,1243.17 \"/>\n",
       "<path clip-path=\"url(#clip330)\" d=\"M115.402 67.0365 L123.04 67.0365 L123.04 40.6709 L114.73 42.3376 L114.73 38.0784 L122.994 36.4117 L127.67 36.4117 L127.67 67.0365 L135.309 67.0365 L135.309 70.9717 L115.402 70.9717 L115.402 67.0365 Z\" fill=\"#000000\" fill-rule=\"nonzero\" fill-opacity=\"1\" /><path clip-path=\"url(#clip330)\" d=\"M154.753 39.4904 Q151.142 39.4904 149.313 43.0552 Q147.508 46.5968 147.508 53.7264 Q147.508 60.8329 149.313 64.3977 Q151.142 67.9393 154.753 67.9393 Q158.388 67.9393 160.193 64.3977 Q162.022 60.8329 162.022 53.7264 Q162.022 46.5968 160.193 43.0552 Q158.388 39.4904 154.753 39.4904 M154.753 35.7867 Q160.563 35.7867 163.619 40.3932 Q166.698 44.9765 166.698 53.7264 Q166.698 62.4532 163.619 67.0597 Q160.563 71.643 154.753 71.643 Q148.943 71.643 145.864 67.0597 Q142.809 62.4532 142.809 53.7264 Q142.809 44.9765 145.864 40.3932 Q148.943 35.7867 154.753 35.7867 Z\" fill=\"#000000\" fill-rule=\"nonzero\" fill-opacity=\"1\" /><path clip-path=\"url(#clip330)\" d=\"M166.698 29.888 L190.809 29.888 L190.809 33.0854 L166.698 33.0854 L166.698 29.888 Z\" fill=\"#000000\" fill-rule=\"nonzero\" fill-opacity=\"1\" /><path clip-path=\"url(#clip330)\" d=\"M199.668 40.364 L205.874 40.364 L205.874 18.9419 L199.122 20.2961 L199.122 16.8355 L205.837 15.4813 L209.636 15.4813 L209.636 40.364 L215.842 40.364 L215.842 43.5613 L199.668 43.5613 L199.668 40.364 Z\" fill=\"#000000\" fill-rule=\"nonzero\" fill-opacity=\"1\" /><path clip-path=\"url(#clip330)\" d=\"M115.703 665.002 L123.341 665.002 L123.341 638.636 L115.031 640.303 L115.031 636.044 L123.295 634.377 L127.971 634.377 L127.971 665.002 L135.61 665.002 L135.61 668.937 L115.703 668.937 L115.703 665.002 Z\" fill=\"#000000\" fill-rule=\"nonzero\" fill-opacity=\"1\" /><path clip-path=\"url(#clip330)\" d=\"M155.054 637.456 Q151.443 637.456 149.614 641.02 Q147.809 644.562 147.809 651.692 Q147.809 658.798 149.614 662.363 Q151.443 665.904 155.054 665.904 Q158.688 665.904 160.494 662.363 Q162.323 658.798 162.323 651.692 Q162.323 644.562 160.494 641.02 Q158.688 637.456 155.054 637.456 M155.054 633.752 Q160.864 633.752 163.92 638.358 Q166.999 642.942 166.999 651.692 Q166.999 660.418 163.92 665.025 Q160.864 669.608 155.054 669.608 Q149.244 669.608 146.165 665.025 Q143.11 660.418 143.11 651.692 Q143.11 642.942 146.165 638.358 Q149.244 633.752 155.054 633.752 Z\" fill=\"#000000\" fill-rule=\"nonzero\" fill-opacity=\"1\" /><path clip-path=\"url(#clip330)\" d=\"M166.999 627.853 L191.11 627.853 L191.11 631.051 L166.999 631.051 L166.999 627.853 Z\" fill=\"#000000\" fill-rule=\"nonzero\" fill-opacity=\"1\" /><path clip-path=\"url(#clip330)\" d=\"M202.583 638.329 L215.842 638.329 L215.842 641.526 L198.013 641.526 L198.013 638.329 Q200.175 636.091 203.899 632.329 Q207.642 628.549 208.601 627.458 Q210.426 625.408 211.14 623.998 Q211.874 622.568 211.874 621.195 Q211.874 618.957 210.294 617.547 Q208.733 616.136 206.213 616.136 Q204.426 616.136 202.432 616.757 Q200.458 617.377 198.201 618.637 L198.201 614.801 Q200.495 613.879 202.489 613.409 Q204.482 612.939 206.138 612.939 Q210.501 612.939 213.096 615.12 Q215.692 617.302 215.692 620.951 Q215.692 622.681 215.034 624.242 Q214.394 625.784 212.683 627.891 Q212.212 628.436 209.692 631.051 Q207.172 633.646 202.583 638.329 Z\" fill=\"#000000\" fill-rule=\"nonzero\" fill-opacity=\"1\" /><path clip-path=\"url(#clip330)\" d=\"M114.931 1262.97 L122.57 1262.97 L122.57 1236.6 L114.26 1238.27 L114.26 1234.01 L122.524 1232.34 L127.2 1232.34 L127.2 1262.97 L134.839 1262.97 L134.839 1266.9 L114.931 1266.9 L114.931 1262.97 Z\" fill=\"#000000\" fill-rule=\"nonzero\" fill-opacity=\"1\" /><path clip-path=\"url(#clip330)\" d=\"M154.283 1235.42 Q150.672 1235.42 148.843 1238.99 Q147.038 1242.53 147.038 1249.66 Q147.038 1256.76 148.843 1260.33 Q150.672 1263.87 154.283 1263.87 Q157.917 1263.87 159.723 1260.33 Q161.552 1256.76 161.552 1249.66 Q161.552 1242.53 159.723 1238.99 Q157.917 1235.42 154.283 1235.42 M154.283 1231.72 Q160.093 1231.72 163.149 1236.32 Q166.227 1240.91 166.227 1249.66 Q166.227 1258.38 163.149 1262.99 Q160.093 1267.57 154.283 1267.57 Q148.473 1267.57 145.394 1262.99 Q142.339 1258.38 142.339 1249.66 Q142.339 1240.91 145.394 1236.32 Q148.473 1231.72 154.283 1231.72 Z\" fill=\"#000000\" fill-rule=\"nonzero\" fill-opacity=\"1\" /><path clip-path=\"url(#clip330)\" d=\"M166.227 1225.82 L190.339 1225.82 L190.339 1229.02 L166.227 1229.02 L166.227 1225.82 Z\" fill=\"#000000\" fill-rule=\"nonzero\" fill-opacity=\"1\" /><path clip-path=\"url(#clip330)\" d=\"M210.05 1224.35 Q212.777 1224.93 214.3 1226.78 Q215.842 1228.62 215.842 1231.33 Q215.842 1235.49 212.984 1237.76 Q210.125 1240.04 204.859 1240.04 Q203.091 1240.04 201.21 1239.68 Q199.348 1239.34 197.354 1238.65 L197.354 1234.98 Q198.934 1235.9 200.815 1236.37 Q202.696 1236.84 204.746 1236.84 Q208.319 1236.84 210.181 1235.43 Q212.062 1234.02 212.062 1231.33 Q212.062 1228.85 210.313 1227.45 Q208.583 1226.04 205.479 1226.04 L202.207 1226.04 L202.207 1222.92 L205.63 1222.92 Q208.432 1222.92 209.918 1221.81 Q211.404 1220.68 211.404 1218.58 Q211.404 1216.41 209.861 1215.27 Q208.338 1214.1 205.479 1214.1 Q203.918 1214.1 202.132 1214.44 Q200.345 1214.78 198.201 1215.49 L198.201 1212.11 Q200.364 1211.51 202.244 1211.2 Q204.144 1210.9 205.818 1210.9 Q210.144 1210.9 212.664 1212.88 Q215.184 1214.83 215.184 1218.18 Q215.184 1220.51 213.849 1222.13 Q212.513 1223.73 210.05 1224.35 Z\" fill=\"#000000\" fill-rule=\"nonzero\" fill-opacity=\"1\" /><path clip-path=\"url(#clip330)\" d=\"M28.3562 985.305 L28.3562 979.448 L56.1743 972.128 L28.3562 964.839 L28.3562 957.932 L56.1743 950.612 L28.3562 943.323 L28.3562 937.466 L64.0042 946.792 L64.0042 953.699 L34.7856 961.37 L64.0042 969.072 L64.0042 975.979 L28.3562 985.305 Z\" fill=\"#000000\" fill-rule=\"nonzero\" fill-opacity=\"1\" /><path clip-path=\"url(#clip330)\" d=\"M32.4621 914.773 Q32.4621 919.483 36.1542 922.221 Q39.8145 924.958 46.212 924.958 Q52.6095 924.958 56.3017 922.252 Q59.9619 919.515 59.9619 914.773 Q59.9619 910.094 56.2698 907.357 Q52.5777 904.619 46.212 904.619 Q39.8781 904.619 36.186 907.357 Q32.4621 910.094 32.4621 914.773 M27.4968 914.773 Q27.4968 907.134 32.4621 902.773 Q37.4273 898.413 46.212 898.413 Q54.9649 898.413 59.9619 902.773 Q64.9272 907.134 64.9272 914.773 Q64.9272 922.443 59.9619 926.804 Q54.9649 931.133 46.212 931.133 Q37.4273 931.133 32.4621 926.804 Q27.4968 922.443 27.4968 914.773 Z\" fill=\"#000000\" fill-rule=\"nonzero\" fill-opacity=\"1\" /><path clip-path=\"url(#clip330)\" d=\"M33.8307 868.048 Q33.2578 869.035 33.0032 870.213 Q32.7167 871.359 32.7167 872.759 Q32.7167 877.724 35.9632 880.398 Q39.1779 883.04 45.2253 883.04 L64.0042 883.04 L64.0042 888.928 L28.3562 888.928 L28.3562 883.04 L33.8944 883.04 Q30.6479 881.194 29.0883 878.233 Q27.4968 875.273 27.4968 871.04 Q27.4968 870.435 27.5923 869.703 Q27.656 868.971 27.8151 868.08 L33.8307 868.048 Z\" fill=\"#000000\" fill-rule=\"nonzero\" fill-opacity=\"1\" /><path clip-path=\"url(#clip330)\" d=\"M29.4065 839.18 L34.9447 839.18 Q33.6716 841.662 33.035 844.336 Q32.3984 847.01 32.3984 849.874 Q32.3984 854.235 33.7352 856.431 Q35.072 858.595 37.7456 858.595 Q39.7826 858.595 40.9603 857.036 Q42.1061 855.476 43.1565 850.765 L43.6021 848.76 Q44.9389 842.522 47.3897 839.912 Q49.8086 837.27 54.1691 837.27 Q59.1344 837.27 62.0308 841.217 Q64.9272 845.132 64.9272 852.007 Q64.9272 854.871 64.3543 857.991 Q63.8132 861.078 62.6992 864.515 L56.6518 864.515 Q58.3387 861.269 59.198 858.118 Q60.0256 854.967 60.0256 851.879 Q60.0256 847.742 58.6251 845.514 Q57.1929 843.286 54.6147 843.286 Q52.2276 843.286 50.9545 844.909 Q49.6813 846.5 48.5037 851.943 L48.0262 853.98 Q46.8804 859.423 44.5251 861.842 Q42.138 864.261 38.0002 864.261 Q32.9713 864.261 30.2341 860.696 Q27.4968 857.131 27.4968 850.574 Q27.4968 847.328 27.9743 844.463 Q28.4517 841.599 29.4065 839.18 Z\" fill=\"#000000\" fill-rule=\"nonzero\" fill-opacity=\"1\" /><path clip-path=\"url(#clip330)\" d=\"M18.2347 822.152 L28.3562 822.152 L28.3562 810.089 L32.9077 810.089 L32.9077 822.152 L52.2594 822.152 Q56.6199 822.152 57.8613 820.974 Q59.1026 819.764 59.1026 816.104 L59.1026 810.089 L64.0042 810.089 L64.0042 816.104 Q64.0042 822.884 61.4897 825.462 Q58.9434 828.04 52.2594 828.04 L32.9077 828.04 L32.9077 832.337 L28.3562 832.337 L28.3562 828.04 L18.2347 828.04 L18.2347 822.152 Z\" fill=\"#000000\" fill-rule=\"nonzero\" fill-opacity=\"1\" /><path clip-path=\"url(#clip330)\" d=\"M43.5384 805.346 L43.5384 788.191 L48.7583 788.191 L48.7583 805.346 L43.5384 805.346 Z\" fill=\"#000000\" fill-rule=\"nonzero\" fill-opacity=\"1\" /><path clip-path=\"url(#clip330)\" d=\"M29.7248 753.211 L35.1993 753.211 Q33.8307 755.694 33.1623 758.208 Q32.4621 760.691 32.4621 763.237 Q32.4621 768.934 36.0905 772.085 Q39.6872 775.236 46.212 775.236 Q52.7369 775.236 56.3653 772.085 Q59.9619 768.934 59.9619 763.237 Q59.9619 760.691 59.2935 758.208 Q58.5933 755.694 57.2247 753.211 L62.6355 753.211 Q63.7814 755.662 64.3543 758.304 Q64.9272 760.914 64.9272 763.874 Q64.9272 771.926 59.8664 776.669 Q54.8057 781.411 46.212 781.411 Q37.491 781.411 32.4939 776.637 Q27.4968 771.831 27.4968 763.492 Q27.4968 760.786 28.0697 758.208 Q28.6108 755.63 29.7248 753.211 Z\" fill=\"#000000\" fill-rule=\"nonzero\" fill-opacity=\"1\" /><path clip-path=\"url(#clip330)\" d=\"M46.0847 726.825 Q46.0847 733.923 47.7079 736.66 Q49.3312 739.397 53.2461 739.397 Q56.3653 739.397 58.2114 737.36 Q60.0256 735.292 60.0256 731.759 Q60.0256 726.889 56.5881 723.961 Q53.1188 721.001 47.3897 721.001 L46.0847 721.001 L46.0847 726.825 M43.6657 715.144 L64.0042 715.144 L64.0042 721.001 L58.5933 721.001 Q61.8398 723.006 63.3994 725.998 Q64.9272 728.989 64.9272 733.318 Q64.9272 738.793 61.8716 742.039 Q58.7843 745.254 53.6281 745.254 Q47.6125 745.254 44.5569 741.243 Q41.5014 737.201 41.5014 729.212 L41.5014 721.001 L40.9285 721.001 Q36.8862 721.001 34.6901 723.674 Q32.4621 726.316 32.4621 731.122 Q32.4621 734.178 33.1941 737.074 Q33.9262 739.97 35.3903 742.644 L29.9795 742.644 Q28.7381 739.429 28.1334 736.406 Q27.4968 733.382 27.4968 730.517 Q27.4968 722.783 31.5072 718.964 Q35.5176 715.144 43.6657 715.144 Z\" fill=\"#000000\" fill-rule=\"nonzero\" fill-opacity=\"1\" /><path clip-path=\"url(#clip330)\" d=\"M29.4065 680.355 L34.9447 680.355 Q33.6716 682.838 33.035 685.512 Q32.3984 688.185 32.3984 691.05 Q32.3984 695.41 33.7352 697.607 Q35.072 699.771 37.7456 699.771 Q39.7826 699.771 40.9603 698.211 Q42.1061 696.652 43.1565 691.941 L43.6021 689.936 Q44.9389 683.697 47.3897 681.088 Q49.8086 678.446 54.1691 678.446 Q59.1344 678.446 62.0308 682.393 Q64.9272 686.307 64.9272 693.182 Q64.9272 696.047 64.3543 699.166 Q63.8132 702.254 62.6992 705.691 L56.6518 705.691 Q58.3387 702.444 59.198 699.293 Q60.0256 696.142 60.0256 693.055 Q60.0256 688.917 58.6251 686.689 Q57.1929 684.461 54.6147 684.461 Q52.2276 684.461 50.9545 686.085 Q49.6813 687.676 48.5037 693.119 L48.0262 695.156 Q46.8804 700.598 44.5251 703.017 Q42.138 705.436 38.0002 705.436 Q32.9713 705.436 30.2341 701.872 Q27.4968 698.307 27.4968 691.75 Q27.4968 688.504 27.9743 685.639 Q28.4517 682.774 29.4065 680.355 Z\" fill=\"#000000\" fill-rule=\"nonzero\" fill-opacity=\"1\" /><path clip-path=\"url(#clip330)\" d=\"M44.7161 638.628 L47.5806 638.628 L47.5806 665.555 Q53.6281 665.173 56.8109 661.927 Q59.9619 658.648 59.9619 652.824 Q59.9619 649.45 59.1344 646.299 Q58.3069 643.116 56.6518 639.997 L62.1899 639.997 Q63.5267 643.148 64.227 646.458 Q64.9272 649.768 64.9272 653.174 Q64.9272 661.704 59.9619 666.701 Q54.9967 671.666 46.5303 671.666 Q37.7774 671.666 32.6531 666.956 Q27.4968 662.213 27.4968 654.192 Q27.4968 646.999 32.1438 642.83 Q36.7589 638.628 44.7161 638.628 M42.9973 644.485 Q38.1912 644.548 35.3266 647.19 Q32.4621 649.8 32.4621 654.129 Q32.4621 659.03 35.2312 661.99 Q38.0002 664.919 43.0292 665.364 L42.9973 644.485 Z\" fill=\"#000000\" fill-rule=\"nonzero\" fill-opacity=\"1\" /><path clip-path=\"url(#clip330)\" d=\"M41.3104 601.612 L58.7206 601.612 L58.7206 591.299 Q58.7206 586.111 56.5881 583.629 Q54.4238 581.114 49.9996 581.114 Q45.5436 581.114 43.4429 583.629 Q41.3104 586.111 41.3104 591.299 L41.3104 601.612 M21.7677 601.612 L36.0905 601.612 L36.0905 592.095 Q36.0905 587.384 34.34 585.093 Q32.5576 582.769 28.9291 582.769 Q25.3325 582.769 23.5501 585.093 Q21.7677 587.384 21.7677 592.095 L21.7677 601.612 M16.4842 608.041 L16.4842 591.618 Q16.4842 584.265 19.5397 580.287 Q22.5952 576.308 28.2289 576.308 Q32.5894 576.308 35.1675 578.345 Q37.7456 580.382 38.3822 584.329 Q39.4007 579.586 42.6472 576.976 Q45.8619 574.335 50.6998 574.335 Q57.0655 574.335 60.5348 578.663 Q64.0042 582.992 64.0042 590.981 L64.0042 608.041 L16.4842 608.041 Z\" fill=\"#000000\" fill-rule=\"nonzero\" fill-opacity=\"1\" /><path clip-path=\"url(#clip330)\" d=\"M16.4842 563.322 L16.4842 533.276 L21.895 533.276 L21.895 556.893 L35.9632 556.893 L35.9632 534.263 L41.3741 534.263 L41.3741 556.893 L58.5933 556.893 L58.5933 532.703 L64.0042 532.703 L64.0042 563.322 L16.4842 563.322 Z\" fill=\"#000000\" fill-rule=\"nonzero\" fill-opacity=\"1\" /><path clip-path=\"url(#clip330)\" d=\"M41.7242 499.601 Q42.4244 497.532 44.7161 495.591 Q47.0077 493.617 51.0181 491.644 L64.0042 485.119 L64.0042 492.026 L51.8138 498.105 Q47.0395 500.461 45.48 502.689 Q43.9204 504.885 43.9204 508.704 L43.9204 515.706 L64.0042 515.706 L64.0042 522.136 L16.4842 522.136 L16.4842 507.622 Q16.4842 499.474 19.8898 495.464 Q23.2955 491.453 30.1704 491.453 Q34.6582 491.453 37.6183 493.554 Q40.5784 495.623 41.7242 499.601 M21.7677 515.706 L38.6368 515.706 L38.6368 507.622 Q38.6368 502.975 36.5043 500.62 Q34.34 498.233 30.1704 498.233 Q26.0009 498.233 23.9002 500.62 Q21.7677 502.975 21.7677 507.622 L21.7677 515.706 Z\" fill=\"#000000\" fill-rule=\"nonzero\" fill-opacity=\"1\" /><polyline clip-path=\"url(#clip332)\" style=\"stroke:#009af9; stroke-linecap:round; stroke-linejoin:round; stroke-width:4; stroke-opacity:1; fill:none\" points=\"311.302,102.26 387.533,118.925 463.763,135.064 539.994,152.282 616.224,169.966 692.455,186.678 768.685,208.16 844.916,230.199 921.146,252.13 997.377,274.727 1073.61,292.955 1149.84,314.888 1226.07,340.199 1302.3,365.413 1378.53,394.785 1454.76,431.844 1530.99,470.033 1607.22,513.223 1683.45,569.898 1759.68,627.185 1835.91,696.989 1912.14,784.974 1988.37,870.908 2064.6,975.554 2140.84,1087.04 2217.07,1212.96 2293.3,1343.76 \"/>\n",
       "<line clip-path=\"url(#clip332)\" x1=\"311.302\" y1=\"102.26\" x2=\"311.302\" y2=\"86.2597\" style=\"stroke:#009af9; stroke-width:4; stroke-opacity:1\"/>\n",
       "<line clip-path=\"url(#clip332)\" x1=\"311.302\" y1=\"102.26\" x2=\"295.302\" y2=\"102.26\" style=\"stroke:#009af9; stroke-width:4; stroke-opacity:1\"/>\n",
       "<line clip-path=\"url(#clip332)\" x1=\"311.302\" y1=\"102.26\" x2=\"311.302\" y2=\"118.26\" style=\"stroke:#009af9; stroke-width:4; stroke-opacity:1\"/>\n",
       "<line clip-path=\"url(#clip332)\" x1=\"311.302\" y1=\"102.26\" x2=\"327.302\" y2=\"102.26\" style=\"stroke:#009af9; stroke-width:4; stroke-opacity:1\"/>\n",
       "<line clip-path=\"url(#clip332)\" x1=\"387.533\" y1=\"118.925\" x2=\"387.533\" y2=\"102.925\" style=\"stroke:#009af9; stroke-width:4; stroke-opacity:1\"/>\n",
       "<line clip-path=\"url(#clip332)\" x1=\"387.533\" y1=\"118.925\" x2=\"371.533\" y2=\"118.925\" style=\"stroke:#009af9; stroke-width:4; stroke-opacity:1\"/>\n",
       "<line clip-path=\"url(#clip332)\" x1=\"387.533\" y1=\"118.925\" x2=\"387.533\" y2=\"134.925\" style=\"stroke:#009af9; stroke-width:4; stroke-opacity:1\"/>\n",
       "<line clip-path=\"url(#clip332)\" x1=\"387.533\" y1=\"118.925\" x2=\"403.533\" y2=\"118.925\" style=\"stroke:#009af9; stroke-width:4; stroke-opacity:1\"/>\n",
       "<line clip-path=\"url(#clip332)\" x1=\"463.763\" y1=\"135.064\" x2=\"463.763\" y2=\"119.064\" style=\"stroke:#009af9; stroke-width:4; stroke-opacity:1\"/>\n",
       "<line clip-path=\"url(#clip332)\" x1=\"463.763\" y1=\"135.064\" x2=\"447.763\" y2=\"135.064\" style=\"stroke:#009af9; stroke-width:4; stroke-opacity:1\"/>\n",
       "<line clip-path=\"url(#clip332)\" x1=\"463.763\" y1=\"135.064\" x2=\"463.763\" y2=\"151.064\" style=\"stroke:#009af9; stroke-width:4; stroke-opacity:1\"/>\n",
       "<line clip-path=\"url(#clip332)\" x1=\"463.763\" y1=\"135.064\" x2=\"479.763\" y2=\"135.064\" style=\"stroke:#009af9; stroke-width:4; stroke-opacity:1\"/>\n",
       "<line clip-path=\"url(#clip332)\" x1=\"539.994\" y1=\"152.282\" x2=\"539.994\" y2=\"136.282\" style=\"stroke:#009af9; stroke-width:4; stroke-opacity:1\"/>\n",
       "<line clip-path=\"url(#clip332)\" x1=\"539.994\" y1=\"152.282\" x2=\"523.994\" y2=\"152.282\" style=\"stroke:#009af9; stroke-width:4; stroke-opacity:1\"/>\n",
       "<line clip-path=\"url(#clip332)\" x1=\"539.994\" y1=\"152.282\" x2=\"539.994\" y2=\"168.282\" style=\"stroke:#009af9; stroke-width:4; stroke-opacity:1\"/>\n",
       "<line clip-path=\"url(#clip332)\" x1=\"539.994\" y1=\"152.282\" x2=\"555.994\" y2=\"152.282\" style=\"stroke:#009af9; stroke-width:4; stroke-opacity:1\"/>\n",
       "<line clip-path=\"url(#clip332)\" x1=\"616.224\" y1=\"169.966\" x2=\"616.224\" y2=\"153.966\" style=\"stroke:#009af9; stroke-width:4; stroke-opacity:1\"/>\n",
       "<line clip-path=\"url(#clip332)\" x1=\"616.224\" y1=\"169.966\" x2=\"600.224\" y2=\"169.966\" style=\"stroke:#009af9; stroke-width:4; stroke-opacity:1\"/>\n",
       "<line clip-path=\"url(#clip332)\" x1=\"616.224\" y1=\"169.966\" x2=\"616.224\" y2=\"185.966\" style=\"stroke:#009af9; stroke-width:4; stroke-opacity:1\"/>\n",
       "<line clip-path=\"url(#clip332)\" x1=\"616.224\" y1=\"169.966\" x2=\"632.224\" y2=\"169.966\" style=\"stroke:#009af9; stroke-width:4; stroke-opacity:1\"/>\n",
       "<line clip-path=\"url(#clip332)\" x1=\"692.455\" y1=\"186.678\" x2=\"692.455\" y2=\"170.678\" style=\"stroke:#009af9; stroke-width:4; stroke-opacity:1\"/>\n",
       "<line clip-path=\"url(#clip332)\" x1=\"692.455\" y1=\"186.678\" x2=\"676.455\" y2=\"186.678\" style=\"stroke:#009af9; stroke-width:4; stroke-opacity:1\"/>\n",
       "<line clip-path=\"url(#clip332)\" x1=\"692.455\" y1=\"186.678\" x2=\"692.455\" y2=\"202.678\" style=\"stroke:#009af9; stroke-width:4; stroke-opacity:1\"/>\n",
       "<line clip-path=\"url(#clip332)\" x1=\"692.455\" y1=\"186.678\" x2=\"708.455\" y2=\"186.678\" style=\"stroke:#009af9; stroke-width:4; stroke-opacity:1\"/>\n",
       "<line clip-path=\"url(#clip332)\" x1=\"768.685\" y1=\"208.16\" x2=\"768.685\" y2=\"192.16\" style=\"stroke:#009af9; stroke-width:4; stroke-opacity:1\"/>\n",
       "<line clip-path=\"url(#clip332)\" x1=\"768.685\" y1=\"208.16\" x2=\"752.685\" y2=\"208.16\" style=\"stroke:#009af9; stroke-width:4; stroke-opacity:1\"/>\n",
       "<line clip-path=\"url(#clip332)\" x1=\"768.685\" y1=\"208.16\" x2=\"768.685\" y2=\"224.16\" style=\"stroke:#009af9; stroke-width:4; stroke-opacity:1\"/>\n",
       "<line clip-path=\"url(#clip332)\" x1=\"768.685\" y1=\"208.16\" x2=\"784.685\" y2=\"208.16\" style=\"stroke:#009af9; stroke-width:4; stroke-opacity:1\"/>\n",
       "<line clip-path=\"url(#clip332)\" x1=\"844.916\" y1=\"230.199\" x2=\"844.916\" y2=\"214.199\" style=\"stroke:#009af9; stroke-width:4; stroke-opacity:1\"/>\n",
       "<line clip-path=\"url(#clip332)\" x1=\"844.916\" y1=\"230.199\" x2=\"828.916\" y2=\"230.199\" style=\"stroke:#009af9; stroke-width:4; stroke-opacity:1\"/>\n",
       "<line clip-path=\"url(#clip332)\" x1=\"844.916\" y1=\"230.199\" x2=\"844.916\" y2=\"246.199\" style=\"stroke:#009af9; stroke-width:4; stroke-opacity:1\"/>\n",
       "<line clip-path=\"url(#clip332)\" x1=\"844.916\" y1=\"230.199\" x2=\"860.916\" y2=\"230.199\" style=\"stroke:#009af9; stroke-width:4; stroke-opacity:1\"/>\n",
       "<line clip-path=\"url(#clip332)\" x1=\"921.146\" y1=\"252.13\" x2=\"921.146\" y2=\"236.13\" style=\"stroke:#009af9; stroke-width:4; stroke-opacity:1\"/>\n",
       "<line clip-path=\"url(#clip332)\" x1=\"921.146\" y1=\"252.13\" x2=\"905.146\" y2=\"252.13\" style=\"stroke:#009af9; stroke-width:4; stroke-opacity:1\"/>\n",
       "<line clip-path=\"url(#clip332)\" x1=\"921.146\" y1=\"252.13\" x2=\"921.146\" y2=\"268.13\" style=\"stroke:#009af9; stroke-width:4; stroke-opacity:1\"/>\n",
       "<line clip-path=\"url(#clip332)\" x1=\"921.146\" y1=\"252.13\" x2=\"937.146\" y2=\"252.13\" style=\"stroke:#009af9; stroke-width:4; stroke-opacity:1\"/>\n",
       "<line clip-path=\"url(#clip332)\" x1=\"997.377\" y1=\"274.727\" x2=\"997.377\" y2=\"258.727\" style=\"stroke:#009af9; stroke-width:4; stroke-opacity:1\"/>\n",
       "<line clip-path=\"url(#clip332)\" x1=\"997.377\" y1=\"274.727\" x2=\"981.377\" y2=\"274.727\" style=\"stroke:#009af9; stroke-width:4; stroke-opacity:1\"/>\n",
       "<line clip-path=\"url(#clip332)\" x1=\"997.377\" y1=\"274.727\" x2=\"997.377\" y2=\"290.727\" style=\"stroke:#009af9; stroke-width:4; stroke-opacity:1\"/>\n",
       "<line clip-path=\"url(#clip332)\" x1=\"997.377\" y1=\"274.727\" x2=\"1013.38\" y2=\"274.727\" style=\"stroke:#009af9; stroke-width:4; stroke-opacity:1\"/>\n",
       "<line clip-path=\"url(#clip332)\" x1=\"1073.61\" y1=\"292.955\" x2=\"1073.61\" y2=\"276.955\" style=\"stroke:#009af9; stroke-width:4; stroke-opacity:1\"/>\n",
       "<line clip-path=\"url(#clip332)\" x1=\"1073.61\" y1=\"292.955\" x2=\"1057.61\" y2=\"292.955\" style=\"stroke:#009af9; stroke-width:4; stroke-opacity:1\"/>\n",
       "<line clip-path=\"url(#clip332)\" x1=\"1073.61\" y1=\"292.955\" x2=\"1073.61\" y2=\"308.955\" style=\"stroke:#009af9; stroke-width:4; stroke-opacity:1\"/>\n",
       "<line clip-path=\"url(#clip332)\" x1=\"1073.61\" y1=\"292.955\" x2=\"1089.61\" y2=\"292.955\" style=\"stroke:#009af9; stroke-width:4; stroke-opacity:1\"/>\n",
       "<line clip-path=\"url(#clip332)\" x1=\"1149.84\" y1=\"314.888\" x2=\"1149.84\" y2=\"298.888\" style=\"stroke:#009af9; stroke-width:4; stroke-opacity:1\"/>\n",
       "<line clip-path=\"url(#clip332)\" x1=\"1149.84\" y1=\"314.888\" x2=\"1133.84\" y2=\"314.888\" style=\"stroke:#009af9; stroke-width:4; stroke-opacity:1\"/>\n",
       "<line clip-path=\"url(#clip332)\" x1=\"1149.84\" y1=\"314.888\" x2=\"1149.84\" y2=\"330.888\" style=\"stroke:#009af9; stroke-width:4; stroke-opacity:1\"/>\n",
       "<line clip-path=\"url(#clip332)\" x1=\"1149.84\" y1=\"314.888\" x2=\"1165.84\" y2=\"314.888\" style=\"stroke:#009af9; stroke-width:4; stroke-opacity:1\"/>\n",
       "<line clip-path=\"url(#clip332)\" x1=\"1226.07\" y1=\"340.199\" x2=\"1226.07\" y2=\"324.199\" style=\"stroke:#009af9; stroke-width:4; stroke-opacity:1\"/>\n",
       "<line clip-path=\"url(#clip332)\" x1=\"1226.07\" y1=\"340.199\" x2=\"1210.07\" y2=\"340.199\" style=\"stroke:#009af9; stroke-width:4; stroke-opacity:1\"/>\n",
       "<line clip-path=\"url(#clip332)\" x1=\"1226.07\" y1=\"340.199\" x2=\"1226.07\" y2=\"356.199\" style=\"stroke:#009af9; stroke-width:4; stroke-opacity:1\"/>\n",
       "<line clip-path=\"url(#clip332)\" x1=\"1226.07\" y1=\"340.199\" x2=\"1242.07\" y2=\"340.199\" style=\"stroke:#009af9; stroke-width:4; stroke-opacity:1\"/>\n",
       "<line clip-path=\"url(#clip332)\" x1=\"1302.3\" y1=\"365.413\" x2=\"1302.3\" y2=\"349.413\" style=\"stroke:#009af9; stroke-width:4; stroke-opacity:1\"/>\n",
       "<line clip-path=\"url(#clip332)\" x1=\"1302.3\" y1=\"365.413\" x2=\"1286.3\" y2=\"365.413\" style=\"stroke:#009af9; stroke-width:4; stroke-opacity:1\"/>\n",
       "<line clip-path=\"url(#clip332)\" x1=\"1302.3\" y1=\"365.413\" x2=\"1302.3\" y2=\"381.413\" style=\"stroke:#009af9; stroke-width:4; stroke-opacity:1\"/>\n",
       "<line clip-path=\"url(#clip332)\" x1=\"1302.3\" y1=\"365.413\" x2=\"1318.3\" y2=\"365.413\" style=\"stroke:#009af9; stroke-width:4; stroke-opacity:1\"/>\n",
       "<line clip-path=\"url(#clip332)\" x1=\"1378.53\" y1=\"394.785\" x2=\"1378.53\" y2=\"378.785\" style=\"stroke:#009af9; stroke-width:4; stroke-opacity:1\"/>\n",
       "<line clip-path=\"url(#clip332)\" x1=\"1378.53\" y1=\"394.785\" x2=\"1362.53\" y2=\"394.785\" style=\"stroke:#009af9; stroke-width:4; stroke-opacity:1\"/>\n",
       "<line clip-path=\"url(#clip332)\" x1=\"1378.53\" y1=\"394.785\" x2=\"1378.53\" y2=\"410.785\" style=\"stroke:#009af9; stroke-width:4; stroke-opacity:1\"/>\n",
       "<line clip-path=\"url(#clip332)\" x1=\"1378.53\" y1=\"394.785\" x2=\"1394.53\" y2=\"394.785\" style=\"stroke:#009af9; stroke-width:4; stroke-opacity:1\"/>\n",
       "<line clip-path=\"url(#clip332)\" x1=\"1454.76\" y1=\"431.844\" x2=\"1454.76\" y2=\"415.844\" style=\"stroke:#009af9; stroke-width:4; stroke-opacity:1\"/>\n",
       "<line clip-path=\"url(#clip332)\" x1=\"1454.76\" y1=\"431.844\" x2=\"1438.76\" y2=\"431.844\" style=\"stroke:#009af9; stroke-width:4; stroke-opacity:1\"/>\n",
       "<line clip-path=\"url(#clip332)\" x1=\"1454.76\" y1=\"431.844\" x2=\"1454.76\" y2=\"447.844\" style=\"stroke:#009af9; stroke-width:4; stroke-opacity:1\"/>\n",
       "<line clip-path=\"url(#clip332)\" x1=\"1454.76\" y1=\"431.844\" x2=\"1470.76\" y2=\"431.844\" style=\"stroke:#009af9; stroke-width:4; stroke-opacity:1\"/>\n",
       "<line clip-path=\"url(#clip332)\" x1=\"1530.99\" y1=\"470.033\" x2=\"1530.99\" y2=\"454.033\" style=\"stroke:#009af9; stroke-width:4; stroke-opacity:1\"/>\n",
       "<line clip-path=\"url(#clip332)\" x1=\"1530.99\" y1=\"470.033\" x2=\"1514.99\" y2=\"470.033\" style=\"stroke:#009af9; stroke-width:4; stroke-opacity:1\"/>\n",
       "<line clip-path=\"url(#clip332)\" x1=\"1530.99\" y1=\"470.033\" x2=\"1530.99\" y2=\"486.033\" style=\"stroke:#009af9; stroke-width:4; stroke-opacity:1\"/>\n",
       "<line clip-path=\"url(#clip332)\" x1=\"1530.99\" y1=\"470.033\" x2=\"1546.99\" y2=\"470.033\" style=\"stroke:#009af9; stroke-width:4; stroke-opacity:1\"/>\n",
       "<line clip-path=\"url(#clip332)\" x1=\"1607.22\" y1=\"513.223\" x2=\"1607.22\" y2=\"497.223\" style=\"stroke:#009af9; stroke-width:4; stroke-opacity:1\"/>\n",
       "<line clip-path=\"url(#clip332)\" x1=\"1607.22\" y1=\"513.223\" x2=\"1591.22\" y2=\"513.223\" style=\"stroke:#009af9; stroke-width:4; stroke-opacity:1\"/>\n",
       "<line clip-path=\"url(#clip332)\" x1=\"1607.22\" y1=\"513.223\" x2=\"1607.22\" y2=\"529.223\" style=\"stroke:#009af9; stroke-width:4; stroke-opacity:1\"/>\n",
       "<line clip-path=\"url(#clip332)\" x1=\"1607.22\" y1=\"513.223\" x2=\"1623.22\" y2=\"513.223\" style=\"stroke:#009af9; stroke-width:4; stroke-opacity:1\"/>\n",
       "<line clip-path=\"url(#clip332)\" x1=\"1683.45\" y1=\"569.898\" x2=\"1683.45\" y2=\"553.898\" style=\"stroke:#009af9; stroke-width:4; stroke-opacity:1\"/>\n",
       "<line clip-path=\"url(#clip332)\" x1=\"1683.45\" y1=\"569.898\" x2=\"1667.45\" y2=\"569.898\" style=\"stroke:#009af9; stroke-width:4; stroke-opacity:1\"/>\n",
       "<line clip-path=\"url(#clip332)\" x1=\"1683.45\" y1=\"569.898\" x2=\"1683.45\" y2=\"585.898\" style=\"stroke:#009af9; stroke-width:4; stroke-opacity:1\"/>\n",
       "<line clip-path=\"url(#clip332)\" x1=\"1683.45\" y1=\"569.898\" x2=\"1699.45\" y2=\"569.898\" style=\"stroke:#009af9; stroke-width:4; stroke-opacity:1\"/>\n",
       "<line clip-path=\"url(#clip332)\" x1=\"1759.68\" y1=\"627.185\" x2=\"1759.68\" y2=\"611.185\" style=\"stroke:#009af9; stroke-width:4; stroke-opacity:1\"/>\n",
       "<line clip-path=\"url(#clip332)\" x1=\"1759.68\" y1=\"627.185\" x2=\"1743.68\" y2=\"627.185\" style=\"stroke:#009af9; stroke-width:4; stroke-opacity:1\"/>\n",
       "<line clip-path=\"url(#clip332)\" x1=\"1759.68\" y1=\"627.185\" x2=\"1759.68\" y2=\"643.185\" style=\"stroke:#009af9; stroke-width:4; stroke-opacity:1\"/>\n",
       "<line clip-path=\"url(#clip332)\" x1=\"1759.68\" y1=\"627.185\" x2=\"1775.68\" y2=\"627.185\" style=\"stroke:#009af9; stroke-width:4; stroke-opacity:1\"/>\n",
       "<line clip-path=\"url(#clip332)\" x1=\"1835.91\" y1=\"696.989\" x2=\"1835.91\" y2=\"680.989\" style=\"stroke:#009af9; stroke-width:4; stroke-opacity:1\"/>\n",
       "<line clip-path=\"url(#clip332)\" x1=\"1835.91\" y1=\"696.989\" x2=\"1819.91\" y2=\"696.989\" style=\"stroke:#009af9; stroke-width:4; stroke-opacity:1\"/>\n",
       "<line clip-path=\"url(#clip332)\" x1=\"1835.91\" y1=\"696.989\" x2=\"1835.91\" y2=\"712.989\" style=\"stroke:#009af9; stroke-width:4; stroke-opacity:1\"/>\n",
       "<line clip-path=\"url(#clip332)\" x1=\"1835.91\" y1=\"696.989\" x2=\"1851.91\" y2=\"696.989\" style=\"stroke:#009af9; stroke-width:4; stroke-opacity:1\"/>\n",
       "<line clip-path=\"url(#clip332)\" x1=\"1912.14\" y1=\"784.974\" x2=\"1912.14\" y2=\"768.974\" style=\"stroke:#009af9; stroke-width:4; stroke-opacity:1\"/>\n",
       "<line clip-path=\"url(#clip332)\" x1=\"1912.14\" y1=\"784.974\" x2=\"1896.14\" y2=\"784.974\" style=\"stroke:#009af9; stroke-width:4; stroke-opacity:1\"/>\n",
       "<line clip-path=\"url(#clip332)\" x1=\"1912.14\" y1=\"784.974\" x2=\"1912.14\" y2=\"800.974\" style=\"stroke:#009af9; stroke-width:4; stroke-opacity:1\"/>\n",
       "<line clip-path=\"url(#clip332)\" x1=\"1912.14\" y1=\"784.974\" x2=\"1928.14\" y2=\"784.974\" style=\"stroke:#009af9; stroke-width:4; stroke-opacity:1\"/>\n",
       "<line clip-path=\"url(#clip332)\" x1=\"1988.37\" y1=\"870.908\" x2=\"1988.37\" y2=\"854.908\" style=\"stroke:#009af9; stroke-width:4; stroke-opacity:1\"/>\n",
       "<line clip-path=\"url(#clip332)\" x1=\"1988.37\" y1=\"870.908\" x2=\"1972.37\" y2=\"870.908\" style=\"stroke:#009af9; stroke-width:4; stroke-opacity:1\"/>\n",
       "<line clip-path=\"url(#clip332)\" x1=\"1988.37\" y1=\"870.908\" x2=\"1988.37\" y2=\"886.908\" style=\"stroke:#009af9; stroke-width:4; stroke-opacity:1\"/>\n",
       "<line clip-path=\"url(#clip332)\" x1=\"1988.37\" y1=\"870.908\" x2=\"2004.37\" y2=\"870.908\" style=\"stroke:#009af9; stroke-width:4; stroke-opacity:1\"/>\n",
       "<line clip-path=\"url(#clip332)\" x1=\"2064.6\" y1=\"975.554\" x2=\"2064.6\" y2=\"959.554\" style=\"stroke:#009af9; stroke-width:4; stroke-opacity:1\"/>\n",
       "<line clip-path=\"url(#clip332)\" x1=\"2064.6\" y1=\"975.554\" x2=\"2048.6\" y2=\"975.554\" style=\"stroke:#009af9; stroke-width:4; stroke-opacity:1\"/>\n",
       "<line clip-path=\"url(#clip332)\" x1=\"2064.6\" y1=\"975.554\" x2=\"2064.6\" y2=\"991.554\" style=\"stroke:#009af9; stroke-width:4; stroke-opacity:1\"/>\n",
       "<line clip-path=\"url(#clip332)\" x1=\"2064.6\" y1=\"975.554\" x2=\"2080.6\" y2=\"975.554\" style=\"stroke:#009af9; stroke-width:4; stroke-opacity:1\"/>\n",
       "<line clip-path=\"url(#clip332)\" x1=\"2140.84\" y1=\"1087.04\" x2=\"2140.84\" y2=\"1071.04\" style=\"stroke:#009af9; stroke-width:4; stroke-opacity:1\"/>\n",
       "<line clip-path=\"url(#clip332)\" x1=\"2140.84\" y1=\"1087.04\" x2=\"2124.84\" y2=\"1087.04\" style=\"stroke:#009af9; stroke-width:4; stroke-opacity:1\"/>\n",
       "<line clip-path=\"url(#clip332)\" x1=\"2140.84\" y1=\"1087.04\" x2=\"2140.84\" y2=\"1103.04\" style=\"stroke:#009af9; stroke-width:4; stroke-opacity:1\"/>\n",
       "<line clip-path=\"url(#clip332)\" x1=\"2140.84\" y1=\"1087.04\" x2=\"2156.84\" y2=\"1087.04\" style=\"stroke:#009af9; stroke-width:4; stroke-opacity:1\"/>\n",
       "<line clip-path=\"url(#clip332)\" x1=\"2217.07\" y1=\"1212.96\" x2=\"2217.07\" y2=\"1196.96\" style=\"stroke:#009af9; stroke-width:4; stroke-opacity:1\"/>\n",
       "<line clip-path=\"url(#clip332)\" x1=\"2217.07\" y1=\"1212.96\" x2=\"2201.07\" y2=\"1212.96\" style=\"stroke:#009af9; stroke-width:4; stroke-opacity:1\"/>\n",
       "<line clip-path=\"url(#clip332)\" x1=\"2217.07\" y1=\"1212.96\" x2=\"2217.07\" y2=\"1228.96\" style=\"stroke:#009af9; stroke-width:4; stroke-opacity:1\"/>\n",
       "<line clip-path=\"url(#clip332)\" x1=\"2217.07\" y1=\"1212.96\" x2=\"2233.07\" y2=\"1212.96\" style=\"stroke:#009af9; stroke-width:4; stroke-opacity:1\"/>\n",
       "<line clip-path=\"url(#clip332)\" x1=\"2293.3\" y1=\"1343.76\" x2=\"2293.3\" y2=\"1327.76\" style=\"stroke:#009af9; stroke-width:4; stroke-opacity:1\"/>\n",
       "<line clip-path=\"url(#clip332)\" x1=\"2293.3\" y1=\"1343.76\" x2=\"2277.3\" y2=\"1343.76\" style=\"stroke:#009af9; stroke-width:4; stroke-opacity:1\"/>\n",
       "<line clip-path=\"url(#clip332)\" x1=\"2293.3\" y1=\"1343.76\" x2=\"2293.3\" y2=\"1359.76\" style=\"stroke:#009af9; stroke-width:4; stroke-opacity:1\"/>\n",
       "<line clip-path=\"url(#clip332)\" x1=\"2293.3\" y1=\"1343.76\" x2=\"2309.3\" y2=\"1343.76\" style=\"stroke:#009af9; stroke-width:4; stroke-opacity:1\"/>\n",
       "<polyline clip-path=\"url(#clip332)\" style=\"stroke:#e26f46; stroke-linecap:round; stroke-linejoin:round; stroke-width:4; stroke-opacity:1; fill:none\" points=\"311.302,100.677 387.533,115.767 463.763,131.471 539.994,148.746 616.224,168.32 692.455,188.069 768.685,207.315 844.916,228.024 921.146,250.992 997.377,275.476 1073.61,300.317 1149.84,329.328 1226.07,367.471 1302.3,408.699 1378.53,460.149 1454.76,518.477 1530.99,590.254 1607.22,678.227 1683.45,776.367 1759.68,891.796 1835.91,1026.96 1912.14,1180.02 1988.37,1349.39 \"/>\n",
       "<circle clip-path=\"url(#clip332)\" cx=\"311.302\" cy=\"100.677\" r=\"14.4\" fill=\"#e26f46\" fill-rule=\"evenodd\" fill-opacity=\"1\" stroke=\"#000000\" stroke-opacity=\"1\" stroke-width=\"3.2\"/>\n",
       "<circle clip-path=\"url(#clip332)\" cx=\"387.533\" cy=\"115.767\" r=\"14.4\" fill=\"#e26f46\" fill-rule=\"evenodd\" fill-opacity=\"1\" stroke=\"#000000\" stroke-opacity=\"1\" stroke-width=\"3.2\"/>\n",
       "<circle clip-path=\"url(#clip332)\" cx=\"463.763\" cy=\"131.471\" r=\"14.4\" fill=\"#e26f46\" fill-rule=\"evenodd\" fill-opacity=\"1\" stroke=\"#000000\" stroke-opacity=\"1\" stroke-width=\"3.2\"/>\n",
       "<circle clip-path=\"url(#clip332)\" cx=\"539.994\" cy=\"148.746\" r=\"14.4\" fill=\"#e26f46\" fill-rule=\"evenodd\" fill-opacity=\"1\" stroke=\"#000000\" stroke-opacity=\"1\" stroke-width=\"3.2\"/>\n",
       "<circle clip-path=\"url(#clip332)\" cx=\"616.224\" cy=\"168.32\" r=\"14.4\" fill=\"#e26f46\" fill-rule=\"evenodd\" fill-opacity=\"1\" stroke=\"#000000\" stroke-opacity=\"1\" stroke-width=\"3.2\"/>\n",
       "<circle clip-path=\"url(#clip332)\" cx=\"692.455\" cy=\"188.069\" r=\"14.4\" fill=\"#e26f46\" fill-rule=\"evenodd\" fill-opacity=\"1\" stroke=\"#000000\" stroke-opacity=\"1\" stroke-width=\"3.2\"/>\n",
       "<circle clip-path=\"url(#clip332)\" cx=\"768.685\" cy=\"207.315\" r=\"14.4\" fill=\"#e26f46\" fill-rule=\"evenodd\" fill-opacity=\"1\" stroke=\"#000000\" stroke-opacity=\"1\" stroke-width=\"3.2\"/>\n",
       "<circle clip-path=\"url(#clip332)\" cx=\"844.916\" cy=\"228.024\" r=\"14.4\" fill=\"#e26f46\" fill-rule=\"evenodd\" fill-opacity=\"1\" stroke=\"#000000\" stroke-opacity=\"1\" stroke-width=\"3.2\"/>\n",
       "<circle clip-path=\"url(#clip332)\" cx=\"921.146\" cy=\"250.992\" r=\"14.4\" fill=\"#e26f46\" fill-rule=\"evenodd\" fill-opacity=\"1\" stroke=\"#000000\" stroke-opacity=\"1\" stroke-width=\"3.2\"/>\n",
       "<circle clip-path=\"url(#clip332)\" cx=\"997.377\" cy=\"275.476\" r=\"14.4\" fill=\"#e26f46\" fill-rule=\"evenodd\" fill-opacity=\"1\" stroke=\"#000000\" stroke-opacity=\"1\" stroke-width=\"3.2\"/>\n",
       "<circle clip-path=\"url(#clip332)\" cx=\"1073.61\" cy=\"300.317\" r=\"14.4\" fill=\"#e26f46\" fill-rule=\"evenodd\" fill-opacity=\"1\" stroke=\"#000000\" stroke-opacity=\"1\" stroke-width=\"3.2\"/>\n",
       "<circle clip-path=\"url(#clip332)\" cx=\"1149.84\" cy=\"329.328\" r=\"14.4\" fill=\"#e26f46\" fill-rule=\"evenodd\" fill-opacity=\"1\" stroke=\"#000000\" stroke-opacity=\"1\" stroke-width=\"3.2\"/>\n",
       "<circle clip-path=\"url(#clip332)\" cx=\"1226.07\" cy=\"367.471\" r=\"14.4\" fill=\"#e26f46\" fill-rule=\"evenodd\" fill-opacity=\"1\" stroke=\"#000000\" stroke-opacity=\"1\" stroke-width=\"3.2\"/>\n",
       "<circle clip-path=\"url(#clip332)\" cx=\"1302.3\" cy=\"408.699\" r=\"14.4\" fill=\"#e26f46\" fill-rule=\"evenodd\" fill-opacity=\"1\" stroke=\"#000000\" stroke-opacity=\"1\" stroke-width=\"3.2\"/>\n",
       "<circle clip-path=\"url(#clip332)\" cx=\"1378.53\" cy=\"460.149\" r=\"14.4\" fill=\"#e26f46\" fill-rule=\"evenodd\" fill-opacity=\"1\" stroke=\"#000000\" stroke-opacity=\"1\" stroke-width=\"3.2\"/>\n",
       "<circle clip-path=\"url(#clip332)\" cx=\"1454.76\" cy=\"518.477\" r=\"14.4\" fill=\"#e26f46\" fill-rule=\"evenodd\" fill-opacity=\"1\" stroke=\"#000000\" stroke-opacity=\"1\" stroke-width=\"3.2\"/>\n",
       "<circle clip-path=\"url(#clip332)\" cx=\"1530.99\" cy=\"590.254\" r=\"14.4\" fill=\"#e26f46\" fill-rule=\"evenodd\" fill-opacity=\"1\" stroke=\"#000000\" stroke-opacity=\"1\" stroke-width=\"3.2\"/>\n",
       "<circle clip-path=\"url(#clip332)\" cx=\"1607.22\" cy=\"678.227\" r=\"14.4\" fill=\"#e26f46\" fill-rule=\"evenodd\" fill-opacity=\"1\" stroke=\"#000000\" stroke-opacity=\"1\" stroke-width=\"3.2\"/>\n",
       "<circle clip-path=\"url(#clip332)\" cx=\"1683.45\" cy=\"776.367\" r=\"14.4\" fill=\"#e26f46\" fill-rule=\"evenodd\" fill-opacity=\"1\" stroke=\"#000000\" stroke-opacity=\"1\" stroke-width=\"3.2\"/>\n",
       "<circle clip-path=\"url(#clip332)\" cx=\"1759.68\" cy=\"891.796\" r=\"14.4\" fill=\"#e26f46\" fill-rule=\"evenodd\" fill-opacity=\"1\" stroke=\"#000000\" stroke-opacity=\"1\" stroke-width=\"3.2\"/>\n",
       "<circle clip-path=\"url(#clip332)\" cx=\"1835.91\" cy=\"1026.96\" r=\"14.4\" fill=\"#e26f46\" fill-rule=\"evenodd\" fill-opacity=\"1\" stroke=\"#000000\" stroke-opacity=\"1\" stroke-width=\"3.2\"/>\n",
       "<circle clip-path=\"url(#clip332)\" cx=\"1912.14\" cy=\"1180.02\" r=\"14.4\" fill=\"#e26f46\" fill-rule=\"evenodd\" fill-opacity=\"1\" stroke=\"#000000\" stroke-opacity=\"1\" stroke-width=\"3.2\"/>\n",
       "<circle clip-path=\"url(#clip332)\" cx=\"1988.37\" cy=\"1349.39\" r=\"14.4\" fill=\"#e26f46\" fill-rule=\"evenodd\" fill-opacity=\"1\" stroke=\"#000000\" stroke-opacity=\"1\" stroke-width=\"3.2\"/>\n",
       "<polyline clip-path=\"url(#clip332)\" style=\"stroke:#3da44d; stroke-linecap:round; stroke-linejoin:round; stroke-width:4; stroke-opacity:1; fill:none\" points=\"311.302,100.469 387.533,116.853 463.763,130.907 539.994,152.686 616.224,169.475 692.455,188.706 768.685,210.968 844.916,233.044 921.146,254.301 997.377,283.597 1073.61,310.713 1149.84,344.926 1226.07,390.874 1302.3,442.842 1378.53,510.038 1454.76,602.651 1530.99,712.815 1607.22,847.528 1683.45,1001.59 1759.68,1171.37 1835.91,1360.19 \"/>\n",
       "<line clip-path=\"url(#clip332)\" x1=\"311.302\" y1=\"100.469\" x2=\"311.302\" y2=\"84.4692\" style=\"stroke:#3da44d; stroke-width:4; stroke-opacity:1\"/>\n",
       "<line clip-path=\"url(#clip332)\" x1=\"311.302\" y1=\"100.469\" x2=\"295.302\" y2=\"100.469\" style=\"stroke:#3da44d; stroke-width:4; stroke-opacity:1\"/>\n",
       "<line clip-path=\"url(#clip332)\" x1=\"311.302\" y1=\"100.469\" x2=\"311.302\" y2=\"116.469\" style=\"stroke:#3da44d; stroke-width:4; stroke-opacity:1\"/>\n",
       "<line clip-path=\"url(#clip332)\" x1=\"311.302\" y1=\"100.469\" x2=\"327.302\" y2=\"100.469\" style=\"stroke:#3da44d; stroke-width:4; stroke-opacity:1\"/>\n",
       "<line clip-path=\"url(#clip332)\" x1=\"387.533\" y1=\"116.853\" x2=\"387.533\" y2=\"100.853\" style=\"stroke:#3da44d; stroke-width:4; stroke-opacity:1\"/>\n",
       "<line clip-path=\"url(#clip332)\" x1=\"387.533\" y1=\"116.853\" x2=\"371.533\" y2=\"116.853\" style=\"stroke:#3da44d; stroke-width:4; stroke-opacity:1\"/>\n",
       "<line clip-path=\"url(#clip332)\" x1=\"387.533\" y1=\"116.853\" x2=\"387.533\" y2=\"132.853\" style=\"stroke:#3da44d; stroke-width:4; stroke-opacity:1\"/>\n",
       "<line clip-path=\"url(#clip332)\" x1=\"387.533\" y1=\"116.853\" x2=\"403.533\" y2=\"116.853\" style=\"stroke:#3da44d; stroke-width:4; stroke-opacity:1\"/>\n",
       "<line clip-path=\"url(#clip332)\" x1=\"463.763\" y1=\"130.907\" x2=\"463.763\" y2=\"114.907\" style=\"stroke:#3da44d; stroke-width:4; stroke-opacity:1\"/>\n",
       "<line clip-path=\"url(#clip332)\" x1=\"463.763\" y1=\"130.907\" x2=\"447.763\" y2=\"130.907\" style=\"stroke:#3da44d; stroke-width:4; stroke-opacity:1\"/>\n",
       "<line clip-path=\"url(#clip332)\" x1=\"463.763\" y1=\"130.907\" x2=\"463.763\" y2=\"146.907\" style=\"stroke:#3da44d; stroke-width:4; stroke-opacity:1\"/>\n",
       "<line clip-path=\"url(#clip332)\" x1=\"463.763\" y1=\"130.907\" x2=\"479.763\" y2=\"130.907\" style=\"stroke:#3da44d; stroke-width:4; stroke-opacity:1\"/>\n",
       "<line clip-path=\"url(#clip332)\" x1=\"539.994\" y1=\"152.686\" x2=\"539.994\" y2=\"136.686\" style=\"stroke:#3da44d; stroke-width:4; stroke-opacity:1\"/>\n",
       "<line clip-path=\"url(#clip332)\" x1=\"539.994\" y1=\"152.686\" x2=\"523.994\" y2=\"152.686\" style=\"stroke:#3da44d; stroke-width:4; stroke-opacity:1\"/>\n",
       "<line clip-path=\"url(#clip332)\" x1=\"539.994\" y1=\"152.686\" x2=\"539.994\" y2=\"168.686\" style=\"stroke:#3da44d; stroke-width:4; stroke-opacity:1\"/>\n",
       "<line clip-path=\"url(#clip332)\" x1=\"539.994\" y1=\"152.686\" x2=\"555.994\" y2=\"152.686\" style=\"stroke:#3da44d; stroke-width:4; stroke-opacity:1\"/>\n",
       "<line clip-path=\"url(#clip332)\" x1=\"616.224\" y1=\"169.475\" x2=\"616.224\" y2=\"153.475\" style=\"stroke:#3da44d; stroke-width:4; stroke-opacity:1\"/>\n",
       "<line clip-path=\"url(#clip332)\" x1=\"616.224\" y1=\"169.475\" x2=\"600.224\" y2=\"169.475\" style=\"stroke:#3da44d; stroke-width:4; stroke-opacity:1\"/>\n",
       "<line clip-path=\"url(#clip332)\" x1=\"616.224\" y1=\"169.475\" x2=\"616.224\" y2=\"185.475\" style=\"stroke:#3da44d; stroke-width:4; stroke-opacity:1\"/>\n",
       "<line clip-path=\"url(#clip332)\" x1=\"616.224\" y1=\"169.475\" x2=\"632.224\" y2=\"169.475\" style=\"stroke:#3da44d; stroke-width:4; stroke-opacity:1\"/>\n",
       "<line clip-path=\"url(#clip332)\" x1=\"692.455\" y1=\"188.706\" x2=\"692.455\" y2=\"172.706\" style=\"stroke:#3da44d; stroke-width:4; stroke-opacity:1\"/>\n",
       "<line clip-path=\"url(#clip332)\" x1=\"692.455\" y1=\"188.706\" x2=\"676.455\" y2=\"188.706\" style=\"stroke:#3da44d; stroke-width:4; stroke-opacity:1\"/>\n",
       "<line clip-path=\"url(#clip332)\" x1=\"692.455\" y1=\"188.706\" x2=\"692.455\" y2=\"204.706\" style=\"stroke:#3da44d; stroke-width:4; stroke-opacity:1\"/>\n",
       "<line clip-path=\"url(#clip332)\" x1=\"692.455\" y1=\"188.706\" x2=\"708.455\" y2=\"188.706\" style=\"stroke:#3da44d; stroke-width:4; stroke-opacity:1\"/>\n",
       "<line clip-path=\"url(#clip332)\" x1=\"768.685\" y1=\"210.968\" x2=\"768.685\" y2=\"194.968\" style=\"stroke:#3da44d; stroke-width:4; stroke-opacity:1\"/>\n",
       "<line clip-path=\"url(#clip332)\" x1=\"768.685\" y1=\"210.968\" x2=\"752.685\" y2=\"210.968\" style=\"stroke:#3da44d; stroke-width:4; stroke-opacity:1\"/>\n",
       "<line clip-path=\"url(#clip332)\" x1=\"768.685\" y1=\"210.968\" x2=\"768.685\" y2=\"226.968\" style=\"stroke:#3da44d; stroke-width:4; stroke-opacity:1\"/>\n",
       "<line clip-path=\"url(#clip332)\" x1=\"768.685\" y1=\"210.968\" x2=\"784.685\" y2=\"210.968\" style=\"stroke:#3da44d; stroke-width:4; stroke-opacity:1\"/>\n",
       "<line clip-path=\"url(#clip332)\" x1=\"844.916\" y1=\"233.044\" x2=\"844.916\" y2=\"217.044\" style=\"stroke:#3da44d; stroke-width:4; stroke-opacity:1\"/>\n",
       "<line clip-path=\"url(#clip332)\" x1=\"844.916\" y1=\"233.044\" x2=\"828.916\" y2=\"233.044\" style=\"stroke:#3da44d; stroke-width:4; stroke-opacity:1\"/>\n",
       "<line clip-path=\"url(#clip332)\" x1=\"844.916\" y1=\"233.044\" x2=\"844.916\" y2=\"249.044\" style=\"stroke:#3da44d; stroke-width:4; stroke-opacity:1\"/>\n",
       "<line clip-path=\"url(#clip332)\" x1=\"844.916\" y1=\"233.044\" x2=\"860.916\" y2=\"233.044\" style=\"stroke:#3da44d; stroke-width:4; stroke-opacity:1\"/>\n",
       "<line clip-path=\"url(#clip332)\" x1=\"921.146\" y1=\"254.301\" x2=\"921.146\" y2=\"238.301\" style=\"stroke:#3da44d; stroke-width:4; stroke-opacity:1\"/>\n",
       "<line clip-path=\"url(#clip332)\" x1=\"921.146\" y1=\"254.301\" x2=\"905.146\" y2=\"254.301\" style=\"stroke:#3da44d; stroke-width:4; stroke-opacity:1\"/>\n",
       "<line clip-path=\"url(#clip332)\" x1=\"921.146\" y1=\"254.301\" x2=\"921.146\" y2=\"270.301\" style=\"stroke:#3da44d; stroke-width:4; stroke-opacity:1\"/>\n",
       "<line clip-path=\"url(#clip332)\" x1=\"921.146\" y1=\"254.301\" x2=\"937.146\" y2=\"254.301\" style=\"stroke:#3da44d; stroke-width:4; stroke-opacity:1\"/>\n",
       "<line clip-path=\"url(#clip332)\" x1=\"997.377\" y1=\"283.597\" x2=\"997.377\" y2=\"267.597\" style=\"stroke:#3da44d; stroke-width:4; stroke-opacity:1\"/>\n",
       "<line clip-path=\"url(#clip332)\" x1=\"997.377\" y1=\"283.597\" x2=\"981.377\" y2=\"283.597\" style=\"stroke:#3da44d; stroke-width:4; stroke-opacity:1\"/>\n",
       "<line clip-path=\"url(#clip332)\" x1=\"997.377\" y1=\"283.597\" x2=\"997.377\" y2=\"299.597\" style=\"stroke:#3da44d; stroke-width:4; stroke-opacity:1\"/>\n",
       "<line clip-path=\"url(#clip332)\" x1=\"997.377\" y1=\"283.597\" x2=\"1013.38\" y2=\"283.597\" style=\"stroke:#3da44d; stroke-width:4; stroke-opacity:1\"/>\n",
       "<line clip-path=\"url(#clip332)\" x1=\"1073.61\" y1=\"310.713\" x2=\"1073.61\" y2=\"294.713\" style=\"stroke:#3da44d; stroke-width:4; stroke-opacity:1\"/>\n",
       "<line clip-path=\"url(#clip332)\" x1=\"1073.61\" y1=\"310.713\" x2=\"1057.61\" y2=\"310.713\" style=\"stroke:#3da44d; stroke-width:4; stroke-opacity:1\"/>\n",
       "<line clip-path=\"url(#clip332)\" x1=\"1073.61\" y1=\"310.713\" x2=\"1073.61\" y2=\"326.713\" style=\"stroke:#3da44d; stroke-width:4; stroke-opacity:1\"/>\n",
       "<line clip-path=\"url(#clip332)\" x1=\"1073.61\" y1=\"310.713\" x2=\"1089.61\" y2=\"310.713\" style=\"stroke:#3da44d; stroke-width:4; stroke-opacity:1\"/>\n",
       "<line clip-path=\"url(#clip332)\" x1=\"1149.84\" y1=\"344.926\" x2=\"1149.84\" y2=\"328.926\" style=\"stroke:#3da44d; stroke-width:4; stroke-opacity:1\"/>\n",
       "<line clip-path=\"url(#clip332)\" x1=\"1149.84\" y1=\"344.926\" x2=\"1133.84\" y2=\"344.926\" style=\"stroke:#3da44d; stroke-width:4; stroke-opacity:1\"/>\n",
       "<line clip-path=\"url(#clip332)\" x1=\"1149.84\" y1=\"344.926\" x2=\"1149.84\" y2=\"360.926\" style=\"stroke:#3da44d; stroke-width:4; stroke-opacity:1\"/>\n",
       "<line clip-path=\"url(#clip332)\" x1=\"1149.84\" y1=\"344.926\" x2=\"1165.84\" y2=\"344.926\" style=\"stroke:#3da44d; stroke-width:4; stroke-opacity:1\"/>\n",
       "<line clip-path=\"url(#clip332)\" x1=\"1226.07\" y1=\"390.874\" x2=\"1226.07\" y2=\"374.874\" style=\"stroke:#3da44d; stroke-width:4; stroke-opacity:1\"/>\n",
       "<line clip-path=\"url(#clip332)\" x1=\"1226.07\" y1=\"390.874\" x2=\"1210.07\" y2=\"390.874\" style=\"stroke:#3da44d; stroke-width:4; stroke-opacity:1\"/>\n",
       "<line clip-path=\"url(#clip332)\" x1=\"1226.07\" y1=\"390.874\" x2=\"1226.07\" y2=\"406.874\" style=\"stroke:#3da44d; stroke-width:4; stroke-opacity:1\"/>\n",
       "<line clip-path=\"url(#clip332)\" x1=\"1226.07\" y1=\"390.874\" x2=\"1242.07\" y2=\"390.874\" style=\"stroke:#3da44d; stroke-width:4; stroke-opacity:1\"/>\n",
       "<line clip-path=\"url(#clip332)\" x1=\"1302.3\" y1=\"442.842\" x2=\"1302.3\" y2=\"426.842\" style=\"stroke:#3da44d; stroke-width:4; stroke-opacity:1\"/>\n",
       "<line clip-path=\"url(#clip332)\" x1=\"1302.3\" y1=\"442.842\" x2=\"1286.3\" y2=\"442.842\" style=\"stroke:#3da44d; stroke-width:4; stroke-opacity:1\"/>\n",
       "<line clip-path=\"url(#clip332)\" x1=\"1302.3\" y1=\"442.842\" x2=\"1302.3\" y2=\"458.842\" style=\"stroke:#3da44d; stroke-width:4; stroke-opacity:1\"/>\n",
       "<line clip-path=\"url(#clip332)\" x1=\"1302.3\" y1=\"442.842\" x2=\"1318.3\" y2=\"442.842\" style=\"stroke:#3da44d; stroke-width:4; stroke-opacity:1\"/>\n",
       "<line clip-path=\"url(#clip332)\" x1=\"1378.53\" y1=\"510.038\" x2=\"1378.53\" y2=\"494.038\" style=\"stroke:#3da44d; stroke-width:4; stroke-opacity:1\"/>\n",
       "<line clip-path=\"url(#clip332)\" x1=\"1378.53\" y1=\"510.038\" x2=\"1362.53\" y2=\"510.038\" style=\"stroke:#3da44d; stroke-width:4; stroke-opacity:1\"/>\n",
       "<line clip-path=\"url(#clip332)\" x1=\"1378.53\" y1=\"510.038\" x2=\"1378.53\" y2=\"526.038\" style=\"stroke:#3da44d; stroke-width:4; stroke-opacity:1\"/>\n",
       "<line clip-path=\"url(#clip332)\" x1=\"1378.53\" y1=\"510.038\" x2=\"1394.53\" y2=\"510.038\" style=\"stroke:#3da44d; stroke-width:4; stroke-opacity:1\"/>\n",
       "<line clip-path=\"url(#clip332)\" x1=\"1454.76\" y1=\"602.651\" x2=\"1454.76\" y2=\"586.651\" style=\"stroke:#3da44d; stroke-width:4; stroke-opacity:1\"/>\n",
       "<line clip-path=\"url(#clip332)\" x1=\"1454.76\" y1=\"602.651\" x2=\"1438.76\" y2=\"602.651\" style=\"stroke:#3da44d; stroke-width:4; stroke-opacity:1\"/>\n",
       "<line clip-path=\"url(#clip332)\" x1=\"1454.76\" y1=\"602.651\" x2=\"1454.76\" y2=\"618.651\" style=\"stroke:#3da44d; stroke-width:4; stroke-opacity:1\"/>\n",
       "<line clip-path=\"url(#clip332)\" x1=\"1454.76\" y1=\"602.651\" x2=\"1470.76\" y2=\"602.651\" style=\"stroke:#3da44d; stroke-width:4; stroke-opacity:1\"/>\n",
       "<line clip-path=\"url(#clip332)\" x1=\"1530.99\" y1=\"712.815\" x2=\"1530.99\" y2=\"696.815\" style=\"stroke:#3da44d; stroke-width:4; stroke-opacity:1\"/>\n",
       "<line clip-path=\"url(#clip332)\" x1=\"1530.99\" y1=\"712.815\" x2=\"1514.99\" y2=\"712.815\" style=\"stroke:#3da44d; stroke-width:4; stroke-opacity:1\"/>\n",
       "<line clip-path=\"url(#clip332)\" x1=\"1530.99\" y1=\"712.815\" x2=\"1530.99\" y2=\"728.815\" style=\"stroke:#3da44d; stroke-width:4; stroke-opacity:1\"/>\n",
       "<line clip-path=\"url(#clip332)\" x1=\"1530.99\" y1=\"712.815\" x2=\"1546.99\" y2=\"712.815\" style=\"stroke:#3da44d; stroke-width:4; stroke-opacity:1\"/>\n",
       "<line clip-path=\"url(#clip332)\" x1=\"1607.22\" y1=\"847.528\" x2=\"1607.22\" y2=\"831.528\" style=\"stroke:#3da44d; stroke-width:4; stroke-opacity:1\"/>\n",
       "<line clip-path=\"url(#clip332)\" x1=\"1607.22\" y1=\"847.528\" x2=\"1591.22\" y2=\"847.528\" style=\"stroke:#3da44d; stroke-width:4; stroke-opacity:1\"/>\n",
       "<line clip-path=\"url(#clip332)\" x1=\"1607.22\" y1=\"847.528\" x2=\"1607.22\" y2=\"863.528\" style=\"stroke:#3da44d; stroke-width:4; stroke-opacity:1\"/>\n",
       "<line clip-path=\"url(#clip332)\" x1=\"1607.22\" y1=\"847.528\" x2=\"1623.22\" y2=\"847.528\" style=\"stroke:#3da44d; stroke-width:4; stroke-opacity:1\"/>\n",
       "<line clip-path=\"url(#clip332)\" x1=\"1683.45\" y1=\"1001.59\" x2=\"1683.45\" y2=\"985.589\" style=\"stroke:#3da44d; stroke-width:4; stroke-opacity:1\"/>\n",
       "<line clip-path=\"url(#clip332)\" x1=\"1683.45\" y1=\"1001.59\" x2=\"1667.45\" y2=\"1001.59\" style=\"stroke:#3da44d; stroke-width:4; stroke-opacity:1\"/>\n",
       "<line clip-path=\"url(#clip332)\" x1=\"1683.45\" y1=\"1001.59\" x2=\"1683.45\" y2=\"1017.59\" style=\"stroke:#3da44d; stroke-width:4; stroke-opacity:1\"/>\n",
       "<line clip-path=\"url(#clip332)\" x1=\"1683.45\" y1=\"1001.59\" x2=\"1699.45\" y2=\"1001.59\" style=\"stroke:#3da44d; stroke-width:4; stroke-opacity:1\"/>\n",
       "<line clip-path=\"url(#clip332)\" x1=\"1759.68\" y1=\"1171.37\" x2=\"1759.68\" y2=\"1155.37\" style=\"stroke:#3da44d; stroke-width:4; stroke-opacity:1\"/>\n",
       "<line clip-path=\"url(#clip332)\" x1=\"1759.68\" y1=\"1171.37\" x2=\"1743.68\" y2=\"1171.37\" style=\"stroke:#3da44d; stroke-width:4; stroke-opacity:1\"/>\n",
       "<line clip-path=\"url(#clip332)\" x1=\"1759.68\" y1=\"1171.37\" x2=\"1759.68\" y2=\"1187.37\" style=\"stroke:#3da44d; stroke-width:4; stroke-opacity:1\"/>\n",
       "<line clip-path=\"url(#clip332)\" x1=\"1759.68\" y1=\"1171.37\" x2=\"1775.68\" y2=\"1171.37\" style=\"stroke:#3da44d; stroke-width:4; stroke-opacity:1\"/>\n",
       "<line clip-path=\"url(#clip332)\" x1=\"1835.91\" y1=\"1360.19\" x2=\"1835.91\" y2=\"1344.19\" style=\"stroke:#3da44d; stroke-width:4; stroke-opacity:1\"/>\n",
       "<line clip-path=\"url(#clip332)\" x1=\"1835.91\" y1=\"1360.19\" x2=\"1819.91\" y2=\"1360.19\" style=\"stroke:#3da44d; stroke-width:4; stroke-opacity:1\"/>\n",
       "<line clip-path=\"url(#clip332)\" x1=\"1835.91\" y1=\"1360.19\" x2=\"1835.91\" y2=\"1376.19\" style=\"stroke:#3da44d; stroke-width:4; stroke-opacity:1\"/>\n",
       "<line clip-path=\"url(#clip332)\" x1=\"1835.91\" y1=\"1360.19\" x2=\"1851.91\" y2=\"1360.19\" style=\"stroke:#3da44d; stroke-width:4; stroke-opacity:1\"/>\n",
       "<polyline clip-path=\"url(#clip332)\" style=\"stroke:#c271d2; stroke-linecap:round; stroke-linejoin:round; stroke-width:4; stroke-opacity:1; fill:none\" points=\"311.302,88.1266 387.533,103.653 463.763,120.222 539.994,140.984 616.224,159.416 692.455,182.439 768.685,211.061 844.916,236.725 921.146,274.701 997.377,312.66 1073.61,352.5 1149.84,403.566 1226.07,461.453 1302.3,531.301 1378.53,615.699 1454.76,708.861 1530.99,819.262 1607.22,944.745 1683.45,1096.23 1759.68,1256.53 \"/>\n",
       "<path clip-path=\"url(#clip332)\" d=\"M311.302 72.1266 L295.302 88.1266 L311.302 104.127 L327.302 88.1266 L311.302 72.1266 Z\" fill=\"#c271d2\" fill-rule=\"evenodd\" fill-opacity=\"1\" stroke=\"#000000\" stroke-opacity=\"1\" stroke-width=\"3.2\"/>\n",
       "<path clip-path=\"url(#clip332)\" d=\"M387.533 87.6529 L371.533 103.653 L387.533 119.653 L403.533 103.653 L387.533 87.6529 Z\" fill=\"#c271d2\" fill-rule=\"evenodd\" fill-opacity=\"1\" stroke=\"#000000\" stroke-opacity=\"1\" stroke-width=\"3.2\"/>\n",
       "<path clip-path=\"url(#clip332)\" d=\"M463.763 104.222 L447.763 120.222 L463.763 136.222 L479.763 120.222 L463.763 104.222 Z\" fill=\"#c271d2\" fill-rule=\"evenodd\" fill-opacity=\"1\" stroke=\"#000000\" stroke-opacity=\"1\" stroke-width=\"3.2\"/>\n",
       "<path clip-path=\"url(#clip332)\" d=\"M539.994 124.984 L523.994 140.984 L539.994 156.984 L555.994 140.984 L539.994 124.984 Z\" fill=\"#c271d2\" fill-rule=\"evenodd\" fill-opacity=\"1\" stroke=\"#000000\" stroke-opacity=\"1\" stroke-width=\"3.2\"/>\n",
       "<path clip-path=\"url(#clip332)\" d=\"M616.224 143.416 L600.224 159.416 L616.224 175.416 L632.224 159.416 L616.224 143.416 Z\" fill=\"#c271d2\" fill-rule=\"evenodd\" fill-opacity=\"1\" stroke=\"#000000\" stroke-opacity=\"1\" stroke-width=\"3.2\"/>\n",
       "<path clip-path=\"url(#clip332)\" d=\"M692.455 166.439 L676.455 182.439 L692.455 198.439 L708.455 182.439 L692.455 166.439 Z\" fill=\"#c271d2\" fill-rule=\"evenodd\" fill-opacity=\"1\" stroke=\"#000000\" stroke-opacity=\"1\" stroke-width=\"3.2\"/>\n",
       "<path clip-path=\"url(#clip332)\" d=\"M768.685 195.061 L752.685 211.061 L768.685 227.061 L784.685 211.061 L768.685 195.061 Z\" fill=\"#c271d2\" fill-rule=\"evenodd\" fill-opacity=\"1\" stroke=\"#000000\" stroke-opacity=\"1\" stroke-width=\"3.2\"/>\n",
       "<path clip-path=\"url(#clip332)\" d=\"M844.916 220.725 L828.916 236.725 L844.916 252.725 L860.916 236.725 L844.916 220.725 Z\" fill=\"#c271d2\" fill-rule=\"evenodd\" fill-opacity=\"1\" stroke=\"#000000\" stroke-opacity=\"1\" stroke-width=\"3.2\"/>\n",
       "<path clip-path=\"url(#clip332)\" d=\"M921.146 258.701 L905.146 274.701 L921.146 290.701 L937.146 274.701 L921.146 258.701 Z\" fill=\"#c271d2\" fill-rule=\"evenodd\" fill-opacity=\"1\" stroke=\"#000000\" stroke-opacity=\"1\" stroke-width=\"3.2\"/>\n",
       "<path clip-path=\"url(#clip332)\" d=\"M997.377 296.66 L981.377 312.66 L997.377 328.66 L1013.38 312.66 L997.377 296.66 Z\" fill=\"#c271d2\" fill-rule=\"evenodd\" fill-opacity=\"1\" stroke=\"#000000\" stroke-opacity=\"1\" stroke-width=\"3.2\"/>\n",
       "<path clip-path=\"url(#clip332)\" d=\"M1073.61 336.5 L1057.61 352.5 L1073.61 368.5 L1089.61 352.5 L1073.61 336.5 Z\" fill=\"#c271d2\" fill-rule=\"evenodd\" fill-opacity=\"1\" stroke=\"#000000\" stroke-opacity=\"1\" stroke-width=\"3.2\"/>\n",
       "<path clip-path=\"url(#clip332)\" d=\"M1149.84 387.566 L1133.84 403.566 L1149.84 419.566 L1165.84 403.566 L1149.84 387.566 Z\" fill=\"#c271d2\" fill-rule=\"evenodd\" fill-opacity=\"1\" stroke=\"#000000\" stroke-opacity=\"1\" stroke-width=\"3.2\"/>\n",
       "<path clip-path=\"url(#clip332)\" d=\"M1226.07 445.453 L1210.07 461.453 L1226.07 477.453 L1242.07 461.453 L1226.07 445.453 Z\" fill=\"#c271d2\" fill-rule=\"evenodd\" fill-opacity=\"1\" stroke=\"#000000\" stroke-opacity=\"1\" stroke-width=\"3.2\"/>\n",
       "<path clip-path=\"url(#clip332)\" d=\"M1302.3 515.301 L1286.3 531.301 L1302.3 547.301 L1318.3 531.301 L1302.3 515.301 Z\" fill=\"#c271d2\" fill-rule=\"evenodd\" fill-opacity=\"1\" stroke=\"#000000\" stroke-opacity=\"1\" stroke-width=\"3.2\"/>\n",
       "<path clip-path=\"url(#clip332)\" d=\"M1378.53 599.699 L1362.53 615.699 L1378.53 631.699 L1394.53 615.699 L1378.53 599.699 Z\" fill=\"#c271d2\" fill-rule=\"evenodd\" fill-opacity=\"1\" stroke=\"#000000\" stroke-opacity=\"1\" stroke-width=\"3.2\"/>\n",
       "<path clip-path=\"url(#clip332)\" d=\"M1454.76 692.861 L1438.76 708.861 L1454.76 724.861 L1470.76 708.861 L1454.76 692.861 Z\" fill=\"#c271d2\" fill-rule=\"evenodd\" fill-opacity=\"1\" stroke=\"#000000\" stroke-opacity=\"1\" stroke-width=\"3.2\"/>\n",
       "<path clip-path=\"url(#clip332)\" d=\"M1530.99 803.262 L1514.99 819.262 L1530.99 835.262 L1546.99 819.262 L1530.99 803.262 Z\" fill=\"#c271d2\" fill-rule=\"evenodd\" fill-opacity=\"1\" stroke=\"#000000\" stroke-opacity=\"1\" stroke-width=\"3.2\"/>\n",
       "<path clip-path=\"url(#clip332)\" d=\"M1607.22 928.745 L1591.22 944.745 L1607.22 960.745 L1623.22 944.745 L1607.22 928.745 Z\" fill=\"#c271d2\" fill-rule=\"evenodd\" fill-opacity=\"1\" stroke=\"#000000\" stroke-opacity=\"1\" stroke-width=\"3.2\"/>\n",
       "<path clip-path=\"url(#clip332)\" d=\"M1683.45 1080.23 L1667.45 1096.23 L1683.45 1112.23 L1699.45 1096.23 L1683.45 1080.23 Z\" fill=\"#c271d2\" fill-rule=\"evenodd\" fill-opacity=\"1\" stroke=\"#000000\" stroke-opacity=\"1\" stroke-width=\"3.2\"/>\n",
       "<path clip-path=\"url(#clip332)\" d=\"M1759.68 1240.53 L1743.68 1256.53 L1759.68 1272.53 L1775.68 1256.53 L1759.68 1240.53 Z\" fill=\"#c271d2\" fill-rule=\"evenodd\" fill-opacity=\"1\" stroke=\"#000000\" stroke-opacity=\"1\" stroke-width=\"3.2\"/>\n",
       "<path clip-path=\"url(#clip330)\" d=\"M321.873 1377.32 L1324.44 1377.32 L1324.44 1118.12 L321.873 1118.12  Z\" fill=\"#ffffff\" fill-rule=\"evenodd\" fill-opacity=\"1\"/>\n",
       "<polyline clip-path=\"url(#clip330)\" style=\"stroke:#000000; stroke-linecap:round; stroke-linejoin:round; stroke-width:4; stroke-opacity:1; fill:none\" points=\"321.873,1377.32 1324.44,1377.32 1324.44,1118.12 321.873,1118.12 321.873,1377.32 \"/>\n",
       "<polyline clip-path=\"url(#clip330)\" style=\"stroke:#009af9; stroke-linecap:round; stroke-linejoin:round; stroke-width:4; stroke-opacity:1; fill:none\" points=\"345.216,1169.96 485.277,1169.96 \"/>\n",
       "<line clip-path=\"url(#clip330)\" x1=\"415.247\" y1=\"1169.96\" x2=\"415.247\" y2=\"1148.34\" style=\"stroke:#009af9; stroke-width:4.55111; stroke-opacity:1\"/>\n",
       "<line clip-path=\"url(#clip330)\" x1=\"415.247\" y1=\"1169.96\" x2=\"393.632\" y2=\"1169.96\" style=\"stroke:#009af9; stroke-width:4.55111; stroke-opacity:1\"/>\n",
       "<line clip-path=\"url(#clip330)\" x1=\"415.247\" y1=\"1169.96\" x2=\"415.247\" y2=\"1191.57\" style=\"stroke:#009af9; stroke-width:4.55111; stroke-opacity:1\"/>\n",
       "<line clip-path=\"url(#clip330)\" x1=\"415.247\" y1=\"1169.96\" x2=\"436.861\" y2=\"1169.96\" style=\"stroke:#009af9; stroke-width:4.55111; stroke-opacity:1\"/>\n",
       "<path clip-path=\"url(#clip330)\" d=\"M509.292 1183.3 L516.931 1183.3 L516.931 1156.93 L508.621 1158.6 L508.621 1154.34 L516.885 1152.68 L521.56 1152.68 L521.56 1183.3 L529.199 1183.3 L529.199 1187.24 L509.292 1187.24 L509.292 1183.3 Z\" fill=\"#000000\" fill-rule=\"nonzero\" fill-opacity=\"1\" /><path clip-path=\"url(#clip330)\" d=\"M539.13 1181.36 L544.014 1181.36 L544.014 1187.24 L539.13 1187.24 L539.13 1181.36 M539.13 1162.72 L544.014 1162.72 L544.014 1168.6 L539.13 1168.6 L539.13 1162.72 Z\" fill=\"#000000\" fill-rule=\"nonzero\" fill-opacity=\"1\" /><path clip-path=\"url(#clip330)\" d=\"M567.278 1152.68 L594.43 1152.68 L594.43 1156.24 L572.579 1183.3 L594.963 1183.3 L594.963 1187.24 L566.745 1187.24 L566.745 1183.67 L588.597 1156.61 L567.278 1156.61 L567.278 1152.68 Z\" fill=\"#000000\" fill-rule=\"nonzero\" fill-opacity=\"1\" /><path clip-path=\"url(#clip330)\" d=\"M601.745 1152.68 L621.606 1152.68 L621.606 1156.61 L606.421 1156.61 L606.421 1166.8 L620.125 1166.8 L620.125 1170.73 L606.421 1170.73 L606.421 1187.24 L601.745 1187.24 L601.745 1152.68 Z\" fill=\"#000000\" fill-rule=\"nonzero\" fill-opacity=\"1\" /><polyline clip-path=\"url(#clip330)\" style=\"stroke:#e26f46; stroke-linecap:round; stroke-linejoin:round; stroke-width:4; stroke-opacity:1; fill:none\" points=\"345.216,1221.8 485.277,1221.8 \"/>\n",
       "<circle clip-path=\"url(#clip330)\" cx=\"415.247\" cy=\"1221.8\" r=\"19.4529\" fill=\"#e26f46\" fill-rule=\"evenodd\" fill-opacity=\"1\" stroke=\"#000000\" stroke-opacity=\"1\" stroke-width=\"4.55111\"/>\n",
       "<path clip-path=\"url(#clip330)\" d=\"M514.246 1235.14 L530.565 1235.14 L530.565 1239.08 L508.621 1239.08 L508.621 1235.14 Q511.283 1232.39 515.866 1227.76 Q520.472 1223.1 521.653 1221.76 Q523.898 1219.24 524.778 1217.5 Q525.681 1215.74 525.681 1214.05 Q525.681 1211.3 523.736 1209.56 Q521.815 1207.83 518.713 1207.83 Q516.514 1207.83 514.06 1208.59 Q511.63 1209.35 508.852 1210.9 L508.852 1206.18 Q511.676 1205.05 514.13 1204.47 Q516.584 1203.89 518.621 1203.89 Q523.991 1203.89 527.185 1206.58 Q530.38 1209.26 530.38 1213.75 Q530.38 1215.88 529.57 1217.8 Q528.783 1219.7 526.676 1222.29 Q526.097 1222.96 522.996 1226.18 Q519.894 1229.38 514.246 1235.14 Z\" fill=\"#000000\" fill-rule=\"nonzero\" fill-opacity=\"1\" /><path clip-path=\"url(#clip330)\" d=\"M540.866 1233.2 L545.75 1233.2 L545.75 1239.08 L540.866 1239.08 L540.866 1233.2 M540.866 1214.56 L545.75 1214.56 L545.75 1220.44 L540.866 1220.44 L540.866 1214.56 Z\" fill=\"#000000\" fill-rule=\"nonzero\" fill-opacity=\"1\" /><path clip-path=\"url(#clip330)\" d=\"M574.94 1235.19 L574.94 1248.94 L570.657 1248.94 L570.657 1213.15 L574.94 1213.15 L574.94 1217.08 Q576.282 1214.77 578.319 1213.66 Q580.38 1212.52 583.227 1212.52 Q587.949 1212.52 590.889 1216.27 Q593.852 1220.02 593.852 1226.14 Q593.852 1232.25 590.889 1236 Q587.949 1239.75 583.227 1239.75 Q580.38 1239.75 578.319 1238.64 Q576.282 1237.5 574.94 1235.19 M589.43 1226.14 Q589.43 1221.44 587.486 1218.77 Q585.565 1216.09 582.185 1216.09 Q578.805 1216.09 576.861 1218.77 Q574.94 1221.44 574.94 1226.14 Q574.94 1230.83 576.861 1233.52 Q578.805 1236.18 582.185 1236.18 Q585.565 1236.18 587.486 1233.52 Q589.43 1230.83 589.43 1226.14 Z\" fill=\"#000000\" fill-rule=\"nonzero\" fill-opacity=\"1\" /><path clip-path=\"url(#clip330)\" d=\"M615.935 1217.13 Q615.217 1216.71 614.361 1216.53 Q613.528 1216.32 612.509 1216.32 Q608.898 1216.32 606.953 1218.68 Q605.032 1221.02 605.032 1225.42 L605.032 1239.08 L600.75 1239.08 L600.75 1213.15 L605.032 1213.15 L605.032 1217.18 Q606.375 1214.82 608.528 1213.68 Q610.68 1212.52 613.759 1212.52 Q614.199 1212.52 614.731 1212.59 Q615.264 1212.64 615.912 1212.76 L615.935 1217.13 Z\" fill=\"#000000\" fill-rule=\"nonzero\" fill-opacity=\"1\" /><path clip-path=\"url(#clip330)\" d=\"M641.537 1225.05 L641.537 1227.13 L621.953 1227.13 Q622.231 1231.53 624.592 1233.84 Q626.977 1236.14 631.213 1236.14 Q633.666 1236.14 635.958 1235.53 Q638.273 1234.93 640.541 1233.73 L640.541 1237.76 Q638.25 1238.73 635.842 1239.24 Q633.435 1239.75 630.958 1239.75 Q624.754 1239.75 621.12 1236.14 Q617.509 1232.52 617.509 1226.37 Q617.509 1220 620.935 1216.27 Q624.384 1212.52 630.217 1212.52 Q635.449 1212.52 638.481 1215.9 Q641.537 1219.26 641.537 1225.05 M637.277 1223.8 Q637.231 1220.3 635.31 1218.22 Q633.412 1216.14 630.264 1216.14 Q626.699 1216.14 624.546 1218.15 Q622.416 1220.16 622.092 1223.82 L637.277 1223.8 Z\" fill=\"#000000\" fill-rule=\"nonzero\" fill-opacity=\"1\" /><path clip-path=\"url(#clip330)\" d=\"M667.185 1214.14 L667.185 1218.13 Q665.379 1217.13 663.55 1216.64 Q661.745 1216.14 659.893 1216.14 Q655.75 1216.14 653.458 1218.77 Q651.166 1221.39 651.166 1226.14 Q651.166 1230.88 653.458 1233.52 Q655.75 1236.14 659.893 1236.14 Q661.745 1236.14 663.55 1235.65 Q665.379 1235.14 667.185 1234.14 L667.185 1238.08 Q665.402 1238.91 663.481 1239.33 Q661.583 1239.75 659.43 1239.75 Q653.574 1239.75 650.125 1236.07 Q646.676 1232.39 646.676 1226.14 Q646.676 1219.79 650.148 1216.16 Q653.643 1212.52 659.708 1212.52 Q661.675 1212.52 663.55 1212.94 Q665.425 1213.33 667.185 1214.14 Z\" fill=\"#000000\" fill-rule=\"nonzero\" fill-opacity=\"1\" /><path clip-path=\"url(#clip330)\" d=\"M684.638 1216.14 Q681.212 1216.14 679.222 1218.82 Q677.231 1221.48 677.231 1226.14 Q677.231 1230.79 679.198 1233.47 Q681.189 1236.14 684.638 1236.14 Q688.041 1236.14 690.032 1233.45 Q692.022 1230.77 692.022 1226.14 Q692.022 1221.53 690.032 1218.84 Q688.041 1216.14 684.638 1216.14 M684.638 1212.52 Q690.194 1212.52 693.365 1216.14 Q696.536 1219.75 696.536 1226.14 Q696.536 1232.5 693.365 1236.14 Q690.194 1239.75 684.638 1239.75 Q679.06 1239.75 675.888 1236.14 Q672.74 1232.5 672.74 1226.14 Q672.74 1219.75 675.888 1216.14 Q679.06 1212.52 684.638 1212.52 Z\" fill=\"#000000\" fill-rule=\"nonzero\" fill-opacity=\"1\" /><path clip-path=\"url(#clip330)\" d=\"M720.657 1217.08 L720.657 1203.06 L724.916 1203.06 L724.916 1239.08 L720.657 1239.08 L720.657 1235.19 Q719.314 1237.5 717.254 1238.64 Q715.217 1239.75 712.346 1239.75 Q707.647 1239.75 704.684 1236 Q701.745 1232.25 701.745 1226.14 Q701.745 1220.02 704.684 1216.27 Q707.647 1212.52 712.346 1212.52 Q715.217 1212.52 717.254 1213.66 Q719.314 1214.77 720.657 1217.08 M706.143 1226.14 Q706.143 1230.83 708.064 1233.52 Q710.008 1236.18 713.388 1236.18 Q716.768 1236.18 718.712 1233.52 Q720.657 1230.83 720.657 1226.14 Q720.657 1221.44 718.712 1218.77 Q716.768 1216.09 713.388 1216.09 Q710.008 1216.09 708.064 1218.77 Q706.143 1221.44 706.143 1226.14 Z\" fill=\"#000000\" fill-rule=\"nonzero\" fill-opacity=\"1\" /><path clip-path=\"url(#clip330)\" d=\"M755.865 1225.05 L755.865 1227.13 L736.282 1227.13 Q736.559 1231.53 738.92 1233.84 Q741.305 1236.14 745.541 1236.14 Q747.994 1236.14 750.286 1235.53 Q752.601 1234.93 754.869 1233.73 L754.869 1237.76 Q752.578 1238.73 750.17 1239.24 Q747.763 1239.75 745.286 1239.75 Q739.082 1239.75 735.448 1236.14 Q731.837 1232.52 731.837 1226.37 Q731.837 1220 735.263 1216.27 Q738.712 1212.52 744.545 1212.52 Q749.777 1212.52 752.809 1215.9 Q755.865 1219.26 755.865 1225.05 M751.605 1223.8 Q751.559 1220.3 749.638 1218.22 Q747.74 1216.14 744.592 1216.14 Q741.027 1216.14 738.874 1218.15 Q736.744 1220.16 736.42 1223.82 L751.605 1223.8 Z\" fill=\"#000000\" fill-rule=\"nonzero\" fill-opacity=\"1\" /><path clip-path=\"url(#clip330)\" d=\"M779.916 1217.08 L779.916 1203.06 L784.175 1203.06 L784.175 1239.08 L779.916 1239.08 L779.916 1235.19 Q778.573 1237.5 776.513 1238.64 Q774.476 1239.75 771.605 1239.75 Q766.906 1239.75 763.943 1236 Q761.004 1232.25 761.004 1226.14 Q761.004 1220.02 763.943 1216.27 Q766.906 1212.52 771.605 1212.52 Q774.476 1212.52 776.513 1213.66 Q778.573 1214.77 779.916 1217.08 M765.402 1226.14 Q765.402 1230.83 767.323 1233.52 Q769.267 1236.18 772.647 1236.18 Q776.027 1236.18 777.971 1233.52 Q779.916 1230.83 779.916 1226.14 Q779.916 1221.44 777.971 1218.77 Q776.027 1216.09 772.647 1216.09 Q769.267 1216.09 767.323 1218.77 Q765.402 1221.44 765.402 1226.14 Z\" fill=\"#000000\" fill-rule=\"nonzero\" fill-opacity=\"1\" /><path clip-path=\"url(#clip330)\" d=\"M806.212 1204.52 L833.364 1204.52 L833.364 1208.08 L811.513 1235.14 L833.897 1235.14 L833.897 1239.08 L805.679 1239.08 L805.679 1235.51 L827.531 1208.45 L806.212 1208.45 L806.212 1204.52 Z\" fill=\"#000000\" fill-rule=\"nonzero\" fill-opacity=\"1\" /><path clip-path=\"url(#clip330)\" d=\"M840.679 1204.52 L860.54 1204.52 L860.54 1208.45 L845.355 1208.45 L845.355 1218.64 L859.059 1218.64 L859.059 1222.57 L845.355 1222.57 L845.355 1239.08 L840.679 1239.08 L840.679 1204.52 Z\" fill=\"#000000\" fill-rule=\"nonzero\" fill-opacity=\"1\" /><polyline clip-path=\"url(#clip330)\" style=\"stroke:#3da44d; stroke-linecap:round; stroke-linejoin:round; stroke-width:4; stroke-opacity:1; fill:none\" points=\"345.216,1273.64 485.277,1273.64 \"/>\n",
       "<line clip-path=\"url(#clip330)\" x1=\"415.247\" y1=\"1273.64\" x2=\"415.247\" y2=\"1252.02\" style=\"stroke:#3da44d; stroke-width:4.55111; stroke-opacity:1\"/>\n",
       "<line clip-path=\"url(#clip330)\" x1=\"415.247\" y1=\"1273.64\" x2=\"393.632\" y2=\"1273.64\" style=\"stroke:#3da44d; stroke-width:4.55111; stroke-opacity:1\"/>\n",
       "<line clip-path=\"url(#clip330)\" x1=\"415.247\" y1=\"1273.64\" x2=\"415.247\" y2=\"1295.25\" style=\"stroke:#3da44d; stroke-width:4.55111; stroke-opacity:1\"/>\n",
       "<line clip-path=\"url(#clip330)\" x1=\"415.247\" y1=\"1273.64\" x2=\"436.861\" y2=\"1273.64\" style=\"stroke:#3da44d; stroke-width:4.55111; stroke-opacity:1\"/>\n",
       "<path clip-path=\"url(#clip330)\" d=\"M524.222 1260.43 L512.417 1278.88 L524.222 1278.88 L524.222 1260.43 M522.996 1256.36 L528.875 1256.36 L528.875 1278.88 L533.806 1278.88 L533.806 1282.77 L528.875 1282.77 L528.875 1290.92 L524.222 1290.92 L524.222 1282.77 L508.621 1282.77 L508.621 1278.25 L522.996 1256.36 Z\" fill=\"#000000\" fill-rule=\"nonzero\" fill-opacity=\"1\" /><path clip-path=\"url(#clip330)\" d=\"M542.023 1285.04 L546.908 1285.04 L546.908 1290.92 L542.023 1290.92 L542.023 1285.04 M542.023 1266.4 L546.908 1266.4 L546.908 1272.28 L542.023 1272.28 L542.023 1266.4 Z\" fill=\"#000000\" fill-rule=\"nonzero\" fill-opacity=\"1\" /><path clip-path=\"url(#clip330)\" d=\"M576.097 1287.03 L576.097 1300.78 L571.815 1300.78 L571.815 1264.99 L576.097 1264.99 L576.097 1268.92 Q577.44 1266.61 579.477 1265.5 Q581.537 1264.36 584.384 1264.36 Q589.106 1264.36 592.046 1268.11 Q595.009 1271.86 595.009 1277.98 Q595.009 1284.09 592.046 1287.84 Q589.106 1291.59 584.384 1291.59 Q581.537 1291.59 579.477 1290.48 Q577.44 1289.34 576.097 1287.03 M590.588 1277.98 Q590.588 1273.28 588.643 1270.61 Q586.722 1267.93 583.343 1267.93 Q579.963 1267.93 578.018 1270.61 Q576.097 1273.28 576.097 1277.98 Q576.097 1282.67 578.018 1285.36 Q579.963 1288.02 583.343 1288.02 Q586.722 1288.02 588.643 1285.36 Q590.588 1282.67 590.588 1277.98 Z\" fill=\"#000000\" fill-rule=\"nonzero\" fill-opacity=\"1\" /><path clip-path=\"url(#clip330)\" d=\"M617.092 1268.97 Q616.375 1268.55 615.518 1268.37 Q614.685 1268.16 613.666 1268.16 Q610.055 1268.16 608.111 1270.52 Q606.19 1272.86 606.19 1277.26 L606.19 1290.92 L601.907 1290.92 L601.907 1264.99 L606.19 1264.99 L606.19 1269.02 Q607.532 1266.66 609.685 1265.52 Q611.838 1264.36 614.916 1264.36 Q615.356 1264.36 615.889 1264.43 Q616.421 1264.48 617.069 1264.6 L617.092 1268.97 Z\" fill=\"#000000\" fill-rule=\"nonzero\" fill-opacity=\"1\" /><path clip-path=\"url(#clip330)\" d=\"M642.694 1276.89 L642.694 1278.97 L623.111 1278.97 Q623.389 1283.37 625.75 1285.68 Q628.134 1287.98 632.37 1287.98 Q634.824 1287.98 637.115 1287.37 Q639.43 1286.77 641.699 1285.57 L641.699 1289.6 Q639.407 1290.57 637 1291.08 Q634.592 1291.59 632.115 1291.59 Q625.912 1291.59 622.277 1287.98 Q618.666 1284.36 618.666 1278.21 Q618.666 1271.84 622.092 1268.11 Q625.541 1264.36 631.375 1264.36 Q636.606 1264.36 639.639 1267.74 Q642.694 1271.1 642.694 1276.89 M638.435 1275.64 Q638.389 1272.14 636.467 1270.06 Q634.569 1267.98 631.421 1267.98 Q627.856 1267.98 625.703 1269.99 Q623.574 1272 623.25 1275.66 L638.435 1275.64 Z\" fill=\"#000000\" fill-rule=\"nonzero\" fill-opacity=\"1\" /><path clip-path=\"url(#clip330)\" d=\"M668.342 1265.98 L668.342 1269.97 Q666.537 1268.97 664.708 1268.48 Q662.902 1267.98 661.05 1267.98 Q656.907 1267.98 654.615 1270.61 Q652.324 1273.23 652.324 1277.98 Q652.324 1282.72 654.615 1285.36 Q656.907 1287.98 661.05 1287.98 Q662.902 1287.98 664.708 1287.49 Q666.537 1286.98 668.342 1285.98 L668.342 1289.92 Q666.56 1290.75 664.638 1291.17 Q662.74 1291.59 660.587 1291.59 Q654.731 1291.59 651.282 1287.91 Q647.833 1284.23 647.833 1277.98 Q647.833 1271.63 651.305 1268 Q654.8 1264.36 660.865 1264.36 Q662.833 1264.36 664.708 1264.78 Q666.583 1265.17 668.342 1265.98 Z\" fill=\"#000000\" fill-rule=\"nonzero\" fill-opacity=\"1\" /><path clip-path=\"url(#clip330)\" d=\"M685.796 1267.98 Q682.37 1267.98 680.379 1270.66 Q678.388 1273.32 678.388 1277.98 Q678.388 1282.63 680.356 1285.31 Q682.347 1287.98 685.796 1287.98 Q689.198 1287.98 691.189 1285.29 Q693.18 1282.61 693.18 1277.98 Q693.18 1273.37 691.189 1270.68 Q689.198 1267.98 685.796 1267.98 M685.796 1264.36 Q691.351 1264.36 694.522 1267.98 Q697.694 1271.59 697.694 1277.98 Q697.694 1284.34 694.522 1287.98 Q691.351 1291.59 685.796 1291.59 Q680.217 1291.59 677.046 1287.98 Q673.898 1284.34 673.898 1277.98 Q673.898 1271.59 677.046 1267.98 Q680.217 1264.36 685.796 1264.36 Z\" fill=\"#000000\" fill-rule=\"nonzero\" fill-opacity=\"1\" /><path clip-path=\"url(#clip330)\" d=\"M721.814 1268.92 L721.814 1254.9 L726.073 1254.9 L726.073 1290.92 L721.814 1290.92 L721.814 1287.03 Q720.471 1289.34 718.411 1290.48 Q716.374 1291.59 713.504 1291.59 Q708.805 1291.59 705.842 1287.84 Q702.902 1284.09 702.902 1277.98 Q702.902 1271.86 705.842 1268.11 Q708.805 1264.36 713.504 1264.36 Q716.374 1264.36 718.411 1265.5 Q720.471 1266.61 721.814 1268.92 M707.3 1277.98 Q707.3 1282.67 709.221 1285.36 Q711.166 1288.02 714.546 1288.02 Q717.925 1288.02 719.87 1285.36 Q721.814 1282.67 721.814 1277.98 Q721.814 1273.28 719.87 1270.61 Q717.925 1267.93 714.546 1267.93 Q711.166 1267.93 709.221 1270.61 Q707.3 1273.28 707.3 1277.98 Z\" fill=\"#000000\" fill-rule=\"nonzero\" fill-opacity=\"1\" /><path clip-path=\"url(#clip330)\" d=\"M757.022 1276.89 L757.022 1278.97 L737.439 1278.97 Q737.717 1283.37 740.078 1285.68 Q742.462 1287.98 746.698 1287.98 Q749.152 1287.98 751.443 1287.37 Q753.758 1286.77 756.027 1285.57 L756.027 1289.6 Q753.735 1290.57 751.328 1291.08 Q748.92 1291.59 746.443 1291.59 Q740.24 1291.59 736.606 1287.98 Q732.994 1284.36 732.994 1278.21 Q732.994 1271.84 736.42 1268.11 Q739.869 1264.36 745.703 1264.36 Q750.934 1264.36 753.967 1267.74 Q757.022 1271.1 757.022 1276.89 M752.763 1275.64 Q752.717 1272.14 750.795 1270.06 Q748.897 1267.98 745.749 1267.98 Q742.184 1267.98 740.031 1269.99 Q737.902 1272 737.578 1275.66 L752.763 1275.64 Z\" fill=\"#000000\" fill-rule=\"nonzero\" fill-opacity=\"1\" /><path clip-path=\"url(#clip330)\" d=\"M781.073 1268.92 L781.073 1254.9 L785.332 1254.9 L785.332 1290.92 L781.073 1290.92 L781.073 1287.03 Q779.73 1289.34 777.67 1290.48 Q775.633 1291.59 772.763 1291.59 Q768.064 1291.59 765.101 1287.84 Q762.161 1284.09 762.161 1277.98 Q762.161 1271.86 765.101 1268.11 Q768.064 1264.36 772.763 1264.36 Q775.633 1264.36 777.67 1265.5 Q779.73 1266.61 781.073 1268.92 M766.559 1277.98 Q766.559 1282.67 768.48 1285.36 Q770.425 1288.02 773.804 1288.02 Q777.184 1288.02 779.128 1285.36 Q781.073 1282.67 781.073 1277.98 Q781.073 1273.28 779.128 1270.61 Q777.184 1267.93 773.804 1267.93 Q770.425 1267.93 768.48 1270.61 Q766.559 1273.28 766.559 1277.98 Z\" fill=\"#000000\" fill-rule=\"nonzero\" fill-opacity=\"1\" /><path clip-path=\"url(#clip330)\" d=\"M814.036 1260.2 L814.036 1287.07 L819.684 1287.07 Q826.837 1287.07 830.147 1283.83 Q833.48 1280.59 833.48 1273.6 Q833.48 1266.66 830.147 1263.44 Q826.837 1260.2 819.684 1260.2 L814.036 1260.2 M809.36 1256.36 L818.966 1256.36 Q829.012 1256.36 833.712 1260.55 Q838.411 1264.71 838.411 1273.6 Q838.411 1282.54 833.688 1286.73 Q828.966 1290.92 818.966 1290.92 L809.36 1290.92 L809.36 1256.36 Z\" fill=\"#000000\" fill-rule=\"nonzero\" fill-opacity=\"1\" /><path clip-path=\"url(#clip330)\" d=\"M843.526 1276.03 L856.003 1276.03 L856.003 1279.83 L843.526 1279.83 L843.526 1276.03 Z\" fill=\"#000000\" fill-rule=\"nonzero\" fill-opacity=\"1\" /><path clip-path=\"url(#clip330)\" d=\"M865.957 1274.41 L865.957 1287.07 L873.457 1287.07 Q877.23 1287.07 879.035 1285.52 Q880.864 1283.95 880.864 1280.73 Q880.864 1277.49 879.035 1275.96 Q877.23 1274.41 873.457 1274.41 L865.957 1274.41 M865.957 1260.2 L865.957 1270.61 L872.878 1270.61 Q876.304 1270.61 877.971 1269.34 Q879.66 1268.05 879.66 1265.41 Q879.66 1262.79 877.971 1261.49 Q876.304 1260.2 872.878 1260.2 L865.957 1260.2 M861.281 1256.36 L873.225 1256.36 Q878.572 1256.36 881.466 1258.58 Q884.359 1260.8 884.359 1264.9 Q884.359 1268.07 882.878 1269.94 Q881.396 1271.82 878.526 1272.28 Q881.975 1273.02 883.873 1275.38 Q885.795 1277.72 885.795 1281.24 Q885.795 1285.87 882.646 1288.39 Q879.498 1290.92 873.688 1290.92 L861.281 1290.92 L861.281 1256.36 Z\" fill=\"#000000\" fill-rule=\"nonzero\" fill-opacity=\"1\" /><path clip-path=\"url(#clip330)\" d=\"M893.804 1256.36 L898.48 1256.36 L898.48 1286.98 L915.308 1286.98 L915.308 1290.92 L893.804 1290.92 L893.804 1256.36 Z\" fill=\"#000000\" fill-rule=\"nonzero\" fill-opacity=\"1\" /><path clip-path=\"url(#clip330)\" d=\"M932.855 1260.96 L926.512 1278.16 L939.22 1278.16 L932.855 1260.96 M930.216 1256.36 L935.517 1256.36 L948.688 1290.92 L943.827 1290.92 L940.679 1282.05 L925.1 1282.05 L921.952 1290.92 L917.021 1290.92 L930.216 1256.36 Z\" fill=\"#000000\" fill-rule=\"nonzero\" fill-opacity=\"1\" /><path clip-path=\"url(#clip330)\" d=\"M974.452 1257.49 L974.452 1262.05 Q971.79 1260.78 969.428 1260.15 Q967.067 1259.53 964.868 1259.53 Q961.049 1259.53 958.965 1261.01 Q956.905 1262.49 956.905 1265.22 Q956.905 1267.51 958.271 1268.69 Q959.66 1269.85 963.503 1270.57 L966.327 1271.15 Q971.558 1272.14 974.035 1274.67 Q976.535 1277.17 976.535 1281.38 Q976.535 1286.4 973.155 1288.99 Q969.799 1291.59 963.294 1291.59 Q960.84 1291.59 958.063 1291.03 Q955.308 1290.48 952.345 1289.39 L952.345 1284.57 Q955.192 1286.17 957.924 1286.98 Q960.655 1287.79 963.294 1287.79 Q967.299 1287.79 969.475 1286.22 Q971.651 1284.64 971.651 1281.73 Q971.651 1279.18 970.077 1277.74 Q968.526 1276.31 964.961 1275.59 L962.114 1275.04 Q956.882 1273.99 954.544 1271.77 Q952.206 1269.55 952.206 1265.59 Q952.206 1261.01 955.424 1258.37 Q958.665 1255.73 964.336 1255.73 Q966.766 1255.73 969.29 1256.17 Q971.813 1256.61 974.452 1257.49 Z\" fill=\"#000000\" fill-rule=\"nonzero\" fill-opacity=\"1\" /><path clip-path=\"url(#clip330)\" d=\"M979.035 1256.36 L1008.27 1256.36 L1008.27 1260.29 L996.002 1260.29 L996.002 1290.92 L991.303 1290.92 L991.303 1260.29 L979.035 1260.29 L979.035 1256.36 Z\" fill=\"#000000\" fill-rule=\"nonzero\" fill-opacity=\"1\" /><path clip-path=\"url(#clip330)\" d=\"M1006.09 1276.03 L1018.57 1276.03 L1018.57 1279.83 L1006.09 1279.83 L1006.09 1276.03 Z\" fill=\"#000000\" fill-rule=\"nonzero\" fill-opacity=\"1\" /><path clip-path=\"url(#clip330)\" d=\"M1041.88 1265.75 L1041.88 1269.78 Q1040.08 1268.86 1038.13 1268.39 Q1036.19 1267.93 1034.1 1267.93 Q1030.93 1267.93 1029.34 1268.9 Q1027.76 1269.87 1027.76 1271.82 Q1027.76 1273.3 1028.9 1274.16 Q1030.03 1274.99 1033.46 1275.75 L1034.91 1276.08 Q1039.45 1277.05 1041.35 1278.83 Q1043.27 1280.59 1043.27 1283.76 Q1043.27 1287.37 1040.4 1289.48 Q1037.55 1291.59 1032.55 1291.59 Q1030.47 1291.59 1028.2 1291.17 Q1025.96 1290.78 1023.46 1289.97 L1023.46 1285.57 Q1025.82 1286.79 1028.11 1287.42 Q1030.4 1288.02 1032.65 1288.02 Q1035.65 1288.02 1037.28 1287 Q1038.9 1285.96 1038.9 1284.09 Q1038.9 1282.35 1037.72 1281.42 Q1036.56 1280.5 1032.6 1279.64 L1031.12 1279.3 Q1027.16 1278.46 1025.4 1276.75 Q1023.64 1275.01 1023.64 1272 Q1023.64 1268.35 1026.23 1266.36 Q1028.83 1264.36 1033.59 1264.36 Q1035.96 1264.36 1038.04 1264.71 Q1040.12 1265.06 1041.88 1265.75 Z\" fill=\"#000000\" fill-rule=\"nonzero\" fill-opacity=\"1\" /><path clip-path=\"url(#clip330)\" d=\"M1054.27 1257.63 L1054.27 1264.99 L1063.04 1264.99 L1063.04 1268.3 L1054.27 1268.3 L1054.27 1282.37 Q1054.27 1285.54 1055.12 1286.45 Q1056 1287.35 1058.66 1287.35 L1063.04 1287.35 L1063.04 1290.92 L1058.66 1290.92 Q1053.73 1290.92 1051.86 1289.09 Q1049.98 1287.23 1049.98 1282.37 L1049.98 1268.3 L1046.86 1268.3 L1046.86 1264.99 L1049.98 1264.99 L1049.98 1257.63 L1054.27 1257.63 Z\" fill=\"#000000\" fill-rule=\"nonzero\" fill-opacity=\"1\" /><path clip-path=\"url(#clip330)\" d=\"M1079.43 1293.32 Q1077.62 1297.95 1075.91 1299.36 Q1074.2 1300.78 1071.33 1300.78 L1067.92 1300.78 L1067.92 1297.21 L1070.42 1297.21 Q1072.18 1297.21 1073.15 1296.38 Q1074.13 1295.54 1075.31 1292.44 L1076.07 1290.5 L1065.59 1264.99 L1070.1 1264.99 L1078.2 1285.27 L1086.3 1264.99 L1090.82 1264.99 L1079.43 1293.32 Z\" fill=\"#000000\" fill-rule=\"nonzero\" fill-opacity=\"1\" /><path clip-path=\"url(#clip330)\" d=\"M1096.7 1254.9 L1100.96 1254.9 L1100.96 1290.92 L1096.7 1290.92 L1096.7 1254.9 Z\" fill=\"#000000\" fill-rule=\"nonzero\" fill-opacity=\"1\" /><path clip-path=\"url(#clip330)\" d=\"M1132.04 1276.89 L1132.04 1278.97 L1112.46 1278.97 Q1112.74 1283.37 1115.1 1285.68 Q1117.48 1287.98 1121.72 1287.98 Q1124.17 1287.98 1126.46 1287.37 Q1128.78 1286.77 1131.05 1285.57 L1131.05 1289.6 Q1128.76 1290.57 1126.35 1291.08 Q1123.94 1291.59 1121.46 1291.59 Q1115.26 1291.59 1111.63 1287.98 Q1108.02 1284.36 1108.02 1278.21 Q1108.02 1271.84 1111.44 1268.11 Q1114.89 1264.36 1120.72 1264.36 Q1125.96 1264.36 1128.99 1267.74 Q1132.04 1271.1 1132.04 1276.89 M1127.78 1275.64 Q1127.74 1272.14 1125.82 1270.06 Q1123.92 1267.98 1120.77 1267.98 Q1117.21 1267.98 1115.05 1269.99 Q1112.92 1272 1112.6 1275.66 L1127.78 1275.64 Z\" fill=\"#000000\" fill-rule=\"nonzero\" fill-opacity=\"1\" /><path clip-path=\"url(#clip330)\" d=\"M1152.3 1256.36 L1179.45 1256.36 L1179.45 1259.92 L1157.6 1286.98 L1179.98 1286.98 L1179.98 1290.92 L1151.77 1290.92 L1151.77 1287.35 L1173.62 1260.29 L1152.3 1260.29 L1152.3 1256.36 Z\" fill=\"#000000\" fill-rule=\"nonzero\" fill-opacity=\"1\" /><path clip-path=\"url(#clip330)\" d=\"M1186.77 1256.36 L1206.63 1256.36 L1206.63 1260.29 L1191.44 1260.29 L1191.44 1270.48 L1205.14 1270.48 L1205.14 1274.41 L1191.44 1274.41 L1191.44 1290.92 L1186.77 1290.92 L1186.77 1256.36 Z\" fill=\"#000000\" fill-rule=\"nonzero\" fill-opacity=\"1\" /><path clip-path=\"url(#clip330)\" d=\"M1211.7 1276.03 L1224.17 1276.03 L1224.17 1279.83 L1211.7 1279.83 L1211.7 1276.03 Z\" fill=\"#000000\" fill-rule=\"nonzero\" fill-opacity=\"1\" /><path clip-path=\"url(#clip330)\" d=\"M1251.86 1257.49 L1251.86 1262.05 Q1249.2 1260.78 1246.83 1260.15 Q1244.47 1259.53 1242.27 1259.53 Q1238.45 1259.53 1236.37 1261.01 Q1234.31 1262.49 1234.31 1265.22 Q1234.31 1267.51 1235.68 1268.69 Q1237.07 1269.85 1240.91 1270.57 L1243.73 1271.15 Q1248.96 1272.14 1251.44 1274.67 Q1253.94 1277.17 1253.94 1281.38 Q1253.94 1286.4 1250.56 1288.99 Q1247.2 1291.59 1240.7 1291.59 Q1238.25 1291.59 1235.47 1291.03 Q1232.71 1290.48 1229.75 1289.39 L1229.75 1284.57 Q1232.6 1286.17 1235.33 1286.98 Q1238.06 1287.79 1240.7 1287.79 Q1244.7 1287.79 1246.88 1286.22 Q1249.06 1284.64 1249.06 1281.73 Q1249.06 1279.18 1247.48 1277.74 Q1245.93 1276.31 1242.37 1275.59 L1239.52 1275.04 Q1234.29 1273.99 1231.95 1271.77 Q1229.61 1269.55 1229.61 1265.59 Q1229.61 1261.01 1232.83 1258.37 Q1236.07 1255.73 1241.74 1255.73 Q1244.17 1255.73 1246.7 1256.17 Q1249.22 1256.61 1251.86 1257.49 Z\" fill=\"#000000\" fill-rule=\"nonzero\" fill-opacity=\"1\" /><path clip-path=\"url(#clip330)\" d=\"M1261.23 1256.36 L1265.91 1256.36 L1265.91 1290.92 L1261.23 1290.92 L1261.23 1256.36 Z\" fill=\"#000000\" fill-rule=\"nonzero\" fill-opacity=\"1\" /><path clip-path=\"url(#clip330)\" d=\"M1301.09 1259.02 L1301.09 1263.95 Q1298.73 1261.75 1296.05 1260.66 Q1293.39 1259.57 1290.38 1259.57 Q1284.45 1259.57 1281.3 1263.21 Q1278.15 1266.82 1278.15 1273.67 Q1278.15 1280.5 1281.3 1284.13 Q1284.45 1287.74 1290.38 1287.74 Q1293.39 1287.74 1296.05 1286.66 Q1298.73 1285.57 1301.09 1283.37 L1301.09 1288.25 Q1298.64 1289.92 1295.88 1290.75 Q1293.15 1291.59 1290.1 1291.59 Q1282.25 1291.59 1277.74 1286.79 Q1273.22 1281.98 1273.22 1273.67 Q1273.22 1265.34 1277.74 1260.55 Q1282.25 1255.73 1290.1 1255.73 Q1293.2 1255.73 1295.93 1256.56 Q1298.69 1257.37 1301.09 1259.02 Z\" fill=\"#000000\" fill-rule=\"nonzero\" fill-opacity=\"1\" /><polyline clip-path=\"url(#clip330)\" style=\"stroke:#c271d2; stroke-linecap:round; stroke-linejoin:round; stroke-width:4; stroke-opacity:1; fill:none\" points=\"345.216,1325.48 485.277,1325.48 \"/>\n",
       "<path clip-path=\"url(#clip330)\" d=\"M415.247 1303.86 L393.632 1325.48 L415.247 1347.09 L436.861 1325.48 L415.247 1303.86 Z\" fill=\"#c271d2\" fill-rule=\"evenodd\" fill-opacity=\"1\" stroke=\"#000000\" stroke-opacity=\"1\" stroke-width=\"4.55111\"/>\n",
       "<path clip-path=\"url(#clip330)\" d=\"M510.079 1308.2 L528.435 1308.2 L528.435 1312.13 L514.361 1312.13 L514.361 1320.6 Q515.38 1320.26 516.398 1320.09 Q517.417 1319.91 518.435 1319.91 Q524.222 1319.91 527.602 1323.08 Q530.982 1326.25 530.982 1331.67 Q530.982 1337.25 527.509 1340.35 Q524.037 1343.43 517.718 1343.43 Q515.542 1343.43 513.273 1343.06 Q511.028 1342.69 508.621 1341.95 L508.621 1337.25 Q510.704 1338.38 512.926 1338.94 Q515.148 1339.49 517.625 1339.49 Q521.63 1339.49 523.968 1337.38 Q526.306 1335.28 526.306 1331.67 Q526.306 1328.06 523.968 1325.95 Q521.63 1323.84 517.625 1323.84 Q515.75 1323.84 513.875 1324.26 Q512.023 1324.68 510.079 1325.56 L510.079 1308.2 Z\" fill=\"#000000\" fill-rule=\"nonzero\" fill-opacity=\"1\" /><path clip-path=\"url(#clip330)\" d=\"M540.681 1336.88 L545.565 1336.88 L545.565 1342.76 L540.681 1342.76 L540.681 1336.88 M540.681 1318.24 L545.565 1318.24 L545.565 1324.12 L540.681 1324.12 L540.681 1318.24 Z\" fill=\"#000000\" fill-rule=\"nonzero\" fill-opacity=\"1\" /><path clip-path=\"url(#clip330)\" d=\"M574.755 1338.87 L574.755 1352.62 L570.472 1352.62 L570.472 1316.83 L574.755 1316.83 L574.755 1320.76 Q576.097 1318.45 578.134 1317.34 Q580.194 1316.2 583.042 1316.2 Q587.764 1316.2 590.704 1319.95 Q593.667 1323.7 593.667 1329.82 Q593.667 1335.93 590.704 1339.68 Q587.764 1343.43 583.042 1343.43 Q580.194 1343.43 578.134 1342.32 Q576.097 1341.18 574.755 1338.87 M589.245 1329.82 Q589.245 1325.12 587.301 1322.45 Q585.38 1319.77 582 1319.77 Q578.62 1319.77 576.676 1322.45 Q574.755 1325.12 574.755 1329.82 Q574.755 1334.51 576.676 1337.2 Q578.62 1339.86 582 1339.86 Q585.38 1339.86 587.301 1337.2 Q589.245 1334.51 589.245 1329.82 Z\" fill=\"#000000\" fill-rule=\"nonzero\" fill-opacity=\"1\" /><path clip-path=\"url(#clip330)\" d=\"M615.75 1320.81 Q615.032 1320.39 614.176 1320.21 Q613.342 1320 612.324 1320 Q608.713 1320 606.768 1322.36 Q604.847 1324.7 604.847 1329.1 L604.847 1342.76 L600.565 1342.76 L600.565 1316.83 L604.847 1316.83 L604.847 1320.86 Q606.19 1318.5 608.342 1317.36 Q610.495 1316.2 613.574 1316.2 Q614.014 1316.2 614.546 1316.27 Q615.078 1316.32 615.727 1316.44 L615.75 1320.81 Z\" fill=\"#000000\" fill-rule=\"nonzero\" fill-opacity=\"1\" /><path clip-path=\"url(#clip330)\" d=\"M641.351 1328.73 L641.351 1330.81 L621.768 1330.81 Q622.046 1335.21 624.407 1337.52 Q626.791 1339.82 631.027 1339.82 Q633.481 1339.82 635.773 1339.21 Q638.088 1338.61 640.356 1337.41 L640.356 1341.44 Q638.064 1342.41 635.657 1342.92 Q633.25 1343.43 630.773 1343.43 Q624.569 1343.43 620.935 1339.82 Q617.324 1336.2 617.324 1330.05 Q617.324 1323.68 620.75 1319.95 Q624.199 1316.2 630.032 1316.2 Q635.264 1316.2 638.296 1319.58 Q641.351 1322.94 641.351 1328.73 M637.092 1327.48 Q637.046 1323.98 635.125 1321.9 Q633.227 1319.82 630.078 1319.82 Q626.514 1319.82 624.361 1321.83 Q622.231 1323.84 621.907 1327.5 L637.092 1327.48 Z\" fill=\"#000000\" fill-rule=\"nonzero\" fill-opacity=\"1\" /><path clip-path=\"url(#clip330)\" d=\"M666.999 1317.82 L666.999 1321.81 Q665.194 1320.81 663.365 1320.32 Q661.56 1319.82 659.708 1319.82 Q655.564 1319.82 653.273 1322.45 Q650.981 1325.07 650.981 1329.82 Q650.981 1334.56 653.273 1337.2 Q655.564 1339.82 659.708 1339.82 Q661.56 1339.82 663.365 1339.33 Q665.194 1338.82 666.999 1337.82 L666.999 1341.76 Q665.217 1342.59 663.296 1343.01 Q661.398 1343.43 659.245 1343.43 Q653.388 1343.43 649.939 1339.75 Q646.49 1336.07 646.49 1329.82 Q646.49 1323.47 649.963 1319.84 Q653.458 1316.2 659.523 1316.2 Q661.49 1316.2 663.365 1316.62 Q665.24 1317.01 666.999 1317.82 Z\" fill=\"#000000\" fill-rule=\"nonzero\" fill-opacity=\"1\" /><path clip-path=\"url(#clip330)\" d=\"M684.453 1319.82 Q681.027 1319.82 679.036 1322.5 Q677.046 1325.16 677.046 1329.82 Q677.046 1334.47 679.013 1337.15 Q681.004 1339.82 684.453 1339.82 Q687.856 1339.82 689.847 1337.13 Q691.837 1334.45 691.837 1329.82 Q691.837 1325.21 689.847 1322.52 Q687.856 1319.82 684.453 1319.82 M684.453 1316.2 Q690.009 1316.2 693.18 1319.82 Q696.351 1323.43 696.351 1329.82 Q696.351 1336.18 693.18 1339.82 Q690.009 1343.43 684.453 1343.43 Q678.874 1343.43 675.703 1339.82 Q672.555 1336.18 672.555 1329.82 Q672.555 1323.43 675.703 1319.82 Q678.874 1316.2 684.453 1316.2 Z\" fill=\"#000000\" fill-rule=\"nonzero\" fill-opacity=\"1\" /><path clip-path=\"url(#clip330)\" d=\"M720.471 1320.76 L720.471 1306.74 L724.731 1306.74 L724.731 1342.76 L720.471 1342.76 L720.471 1338.87 Q719.129 1341.18 717.069 1342.32 Q715.032 1343.43 712.161 1343.43 Q707.462 1343.43 704.499 1339.68 Q701.559 1335.93 701.559 1329.82 Q701.559 1323.7 704.499 1319.95 Q707.462 1316.2 712.161 1316.2 Q715.032 1316.2 717.069 1317.34 Q719.129 1318.45 720.471 1320.76 M705.958 1329.82 Q705.958 1334.51 707.879 1337.2 Q709.823 1339.86 713.203 1339.86 Q716.583 1339.86 718.527 1337.2 Q720.471 1334.51 720.471 1329.82 Q720.471 1325.12 718.527 1322.45 Q716.583 1319.77 713.203 1319.77 Q709.823 1319.77 707.879 1322.45 Q705.958 1325.12 705.958 1329.82 Z\" fill=\"#000000\" fill-rule=\"nonzero\" fill-opacity=\"1\" /><path clip-path=\"url(#clip330)\" d=\"M755.68 1328.73 L755.68 1330.81 L736.096 1330.81 Q736.374 1335.21 738.735 1337.52 Q741.119 1339.82 745.356 1339.82 Q747.809 1339.82 750.101 1339.21 Q752.416 1338.61 754.684 1337.41 L754.684 1341.44 Q752.393 1342.41 749.985 1342.92 Q747.578 1343.43 745.101 1343.43 Q738.897 1343.43 735.263 1339.82 Q731.652 1336.2 731.652 1330.05 Q731.652 1323.68 735.078 1319.95 Q738.527 1316.2 744.36 1316.2 Q749.592 1316.2 752.624 1319.58 Q755.68 1322.94 755.68 1328.73 M751.42 1327.48 Q751.374 1323.98 749.453 1321.9 Q747.555 1319.82 744.406 1319.82 Q740.842 1319.82 738.689 1321.83 Q736.559 1323.84 736.235 1327.5 L751.42 1327.48 Z\" fill=\"#000000\" fill-rule=\"nonzero\" fill-opacity=\"1\" /><path clip-path=\"url(#clip330)\" d=\"M779.73 1320.76 L779.73 1306.74 L783.99 1306.74 L783.99 1342.76 L779.73 1342.76 L779.73 1338.87 Q778.388 1341.18 776.328 1342.32 Q774.291 1343.43 771.42 1343.43 Q766.721 1343.43 763.758 1339.68 Q760.818 1335.93 760.818 1329.82 Q760.818 1323.7 763.758 1319.95 Q766.721 1316.2 771.42 1316.2 Q774.291 1316.2 776.328 1317.34 Q778.388 1318.45 779.73 1320.76 M765.217 1329.82 Q765.217 1334.51 767.138 1337.2 Q769.082 1339.86 772.462 1339.86 Q775.841 1339.86 777.786 1337.2 Q779.73 1334.51 779.73 1329.82 Q779.73 1325.12 777.786 1322.45 Q775.841 1319.77 772.462 1319.77 Q769.082 1319.77 767.138 1322.45 Q765.217 1325.12 765.217 1329.82 Z\" fill=\"#000000\" fill-rule=\"nonzero\" fill-opacity=\"1\" /><path clip-path=\"url(#clip330)\" d=\"M812.045 1309.47 L812.045 1316.83 L820.818 1316.83 L820.818 1320.14 L812.045 1320.14 L812.045 1334.21 Q812.045 1337.38 812.901 1338.29 Q813.781 1339.19 816.443 1339.19 L820.818 1339.19 L820.818 1342.76 L816.443 1342.76 Q811.513 1342.76 809.638 1340.93 Q807.763 1339.07 807.763 1334.21 L807.763 1320.14 L804.638 1320.14 L804.638 1316.83 L807.763 1316.83 L807.763 1309.47 L812.045 1309.47 Z\" fill=\"#000000\" fill-rule=\"nonzero\" fill-opacity=\"1\" /><path clip-path=\"url(#clip330)\" d=\"M823.943 1316.83 L828.202 1316.83 L833.526 1337.06 L838.827 1316.83 L843.85 1316.83 L849.174 1337.06 L854.475 1316.83 L858.735 1316.83 L851.952 1342.76 L846.929 1342.76 L841.35 1321.51 L835.749 1342.76 L830.725 1342.76 L823.943 1316.83 Z\" fill=\"#000000\" fill-rule=\"nonzero\" fill-opacity=\"1\" /><path clip-path=\"url(#clip330)\" d=\"M875.239 1319.82 Q871.813 1319.82 869.822 1322.5 Q867.832 1325.16 867.832 1329.82 Q867.832 1334.47 869.799 1337.15 Q871.79 1339.82 875.239 1339.82 Q878.642 1339.82 880.633 1337.13 Q882.623 1334.45 882.623 1329.82 Q882.623 1325.21 880.633 1322.52 Q878.642 1319.82 875.239 1319.82 M875.239 1316.2 Q880.795 1316.2 883.966 1319.82 Q887.137 1323.43 887.137 1329.82 Q887.137 1336.18 883.966 1339.82 Q880.795 1343.43 875.239 1343.43 Q869.66 1343.43 866.489 1339.82 Q863.341 1336.18 863.341 1329.82 Q863.341 1323.43 866.489 1319.82 Q869.66 1316.2 875.239 1316.2 Z\" fill=\"#000000\" fill-rule=\"nonzero\" fill-opacity=\"1\" /><path clip-path=\"url(#clip330)\" d=\"M892.924 1327.87 L905.401 1327.87 L905.401 1331.67 L892.924 1331.67 L892.924 1327.87 Z\" fill=\"#000000\" fill-rule=\"nonzero\" fill-opacity=\"1\" /><path clip-path=\"url(#clip330)\" d=\"M930.841 1317.82 L930.841 1321.81 Q929.035 1320.81 927.206 1320.32 Q925.401 1319.82 923.549 1319.82 Q919.406 1319.82 917.114 1322.45 Q914.822 1325.07 914.822 1329.82 Q914.822 1334.56 917.114 1337.2 Q919.406 1339.82 923.549 1339.82 Q925.401 1339.82 927.206 1339.33 Q929.035 1338.82 930.841 1337.82 L930.841 1341.76 Q929.058 1342.59 927.137 1343.01 Q925.239 1343.43 923.086 1343.43 Q917.23 1343.43 913.781 1339.75 Q910.331 1336.07 910.331 1329.82 Q910.331 1323.47 913.804 1319.84 Q917.299 1316.2 923.364 1316.2 Q925.331 1316.2 927.206 1316.62 Q929.081 1317.01 930.841 1317.82 Z\" fill=\"#000000\" fill-rule=\"nonzero\" fill-opacity=\"1\" /><path clip-path=\"url(#clip330)\" d=\"M948.294 1319.82 Q944.868 1319.82 942.878 1322.5 Q940.887 1325.16 940.887 1329.82 Q940.887 1334.47 942.854 1337.15 Q944.845 1339.82 948.294 1339.82 Q951.697 1339.82 953.688 1337.13 Q955.678 1334.45 955.678 1329.82 Q955.678 1325.21 953.688 1322.52 Q951.697 1319.82 948.294 1319.82 M948.294 1316.2 Q953.85 1316.2 957.021 1319.82 Q960.192 1323.43 960.192 1329.82 Q960.192 1336.18 957.021 1339.82 Q953.85 1343.43 948.294 1343.43 Q942.716 1343.43 939.544 1339.82 Q936.396 1336.18 936.396 1329.82 Q936.396 1323.43 939.544 1319.82 Q942.716 1316.2 948.294 1316.2 Z\" fill=\"#000000\" fill-rule=\"nonzero\" fill-opacity=\"1\" /><path clip-path=\"url(#clip330)\" d=\"M984.313 1320.76 L984.313 1306.74 L988.572 1306.74 L988.572 1342.76 L984.313 1342.76 L984.313 1338.87 Q982.97 1341.18 980.91 1342.32 Q978.873 1343.43 976.002 1343.43 Q971.303 1343.43 968.34 1339.68 Q965.401 1335.93 965.401 1329.82 Q965.401 1323.7 968.34 1319.95 Q971.303 1316.2 976.002 1316.2 Q978.873 1316.2 980.91 1317.34 Q982.97 1318.45 984.313 1320.76 M969.799 1329.82 Q969.799 1334.51 971.72 1337.2 Q973.664 1339.86 977.044 1339.86 Q980.424 1339.86 982.368 1337.2 Q984.313 1334.51 984.313 1329.82 Q984.313 1325.12 982.368 1322.45 Q980.424 1319.77 977.044 1319.77 Q973.664 1319.77 971.72 1322.45 Q969.799 1325.12 969.799 1329.82 Z\" fill=\"#000000\" fill-rule=\"nonzero\" fill-opacity=\"1\" /><path clip-path=\"url(#clip330)\" d=\"M1019.52 1328.73 L1019.52 1330.81 L999.938 1330.81 Q1000.22 1335.21 1002.58 1337.52 Q1004.96 1339.82 1009.2 1339.82 Q1011.65 1339.82 1013.94 1339.21 Q1016.26 1338.61 1018.53 1337.41 L1018.53 1341.44 Q1016.23 1342.41 1013.83 1342.92 Q1011.42 1343.43 1008.94 1343.43 Q1002.74 1343.43 999.104 1339.82 Q995.493 1336.2 995.493 1330.05 Q995.493 1323.68 998.919 1319.95 Q1002.37 1316.2 1008.2 1316.2 Q1013.43 1316.2 1016.47 1319.58 Q1019.52 1322.94 1019.52 1328.73 M1015.26 1327.48 Q1015.22 1323.98 1013.29 1321.9 Q1011.4 1319.82 1008.25 1319.82 Q1004.68 1319.82 1002.53 1321.83 Q1000.4 1323.84 1000.08 1327.5 L1015.26 1327.48 Z\" fill=\"#000000\" fill-rule=\"nonzero\" fill-opacity=\"1\" /><path clip-path=\"url(#clip330)\" d=\"M1039.78 1308.2 L1066.93 1308.2 L1066.93 1311.76 L1045.08 1338.82 L1067.46 1338.82 L1067.46 1342.76 L1039.24 1342.76 L1039.24 1339.19 L1061.09 1312.13 L1039.78 1312.13 L1039.78 1308.2 Z\" fill=\"#000000\" fill-rule=\"nonzero\" fill-opacity=\"1\" /><path clip-path=\"url(#clip330)\" d=\"M1074.24 1308.2 L1094.1 1308.2 L1094.1 1312.13 L1078.92 1312.13 L1078.92 1322.32 L1092.62 1322.32 L1092.62 1326.25 L1078.92 1326.25 L1078.92 1342.76 L1074.24 1342.76 L1074.24 1308.2 Z\" fill=\"#000000\" fill-rule=\"nonzero\" fill-opacity=\"1\" /><path clip-path=\"url(#clip330)\" d=\"M1099.17 1327.87 L1111.65 1327.87 L1111.65 1331.67 L1099.17 1331.67 L1099.17 1327.87 Z\" fill=\"#000000\" fill-rule=\"nonzero\" fill-opacity=\"1\" /><path clip-path=\"url(#clip330)\" d=\"M1139.33 1309.33 L1139.33 1313.89 Q1136.67 1312.62 1134.31 1311.99 Q1131.95 1311.37 1129.75 1311.37 Q1125.93 1311.37 1123.85 1312.85 Q1121.79 1314.33 1121.79 1317.06 Q1121.79 1319.35 1123.15 1320.53 Q1124.54 1321.69 1128.39 1322.41 L1131.21 1322.99 Q1136.44 1323.98 1138.92 1326.51 Q1141.42 1329.01 1141.42 1333.22 Q1141.42 1338.24 1138.04 1340.83 Q1134.68 1343.43 1128.18 1343.43 Q1125.72 1343.43 1122.95 1342.87 Q1120.19 1342.32 1117.23 1341.23 L1117.23 1336.41 Q1120.08 1338.01 1122.81 1338.82 Q1125.54 1339.63 1128.18 1339.63 Q1132.18 1339.63 1134.36 1338.06 Q1136.53 1336.48 1136.53 1333.57 Q1136.53 1331.02 1134.96 1329.58 Q1133.41 1328.15 1129.84 1327.43 L1127 1326.88 Q1121.77 1325.83 1119.43 1323.61 Q1117.09 1321.39 1117.09 1317.43 Q1117.09 1312.85 1120.31 1310.21 Q1123.55 1307.57 1129.22 1307.57 Q1131.65 1307.57 1134.17 1308.01 Q1136.7 1308.45 1139.33 1309.33 Z\" fill=\"#000000\" fill-rule=\"nonzero\" fill-opacity=\"1\" /><path clip-path=\"url(#clip330)\" d=\"M1148.71 1308.2 L1153.39 1308.2 L1153.39 1342.76 L1148.71 1342.76 L1148.71 1308.2 Z\" fill=\"#000000\" fill-rule=\"nonzero\" fill-opacity=\"1\" /><path clip-path=\"url(#clip330)\" d=\"M1188.57 1310.86 L1188.57 1315.79 Q1186.21 1313.59 1183.52 1312.5 Q1180.86 1311.41 1177.85 1311.41 Q1171.93 1311.41 1168.78 1315.05 Q1165.63 1318.66 1165.63 1325.51 Q1165.63 1332.34 1168.78 1335.97 Q1171.93 1339.58 1177.85 1339.58 Q1180.86 1339.58 1183.52 1338.5 Q1186.21 1337.41 1188.57 1335.21 L1188.57 1340.09 Q1186.12 1341.76 1183.36 1342.59 Q1180.63 1343.43 1177.58 1343.43 Q1169.73 1343.43 1165.21 1338.63 Q1160.7 1333.82 1160.7 1325.51 Q1160.7 1317.18 1165.21 1312.39 Q1169.73 1307.57 1177.58 1307.57 Q1180.68 1307.57 1183.41 1308.4 Q1186.16 1309.21 1188.57 1310.86 Z\" fill=\"#000000\" fill-rule=\"nonzero\" fill-opacity=\"1\" /></svg>\n"
      ]
     },
     "execution_count": 50,
     "metadata": {},
     "output_type": "execute_result"
    }
   ],
   "source": [
    "plot(Scen1_data[:,1], Scen1_data[:,2], marker=:auto, yaxis=:log, label=\"1: ZF\", legend=:bottomleft)\n",
    "plot!(Scen2_data[:,1], Scen2_data[:,2], marker=:auto, yaxis=:log, label=\"2: precoded ZF\")\n",
    "plot!(Scen4_data[:,1], Scen4_data[:,2], marker=:auto, yaxis=:log, label=\"4: precoded D-BLAST-style ZF-SIC\")\n",
    "plot!(Scen5_data[:,1], Scen5_data[:,2], marker=:auto, yaxis=:log, label=\"5: precoded two-code ZF-SIC\")\n",
    "\n",
    "ylims!(5e-4,1e-1)\n",
    "yticks!([10.0^(-i) for i in 0:9])\n",
    "ylabel!(\"worst-case BER\")\n",
    "xticks!(SNR_dBs[1:2:end])\n",
    "xlabel!(\"SNR\")\n",
    "xticks!(0:0.5:20)"
   ]
  },
  {
   "cell_type": "code",
   "execution_count": 51,
   "id": "c555682c-e4d1-4548-9dfe-5bf36bb920fe",
   "metadata": {},
   "outputs": [],
   "source": [
    "# plotly()\n",
    "\n",
    "# BERs_Scenx = BERs_Scen1\n",
    "# BERs_Scenx_worst = BERs_Scen1_worst\n",
    "\n",
    "# plt = plot(SNR_dBs, BERs_Scenx_worst, marker=:auto, yaxis=:log, label=\"Scenx worst\", legend=:bottomleft)\n",
    "# ylims!(5e-5,5e-1)\n",
    "# yticks!([10.0^(-i) for i in 0:9])\n",
    "# ylabel!(\"BER\")\n",
    "# xticks!(SNR_dBs[1:2:end])\n",
    "# xlabel!(\"SNR\")\n",
    "# xticks!(0:0.5:20)\n",
    "\n",
    "# for i in 1:length(γs)\n",
    "#     for j in 1:length(θs)\n",
    "#         for t in 1:length(ϕs)\n",
    "#             plot!(SNR_dBs, BERs_Scenx[i,j,t,:], marker=:auto, yaxis=:log, label=\"$(γs[i]) $(θs[j]) $(ϕs[t])\", legend=:bottomleft)\n",
    "#         end\n",
    "#     end\n",
    "# end\n",
    "# display(plt)"
   ]
  }
 ],
 "metadata": {
  "kernelspec": {
   "display_name": "Julia 1.11.0",
   "language": "julia",
   "name": "julia-1.11"
  },
  "language_info": {
   "file_extension": ".jl",
   "mimetype": "application/julia",
   "name": "julia",
   "version": "1.11.0"
  }
 },
 "nbformat": 4,
 "nbformat_minor": 5
}
